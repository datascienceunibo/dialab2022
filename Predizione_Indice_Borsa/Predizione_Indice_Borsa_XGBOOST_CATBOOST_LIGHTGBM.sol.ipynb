{
  "cells": [
    {
      "cell_type": "markdown",
      "metadata": {
        "id": "-kcpSdoHua_m"
      },
      "source": [
        "# Laboratorio: Predizione di un Indice di Borsa\n",
        "\n",
        "**Programmazione di Applicazioni Data Intensive**  \n",
        "Laurea in Ingegneria e Scienze Informatiche  \n",
        "DISI - Università di Bologna, Cesena\n",
        "\n",
        "Proff. Gianluca Moro, Roberto Pasolini  \n",
        "`nome.cognome@unibo.it`"
      ]
    },
    {
      "cell_type": "markdown",
      "metadata": {
        "id": "KX0sl_Apua_q"
      },
      "source": [
        "## Setup\n",
        "\n",
        "- Importare le librerie necessarie"
      ]
    },
    {
      "cell_type": "code",
      "execution_count": null,
      "metadata": {
        "id": "XHpXSLH2ua_q"
      },
      "outputs": [],
      "source": [
        "import numpy as np\n",
        "import pandas as pd\n",
        "import matplotlib.pyplot as plt\n",
        "import sklearn\n",
        "%matplotlib inline"
      ]
    },
    {
      "cell_type": "markdown",
      "metadata": {
        "id": "hw8aKneGua_r"
      },
      "source": [
        "## Predizione di un indice di borsa\n",
        "\n",
        "- Un _indice_ in borsa è la sintesi del valore di diversi titoli azionari (_componenti_)\n",
        "  - il valore dell'indice è una media (di solito ponderata) dei valori dei singoli titoli\n",
        "- In questa esercitazione consideriamo l'indice _Standard & Poor 500_ (S&P 500), che ha per componenti [circa 500 grandi aziende degli USA](https://en.wikipedia.org/wiki/List_of_S%26P_500_companies)\n",
        "  - incluse ad es. Alphabet (Google), Facebook, Apple, ...\n",
        "- L'obiettivo è generare modelli in grado di prevedere le variazioni dell'indice S&P 500, in modo da massimizzare il guadagno ottenuto investendo in un fondo che si basi su tale indice"
      ]
    },
    {
      "cell_type": "markdown",
      "metadata": {
        "id": "KOGp65Q3ua_s"
      },
      "source": [
        "## Estrazione dati\n",
        "\n",
        "- I dati storici sull'andamento di S&P 500 e altri indici e titoli di borsa sono disponibili su diversi siti specializzati, ad es. [Yahoo! Finance](https://finance.yahoo.com/)\n",
        "- Dal sito è possibile interattivamente ricercare titoli e indici e consultarne i dati attuali e storici, scaricandoli eventualmente in formato CSV\n",
        "- È però spesso possibile estrarre i dati forniti anche tramite codice, effettuando opportune operazioni per importarli in strutture dati appropriate\n",
        "- Esistono alcune librerie che forniscono funzioni di alto livello per importare dati da Yahoo! Finance e altri fonti simili\n",
        "  - queste librerie gestiscono automaticamente il reperimento dei dati dagli URL corretti ed il loro parsing"
      ]
    },
    {
      "cell_type": "markdown",
      "metadata": {
        "id": "yTf9qsnuua_s"
      },
      "source": [
        "### yfinance\n",
        "\n",
        "- [yfinance](https://pypi.org/project/yfinance/) è una libreria per l'estrazione di dati da Yahoo! Finance in forma di oggetti Python facilmente interrogabili\n",
        "- In particolare, la usiamo per ottenere i dati storici di titoli e indici in forma di DataFrame pandas\n",
        "- Eseguire la seguente cella di codice per installare yfinance (e il package lxml necessario) nell'ambiente virtuale in uso\n",
        "  - _nel caso di problemi con la libreria, i dati necessari per l'esercitazione sono disponibili anche in un file indicato sotto_"
      ]
    },
    {
      "cell_type": "code",
      "execution_count": null,
      "metadata": {
        "id": "KSLkDWdgua_t",
        "outputId": "c17fb689-64eb-4cc9-ff55-83b4e9b07374",
        "colab": {
          "base_uri": "https://localhost:8080/"
        }
      },
      "outputs": [
        {
          "output_type": "stream",
          "name": "stdout",
          "text": [
            "Collecting yfinance\n",
            "  Downloading yfinance-0.1.70-py2.py3-none-any.whl (26 kB)\n",
            "Requirement already satisfied: lxml in /usr/local/lib/python3.7/dist-packages (4.2.6)\n",
            "Requirement already satisfied: numpy>=1.15 in /usr/local/lib/python3.7/dist-packages (from yfinance) (1.21.6)\n",
            "Collecting lxml\n",
            "  Downloading lxml-4.8.0-cp37-cp37m-manylinux_2_17_x86_64.manylinux2014_x86_64.manylinux_2_24_x86_64.whl (6.4 MB)\n",
            "\u001b[K     |████████████████████████████████| 6.4 MB 7.7 MB/s \n",
            "\u001b[?25hRequirement already satisfied: multitasking>=0.0.7 in /usr/local/lib/python3.7/dist-packages (from yfinance) (0.0.10)\n",
            "Collecting requests>=2.26\n",
            "  Downloading requests-2.27.1-py2.py3-none-any.whl (63 kB)\n",
            "\u001b[K     |████████████████████████████████| 63 kB 1.3 MB/s \n",
            "\u001b[?25hRequirement already satisfied: pandas>=0.24.0 in /usr/local/lib/python3.7/dist-packages (from yfinance) (1.3.5)\n",
            "Requirement already satisfied: python-dateutil>=2.7.3 in /usr/local/lib/python3.7/dist-packages (from pandas>=0.24.0->yfinance) (2.8.2)\n",
            "Requirement already satisfied: pytz>=2017.3 in /usr/local/lib/python3.7/dist-packages (from pandas>=0.24.0->yfinance) (2022.1)\n",
            "Requirement already satisfied: six>=1.5 in /usr/local/lib/python3.7/dist-packages (from python-dateutil>=2.7.3->pandas>=0.24.0->yfinance) (1.15.0)\n",
            "Requirement already satisfied: urllib3<1.27,>=1.21.1 in /usr/local/lib/python3.7/dist-packages (from requests>=2.26->yfinance) (1.24.3)\n",
            "Requirement already satisfied: charset-normalizer~=2.0.0 in /usr/local/lib/python3.7/dist-packages (from requests>=2.26->yfinance) (2.0.12)\n",
            "Requirement already satisfied: certifi>=2017.4.17 in /usr/local/lib/python3.7/dist-packages (from requests>=2.26->yfinance) (2021.10.8)\n",
            "Requirement already satisfied: idna<4,>=2.5 in /usr/local/lib/python3.7/dist-packages (from requests>=2.26->yfinance) (2.10)\n",
            "Installing collected packages: requests, lxml, yfinance\n",
            "  Attempting uninstall: requests\n",
            "    Found existing installation: requests 2.23.0\n",
            "    Uninstalling requests-2.23.0:\n",
            "      Successfully uninstalled requests-2.23.0\n",
            "  Attempting uninstall: lxml\n",
            "    Found existing installation: lxml 4.2.6\n",
            "    Uninstalling lxml-4.2.6:\n",
            "      Successfully uninstalled lxml-4.2.6\n",
            "\u001b[31mERROR: pip's dependency resolver does not currently take into account all the packages that are installed. This behaviour is the source of the following dependency conflicts.\n",
            "google-colab 1.0.0 requires requests~=2.23.0, but you have requests 2.27.1 which is incompatible.\n",
            "datascience 0.10.6 requires folium==0.2.1, but you have folium 0.8.3 which is incompatible.\u001b[0m\n",
            "Successfully installed lxml-4.8.0 requests-2.27.1 yfinance-0.1.70\n"
          ]
        }
      ],
      "source": [
        "pip install yfinance lxml"
      ]
    },
    {
      "cell_type": "markdown",
      "metadata": {
        "id": "Sdw7xzbBua_u"
      },
      "source": [
        "- Importare il modulo `yfinance`, verificandone così la corretta installazione"
      ]
    },
    {
      "cell_type": "code",
      "execution_count": null,
      "metadata": {
        "id": "qMlhGJFoua_u"
      },
      "outputs": [],
      "source": [
        "import yfinance"
      ]
    },
    {
      "cell_type": "markdown",
      "metadata": {
        "id": "yJlEo8LAua_u"
      },
      "source": [
        "- Per usare il modulo creiamo un oggetto `Ticker`, che rappresenta uno specifico titolo o indice\n",
        "- Dobbiamo indicare il _simbolo_ del titolo o indice con cui vogliamo lavorare, che per S&P 500 è `^GSPC`"
      ]
    },
    {
      "cell_type": "code",
      "execution_count": null,
      "metadata": {
        "id": "leHrJQxiua_u"
      },
      "outputs": [],
      "source": [
        "sp500 = yfinance.Ticker(\"^GSPC\")"
      ]
    },
    {
      "cell_type": "markdown",
      "metadata": {
        "id": "M3JxDen9ua_v"
      },
      "source": [
        "- Altri simboli di indici noti includono:\n",
        "  - `^DJI`: Dow Jones Industrial Average\n",
        "  - `^IXIC`: NASDAQ\n",
        "  - `FTSEMIB.MI`: MIB (borsa di Milano)"
      ]
    },
    {
      "cell_type": "markdown",
      "metadata": {
        "id": "7-uN-hRoua_v"
      },
      "source": [
        "- Da un `Ticker` possiamo usare il metodo `history` per ottenere un frame con i dati storici in un periodo specificato\n",
        "  - con `start` e `end` specifichiamo l'intervallo di date desiderato\n",
        "  - `actions=False` esclude alcune colonne con dati non disponibili per l'indice\n",
        "- Scarichiamo i dati relativi agli anni dal 2001 al 2008"
      ]
    },
    {
      "cell_type": "code",
      "execution_count": null,
      "metadata": {
        "id": "HJcU7gD7ua_w"
      },
      "outputs": [],
      "source": [
        "data = sp500.history(start=\"2001-01-01\", end=\"2008-12-31\", actions=False)"
      ]
    },
    {
      "cell_type": "markdown",
      "metadata": {
        "id": "VA6UxxiKua_w"
      },
      "source": [
        "- _In caso di problemi con yfinance, decommentare ed eseguire la seguente cella per importare gli stessi dati da un file già scaricato da noi_"
      ]
    },
    {
      "cell_type": "code",
      "execution_count": null,
      "metadata": {
        "id": "EzAhbA32ua_x"
      },
      "outputs": [],
      "source": [
        "# data = pd.read_csv(\"https://git.io/Jfq8p\", index_col=\"Date\", parse_dates=[\"Date\"])"
      ]
    },
    {
      "cell_type": "code",
      "execution_count": null,
      "metadata": {
        "id": "qbG64Ilfua_x",
        "outputId": "eed08770-5fa2-4366-ffd5-201eadecb421",
        "colab": {
          "base_uri": "https://localhost:8080/",
          "height": 263
        }
      },
      "outputs": [
        {
          "output_type": "execute_result",
          "data": {
            "text/plain": [
              "                   Open         High          Low        Close      Volume\n",
              "Date                                                                      \n",
              "2001-01-02  1320.280029  1320.280029  1276.050049  1283.270020  1129400000\n",
              "2001-01-03  1283.270020  1347.760010  1274.619995  1347.560059  1880700000\n",
              "2001-01-04  1347.560059  1350.239990  1329.140015  1333.339966  2131000000\n",
              "2001-01-05  1333.339966  1334.770020  1294.949951  1298.349976  1430800000\n",
              "2001-01-08  1298.349976  1298.349976  1276.290039  1295.859985  1115500000"
            ],
            "text/html": [
              "\n",
              "  <div id=\"df-c9cedd07-b8f1-4d23-9abe-d22ace34b11d\">\n",
              "    <div class=\"colab-df-container\">\n",
              "      <div>\n",
              "<style scoped>\n",
              "    .dataframe tbody tr th:only-of-type {\n",
              "        vertical-align: middle;\n",
              "    }\n",
              "\n",
              "    .dataframe tbody tr th {\n",
              "        vertical-align: top;\n",
              "    }\n",
              "\n",
              "    .dataframe thead th {\n",
              "        text-align: right;\n",
              "    }\n",
              "</style>\n",
              "<table border=\"1\" class=\"dataframe\">\n",
              "  <thead>\n",
              "    <tr style=\"text-align: right;\">\n",
              "      <th></th>\n",
              "      <th>Open</th>\n",
              "      <th>High</th>\n",
              "      <th>Low</th>\n",
              "      <th>Close</th>\n",
              "      <th>Volume</th>\n",
              "    </tr>\n",
              "    <tr>\n",
              "      <th>Date</th>\n",
              "      <th></th>\n",
              "      <th></th>\n",
              "      <th></th>\n",
              "      <th></th>\n",
              "      <th></th>\n",
              "    </tr>\n",
              "  </thead>\n",
              "  <tbody>\n",
              "    <tr>\n",
              "      <th>2001-01-02</th>\n",
              "      <td>1320.280029</td>\n",
              "      <td>1320.280029</td>\n",
              "      <td>1276.050049</td>\n",
              "      <td>1283.270020</td>\n",
              "      <td>1129400000</td>\n",
              "    </tr>\n",
              "    <tr>\n",
              "      <th>2001-01-03</th>\n",
              "      <td>1283.270020</td>\n",
              "      <td>1347.760010</td>\n",
              "      <td>1274.619995</td>\n",
              "      <td>1347.560059</td>\n",
              "      <td>1880700000</td>\n",
              "    </tr>\n",
              "    <tr>\n",
              "      <th>2001-01-04</th>\n",
              "      <td>1347.560059</td>\n",
              "      <td>1350.239990</td>\n",
              "      <td>1329.140015</td>\n",
              "      <td>1333.339966</td>\n",
              "      <td>2131000000</td>\n",
              "    </tr>\n",
              "    <tr>\n",
              "      <th>2001-01-05</th>\n",
              "      <td>1333.339966</td>\n",
              "      <td>1334.770020</td>\n",
              "      <td>1294.949951</td>\n",
              "      <td>1298.349976</td>\n",
              "      <td>1430800000</td>\n",
              "    </tr>\n",
              "    <tr>\n",
              "      <th>2001-01-08</th>\n",
              "      <td>1298.349976</td>\n",
              "      <td>1298.349976</td>\n",
              "      <td>1276.290039</td>\n",
              "      <td>1295.859985</td>\n",
              "      <td>1115500000</td>\n",
              "    </tr>\n",
              "  </tbody>\n",
              "</table>\n",
              "</div>\n",
              "      <button class=\"colab-df-convert\" onclick=\"convertToInteractive('df-c9cedd07-b8f1-4d23-9abe-d22ace34b11d')\"\n",
              "              title=\"Convert this dataframe to an interactive table.\"\n",
              "              style=\"display:none;\">\n",
              "        \n",
              "  <svg xmlns=\"http://www.w3.org/2000/svg\" height=\"24px\"viewBox=\"0 0 24 24\"\n",
              "       width=\"24px\">\n",
              "    <path d=\"M0 0h24v24H0V0z\" fill=\"none\"/>\n",
              "    <path d=\"M18.56 5.44l.94 2.06.94-2.06 2.06-.94-2.06-.94-.94-2.06-.94 2.06-2.06.94zm-11 1L8.5 8.5l.94-2.06 2.06-.94-2.06-.94L8.5 2.5l-.94 2.06-2.06.94zm10 10l.94 2.06.94-2.06 2.06-.94-2.06-.94-.94-2.06-.94 2.06-2.06.94z\"/><path d=\"M17.41 7.96l-1.37-1.37c-.4-.4-.92-.59-1.43-.59-.52 0-1.04.2-1.43.59L10.3 9.45l-7.72 7.72c-.78.78-.78 2.05 0 2.83L4 21.41c.39.39.9.59 1.41.59.51 0 1.02-.2 1.41-.59l7.78-7.78 2.81-2.81c.8-.78.8-2.07 0-2.86zM5.41 20L4 18.59l7.72-7.72 1.47 1.35L5.41 20z\"/>\n",
              "  </svg>\n",
              "      </button>\n",
              "      \n",
              "  <style>\n",
              "    .colab-df-container {\n",
              "      display:flex;\n",
              "      flex-wrap:wrap;\n",
              "      gap: 12px;\n",
              "    }\n",
              "\n",
              "    .colab-df-convert {\n",
              "      background-color: #E8F0FE;\n",
              "      border: none;\n",
              "      border-radius: 50%;\n",
              "      cursor: pointer;\n",
              "      display: none;\n",
              "      fill: #1967D2;\n",
              "      height: 32px;\n",
              "      padding: 0 0 0 0;\n",
              "      width: 32px;\n",
              "    }\n",
              "\n",
              "    .colab-df-convert:hover {\n",
              "      background-color: #E2EBFA;\n",
              "      box-shadow: 0px 1px 2px rgba(60, 64, 67, 0.3), 0px 1px 3px 1px rgba(60, 64, 67, 0.15);\n",
              "      fill: #174EA6;\n",
              "    }\n",
              "\n",
              "    [theme=dark] .colab-df-convert {\n",
              "      background-color: #3B4455;\n",
              "      fill: #D2E3FC;\n",
              "    }\n",
              "\n",
              "    [theme=dark] .colab-df-convert:hover {\n",
              "      background-color: #434B5C;\n",
              "      box-shadow: 0px 1px 3px 1px rgba(0, 0, 0, 0.15);\n",
              "      filter: drop-shadow(0px 1px 2px rgba(0, 0, 0, 0.3));\n",
              "      fill: #FFFFFF;\n",
              "    }\n",
              "  </style>\n",
              "\n",
              "      <script>\n",
              "        const buttonEl =\n",
              "          document.querySelector('#df-c9cedd07-b8f1-4d23-9abe-d22ace34b11d button.colab-df-convert');\n",
              "        buttonEl.style.display =\n",
              "          google.colab.kernel.accessAllowed ? 'block' : 'none';\n",
              "\n",
              "        async function convertToInteractive(key) {\n",
              "          const element = document.querySelector('#df-c9cedd07-b8f1-4d23-9abe-d22ace34b11d');\n",
              "          const dataTable =\n",
              "            await google.colab.kernel.invokeFunction('convertToInteractive',\n",
              "                                                     [key], {});\n",
              "          if (!dataTable) return;\n",
              "\n",
              "          const docLinkHtml = 'Like what you see? Visit the ' +\n",
              "            '<a target=\"_blank\" href=https://colab.research.google.com/notebooks/data_table.ipynb>data table notebook</a>'\n",
              "            + ' to learn more about interactive tables.';\n",
              "          element.innerHTML = '';\n",
              "          dataTable['output_type'] = 'display_data';\n",
              "          await google.colab.output.renderOutput(dataTable, element);\n",
              "          const docLink = document.createElement('div');\n",
              "          docLink.innerHTML = docLinkHtml;\n",
              "          element.appendChild(docLink);\n",
              "        }\n",
              "      </script>\n",
              "    </div>\n",
              "  </div>\n",
              "  "
            ]
          },
          "metadata": {},
          "execution_count": 7
        }
      ],
      "source": [
        "data.head()"
      ]
    },
    {
      "cell_type": "markdown",
      "metadata": {
        "id": "3NekCantua_x"
      },
      "source": [
        "- Ciascuna riga corrisponde ad una data, indicata nell'indice `Date`\n",
        "  - non sono presenti le righe relative a giorni di chiusura del mercato\n",
        "- `Open` e `Close` riportano per ogni data il valore dell'indice all'apertura e alla chiusura del mercato\n",
        "- `High` e `Low` riportano i massimi e minimi giornalieri\n",
        "- `Volume` è il numero di titoli scambiati in giornata"
      ]
    },
    {
      "cell_type": "markdown",
      "metadata": {
        "id": "hmNCxliuua_y"
      },
      "source": [
        "- Per comodità, estraiamo una serie per ciascuna colonna, per potersi riferire ad esse con un unico nome\n",
        "  - notare che la serie `open` sovrascrive la funzione `open` di Python, quest'ultima rimane accessibile come `__builtins__.open`"
      ]
    },
    {
      "cell_type": "code",
      "execution_count": null,
      "metadata": {
        "id": "hOGaTOwXua_y"
      },
      "outputs": [],
      "source": [
        "open = data[\"Open\"]\n",
        "high = data[\"High\"]\n",
        "low = data[\"Low\"]\n",
        "close = data[\"Close\"]\n",
        "volume = data[\"Volume\"]"
      ]
    },
    {
      "cell_type": "markdown",
      "metadata": {
        "id": "OVSwNs3Iua_y"
      },
      "source": [
        "- Possiamo tracciare un grafico dell'andamento del titolo\n",
        "  - prendiamo come riferimento ad es. il valore dell'apertura"
      ]
    },
    {
      "cell_type": "code",
      "execution_count": null,
      "metadata": {
        "id": "4b6Lz0Ijua_y",
        "outputId": "c7f3106b-30c9-4922-e1ce-855444923300",
        "colab": {
          "base_uri": "https://localhost:8080/",
          "height": 272
        }
      },
      "outputs": [
        {
          "output_type": "display_data",
          "data": {
            "text/plain": [
              "<Figure size 864x288 with 1 Axes>"
            ],
            "image/png": "[encoded data removed]"
          },
          "metadata": {
            "needs_background": "light"
          }
        }
      ],
      "source": [
        "open.plot(figsize=(12, 4));"
      ]
    },
    {
      "cell_type": "markdown",
      "metadata": {
        "id": "KyDdYqT-ua_z"
      },
      "source": [
        "- Esistono altri tipi di grafici appositi per mostrare l'andamento di titoli di borsa, ad es. i _candlestick chart_ (\"grafici a candela\")\n",
        "  - per disegnarli si veda la libreria `mplfinance`, estensione di matplotlib"
      ]
    },
    {
      "cell_type": "markdown",
      "metadata": {
        "id": "5TgGNJXUua_z"
      },
      "source": [
        "### Esercizio 1: Analisi esplorativa\n",
        "\n",
        "- **(1a)** Estrarre le statistiche principali (media, dev. standard, ...) delle varie colonne (Open, Close, ...)\n",
        "- **(1b)** Ottenere una serie `hlm` col valore medio tra il massimo e il minimo giornalieri\n",
        "- **(1c)** Estrarre le statistiche principali di tale serie\n",
        "- **(1d)** Estrarre le statistiche principali di `hlm` suddivise per anno"
      ]
    },
    {
      "cell_type": "code",
      "execution_count": null,
      "metadata": {
        "id": "1yxuNS0Gua_z",
        "outputId": "22506f0a-7f09-4827-a40f-0e27e64b4b55",
        "colab": {
          "base_uri": "https://localhost:8080/",
          "height": 397
        }
      },
      "outputs": [
        {
          "output_type": "execute_result",
          "data": {
            "text/plain": [
              "              Open         High          Low        Close        Volume\n",
              "count  2010.000000  2010.000000  2010.000000  2010.000000  2.010000e+03\n",
              "mean   1187.474553  1195.450877  1178.652866  1187.302095  2.257390e+09\n",
              "std     180.326713   179.563836   181.296274   180.433599  1.379745e+09\n",
              "min     755.840027   798.549988   741.020020   752.440002  3.560700e+08\n",
              "25%    1084.077454  1091.872528  1075.594971  1083.882446  1.359225e+09\n",
              "50%    1190.229980  1195.979980  1183.635010  1190.229980  1.693850e+09\n",
              "75%    1304.137512  1311.609985  1295.272522  1304.324982  2.696278e+09\n",
              "max    1564.979980  1576.089966  1555.459961  1565.150024  1.145623e+10"
            ],
            "text/html": [
              "\n",
              "  <div id=\"df-b18e4e2a-a42e-463d-998e-f2819d992200\">\n",
              "    <div class=\"colab-df-container\">\n",
              "      <div>\n",
              "<style scoped>\n",
              "    .dataframe tbody tr th:only-of-type {\n",
              "        vertical-align: middle;\n",
              "    }\n",
              "\n",
              "    .dataframe tbody tr th {\n",
              "        vertical-align: top;\n",
              "    }\n",
              "\n",
              "    .dataframe thead th {\n",
              "        text-align: right;\n",
              "    }\n",
              "</style>\n",
              "<table border=\"1\" class=\"dataframe\">\n",
              "  <thead>\n",
              "    <tr style=\"text-align: right;\">\n",
              "      <th></th>\n",
              "      <th>Open</th>\n",
              "      <th>High</th>\n",
              "      <th>Low</th>\n",
              "      <th>Close</th>\n",
              "      <th>Volume</th>\n",
              "    </tr>\n",
              "  </thead>\n",
              "  <tbody>\n",
              "    <tr>\n",
              "      <th>count</th>\n",
              "      <td>2010.000000</td>\n",
              "      <td>2010.000000</td>\n",
              "      <td>2010.000000</td>\n",
              "      <td>2010.000000</td>\n",
              "      <td>2.010000e+03</td>\n",
              "    </tr>\n",
              "    <tr>\n",
              "      <th>mean</th>\n",
              "      <td>1187.474553</td>\n",
              "      <td>1195.450877</td>\n",
              "      <td>1178.652866</td>\n",
              "      <td>1187.302095</td>\n",
              "      <td>2.257390e+09</td>\n",
              "    </tr>\n",
              "    <tr>\n",
              "      <th>std</th>\n",
              "      <td>180.326713</td>\n",
              "      <td>179.563836</td>\n",
              "      <td>181.296274</td>\n",
              "      <td>180.433599</td>\n",
              "      <td>1.379745e+09</td>\n",
              "    </tr>\n",
              "    <tr>\n",
              "      <th>min</th>\n",
              "      <td>755.840027</td>\n",
              "      <td>798.549988</td>\n",
              "      <td>741.020020</td>\n",
              "      <td>752.440002</td>\n",
              "      <td>3.560700e+08</td>\n",
              "    </tr>\n",
              "    <tr>\n",
              "      <th>25%</th>\n",
              "      <td>1084.077454</td>\n",
              "      <td>1091.872528</td>\n",
              "      <td>1075.594971</td>\n",
              "      <td>1083.882446</td>\n",
              "      <td>1.359225e+09</td>\n",
              "    </tr>\n",
              "    <tr>\n",
              "      <th>50%</th>\n",
              "      <td>1190.229980</td>\n",
              "      <td>1195.979980</td>\n",
              "      <td>1183.635010</td>\n",
              "      <td>1190.229980</td>\n",
              "      <td>1.693850e+09</td>\n",
              "    </tr>\n",
              "    <tr>\n",
              "      <th>75%</th>\n",
              "      <td>1304.137512</td>\n",
              "      <td>1311.609985</td>\n",
              "      <td>1295.272522</td>\n",
              "      <td>1304.324982</td>\n",
              "      <td>2.696278e+09</td>\n",
              "    </tr>\n",
              "    <tr>\n",
              "      <th>max</th>\n",
              "      <td>1564.979980</td>\n",
              "      <td>1576.089966</td>\n",
              "      <td>1555.459961</td>\n",
              "      <td>1565.150024</td>\n",
              "      <td>1.145623e+10</td>\n",
              "    </tr>\n",
              "  </tbody>\n",
              "</table>\n",
              "</div>\n",
              "      <button class=\"colab-df-convert\" onclick=\"convertToInteractive('df-b18e4e2a-a42e-463d-998e-f2819d992200')\"\n",
              "              title=\"Convert this dataframe to an interactive table.\"\n",
              "              style=\"display:none;\">\n",
              "        \n",
              "  <svg xmlns=\"http://www.w3.org/2000/svg\" height=\"24px\"viewBox=\"0 0 24 24\"\n",
              "       width=\"24px\">\n",
              "    <path d=\"M0 0h24v24H0V0z\" fill=\"none\"/>\n",
              "    <path d=\"M18.56 5.44l.94 2.06.94-2.06 2.06-.94-2.06-.94-.94-2.06-.94 2.06-2.06.94zm-11 1L8.5 8.5l.94-2.06 2.06-.94-2.06-.94L8.5 2.5l-.94 2.06-2.06.94zm10 10l.94 2.06.94-2.06 2.06-.94-2.06-.94-.94-2.06-.94 2.06-2.06.94z\"/><path d=\"M17.41 7.96l-1.37-1.37c-.4-.4-.92-.59-1.43-.59-.52 0-1.04.2-1.43.59L10.3 9.45l-7.72 7.72c-.78.78-.78 2.05 0 2.83L4 21.41c.39.39.9.59 1.41.59.51 0 1.02-.2 1.41-.59l7.78-7.78 2.81-2.81c.8-.78.8-2.07 0-2.86zM5.41 20L4 18.59l7.72-7.72 1.47 1.35L5.41 20z\"/>\n",
              "  </svg>\n",
              "      </button>\n",
              "      \n",
              "  <style>\n",
              "    .colab-df-container {\n",
              "      display:flex;\n",
              "      flex-wrap:wrap;\n",
              "      gap: 12px;\n",
              "    }\n",
              "\n",
              "    .colab-df-convert {\n",
              "      background-color: #E8F0FE;\n",
              "      border: none;\n",
              "      border-radius: 50%;\n",
              "      cursor: pointer;\n",
              "      display: none;\n",
              "      fill: #1967D2;\n",
              "      height: 32px;\n",
              "      padding: 0 0 0 0;\n",
              "      width: 32px;\n",
              "    }\n",
              "\n",
              "    .colab-df-convert:hover {\n",
              "      background-color: #E2EBFA;\n",
              "      box-shadow: 0px 1px 2px rgba(60, 64, 67, 0.3), 0px 1px 3px 1px rgba(60, 64, 67, 0.15);\n",
              "      fill: #174EA6;\n",
              "    }\n",
              "\n",
              "    [theme=dark] .colab-df-convert {\n",
              "      background-color: #3B4455;\n",
              "      fill: #D2E3FC;\n",
              "    }\n",
              "\n",
              "    [theme=dark] .colab-df-convert:hover {\n",
              "      background-color: #434B5C;\n",
              "      box-shadow: 0px 1px 3px 1px rgba(0, 0, 0, 0.15);\n",
              "      filter: drop-shadow(0px 1px 2px rgba(0, 0, 0, 0.3));\n",
              "      fill: #FFFFFF;\n",
              "    }\n",
              "  </style>\n",
              "\n",
              "      <script>\n",
              "        const buttonEl =\n",
              "          document.querySelector('#df-b18e4e2a-a42e-463d-998e-f2819d992200 button.colab-df-convert');\n",
              "        buttonEl.style.display =\n",
              "          google.colab.kernel.accessAllowed ? 'block' : 'none';\n",
              "\n",
              "        async function convertToInteractive(key) {\n",
              "          const element = document.querySelector('#df-b18e4e2a-a42e-463d-998e-f2819d992200');\n",
              "          const dataTable =\n",
              "            await google.colab.kernel.invokeFunction('convertToInteractive',\n",
              "                                                     [key], {});\n",
              "          if (!dataTable) return;\n",
              "\n",
              "          const docLinkHtml = 'Like what you see? Visit the ' +\n",
              "            '<a target=\"_blank\" href=https://colab.research.google.com/notebooks/data_table.ipynb>data table notebook</a>'\n",
              "            + ' to learn more about interactive tables.';\n",
              "          element.innerHTML = '';\n",
              "          dataTable['output_type'] = 'display_data';\n",
              "          await google.colab.output.renderOutput(dataTable, element);\n",
              "          const docLink = document.createElement('div');\n",
              "          docLink.innerHTML = docLinkHtml;\n",
              "          element.appendChild(docLink);\n",
              "        }\n",
              "      </script>\n",
              "    </div>\n",
              "  </div>\n",
              "  "
            ]
          },
          "metadata": {},
          "execution_count": 10
        }
      ],
      "source": [
        "# 1a\n",
        "data.describe()"
      ]
    },
    {
      "cell_type": "code",
      "execution_count": null,
      "metadata": {
        "id": "qY51ALOgua_z"
      },
      "outputs": [],
      "source": [
        "# 1b\n",
        "hlm = (high + low) / 2"
      ]
    },
    {
      "cell_type": "code",
      "execution_count": null,
      "metadata": {
        "id": "RhDVato9ua_0",
        "outputId": "b5b5e9f0-6e7b-438b-b895-ae41bffc9141",
        "colab": {
          "base_uri": "https://localhost:8080/"
        }
      },
      "outputs": [
        {
          "output_type": "execute_result",
          "data": {
            "text/plain": [
              "count    2010.000000\n",
              "mean     1187.051872\n",
              "std       180.340289\n",
              "min       771.110016\n",
              "25%      1084.422501\n",
              "50%      1189.442474\n",
              "75%      1303.409988\n",
              "max      1561.404968\n",
              "dtype: float64"
            ]
          },
          "metadata": {},
          "execution_count": 12
        }
      ],
      "source": [
        "# 1c\n",
        "hlm.describe()"
      ]
    },
    {
      "cell_type": "code",
      "execution_count": null,
      "metadata": {
        "id": "eEeQKr9yua_0",
        "outputId": "cbd19904-62a5-46e5-dae3-97f66a6ff722",
        "colab": {
          "base_uri": "https://localhost:8080/",
          "height": 432
        }
      },
      "outputs": [
        {
          "output_type": "execute_result",
          "data": {
            "text/plain": [
              "      count         mean         std          min          25%          50%  \\\n",
              "Date                                                                          \n",
              "2001  248.0  1193.689196   86.865939   964.644989  1136.603775  1191.602539   \n",
              "2002  252.0   993.878335  114.077936   787.174988   895.336250   968.600006   \n",
              "2003  252.0   964.632222   78.602540   796.545013   896.213753   985.644989   \n",
              "2004  252.0  1130.409743   31.444939  1064.149963  1110.626266  1126.692505   \n",
              "2005  252.0  1207.289366   29.553492  1144.360046  1187.330002  1204.835022   \n",
              "2006  251.0  1310.053308   50.920535  1225.375000  1273.427521  1296.955017   \n",
              "2007  251.0  1476.593744   44.426483  1376.034973  1442.607483  1475.619995   \n",
              "2008  252.0  1221.611490  190.555138   771.110016  1150.651276  1289.319977   \n",
              "\n",
              "              75%          max  \n",
              "Date                            \n",
              "2001  1254.802490  1374.015015  \n",
              "2002  1107.357483  1170.260010  \n",
              "2003  1028.395004  1109.385010  \n",
              "2004  1142.978729  1214.940002  \n",
              "2005  1228.238770  1271.455017  \n",
              "2006  1336.912506  1428.554993  \n",
              "2007  1512.577515  1561.404968  \n",
              "2008  1359.184998  1456.919983  "
            ],
            "text/html": [
              "\n",
              "  <div id=\"df-8ae86d27-8f77-4407-83f9-b9c514b10687\">\n",
              "    <div class=\"colab-df-container\">\n",
              "      <div>\n",
              "<style scoped>\n",
              "    .dataframe tbody tr th:only-of-type {\n",
              "        vertical-align: middle;\n",
              "    }\n",
              "\n",
              "    .dataframe tbody tr th {\n",
              "        vertical-align: top;\n",
              "    }\n",
              "\n",
              "    .dataframe thead th {\n",
              "        text-align: right;\n",
              "    }\n",
              "</style>\n",
              "<table border=\"1\" class=\"dataframe\">\n",
              "  <thead>\n",
              "    <tr style=\"text-align: right;\">\n",
              "      <th></th>\n",
              "      <th>count</th>\n",
              "      <th>mean</th>\n",
              "      <th>std</th>\n",
              "      <th>min</th>\n",
              "      <th>25%</th>\n",
              "      <th>50%</th>\n",
              "      <th>75%</th>\n",
              "      <th>max</th>\n",
              "    </tr>\n",
              "    <tr>\n",
              "      <th>Date</th>\n",
              "      <th></th>\n",
              "      <th></th>\n",
              "      <th></th>\n",
              "      <th></th>\n",
              "      <th></th>\n",
              "      <th></th>\n",
              "      <th></th>\n",
              "      <th></th>\n",
              "    </tr>\n",
              "  </thead>\n",
              "  <tbody>\n",
              "    <tr>\n",
              "      <th>2001</th>\n",
              "      <td>248.0</td>\n",
              "      <td>1193.689196</td>\n",
              "      <td>86.865939</td>\n",
              "      <td>964.644989</td>\n",
              "      <td>1136.603775</td>\n",
              "      <td>1191.602539</td>\n",
              "      <td>1254.802490</td>\n",
              "      <td>1374.015015</td>\n",
              "    </tr>\n",
              "    <tr>\n",
              "      <th>2002</th>\n",
              "      <td>252.0</td>\n",
              "      <td>993.878335</td>\n",
              "      <td>114.077936</td>\n",
              "      <td>787.174988</td>\n",
              "      <td>895.336250</td>\n",
              "      <td>968.600006</td>\n",
              "      <td>1107.357483</td>\n",
              "      <td>1170.260010</td>\n",
              "    </tr>\n",
              "    <tr>\n",
              "      <th>2003</th>\n",
              "      <td>252.0</td>\n",
              "      <td>964.632222</td>\n",
              "      <td>78.602540</td>\n",
              "      <td>796.545013</td>\n",
              "      <td>896.213753</td>\n",
              "      <td>985.644989</td>\n",
              "      <td>1028.395004</td>\n",
              "      <td>1109.385010</td>\n",
              "    </tr>\n",
              "    <tr>\n",
              "      <th>2004</th>\n",
              "      <td>252.0</td>\n",
              "      <td>1130.409743</td>\n",
              "      <td>31.444939</td>\n",
              "      <td>1064.149963</td>\n",
              "      <td>1110.626266</td>\n",
              "      <td>1126.692505</td>\n",
              "      <td>1142.978729</td>\n",
              "      <td>1214.940002</td>\n",
              "    </tr>\n",
              "    <tr>\n",
              "      <th>2005</th>\n",
              "      <td>252.0</td>\n",
              "      <td>1207.289366</td>\n",
              "      <td>29.553492</td>\n",
              "      <td>1144.360046</td>\n",
              "      <td>1187.330002</td>\n",
              "      <td>1204.835022</td>\n",
              "      <td>1228.238770</td>\n",
              "      <td>1271.455017</td>\n",
              "    </tr>\n",
              "    <tr>\n",
              "      <th>2006</th>\n",
              "      <td>251.0</td>\n",
              "      <td>1310.053308</td>\n",
              "      <td>50.920535</td>\n",
              "      <td>1225.375000</td>\n",
              "      <td>1273.427521</td>\n",
              "      <td>1296.955017</td>\n",
              "      <td>1336.912506</td>\n",
              "      <td>1428.554993</td>\n",
              "    </tr>\n",
              "    <tr>\n",
              "      <th>2007</th>\n",
              "      <td>251.0</td>\n",
              "      <td>1476.593744</td>\n",
              "      <td>44.426483</td>\n",
              "      <td>1376.034973</td>\n",
              "      <td>1442.607483</td>\n",
              "      <td>1475.619995</td>\n",
              "      <td>1512.577515</td>\n",
              "      <td>1561.404968</td>\n",
              "    </tr>\n",
              "    <tr>\n",
              "      <th>2008</th>\n",
              "      <td>252.0</td>\n",
              "      <td>1221.611490</td>\n",
              "      <td>190.555138</td>\n",
              "      <td>771.110016</td>\n",
              "      <td>1150.651276</td>\n",
              "      <td>1289.319977</td>\n",
              "      <td>1359.184998</td>\n",
              "      <td>1456.919983</td>\n",
              "    </tr>\n",
              "  </tbody>\n",
              "</table>\n",
              "</div>\n",
              "      <button class=\"colab-df-convert\" onclick=\"convertToInteractive('df-8ae86d27-8f77-4407-83f9-b9c514b10687')\"\n",
              "              title=\"Convert this dataframe to an interactive table.\"\n",
              "              style=\"display:none;\">\n",
              "        \n",
              "  <svg xmlns=\"http://www.w3.org/2000/svg\" height=\"24px\"viewBox=\"0 0 24 24\"\n",
              "       width=\"24px\">\n",
              "    <path d=\"M0 0h24v24H0V0z\" fill=\"none\"/>\n",
              "    <path d=\"M18.56 5.44l.94 2.06.94-2.06 2.06-.94-2.06-.94-.94-2.06-.94 2.06-2.06.94zm-11 1L8.5 8.5l.94-2.06 2.06-.94-2.06-.94L8.5 2.5l-.94 2.06-2.06.94zm10 10l.94 2.06.94-2.06 2.06-.94-2.06-.94-.94-2.06-.94 2.06-2.06.94z\"/><path d=\"M17.41 7.96l-1.37-1.37c-.4-.4-.92-.59-1.43-.59-.52 0-1.04.2-1.43.59L10.3 9.45l-7.72 7.72c-.78.78-.78 2.05 0 2.83L4 21.41c.39.39.9.59 1.41.59.51 0 1.02-.2 1.41-.59l7.78-7.78 2.81-2.81c.8-.78.8-2.07 0-2.86zM5.41 20L4 18.59l7.72-7.72 1.47 1.35L5.41 20z\"/>\n",
              "  </svg>\n",
              "      </button>\n",
              "      \n",
              "  <style>\n",
              "    .colab-df-container {\n",
              "      display:flex;\n",
              "      flex-wrap:wrap;\n",
              "      gap: 12px;\n",
              "    }\n",
              "\n",
              "    .colab-df-convert {\n",
              "      background-color: #E8F0FE;\n",
              "      border: none;\n",
              "      border-radius: 50%;\n",
              "      cursor: pointer;\n",
              "      display: none;\n",
              "      fill: #1967D2;\n",
              "      height: 32px;\n",
              "      padding: 0 0 0 0;\n",
              "      width: 32px;\n",
              "    }\n",
              "\n",
              "    .colab-df-convert:hover {\n",
              "      background-color: #E2EBFA;\n",
              "      box-shadow: 0px 1px 2px rgba(60, 64, 67, 0.3), 0px 1px 3px 1px rgba(60, 64, 67, 0.15);\n",
              "      fill: #174EA6;\n",
              "    }\n",
              "\n",
              "    [theme=dark] .colab-df-convert {\n",
              "      background-color: #3B4455;\n",
              "      fill: #D2E3FC;\n",
              "    }\n",
              "\n",
              "    [theme=dark] .colab-df-convert:hover {\n",
              "      background-color: #434B5C;\n",
              "      box-shadow: 0px 1px 3px 1px rgba(0, 0, 0, 0.15);\n",
              "      filter: drop-shadow(0px 1px 2px rgba(0, 0, 0, 0.3));\n",
              "      fill: #FFFFFF;\n",
              "    }\n",
              "  </style>\n",
              "\n",
              "      <script>\n",
              "        const buttonEl =\n",
              "          document.querySelector('#df-8ae86d27-8f77-4407-83f9-b9c514b10687 button.colab-df-convert');\n",
              "        buttonEl.style.display =\n",
              "          google.colab.kernel.accessAllowed ? 'block' : 'none';\n",
              "\n",
              "        async function convertToInteractive(key) {\n",
              "          const element = document.querySelector('#df-8ae86d27-8f77-4407-83f9-b9c514b10687');\n",
              "          const dataTable =\n",
              "            await google.colab.kernel.invokeFunction('convertToInteractive',\n",
              "                                                     [key], {});\n",
              "          if (!dataTable) return;\n",
              "\n",
              "          const docLinkHtml = 'Like what you see? Visit the ' +\n",
              "            '<a target=\"_blank\" href=https://colab.research.google.com/notebooks/data_table.ipynb>data table notebook</a>'\n",
              "            + ' to learn more about interactive tables.';\n",
              "          element.innerHTML = '';\n",
              "          dataTable['output_type'] = 'display_data';\n",
              "          await google.colab.output.renderOutput(dataTable, element);\n",
              "          const docLink = document.createElement('div');\n",
              "          docLink.innerHTML = docLinkHtml;\n",
              "          element.appendChild(docLink);\n",
              "        }\n",
              "      </script>\n",
              "    </div>\n",
              "  </div>\n",
              "  "
            ]
          },
          "metadata": {},
          "execution_count": 13
        }
      ],
      "source": [
        "# 1d\n",
        "hlm.groupby(hlm.index.year).describe()"
      ]
    },
    {
      "cell_type": "markdown",
      "metadata": {
        "id": "t7QEq-Ppua_0"
      },
      "source": [
        "## Obiettivo: prevedere il valore di chiusura a inizio giornata\n",
        "\n",
        "- Assumiamo che un agente investa quotidianamente sull'indice S&P 500\n",
        "- Vuole un modello che **preveda all'inizio di ogni giornata** `d` il valore `close[d]` dell'indice **a fine giornata**\n",
        "- La variabile `close` è quindi quella da prevedere, la _y_"
      ]
    },
    {
      "cell_type": "code",
      "execution_count": null,
      "metadata": {
        "id": "u-2MrS9dua_1"
      },
      "outputs": [],
      "source": [
        "y = close"
      ]
    },
    {
      "cell_type": "markdown",
      "metadata": {
        "id": "6FCUIO2uua_1"
      },
      "source": [
        "- Ma quali sono le variabili predittive, le _X_?\n",
        "- `high`, `low` e `volume` **non possono essere utilizzate** in quanto il loro valore **non è noto** a inizio giornata\n",
        "- Solamente il valore `open[d]` è noto al momento della predizione"
      ]
    },
    {
      "cell_type": "markdown",
      "metadata": {
        "id": "cjImzt-zua_1"
      },
      "source": [
        "- Iniziamo creando un modello di predizione solamente sulla variabile `open`\n",
        "- Creiamo un dizionario `features` con le variabili predittive, in questo caso solamente il valore di `open`"
      ]
    },
    {
      "cell_type": "code",
      "execution_count": null,
      "metadata": {
        "id": "w4DA9TDQua_2"
      },
      "outputs": [],
      "source": [
        "features = {\"Open\": open}"
      ]
    },
    {
      "cell_type": "markdown",
      "metadata": {
        "id": "2Pa575Mzua_2"
      },
      "source": [
        "- Incapsuliamo le variabili in un `DataFrame`"
      ]
    },
    {
      "cell_type": "code",
      "execution_count": null,
      "metadata": {
        "id": "TlSUXmzoua_3"
      },
      "outputs": [],
      "source": [
        "X = pd.DataFrame(features)"
      ]
    },
    {
      "cell_type": "code",
      "execution_count": null,
      "metadata": {
        "id": "gvyq88Ftua_3",
        "outputId": "1f8cdd8f-0a56-4f1e-d800-d7324b9ef752",
        "colab": {
          "base_uri": "https://localhost:8080/",
          "height": 314
        }
      },
      "outputs": [
        {
          "output_type": "execute_result",
          "data": {
            "text/plain": [
              "                   Open\n",
              "Date                   \n",
              "2001-01-02  1320.280029\n",
              "2001-01-03  1283.270020\n",
              "2001-01-04  1347.560059"
            ],
            "text/html": [
              "\n",
              "  <div id=\"df-66924d37-75c0-4840-aa80-5ac80b859cdb\">\n",
              "    <div class=\"colab-df-container\">\n",
              "      <div>\n",
              "<style scoped>\n",
              "    .dataframe tbody tr th:only-of-type {\n",
              "        vertical-align: middle;\n",
              "    }\n",
              "\n",
              "    .dataframe tbody tr th {\n",
              "        vertical-align: top;\n",
              "    }\n",
              "\n",
              "    .dataframe thead th {\n",
              "        text-align: right;\n",
              "    }\n",
              "</style>\n",
              "<table border=\"1\" class=\"dataframe\">\n",
              "  <thead>\n",
              "    <tr style=\"text-align: right;\">\n",
              "      <th></th>\n",
              "      <th>Open</th>\n",
              "    </tr>\n",
              "    <tr>\n",
              "      <th>Date</th>\n",
              "      <th></th>\n",
              "    </tr>\n",
              "  </thead>\n",
              "  <tbody>\n",
              "    <tr>\n",
              "      <th>2001-01-02</th>\n",
              "      <td>1320.280029</td>\n",
              "    </tr>\n",
              "    <tr>\n",
              "      <th>2001-01-03</th>\n",
              "      <td>1283.270020</td>\n",
              "    </tr>\n",
              "    <tr>\n",
              "      <th>2001-01-04</th>\n",
              "      <td>1347.560059</td>\n",
              "    </tr>\n",
              "  </tbody>\n",
              "</table>\n",
              "</div>\n",
              "      <button class=\"colab-df-convert\" onclick=\"convertToInteractive('df-66924d37-75c0-4840-aa80-5ac80b859cdb')\"\n",
              "              title=\"Convert this dataframe to an interactive table.\"\n",
              "              style=\"display:none;\">\n",
              "        \n",
              "  <svg xmlns=\"http://www.w3.org/2000/svg\" height=\"24px\"viewBox=\"0 0 24 24\"\n",
              "       width=\"24px\">\n",
              "    <path d=\"M0 0h24v24H0V0z\" fill=\"none\"/>\n",
              "    <path d=\"M18.56 5.44l.94 2.06.94-2.06 2.06-.94-2.06-.94-.94-2.06-.94 2.06-2.06.94zm-11 1L8.5 8.5l.94-2.06 2.06-.94-2.06-.94L8.5 2.5l-.94 2.06-2.06.94zm10 10l.94 2.06.94-2.06 2.06-.94-2.06-.94-.94-2.06-.94 2.06-2.06.94z\"/><path d=\"M17.41 7.96l-1.37-1.37c-.4-.4-.92-.59-1.43-.59-.52 0-1.04.2-1.43.59L10.3 9.45l-7.72 7.72c-.78.78-.78 2.05 0 2.83L4 21.41c.39.39.9.59 1.41.59.51 0 1.02-.2 1.41-.59l7.78-7.78 2.81-2.81c.8-.78.8-2.07 0-2.86zM5.41 20L4 18.59l7.72-7.72 1.47 1.35L5.41 20z\"/>\n",
              "  </svg>\n",
              "      </button>\n",
              "      \n",
              "  <style>\n",
              "    .colab-df-container {\n",
              "      display:flex;\n",
              "      flex-wrap:wrap;\n",
              "      gap: 12px;\n",
              "    }\n",
              "\n",
              "    .colab-df-convert {\n",
              "      background-color: #E8F0FE;\n",
              "      border: none;\n",
              "      border-radius: 50%;\n",
              "      cursor: pointer;\n",
              "      display: none;\n",
              "      fill: #1967D2;\n",
              "      height: 32px;\n",
              "      padding: 0 0 0 0;\n",
              "      width: 32px;\n",
              "    }\n",
              "\n",
              "    .colab-df-convert:hover {\n",
              "      background-color: #E2EBFA;\n",
              "      box-shadow: 0px 1px 2px rgba(60, 64, 67, 0.3), 0px 1px 3px 1px rgba(60, 64, 67, 0.15);\n",
              "      fill: #174EA6;\n",
              "    }\n",
              "\n",
              "    [theme=dark] .colab-df-convert {\n",
              "      background-color: #3B4455;\n",
              "      fill: #D2E3FC;\n",
              "    }\n",
              "\n",
              "    [theme=dark] .colab-df-convert:hover {\n",
              "      background-color: #434B5C;\n",
              "      box-shadow: 0px 1px 3px 1px rgba(0, 0, 0, 0.15);\n",
              "      filter: drop-shadow(0px 1px 2px rgba(0, 0, 0, 0.3));\n",
              "      fill: #FFFFFF;\n",
              "    }\n",
              "  </style>\n",
              "\n",
              "      <script>\n",
              "        const buttonEl =\n",
              "          document.querySelector('#df-66924d37-75c0-4840-aa80-5ac80b859cdb button.colab-df-convert');\n",
              "        buttonEl.style.display =\n",
              "          google.colab.kernel.accessAllowed ? 'block' : 'none';\n",
              "\n",
              "        async function convertToInteractive(key) {\n",
              "          const element = document.querySelector('#df-66924d37-75c0-4840-aa80-5ac80b859cdb');\n",
              "          const dataTable =\n",
              "            await google.colab.kernel.invokeFunction('convertToInteractive',\n",
              "                                                     [key], {});\n",
              "          if (!dataTable) return;\n",
              "\n",
              "          const docLinkHtml = 'Like what you see? Visit the ' +\n",
              "            '<a target=\"_blank\" href=https://colab.research.google.com/notebooks/data_table.ipynb>data table notebook</a>'\n",
              "            + ' to learn more about interactive tables.';\n",
              "          element.innerHTML = '';\n",
              "          dataTable['output_type'] = 'display_data';\n",
              "          await google.colab.output.renderOutput(dataTable, element);\n",
              "          const docLink = document.createElement('div');\n",
              "          docLink.innerHTML = docLinkHtml;\n",
              "          element.appendChild(docLink);\n",
              "        }\n",
              "      </script>\n",
              "    </div>\n",
              "  </div>\n",
              "  "
            ]
          },
          "metadata": {},
          "execution_count": 17
        }
      ],
      "source": [
        "X.head(3)"
      ]
    },
    {
      "cell_type": "markdown",
      "metadata": {
        "id": "gFgjs2bMua_4"
      },
      "source": [
        "### Suddivisione dati\n",
        "\n",
        "- Effettuiamo una prima suddivisione dei dati in training e validation set\n",
        "- Avendo una serie temporale, è comune utilizzare come training i dati fino ad una data specifica e come validation quelli successivi\n",
        "- Definiamo una funzione `split_before_2005` che, dati `X` e `y`, restituisca in una tupla con 4 elementi\n",
        "  - un training set `X_train` e `y_train` con i dati fino al 2004\n",
        "  - un validation set `X_val` e `y_val` con i dati dal 2005 in poi\n",
        "- Utilizziamo tale funzione per suddividere i dati `X` e `y` definiti sopra"
      ]
    },
    {
      "cell_type": "code",
      "execution_count": null,
      "metadata": {
        "id": "7KFO3g18ua_4"
      },
      "outputs": [],
      "source": [
        "def split_before_2005(X, y):\n",
        "    is_train = X.index.year < 2005\n",
        "    X_train = X.loc[is_train]\n",
        "    y_train = y.loc[is_train]\n",
        "    X_val = X.loc[~is_train]\n",
        "    y_val = y.loc[~is_train]\n",
        "    return X_train, X_val, y_train, y_val"
      ]
    },
    {
      "cell_type": "code",
      "execution_count": null,
      "metadata": {
        "id": "qWk30xxzua_4"
      },
      "outputs": [],
      "source": [
        "X_train, X_val, y_train, y_val = split_before_2005(X, y)"
      ]
    },
    {
      "cell_type": "markdown",
      "metadata": {
        "id": "bSSToOXZua_4"
      },
      "source": [
        "### Esercizio 2: Addestramento e validazione modelli\n",
        "\n",
        "Usando training e validation set creati sopra, addestrare ciascuno dei seguenti modelli ed ottenerne il coefficiente R²\n",
        "- **(2a)** regressione lineare semplice\n",
        "- **(2b)** regressione polinomiale di grado 10 con regolarizzazione L2 ($\\alpha=1$)\n",
        "- **(2c)** regressione polinomiale di grado 3 con standardizzazione delle feature"
      ]
    },
    {
      "cell_type": "code",
      "execution_count": null,
      "metadata": {
        "id": "ZW_-ml0hua_5"
      },
      "outputs": [],
      "source": [
        "# import necessari\n",
        "from sklearn.linear_model import LinearRegression, Ridge\n",
        "from sklearn.preprocessing import PolynomialFeatures, StandardScaler\n",
        "from sklearn.pipeline import Pipeline"
      ]
    },
    {
      "cell_type": "code",
      "execution_count": null,
      "metadata": {
        "id": "_veH8b7Aua_5",
        "outputId": "eb3e09df-ab84-464e-d120-6c0753c69e0b",
        "colab": {
          "base_uri": "https://localhost:8080/"
        }
      },
      "outputs": [
        {
          "output_type": "execute_result",
          "data": {
            "text/plain": [
              "0.9886049726011812"
            ]
          },
          "metadata": {},
          "execution_count": 21
        }
      ],
      "source": [
        "# 2a\n",
        "model = LinearRegression()\n",
        "model.fit(X_train, y_train)\n",
        "model.score(X_val, y_val)"
      ]
    },
    {
      "cell_type": "code",
      "execution_count": null,
      "metadata": {
        "id": "x7UqP_D1ua_6",
        "outputId": "155345c9-3e64-4e2b-9414-74b4242c9fb4",
        "colab": {
          "base_uri": "https://localhost:8080/"
        }
      },
      "outputs": [
        {
          "output_type": "stream",
          "name": "stderr",
          "text": [
            "/usr/local/lib/python3.7/dist-packages/sklearn/linear_model/_ridge.py:157: LinAlgWarning: Ill-conditioned matrix (rcond=1.40055e-33): result may not be accurate.\n",
            "  return linalg.solve(A, Xy, sym_pos=True, overwrite_a=True).T\n"
          ]
        },
        {
          "output_type": "execute_result",
          "data": {
            "text/plain": [
              "0.9824657739236607"
            ]
          },
          "metadata": {},
          "execution_count": 22
        }
      ],
      "source": [
        "# 2b\n",
        "model = Pipeline([\n",
        "    (\"poly\", PolynomialFeatures(degree=5, include_bias=False)),\n",
        "    (\"regr\", Ridge(alpha=1))\n",
        "])\n",
        "model.fit(X_train, y_train)\n",
        "model.score(X_val, y_val)"
      ]
    },
    {
      "cell_type": "code",
      "execution_count": null,
      "metadata": {
        "id": "nvN9K_zwua_6",
        "outputId": "efec90ae-b965-42f5-eae8-17acc6682b7e",
        "colab": {
          "base_uri": "https://localhost:8080/"
        }
      },
      "outputs": [
        {
          "output_type": "execute_result",
          "data": {
            "text/plain": [
              "0.9847818325593015"
            ]
          },
          "metadata": {},
          "execution_count": 23
        }
      ],
      "source": [
        "# 2c\n",
        "model = Pipeline([\n",
        "    (\"poly\", PolynomialFeatures(degree=3, include_bias=False)),\n",
        "    (\"scale\", StandardScaler()),\n",
        "    (\"regr\", LinearRegression())\n",
        "])\n",
        "model.fit(X_train, y_train)\n",
        "model.score(X_val, y_val)"
      ]
    },
    {
      "cell_type": "markdown",
      "metadata": {
        "id": "oJYLKqhIua_6"
      },
      "source": [
        "## Simulazione di trading\n",
        "\n",
        "- I punteggi R² dei modelli (anche i più semplici) risultano molto alti\n",
        "- Questo è dovuto al fatto che i valori di `open` e `close` sono generalmente molto correlati\n",
        "- Tuttavia, questo non indica quanto il modello sia in grado di cogliere le piccole variazioni giornaliere tra i due\n",
        "- Queste variazioni sono determinanti nel guidare un investitore\n",
        "- Per avere un'idea dell'utilità effettiva del modello, calcoliamo il **guadagno effettivo** che avrebbe un investitore utilizzando il modello"
      ]
    },
    {
      "cell_type": "markdown",
      "metadata": {
        "id": "lCF4T7-Tua_6"
      },
      "source": [
        "### Protocollo di trading\n",
        "\n",
        "Assumiamo un investitore che\n",
        "- all'inizio di ogni giornata $d$ confronta il valore di apertura noto $O_d$ col valore di chiusura predetto dal modello $\\hat{C}_d$\n",
        "- se è previsto un rialzo ($\\hat{C}_d > O_d$), compra un titolo e lo rivende a fine giornata, con un guadagno di $C_d-O_d$\n",
        "- se è previsto un ribasso ($\\hat{C}_d < O_d$) vende (allo scoperto) un titolo e lo ricompra a fine giornata, con un guadagno di $O_d-C_d$ (l'opposto del primo caso)\n",
        "\n",
        "Possiamo definire una metrica \"guadagno\" per validare il modello, che restituisca il guadagno totale di un investitore che opera nel periodo a cui si riferisce il validation set"
      ]
    },
    {
      "cell_type": "markdown",
      "metadata": {
        "id": "769FjYJRua_7"
      },
      "source": [
        "### Esercizio 3: Implementazione protocollo di trading\n",
        "\n",
        "Completare l'implementazione di `gain` in modo che, date le serie di valori di chiusura reali `C` e predetti `C_pred`, restituisca il guadagno di un investitore secondo le specifiche sopra\n",
        "- la serie di valori di apertura `O` è ricavata dalla serie completa `open` usando `reindex_like` per selezionare esattamente le date di `C`\n",
        "- definire la serie `CO_diff` come la differenza $C_d-O_d$\n",
        "- definire le serie booleane `growth` e `decline` che indicano in quali giorni viene *previsto* un rialzo o un ribasso del valore\n",
        "- restituire la somma dei guadagni ottenuti da acquisto+vendita nei giorni `growth` e vendita+acquisto nei giorni `decline`"
      ]
    },
    {
      "cell_type": "code",
      "execution_count": null,
      "metadata": {
        "id": "PnnnxXWFua_7"
      },
      "outputs": [],
      "source": [
        "def gain(C, C_pred):\n",
        "    O = open.reindex_like(C)\n",
        "    CO_diff = C - O\n",
        "    growth = C_pred > O\n",
        "    decline = C_pred < O\n",
        "    return CO_diff[growth].sum() - CO_diff[decline].sum()"
      ]
    },
    {
      "cell_type": "markdown",
      "metadata": {
        "id": "-VdC6wRaua_7"
      },
      "source": [
        "### Calcolo del ROI\n",
        "\n",
        "- Il ROI (_Return on Investment_) esprime il guadagno di una o più operazioni in borsa in rapporto all'investimento iniziale\n",
        "- La cifra investita in questo caso è pari al valore d'apertura del titolo che varia giornalmente\n",
        "- Per stimare il ROI usiamo la media di tale valore nel periodo di investimento\n",
        "- Definiamo una nuova funzione `roi`, che riusa il guadagno `gain` definito sopra e lo rapporta all'investimento medio"
      ]
    },
    {
      "cell_type": "code",
      "execution_count": null,
      "metadata": {
        "id": "TF920kvvua_7"
      },
      "outputs": [],
      "source": [
        "def roi(C, C_pred):\n",
        "    mean_open = open.reindex_like(C).mean()\n",
        "    return gain(C, C_pred) / mean_open"
      ]
    },
    {
      "cell_type": "markdown",
      "metadata": {
        "id": "Dv0Z80vjua_7"
      },
      "source": [
        "- Definiamo una funzione `print_eval` per stampare le metriche di valutazione del modello\n",
        "  - come le altre volte, dato il validation set e un modello da validare, si ottengono le predizioni e le si usano per calcolare le metriche\n",
        "  - questa volta però mostriamo guadagno e ROI al posto delle metriche ordinarie"
      ]
    },
    {
      "cell_type": "code",
      "execution_count": null,
      "metadata": {
        "id": "baZfXRvIua_8"
      },
      "outputs": [],
      "source": [
        "def print_eval(X, y, model):\n",
        "    preds = model.predict(X)\n",
        "    print(\"Gain: {:.2f}$\".format(gain(y, preds)))\n",
        "    print(\" ROI: {:.3%}\".format(roi(y, preds)))"
      ]
    },
    {
      "cell_type": "markdown",
      "metadata": {
        "id": "UUO9cj5nua_8"
      },
      "source": [
        "- Valutiamo ad esempio guadagno e ROI su un modello di regressione lineare semplice\n",
        "- Si ottiene un ROI basso, intorno al 5\\%"
      ]
    },
    {
      "cell_type": "code",
      "execution_count": null,
      "metadata": {
        "id": "EPk2UGWEua_8",
        "outputId": "35433767-9378-4ea2-944d-031e5dac4dd6",
        "colab": {
          "base_uri": "https://localhost:8080/"
        }
      },
      "outputs": [
        {
          "output_type": "stream",
          "name": "stdout",
          "text": [
            "Gain: 61.36$\n",
            " ROI: 4.705%\n"
          ]
        }
      ],
      "source": [
        "model = LinearRegression()\n",
        "model.fit(X_train, y_train)\n",
        "print_eval(X_val, y_val, model)"
      ]
    },
    {
      "cell_type": "markdown",
      "metadata": {
        "id": "PtkCprjpua_8"
      },
      "source": [
        "## Introduzione di nuove feature\n",
        "\n",
        "- Abbiamo addestrato un modello a prevedere il valore giornaliero di chiusura $C_d$ a partire da quello di apertura corrispondente $O_d$\n",
        "- Abbiamo però visto con la stima di guadagno e ROI che tale modello non è efficace\n",
        "- Per ottenere predizioni più affidabili per ciascuna giornata $d$, possiamo però integrare **informazioni note dai giorni precedenti** a $d$\n",
        "- Vediamo come aggiungere tali informazioni in **nuove variabili** su cui basare le predizioni"
      ]
    },
    {
      "cell_type": "markdown",
      "metadata": {
        "id": "sNVKyDHQua_8"
      },
      "source": [
        "- Le serie forniscono il metodo `shift`, con cui è possibile ottenerne i **valori slittati in avanti** di un numero di posizioni dato\n",
        "- Data ad esempio la serie `open`..."
      ]
    },
    {
      "cell_type": "code",
      "execution_count": null,
      "metadata": {
        "id": "j-KGjI6gua_8",
        "outputId": "0be4edbd-08c1-4399-e6ec-1b2c427a02a6",
        "colab": {
          "base_uri": "https://localhost:8080/"
        }
      },
      "outputs": [
        {
          "output_type": "execute_result",
          "data": {
            "text/plain": [
              "Date\n",
              "2001-01-02    1320.280029\n",
              "2001-01-03    1283.270020\n",
              "2001-01-04    1347.560059\n",
              "2001-01-05    1333.339966\n",
              "Name: Open, dtype: float64"
            ]
          },
          "metadata": {},
          "execution_count": 28
        }
      ],
      "source": [
        "open   .head(4)"
      ]
    },
    {
      "cell_type": "markdown",
      "metadata": {
        "id": "IydTbnpeua_8"
      },
      "source": [
        "- ...con `shift(2)` otteniamo gli stessi dati slittati in avanti di 2 giorni"
      ]
    },
    {
      "cell_type": "code",
      "execution_count": null,
      "metadata": {
        "id": "RF7rFjLYua_9",
        "outputId": "760fb2be-00d6-462a-c990-0f016b1291a3",
        "colab": {
          "base_uri": "https://localhost:8080/"
        }
      },
      "outputs": [
        {
          "output_type": "execute_result",
          "data": {
            "text/plain": [
              "Date\n",
              "2001-01-02            NaN\n",
              "2001-01-03            NaN\n",
              "2001-01-04    1320.280029\n",
              "2001-01-05    1283.270020\n",
              "Name: Open, dtype: float64"
            ]
          },
          "metadata": {},
          "execution_count": 29
        }
      ],
      "source": [
        "open.shift(2)   .head(4)"
      ]
    },
    {
      "cell_type": "markdown",
      "metadata": {
        "id": "rJppk1Uiua_9"
      },
      "source": [
        "- Nei primi 2 giorni sono inseriti valori NaN, non essendo noti i valori dei giorni precedenti"
      ]
    },
    {
      "cell_type": "markdown",
      "metadata": {
        "id": "uKGCQDldua_9"
      },
      "source": [
        "- Possiamo usare `shift` per generare le variabili che si riferiscono ai dati dei giorni precedenti\n",
        "- Definiamo ad esempio un nuovo insieme di feature dove, al valore di apertura del giorno corrente $O_d$, aggiungiamo quelli dei due giorni precedenti $O_{d-1}$ e $O_{d-2}$"
      ]
    },
    {
      "cell_type": "code",
      "execution_count": null,
      "metadata": {
        "id": "iBpYkc7pua_9"
      },
      "outputs": [],
      "source": [
        "features = {\n",
        "    \"Open\": open,\n",
        "    \"OpenLag1\": open.shift(1),\n",
        "    \"OpenLag2\": open.shift(2),\n",
        "}"
      ]
    },
    {
      "cell_type": "markdown",
      "metadata": {
        "id": "lll4bRBAua_9"
      },
      "source": [
        "- Come sopra, creiamo un frame con i dati derivanti da tali feature"
      ]
    },
    {
      "cell_type": "code",
      "execution_count": null,
      "metadata": {
        "id": "LFKWQ4kiua_9"
      },
      "outputs": [],
      "source": [
        "X = pd.DataFrame(features)"
      ]
    },
    {
      "cell_type": "code",
      "execution_count": null,
      "metadata": {
        "id": "do2PDcwvua_9",
        "outputId": "e0204ce2-84a3-4b40-8259-fcbaa3ab084e",
        "colab": {
          "base_uri": "https://localhost:8080/",
          "height": 422
        }
      },
      "outputs": [
        {
          "output_type": "execute_result",
          "data": {
            "text/plain": [
              "                   Open     OpenLag1     OpenLag2\n",
              "Date                                             \n",
              "2001-01-02  1320.280029          NaN          NaN\n",
              "2001-01-03  1283.270020  1320.280029          NaN\n",
              "2001-01-04  1347.560059  1283.270020  1320.280029\n",
              "2001-01-05  1333.339966  1347.560059  1283.270020\n",
              "2001-01-08  1298.349976  1333.339966  1347.560059"
            ],
            "text/html": [
              "\n",
              "  <div id=\"df-d0f1bd13-f7ce-4000-9fba-588e216d1ab6\">\n",
              "    <div class=\"colab-df-container\">\n",
              "      <div>\n",
              "<style scoped>\n",
              "    .dataframe tbody tr th:only-of-type {\n",
              "        vertical-align: middle;\n",
              "    }\n",
              "\n",
              "    .dataframe tbody tr th {\n",
              "        vertical-align: top;\n",
              "    }\n",
              "\n",
              "    .dataframe thead th {\n",
              "        text-align: right;\n",
              "    }\n",
              "</style>\n",
              "<table border=\"1\" class=\"dataframe\">\n",
              "  <thead>\n",
              "    <tr style=\"text-align: right;\">\n",
              "      <th></th>\n",
              "      <th>Open</th>\n",
              "      <th>OpenLag1</th>\n",
              "      <th>OpenLag2</th>\n",
              "    </tr>\n",
              "    <tr>\n",
              "      <th>Date</th>\n",
              "      <th></th>\n",
              "      <th></th>\n",
              "      <th></th>\n",
              "    </tr>\n",
              "  </thead>\n",
              "  <tbody>\n",
              "    <tr>\n",
              "      <th>2001-01-02</th>\n",
              "      <td>1320.280029</td>\n",
              "      <td>NaN</td>\n",
              "      <td>NaN</td>\n",
              "    </tr>\n",
              "    <tr>\n",
              "      <th>2001-01-03</th>\n",
              "      <td>1283.270020</td>\n",
              "      <td>1320.280029</td>\n",
              "      <td>NaN</td>\n",
              "    </tr>\n",
              "    <tr>\n",
              "      <th>2001-01-04</th>\n",
              "      <td>1347.560059</td>\n",
              "      <td>1283.270020</td>\n",
              "      <td>1320.280029</td>\n",
              "    </tr>\n",
              "    <tr>\n",
              "      <th>2001-01-05</th>\n",
              "      <td>1333.339966</td>\n",
              "      <td>1347.560059</td>\n",
              "      <td>1283.270020</td>\n",
              "    </tr>\n",
              "    <tr>\n",
              "      <th>2001-01-08</th>\n",
              "      <td>1298.349976</td>\n",
              "      <td>1333.339966</td>\n",
              "      <td>1347.560059</td>\n",
              "    </tr>\n",
              "  </tbody>\n",
              "</table>\n",
              "</div>\n",
              "      <button class=\"colab-df-convert\" onclick=\"convertToInteractive('df-d0f1bd13-f7ce-4000-9fba-588e216d1ab6')\"\n",
              "              title=\"Convert this dataframe to an interactive table.\"\n",
              "              style=\"display:none;\">\n",
              "        \n",
              "  <svg xmlns=\"http://www.w3.org/2000/svg\" height=\"24px\"viewBox=\"0 0 24 24\"\n",
              "       width=\"24px\">\n",
              "    <path d=\"M0 0h24v24H0V0z\" fill=\"none\"/>\n",
              "    <path d=\"M18.56 5.44l.94 2.06.94-2.06 2.06-.94-2.06-.94-.94-2.06-.94 2.06-2.06.94zm-11 1L8.5 8.5l.94-2.06 2.06-.94-2.06-.94L8.5 2.5l-.94 2.06-2.06.94zm10 10l.94 2.06.94-2.06 2.06-.94-2.06-.94-.94-2.06-.94 2.06-2.06.94z\"/><path d=\"M17.41 7.96l-1.37-1.37c-.4-.4-.92-.59-1.43-.59-.52 0-1.04.2-1.43.59L10.3 9.45l-7.72 7.72c-.78.78-.78 2.05 0 2.83L4 21.41c.39.39.9.59 1.41.59.51 0 1.02-.2 1.41-.59l7.78-7.78 2.81-2.81c.8-.78.8-2.07 0-2.86zM5.41 20L4 18.59l7.72-7.72 1.47 1.35L5.41 20z\"/>\n",
              "  </svg>\n",
              "      </button>\n",
              "      \n",
              "  <style>\n",
              "    .colab-df-container {\n",
              "      display:flex;\n",
              "      flex-wrap:wrap;\n",
              "      gap: 12px;\n",
              "    }\n",
              "\n",
              "    .colab-df-convert {\n",
              "      background-color: #E8F0FE;\n",
              "      border: none;\n",
              "      border-radius: 50%;\n",
              "      cursor: pointer;\n",
              "      display: none;\n",
              "      fill: #1967D2;\n",
              "      height: 32px;\n",
              "      padding: 0 0 0 0;\n",
              "      width: 32px;\n",
              "    }\n",
              "\n",
              "    .colab-df-convert:hover {\n",
              "      background-color: #E2EBFA;\n",
              "      box-shadow: 0px 1px 2px rgba(60, 64, 67, 0.3), 0px 1px 3px 1px rgba(60, 64, 67, 0.15);\n",
              "      fill: #174EA6;\n",
              "    }\n",
              "\n",
              "    [theme=dark] .colab-df-convert {\n",
              "      background-color: #3B4455;\n",
              "      fill: #D2E3FC;\n",
              "    }\n",
              "\n",
              "    [theme=dark] .colab-df-convert:hover {\n",
              "      background-color: #434B5C;\n",
              "      box-shadow: 0px 1px 3px 1px rgba(0, 0, 0, 0.15);\n",
              "      filter: drop-shadow(0px 1px 2px rgba(0, 0, 0, 0.3));\n",
              "      fill: #FFFFFF;\n",
              "    }\n",
              "  </style>\n",
              "\n",
              "      <script>\n",
              "        const buttonEl =\n",
              "          document.querySelector('#df-d0f1bd13-f7ce-4000-9fba-588e216d1ab6 button.colab-df-convert');\n",
              "        buttonEl.style.display =\n",
              "          google.colab.kernel.accessAllowed ? 'block' : 'none';\n",
              "\n",
              "        async function convertToInteractive(key) {\n",
              "          const element = document.querySelector('#df-d0f1bd13-f7ce-4000-9fba-588e216d1ab6');\n",
              "          const dataTable =\n",
              "            await google.colab.kernel.invokeFunction('convertToInteractive',\n",
              "                                                     [key], {});\n",
              "          if (!dataTable) return;\n",
              "\n",
              "          const docLinkHtml = 'Like what you see? Visit the ' +\n",
              "            '<a target=\"_blank\" href=https://colab.research.google.com/notebooks/data_table.ipynb>data table notebook</a>'\n",
              "            + ' to learn more about interactive tables.';\n",
              "          element.innerHTML = '';\n",
              "          dataTable['output_type'] = 'display_data';\n",
              "          await google.colab.output.renderOutput(dataTable, element);\n",
              "          const docLink = document.createElement('div');\n",
              "          docLink.innerHTML = docLinkHtml;\n",
              "          element.appendChild(docLink);\n",
              "        }\n",
              "      </script>\n",
              "    </div>\n",
              "  </div>\n",
              "  "
            ]
          },
          "metadata": {},
          "execution_count": 32
        }
      ],
      "source": [
        "X.head(5)"
      ]
    },
    {
      "cell_type": "markdown",
      "metadata": {
        "id": "0y7WcyCmua_9"
      },
      "source": [
        "- Otteniamo così un frame con tre variabili invece di una\n",
        "- Nelle prime righe abbiamo però dei valori mancanti\n",
        "- Utilizziamo il metodo `dropna` per eliminare tutte le righe con uno o più valori mancanti\n",
        "  - `inplace=True` indica di modificare `X` invece di restituire un frame nuovo"
      ]
    },
    {
      "cell_type": "code",
      "execution_count": null,
      "metadata": {
        "id": "FtPF2P5qua_-"
      },
      "outputs": [],
      "source": [
        "X.dropna(inplace=True)"
      ]
    },
    {
      "cell_type": "code",
      "execution_count": null,
      "metadata": {
        "id": "R1ecSgoQua_-",
        "outputId": "62073264-a776-4da4-d8e2-03c5067523e5",
        "colab": {
          "base_uri": "https://localhost:8080/",
          "height": 422
        }
      },
      "outputs": [
        {
          "output_type": "execute_result",
          "data": {
            "text/plain": [
              "                   Open     OpenLag1     OpenLag2\n",
              "Date                                             \n",
              "2001-01-04  1347.560059  1283.270020  1320.280029\n",
              "2001-01-05  1333.339966  1347.560059  1283.270020\n",
              "2001-01-08  1298.349976  1333.339966  1347.560059\n",
              "2001-01-09  1295.859985  1298.349976  1333.339966\n",
              "2001-01-10  1300.800049  1295.859985  1298.349976"
            ],
            "text/html": [
              "\n",
              "  <div id=\"df-e80f3de2-6a4a-4f4c-a4ea-964d60b9dc7d\">\n",
              "    <div class=\"colab-df-container\">\n",
              "      <div>\n",
              "<style scoped>\n",
              "    .dataframe tbody tr th:only-of-type {\n",
              "        vertical-align: middle;\n",
              "    }\n",
              "\n",
              "    .dataframe tbody tr th {\n",
              "        vertical-align: top;\n",
              "    }\n",
              "\n",
              "    .dataframe thead th {\n",
              "        text-align: right;\n",
              "    }\n",
              "</style>\n",
              "<table border=\"1\" class=\"dataframe\">\n",
              "  <thead>\n",
              "    <tr style=\"text-align: right;\">\n",
              "      <th></th>\n",
              "      <th>Open</th>\n",
              "      <th>OpenLag1</th>\n",
              "      <th>OpenLag2</th>\n",
              "    </tr>\n",
              "    <tr>\n",
              "      <th>Date</th>\n",
              "      <th></th>\n",
              "      <th></th>\n",
              "      <th></th>\n",
              "    </tr>\n",
              "  </thead>\n",
              "  <tbody>\n",
              "    <tr>\n",
              "      <th>2001-01-04</th>\n",
              "      <td>1347.560059</td>\n",
              "      <td>1283.270020</td>\n",
              "      <td>1320.280029</td>\n",
              "    </tr>\n",
              "    <tr>\n",
              "      <th>2001-01-05</th>\n",
              "      <td>1333.339966</td>\n",
              "      <td>1347.560059</td>\n",
              "      <td>1283.270020</td>\n",
              "    </tr>\n",
              "    <tr>\n",
              "      <th>2001-01-08</th>\n",
              "      <td>1298.349976</td>\n",
              "      <td>1333.339966</td>\n",
              "      <td>1347.560059</td>\n",
              "    </tr>\n",
              "    <tr>\n",
              "      <th>2001-01-09</th>\n",
              "      <td>1295.859985</td>\n",
              "      <td>1298.349976</td>\n",
              "      <td>1333.339966</td>\n",
              "    </tr>\n",
              "    <tr>\n",
              "      <th>2001-01-10</th>\n",
              "      <td>1300.800049</td>\n",
              "      <td>1295.859985</td>\n",
              "      <td>1298.349976</td>\n",
              "    </tr>\n",
              "  </tbody>\n",
              "</table>\n",
              "</div>\n",
              "      <button class=\"colab-df-convert\" onclick=\"convertToInteractive('df-e80f3de2-6a4a-4f4c-a4ea-964d60b9dc7d')\"\n",
              "              title=\"Convert this dataframe to an interactive table.\"\n",
              "              style=\"display:none;\">\n",
              "        \n",
              "  <svg xmlns=\"http://www.w3.org/2000/svg\" height=\"24px\"viewBox=\"0 0 24 24\"\n",
              "       width=\"24px\">\n",
              "    <path d=\"M0 0h24v24H0V0z\" fill=\"none\"/>\n",
              "    <path d=\"M18.56 5.44l.94 2.06.94-2.06 2.06-.94-2.06-.94-.94-2.06-.94 2.06-2.06.94zm-11 1L8.5 8.5l.94-2.06 2.06-.94-2.06-.94L8.5 2.5l-.94 2.06-2.06.94zm10 10l.94 2.06.94-2.06 2.06-.94-2.06-.94-.94-2.06-.94 2.06-2.06.94z\"/><path d=\"M17.41 7.96l-1.37-1.37c-.4-.4-.92-.59-1.43-.59-.52 0-1.04.2-1.43.59L10.3 9.45l-7.72 7.72c-.78.78-.78 2.05 0 2.83L4 21.41c.39.39.9.59 1.41.59.51 0 1.02-.2 1.41-.59l7.78-7.78 2.81-2.81c.8-.78.8-2.07 0-2.86zM5.41 20L4 18.59l7.72-7.72 1.47 1.35L5.41 20z\"/>\n",
              "  </svg>\n",
              "      </button>\n",
              "      \n",
              "  <style>\n",
              "    .colab-df-container {\n",
              "      display:flex;\n",
              "      flex-wrap:wrap;\n",
              "      gap: 12px;\n",
              "    }\n",
              "\n",
              "    .colab-df-convert {\n",
              "      background-color: #E8F0FE;\n",
              "      border: none;\n",
              "      border-radius: 50%;\n",
              "      cursor: pointer;\n",
              "      display: none;\n",
              "      fill: #1967D2;\n",
              "      height: 32px;\n",
              "      padding: 0 0 0 0;\n",
              "      width: 32px;\n",
              "    }\n",
              "\n",
              "    .colab-df-convert:hover {\n",
              "      background-color: #E2EBFA;\n",
              "      box-shadow: 0px 1px 2px rgba(60, 64, 67, 0.3), 0px 1px 3px 1px rgba(60, 64, 67, 0.15);\n",
              "      fill: #174EA6;\n",
              "    }\n",
              "\n",
              "    [theme=dark] .colab-df-convert {\n",
              "      background-color: #3B4455;\n",
              "      fill: #D2E3FC;\n",
              "    }\n",
              "\n",
              "    [theme=dark] .colab-df-convert:hover {\n",
              "      background-color: #434B5C;\n",
              "      box-shadow: 0px 1px 3px 1px rgba(0, 0, 0, 0.15);\n",
              "      filter: drop-shadow(0px 1px 2px rgba(0, 0, 0, 0.3));\n",
              "      fill: #FFFFFF;\n",
              "    }\n",
              "  </style>\n",
              "\n",
              "      <script>\n",
              "        const buttonEl =\n",
              "          document.querySelector('#df-e80f3de2-6a4a-4f4c-a4ea-964d60b9dc7d button.colab-df-convert');\n",
              "        buttonEl.style.display =\n",
              "          google.colab.kernel.accessAllowed ? 'block' : 'none';\n",
              "\n",
              "        async function convertToInteractive(key) {\n",
              "          const element = document.querySelector('#df-e80f3de2-6a4a-4f4c-a4ea-964d60b9dc7d');\n",
              "          const dataTable =\n",
              "            await google.colab.kernel.invokeFunction('convertToInteractive',\n",
              "                                                     [key], {});\n",
              "          if (!dataTable) return;\n",
              "\n",
              "          const docLinkHtml = 'Like what you see? Visit the ' +\n",
              "            '<a target=\"_blank\" href=https://colab.research.google.com/notebooks/data_table.ipynb>data table notebook</a>'\n",
              "            + ' to learn more about interactive tables.';\n",
              "          element.innerHTML = '';\n",
              "          dataTable['output_type'] = 'display_data';\n",
              "          await google.colab.output.renderOutput(dataTable, element);\n",
              "          const docLink = document.createElement('div');\n",
              "          docLink.innerHTML = docLinkHtml;\n",
              "          element.appendChild(docLink);\n",
              "        }\n",
              "      </script>\n",
              "    </div>\n",
              "  </div>\n",
              "  "
            ]
          },
          "metadata": {},
          "execution_count": 34
        }
      ],
      "source": [
        "X.head(5)"
      ]
    },
    {
      "cell_type": "markdown",
      "metadata": {
        "id": "Vg8rqm2Tua_-"
      },
      "source": [
        "- Ora tutte le righe di `X` sono utilizzabili per addestrare e validare il modello\n",
        "- Avendo filtrato le righe di `X` dobbiamo filtrare allo stesso modo anche `y`: utilizziamo `reindex_like` per selezionare le stesse etichette (ovvero le date) nella serie `close`"
      ]
    },
    {
      "cell_type": "code",
      "execution_count": null,
      "metadata": {
        "id": "omPHrGlfua_-"
      },
      "outputs": [],
      "source": [
        "y = close.reindex_like(X)"
      ]
    },
    {
      "cell_type": "code",
      "execution_count": null,
      "metadata": {
        "id": "2R6H875cua__",
        "outputId": "a7e7dcf3-5d61-497d-ff54-bace00b1dfda",
        "colab": {
          "base_uri": "https://localhost:8080/"
        }
      },
      "outputs": [
        {
          "output_type": "execute_result",
          "data": {
            "text/plain": [
              "Date\n",
              "2001-01-04    1333.339966\n",
              "2001-01-05    1298.349976\n",
              "2001-01-08    1295.859985\n",
              "2001-01-09    1300.800049\n",
              "2001-01-10    1313.270020\n",
              "Name: Close, dtype: float64"
            ]
          },
          "metadata": {},
          "execution_count": 36
        }
      ],
      "source": [
        "y.head(5)"
      ]
    },
    {
      "cell_type": "markdown",
      "metadata": {
        "id": "_vITEWHeubAA"
      },
      "source": [
        "- Riutilizziamo `split_before_2005` su `X` e `y` aggiornati per ottenere i training e validation set aggiornati"
      ]
    },
    {
      "cell_type": "code",
      "execution_count": null,
      "metadata": {
        "id": "hGGwFfjNubAA"
      },
      "outputs": [],
      "source": [
        "X_train, X_val, y_train, y_val = split_before_2005(X, y)"
      ]
    },
    {
      "cell_type": "markdown",
      "metadata": {
        "id": "f51rHxlBubAA"
      },
      "source": [
        "### Esercizio 4: Funzione per la generazione di training e validation set\n",
        "\n",
        "- Creare una funzione `prepare_data` che automatizzi i passaggi sopra\n",
        "  - accettare in input un dizionario di variabili predittive `features` (simile a quello sopra) e una variabile da predire `target`\n",
        "  - creare il frame `X` con le variabili predittive rimuovendo le righe con valori mancanti\n",
        "  - creare la serie `y` con i valori della variabile da predire corrispondenti alle righe selezionate di `X`\n",
        "  - restituire `X` e `y`"
      ]
    },
    {
      "cell_type": "code",
      "execution_count": null,
      "metadata": {
        "id": "kGZxNEhkubAG"
      },
      "outputs": [],
      "source": [
        "def prepare_data(features, target):\n",
        "    X = pd.DataFrame(features)\n",
        "    X.dropna(inplace=True)\n",
        "    y = target.reindex_like(X)\n",
        "    return X, y"
      ]
    },
    {
      "cell_type": "markdown",
      "metadata": {
        "id": "EDAu7P2eubAH"
      },
      "source": [
        "## Modello sulle differenze\n",
        "\n",
        "- Con l'aggiunta delle feature, la rendita del modello aumenta ma è ancora scarsa"
      ]
    },
    {
      "cell_type": "code",
      "execution_count": null,
      "metadata": {
        "id": "S_SlmePcubAH",
        "outputId": "9251a7b5-b8f7-4132-e154-4622f09ab39a",
        "colab": {
          "base_uri": "https://localhost:8080/"
        }
      },
      "outputs": [
        {
          "output_type": "stream",
          "name": "stdout",
          "text": [
            "Gain: 107.00$\n",
            " ROI: 8.205%\n"
          ]
        }
      ],
      "source": [
        "model = LinearRegression()\n",
        "model.fit(X_train, y_train)\n",
        "print_eval(X_val, y_val, model)"
      ]
    },
    {
      "cell_type": "markdown",
      "metadata": {
        "id": "_2Y3SxbSubAH"
      },
      "source": [
        "- Finora abbiamo usato nei modelli, sia come variabili predittive che da prevedere, i valori _assoluti_ di apertura e chiusura del mercato\n",
        "- Tali valori seguono dei trend di lungo periodo e possono essere molto diversi in periodi differenti\n",
        "  - si può notare ad esempio l'effetto della [crisi economica iniziata nel 2007](https://it.wikipedia.org/wiki/Grande_recessione)\n",
        "- Nel nostro scenario siamo più interessati alle variazioni giornaliere, indipendentemente dai valori assoluti\n",
        "- Revisioniamo i passaggi svolti sopra per utilizzare come variabili le differenze tra questi valori"
      ]
    },
    {
      "cell_type": "markdown",
      "metadata": {
        "id": "cgjJr7cOubAH"
      },
      "source": [
        "- Iniziamo definendo come variabile la differenza $\\Delta_d=C_d-O_d$ tra il valore di chiusura giornaliero $C_d$ e quello di apertura $O_d$"
      ]
    },
    {
      "cell_type": "code",
      "execution_count": null,
      "metadata": {
        "id": "oSnm8vUUubAH"
      },
      "outputs": [],
      "source": [
        "delta = close - open"
      ]
    },
    {
      "cell_type": "markdown",
      "metadata": {
        "id": "7gI0ZKQzubAH"
      },
      "source": [
        "- Poniamo questo come il valore che **deve essere predetto** dal modello\n",
        "- L'investitore agirà in base alla predizione $\\hat{\\Delta}_d$ in modo analogo a prima\n",
        "  - se $\\hat{\\Delta}_d > 0$, acquista un titolo a inizio giornata e lo rivende alla fine\n",
        "  - se $\\hat{\\Delta}_d < 0$, vende un titolo a inizio giornata e lo ricompra alla fine"
      ]
    },
    {
      "cell_type": "markdown",
      "metadata": {
        "id": "kx1bQ-UAubAH"
      },
      "source": [
        "### Esercizio 5: Funzioni per guadagno e ROI sulle differenze\n",
        "\n",
        "- Reimplementare la funzione `gain` in modo che consideri come input i valori reali e predetti di $\\Delta_d=C_d-O_d$ piuttosto che di $C_d$\n",
        "  - la funzione `roi` rimane invariata, la riportiamo con i nomi delle variabili aggiornate"
      ]
    },
    {
      "cell_type": "code",
      "execution_count": null,
      "metadata": {
        "id": "pUc-98xnubAI"
      },
      "outputs": [],
      "source": [
        "def gain(D, D_pred):\n",
        "    growth = D_pred > 0\n",
        "    decline = D_pred < 0\n",
        "    return D[growth].sum() - D[decline].sum()\n",
        "\n",
        "def roi(D, D_pred):\n",
        "    mean_open = open.reindex_like(D).mean()\n",
        "    return gain(D, D_pred) / mean_open"
      ]
    },
    {
      "cell_type": "markdown",
      "metadata": {
        "id": "SmkUaKCUubAI"
      },
      "source": [
        "- Come variabili predittive, possiamo considerare i valori della variabile da predire $\\Delta_d$ negli $N$ giorni precedenti: $\\Delta_{d-1},\\ldots,\\Delta_{d-N}$\n",
        "- Consideriamo ad esempio i valori nei 3 giorni precedenti\n",
        "  - usiamo una comprehension per costruire un dizionario con le variabili `DeltaLag{i}` con `i` variabile"
      ]
    },
    {
      "cell_type": "code",
      "execution_count": 507,
      "metadata": {
        "id": "6kU13LYxubAI",
        "colab": {
          "base_uri": "https://localhost:8080/"
        },
        "outputId": "0ef8f4ef-0aec-4362-b98e-db8d2af51592"
      },
      "outputs": [
        {
          "output_type": "execute_result",
          "data": {
            "text/plain": [
              "dict_keys(['DeltaLag1', 'DeltaLag2', 'DeltaLag3'])"
            ]
          },
          "metadata": {},
          "execution_count": 507
        }
      ],
      "source": [
        "features = {\n",
        "    \"DeltaLag{}\".format(i): delta.shift(i)\n",
        "    for i in range(1, 4) # con 4 variabili di lag ossia range(1,5) la regressione lineare ottiene 123.46%\n",
        "}\n",
        "features.keys()"
      ]
    },
    {
      "cell_type": "markdown",
      "metadata": {
        "id": "zxcYS0AeubAI"
      },
      "source": [
        "- Usiamo le funzioni già create sopra per ottenere training e validation set con queste nuove variabili"
      ]
    },
    {
      "cell_type": "code",
      "execution_count": 508,
      "metadata": {
        "id": "Uc9KOTzSubAI"
      },
      "outputs": [],
      "source": [
        "X, y = prepare_data(features, delta)\n",
        "X_train, X_val, y_train, y_val = split_before_2005(X, y)"
      ]
    },
    {
      "cell_type": "markdown",
      "metadata": {
        "id": "b61-SGAYubAI"
      },
      "source": [
        "- Addestriamo e validiamo un modello di regressione lineare"
      ]
    },
    {
      "cell_type": "code",
      "execution_count": 509,
      "metadata": {
        "id": "JxglU0tNubAI",
        "outputId": "54bb246e-43ac-4b1b-d10e-1de0463afd48",
        "colab": {
          "base_uri": "https://localhost:8080/"
        }
      },
      "outputs": [
        {
          "output_type": "stream",
          "name": "stdout",
          "text": [
            "Gain: 1308.40$\n",
            " ROI: 100.329%\n"
          ]
        }
      ],
      "source": [
        "model = LinearRegression()\n",
        "model.fit(X_train, y_train)\n",
        "print_eval(X_val, y_val, model)"
      ]
    },
    {
      "cell_type": "markdown",
      "metadata": {
        "id": "UI2lWycMubAJ"
      },
      "source": [
        "- Con questi accorgimenti, otteniamo un modello che garantisce un guadagno molto maggiore"
      ]
    },
    {
      "cell_type": "markdown",
      "source": [
        "## Ripetizione dell'esperimento con Regression Tree: xgboost, catboost e lightGBM   "
      ],
      "metadata": {
        "id": "yd9h7XCPuryF"
      }
    },
    {
      "cell_type": "code",
      "source": [
        "%pip install xgboost==1.1.0"
      ],
      "metadata": {
        "colab": {
          "base_uri": "https://localhost:8080/"
        },
        "id": "stri4rJHvCI4",
        "outputId": "608a7ec7-b812-4a99-b9c2-ea00ec71dad7"
      },
      "execution_count": null,
      "outputs": [
        {
          "output_type": "stream",
          "name": "stdout",
          "text": [
            "Collecting xgboost==1.1.0\n",
            "  Downloading xgboost-1.1.0-py3-none-manylinux2010_x86_64.whl (127.6 MB)\n",
            "\u001b[K     |████████████████████████████████| 127.6 MB 8.8 kB/s \n",
            "\u001b[?25hRequirement already satisfied: numpy in /usr/local/lib/python3.7/dist-packages (from xgboost==1.1.0) (1.21.6)\n",
            "Requirement already satisfied: scipy in /usr/local/lib/python3.7/dist-packages (from xgboost==1.1.0) (1.4.1)\n",
            "Installing collected packages: xgboost\n",
            "  Attempting uninstall: xgboost\n",
            "    Found existing installation: xgboost 0.90\n",
            "    Uninstalling xgboost-0.90:\n",
            "      Successfully uninstalled xgboost-0.90\n",
            "Successfully installed xgboost-1.1.0\n"
          ]
        }
      ]
    },
    {
      "cell_type": "code",
      "source": [
        "import xgboost\n",
        "print(xgboost.__version__)"
      ],
      "metadata": {
        "colab": {
          "base_uri": "https://localhost:8080/"
        },
        "id": "N4laHZBYwA3O",
        "outputId": "15d77b4f-d799-4b50-c81f-db09e77d42fc"
      },
      "execution_count": null,
      "outputs": [
        {
          "output_type": "stream",
          "name": "stdout",
          "text": [
            "1.1.0\n"
          ]
        }
      ]
    },
    {
      "cell_type": "code",
      "source": [
        "from xgboost import XGBRegressor"
      ],
      "metadata": {
        "id": "2tEZv9zAwBNg"
      },
      "execution_count": null,
      "outputs": []
    },
    {
      "cell_type": "code",
      "source": [
        "%%time\n",
        "# xgbm = XGBRegressor(objective='reg:squarederror', reg_alpha=0.0, reg_lambda=1.0, n_estimators=200, verbose_eval=True)\n",
        "# con 3 variabili di lag xgboost vince con al seguente invocazione ottenendo ROI 113.73%\n",
        "xgbm = XGBRegressor(objective='reg:squarederror', learning_rate = 0.01577, reg_lambda=0.008, reg_alpha=0.0001, n_estimators=1025, verbose_eval=False)\n",
        "\n",
        "# segue xgboost con variabili di lag\n",
        "# xgbm = XGBRegressor(objective='reg:squarederror', learning_rate = 0.001577, reg_lambda=0.0008, reg_alpha=0.0055011, n_estimators=625, verbose_eval=False)\n",
        "\n",
        "xgbm.fit(X_train, y_train)"
      ],
      "metadata": {
        "colab": {
          "base_uri": "https://localhost:8080/"
        },
        "id": "oosuHmiGwKty",
        "outputId": "b026517a-19fd-459e-84dc-600ab8968599"
      },
      "execution_count": 510,
      "outputs": [
        {
          "output_type": "stream",
          "name": "stdout",
          "text": [
            "[15:10:17] WARNING: /workspace/src/learner.cc:480: \n",
            "Parameters: { verbose_eval } might not be used.\n",
            "\n",
            "  This may not be accurate due to some parameters are only used in language bindings but\n",
            "  passed down to XGBoost core.  Or some parameters are not used but slip through this\n",
            "  verification. Please open an issue if you find above cases.\n",
            "\n",
            "\n",
            "CPU times: user 1.6 s, sys: 21.9 ms, total: 1.62 s\n",
            "Wall time: 857 ms\n"
          ]
        }
      ]
    },
    {
      "cell_type": "code",
      "source": [
        "print_eval(X_train, y_train, xgbm)\n",
        "print_eval(X_val, y_val, xgbm)"
      ],
      "metadata": {
        "colab": {
          "base_uri": "https://localhost:8080/"
        },
        "id": "tMiSQ1AwwP8b",
        "outputId": "02c30b5b-522d-4616-b338-f2a1180fee92"
      },
      "execution_count": 511,
      "outputs": [
        {
          "output_type": "stream",
          "name": "stdout",
          "text": [
            "Gain: 9153.22$\n",
            " ROI: 855.547%\n",
            "Gain: 1483.16$\n",
            " ROI: 113.730%\n"
          ]
        }
      ]
    },
    {
      "cell_type": "code",
      "source": [
        "# importanza delle feature\n",
        "pd.Series(xgbm.feature_importances_, index=features.keys()).sort_values(ascending=False)"
      ],
      "metadata": {
        "colab": {
          "base_uri": "https://localhost:8080/"
        },
        "id": "mgLs6JQ0wQVB",
        "outputId": "f62ed01f-5b42-4ac4-a072-db91bd35fdab"
      },
      "execution_count": 512,
      "outputs": [
        {
          "output_type": "execute_result",
          "data": {
            "text/plain": [
              "DeltaLag3    0.405598\n",
              "DeltaLag2    0.362857\n",
              "DeltaLag1    0.231546\n",
              "dtype: float32"
            ]
          },
          "metadata": {},
          "execution_count": 512
        }
      ]
    },
    {
      "cell_type": "code",
      "source": [
        "# catboost\n",
        "%pip install catboost"
      ],
      "metadata": {
        "colab": {
          "base_uri": "https://localhost:8080/"
        },
        "id": "uCjVn6XFy7oo",
        "outputId": "1919f38f-a166-4918-f2a8-46359232c778"
      },
      "execution_count": null,
      "outputs": [
        {
          "output_type": "stream",
          "name": "stdout",
          "text": [
            "Collecting catboost\n",
            "  Downloading catboost-1.0.5-cp37-none-manylinux1_x86_64.whl (76.6 MB)\n",
            "\u001b[K     |████████████████████████████████| 76.6 MB 43 kB/s \n",
            "\u001b[?25hRequirement already satisfied: numpy>=1.16.0 in /usr/local/lib/python3.7/dist-packages (from catboost) (1.21.6)\n",
            "Requirement already satisfied: graphviz in /usr/local/lib/python3.7/dist-packages (from catboost) (0.10.1)\n",
            "Requirement already satisfied: six in /usr/local/lib/python3.7/dist-packages (from catboost) (1.15.0)\n",
            "Requirement already satisfied: scipy in /usr/local/lib/python3.7/dist-packages (from catboost) (1.4.1)\n",
            "Requirement already satisfied: matplotlib in /usr/local/lib/python3.7/dist-packages (from catboost) (3.2.2)\n",
            "Requirement already satisfied: plotly in /usr/local/lib/python3.7/dist-packages (from catboost) (5.5.0)\n",
            "Requirement already satisfied: pandas>=0.24.0 in /usr/local/lib/python3.7/dist-packages (from catboost) (1.3.5)\n",
            "Requirement already satisfied: pytz>=2017.3 in /usr/local/lib/python3.7/dist-packages (from pandas>=0.24.0->catboost) (2022.1)\n",
            "Requirement already satisfied: python-dateutil>=2.7.3 in /usr/local/lib/python3.7/dist-packages (from pandas>=0.24.0->catboost) (2.8.2)\n",
            "Requirement already satisfied: kiwisolver>=1.0.1 in /usr/local/lib/python3.7/dist-packages (from matplotlib->catboost) (1.4.2)\n",
            "Requirement already satisfied: cycler>=0.10 in /usr/local/lib/python3.7/dist-packages (from matplotlib->catboost) (0.11.0)\n",
            "Requirement already satisfied: pyparsing!=2.0.4,!=2.1.2,!=2.1.6,>=2.0.1 in /usr/local/lib/python3.7/dist-packages (from matplotlib->catboost) (3.0.8)\n",
            "Requirement already satisfied: typing-extensions in /usr/local/lib/python3.7/dist-packages (from kiwisolver>=1.0.1->matplotlib->catboost) (4.2.0)\n",
            "Requirement already satisfied: tenacity>=6.2.0 in /usr/local/lib/python3.7/dist-packages (from plotly->catboost) (8.0.1)\n",
            "Installing collected packages: catboost\n",
            "Successfully installed catboost-1.0.5\n"
          ]
        }
      ]
    },
    {
      "cell_type": "code",
      "source": [
        "import catboost\n",
        "print(catboost.__version__)\n",
        "from catboost import CatBoostRegressor"
      ],
      "metadata": {
        "colab": {
          "base_uri": "https://localhost:8080/"
        },
        "id": "jUW95_Z9y-0s",
        "outputId": "8d1b6f7b-6ab0-452e-fc65-23623f72e63e"
      },
      "execution_count": null,
      "outputs": [
        {
          "output_type": "stream",
          "name": "stdout",
          "text": [
            "1.0.5\n"
          ]
        }
      ]
    },
    {
      "cell_type": "code",
      "source": [
        "# istanziazione e addestramento: con 91 estimatori \n",
        "catbm = CatBoostRegressor(n_estimators=91) #90\n",
        "%time catbm.fit(X_train, y_train, verbose=False)"
      ],
      "metadata": {
        "colab": {
          "base_uri": "https://localhost:8080/"
        },
        "id": "FAcFHuKGy_aT",
        "outputId": "a1b0f6c6-b9bc-4d04-c058-f3fcebe1dcc1"
      },
      "execution_count": 513,
      "outputs": [
        {
          "output_type": "stream",
          "name": "stdout",
          "text": [
            "CPU times: user 204 ms, sys: 29.3 ms, total: 233 ms\n",
            "Wall time: 157 ms\n"
          ]
        },
        {
          "output_type": "execute_result",
          "data": {
            "text/plain": [
              "<catboost.core.CatBoostRegressor at 0x7fee53296310>"
            ]
          },
          "metadata": {},
          "execution_count": 513
        }
      ]
    },
    {
      "cell_type": "code",
      "source": [
        "print_eval(X_val, y_val, catbm)"
      ],
      "metadata": {
        "colab": {
          "base_uri": "https://localhost:8080/"
        },
        "id": "gOjga_u3zNSp",
        "outputId": "26d13fcf-74e2-44ba-af76-4a7cdadadd2f"
      },
      "execution_count": 514,
      "outputs": [
        {
          "output_type": "stream",
          "name": "stdout",
          "text": [
            "Gain: 1236.92$\n",
            " ROI: 94.848%\n"
          ]
        }
      ]
    },
    {
      "cell_type": "code",
      "source": [
        "%pip install lightgbm"
      ],
      "metadata": {
        "id": "C-hqA1BF1a9W",
        "colab": {
          "base_uri": "https://localhost:8080/"
        },
        "outputId": "85777ab0-4467-4f4a-ea77-d9a6f54c38a2"
      },
      "execution_count": 515,
      "outputs": [
        {
          "output_type": "stream",
          "name": "stdout",
          "text": [
            "Requirement already satisfied: lightgbm in /usr/local/lib/python3.7/dist-packages (2.2.3)\n",
            "Requirement already satisfied: scikit-learn in /usr/local/lib/python3.7/dist-packages (from lightgbm) (1.0.2)\n",
            "Requirement already satisfied: numpy in /usr/local/lib/python3.7/dist-packages (from lightgbm) (1.21.6)\n",
            "Requirement already satisfied: scipy in /usr/local/lib/python3.7/dist-packages (from lightgbm) (1.4.1)\n",
            "Requirement already satisfied: threadpoolctl>=2.0.0 in /usr/local/lib/python3.7/dist-packages (from scikit-learn->lightgbm) (3.1.0)\n",
            "Requirement already satisfied: joblib>=0.11 in /usr/local/lib/python3.7/dist-packages (from scikit-learn->lightgbm) (1.1.0)\n"
          ]
        }
      ]
    },
    {
      "cell_type": "code",
      "source": [
        "from lightgbm import LGBMRegressor "
      ],
      "metadata": {
        "id": "FU0Lgd9f2jc5"
      },
      "execution_count": 516,
      "outputs": []
    },
    {
      "cell_type": "code",
      "source": [
        "%%time\n",
        "lgbm = LGBMRegressor(num_trees = 1025, learning_rate = 0.177, reg_lambda=0.001, reg_alpha=0.0001)\n",
        "lgbm.fit(X_train, y_train)"
      ],
      "metadata": {
        "id": "N3aPBCsR1bjP",
        "colab": {
          "base_uri": "https://localhost:8080/"
        },
        "outputId": "ddef9b7c-f737-46cd-e0e6-56df3485d500"
      },
      "execution_count": 517,
      "outputs": [
        {
          "output_type": "stream",
          "name": "stderr",
          "text": [
            "/usr/local/lib/python3.7/dist-packages/lightgbm/engine.py:118: UserWarning: Found `num_trees` in params. Will use it instead of argument\n",
            "  warnings.warn(\"Found `{}` in params. Will use it instead of argument\".format(alias))\n"
          ]
        },
        {
          "output_type": "stream",
          "name": "stdout",
          "text": [
            "CPU times: user 1.9 s, sys: 120 ms, total: 2.02 s\n",
            "Wall time: 1.19 s\n"
          ]
        }
      ]
    },
    {
      "cell_type": "code",
      "source": [
        "print_eval(X_val, y_val, lgbm)"
      ],
      "metadata": {
        "colab": {
          "base_uri": "https://localhost:8080/"
        },
        "id": "Na5v7JvA2r6S",
        "outputId": "6b97f8d9-c523-473e-c2c0-e8cd27784782"
      },
      "execution_count": 518,
      "outputs": [
        {
          "output_type": "stream",
          "name": "stdout",
          "text": [
            "Gain: 1130.64$\n",
            " ROI: 86.698%\n"
          ]
        }
      ]
    },
    {
      "cell_type": "markdown",
      "metadata": {
        "id": "GkBteYQAubAJ"
      },
      "source": [
        "## Confronto con un modello casuale\n",
        "\n",
        "- Per avere una valutazione più completa del modello ottenuto, possiamo metterlo a confronto con quello che accadrebbe prendendo decisioni casuali\n",
        "- Consideriamo un modello che predica dei valori $\\hat{\\Delta}_d$ casuali, ma con la stessa distribuzione dei valori $\\Delta_d$ reali\n",
        "- Disegnando un istogramma, vediamo che $\\Delta_d$ ha una distribuzione normale"
      ]
    },
    {
      "cell_type": "code",
      "execution_count": null,
      "metadata": {
        "id": "y5vitcwrubAJ",
        "outputId": "efa34092-97e7-4813-bfbb-ea85a75e3a63",
        "colab": {
          "base_uri": "https://localhost:8080/",
          "height": 56
        }
      },
      "outputs": [
        {
          "output_type": "display_data",
          "data": {
            "text/plain": [
              "<Figure size 864x288 with 1 Axes>"
            ],
            "image/png": "[encoded data removed]"
          },
          "metadata": {
            "needs_background": "light"
          }
        }
      ],
      "source": [
        "y_train.plot.hist(bins=40, figsize=(12, 4));"
      ]
    },
    {
      "cell_type": "markdown",
      "metadata": {
        "id": "UUqMtkJMubAJ"
      },
      "source": [
        "- Consideriamo una distribuzione normale con media e deviazione standard pari a quelle di `y_train` e generiamo tanti campioni quanti i valori in `y_val`"
      ]
    },
    {
      "cell_type": "code",
      "execution_count": null,
      "metadata": {
        "id": "GGuUCdM1ubAJ"
      },
      "outputs": [],
      "source": [
        "np.random.seed(42)\n",
        "random_preds = np.random.normal(\n",
        "    y_train.mean(),   # centro (media), circa 0\n",
        "    y_train.std(),    # scala (dev. standard)\n",
        "    len(y_val)        # numero di campioni\n",
        ")"
      ]
    },
    {
      "cell_type": "code",
      "execution_count": null,
      "metadata": {
        "id": "i3nKj40ZubAJ",
        "outputId": "eed1795b-0fff-4607-eeff-db673e9cac9e",
        "colab": {
          "base_uri": "https://localhost:8080/",
          "height": 56
        }
      },
      "outputs": [
        {
          "output_type": "display_data",
          "data": {
            "text/plain": [
              "<Figure size 864x216 with 1 Axes>"
            ],
            "image/png": "[encoded data removed]"
          },
          "metadata": {
            "needs_background": "light"
          }
        }
      ],
      "source": [
        "plt.figure(figsize=(12, 3))\n",
        "plt.hist(random_preds, bins=40);"
      ]
    },
    {
      "cell_type": "markdown",
      "metadata": {
        "id": "XYqXG2yHubAK"
      },
      "source": [
        "- Valutiamo guadagno e ROI utilizzando i campioni generati al posto delle predizioni del modello"
      ]
    },
    {
      "cell_type": "code",
      "execution_count": null,
      "metadata": {
        "id": "VQROO9HZubAK",
        "outputId": "346a7df1-5a29-4d5b-aeb6-12d358eedf7a",
        "colab": {
          "base_uri": "https://localhost:8080/"
        }
      },
      "outputs": [
        {
          "output_type": "execute_result",
          "data": {
            "text/plain": [
              "-271.2789306640625"
            ]
          },
          "metadata": {},
          "execution_count": 48
        }
      ],
      "source": [
        "gain(y_val, random_preds)"
      ]
    },
    {
      "cell_type": "code",
      "execution_count": null,
      "metadata": {
        "id": "j43SAQwrubAK",
        "outputId": "c303bad9-893d-4ab5-d7bd-67fffa55c07b",
        "colab": {
          "base_uri": "https://localhost:8080/"
        }
      },
      "outputs": [
        {
          "output_type": "execute_result",
          "data": {
            "text/plain": [
              "-0.20801836780762534"
            ]
          },
          "metadata": {},
          "execution_count": 49
        }
      ],
      "source": [
        "roi(y_val, random_preds)"
      ]
    },
    {
      "cell_type": "markdown",
      "metadata": {
        "id": "LRJdmpFcubAK"
      },
      "source": [
        "- In questo caso otteniamo un valore negativo, ovvero una perdita"
      ]
    },
    {
      "cell_type": "markdown",
      "metadata": {
        "id": "PNYwgb72ubAK"
      },
      "source": [
        "### Esercizio 6: Test multipli su modello casuale\n",
        "\n",
        "- Per valutare con maggiore affidabilità l'efficacia di un modello casuale, dobbiamo eseguire test multipli con seed differenti\n",
        "- Calcolare il ROI medio su 1.000 test con predizioni casuali come quello sopra, utilizzando un seed diverso in ciascuna\n",
        "- Si dovrebbe ottenere un ROI medio prossimo allo 0"
      ]
    },
    {
      "cell_type": "code",
      "execution_count": null,
      "metadata": {
        "id": "sUUd6OYfubAL",
        "outputId": "186496a4-1bf3-4c30-fefb-8f4a07c4827b",
        "colab": {
          "base_uri": "https://localhost:8080/"
        }
      },
      "outputs": [
        {
          "output_type": "stream",
          "name": "stdout",
          "text": [
            "0.01929211255212092\n"
          ]
        }
      ],
      "source": [
        "rois = []\n",
        "for s in range(1000):\n",
        "    np.random.seed(s)\n",
        "    preds = np.random.normal(y_train.mean(), y_train.std(), len(y_val))\n",
        "    rois.append(roi(y_val, preds))\n",
        "print(np.mean(rois))"
      ]
    },
    {
      "cell_type": "markdown",
      "metadata": {
        "id": "H2FQVDJyubAL"
      },
      "source": [
        "## Validazione k-fold per serie temporali\n",
        "\n",
        "- Nella cross validation a _k_ fold ordinaria, i dati vengono divisi in _k_ fold mescolati casualmente\n",
        "- Nel caso come questo di una serie temporale, vogliamo però mantenere l'ordine temporale in training e validation set\n",
        "- Come alternativa allo split `KFold`, scikit-learn offre il `TimeSeriesSplit(k)` per questa situazione\n",
        "  - il dataset è diviso in _k_+1 fold contigui di pari dimensioni\n",
        "  - ogni split _i_ da 1 a _k_ contiene i primi _i_ fold come training set e il _i+1_-esimo come validation set"
      ]
    },
    {
      "cell_type": "markdown",
      "metadata": {
        "id": "S8JYUPnRubAL"
      },
      "source": [
        "- Definiamo un `TimeSeriesSplit` con 3 split"
      ]
    },
    {
      "cell_type": "code",
      "execution_count": null,
      "metadata": {
        "id": "xJHy9MPdubAL"
      },
      "outputs": [],
      "source": [
        "from sklearn.model_selection import TimeSeriesSplit\n",
        "tss = TimeSeriesSplit(3)"
      ]
    },
    {
      "cell_type": "markdown",
      "metadata": {
        "id": "nY94QacqubAL"
      },
      "source": [
        "- Vediamo ad esempio come suddivide i dati in `X`: gli 8 anni dei dati sono divisi in 4 gruppi da 2"
      ]
    },
    {
      "cell_type": "code",
      "execution_count": null,
      "metadata": {
        "id": "-wRgGycNubAM",
        "outputId": "b2a0d2c2-89b2-4ea7-b374-148ea7a738fa",
        "colab": {
          "base_uri": "https://localhost:8080/"
        }
      },
      "outputs": [
        {
          "output_type": "stream",
          "name": "stdout",
          "text": [
            "FOLD 1\n",
            "Training set da 2001-01-05 00:00:00 a 2003-01-10 00:00:00\n",
            "Validation set da 2003-01-13 00:00:00 a 2005-01-06 00:00:00\n",
            "FOLD 2\n",
            "Training set da 2001-01-05 00:00:00 a 2005-01-06 00:00:00\n",
            "Validation set da 2005-01-07 00:00:00 a 2007-01-04 00:00:00\n",
            "FOLD 3\n",
            "Training set da 2001-01-05 00:00:00 a 2007-01-04 00:00:00\n",
            "Validation set da 2007-01-05 00:00:00 a 2008-12-30 00:00:00\n"
          ]
        }
      ],
      "source": [
        "for i, (train, val) in enumerate(tss.split(X), start=1):\n",
        "    print(f\"FOLD {i}\")\n",
        "    train_dates = X.index[train]\n",
        "    val_dates = X.index[val]\n",
        "    print(f\"Training set da {train_dates.min()} a {train_dates.max()}\")\n",
        "    print(f\"Validation set da {val_dates.min()} a {val_dates.max()}\")"
      ]
    },
    {
      "cell_type": "markdown",
      "metadata": {
        "id": "9bk3WI-AubAM"
      },
      "source": [
        "```\n",
        "         2001   2002   2003   2004   2005   2006   2007   2008\n",
        "       +------+------+------+------+------+------+------+------+\n",
        "Fold 1 |   Training  |  Validation |######## non usato ########|\n",
        "       +------+------+------+------+------+------+------+------+\n",
        "Fold 2 |          Training         |  Validation |# non usato #|\n",
        "       +------+------+------+------+------+------+------+------+\n",
        "Fold 3 |                 Training                |  Validation |\n",
        "       +------+------+------+------+------+------+------+------+\n",
        "```"
      ]
    },
    {
      "cell_type": "markdown",
      "metadata": {
        "id": "_hG1Te09ubAM"
      },
      "source": [
        "- Per eseguire la cross validation, dobbiamo stabilire anche la metrica di valutazione da utilizzare\n",
        "- Prendiamo come riferimento il ROI, per cui abbiamo implementato la funzione `roi`\n",
        "- Per utilizzarla come metrica al posto di quelle predefinite dobbiamo incapsularla in un oggetto _scorer_ con la funzione `make_scorer`\n",
        "  - `greater_is_better=True` specifica che valori più alti indicano modelli migliori, al contrario delle misure d'errore"
      ]
    },
    {
      "cell_type": "code",
      "execution_count": null,
      "metadata": {
        "id": "2fYl3odSubAM"
      },
      "outputs": [],
      "source": [
        "from sklearn.metrics import make_scorer\n",
        "roi_scorer = make_scorer(roi, greater_is_better=True)"
      ]
    },
    {
      "cell_type": "markdown",
      "metadata": {
        "id": "zuNTNGaHubAM"
      },
      "source": [
        "- Possiamo ora utilizzare la funzione `cross_validate`, specificando\n",
        "  - il modello da validare\n",
        "  - i dati\n",
        "  - il criterio di suddivisione in fold (oggetto `TimeSeriesSplit`)\n",
        "  - la metrica di valutazione (il ROI)\n",
        "- Usiamo come esempio la regressione lineare semplice"
      ]
    },
    {
      "cell_type": "code",
      "execution_count": null,
      "metadata": {
        "id": "f9Rt1w3QubAM"
      },
      "outputs": [],
      "source": [
        "from sklearn.model_selection import cross_validate\n",
        "cv_results = cross_validate(\n",
        "    LinearRegression(),\n",
        "    X, y,\n",
        "    cv=tss,\n",
        "    scoring=roi_scorer,\n",
        ")"
      ]
    },
    {
      "cell_type": "markdown",
      "metadata": {
        "id": "WqynG06XubAN"
      },
      "source": [
        "- Estraiamo i punteggi ottenuti nei tre fold e calcoliamo la media"
      ]
    },
    {
      "cell_type": "code",
      "execution_count": null,
      "metadata": {
        "id": "DmyimCXbubAN",
        "outputId": "3dec2133-6a20-44cf-f6fb-63091e255ab6",
        "colab": {
          "base_uri": "https://localhost:8080/"
        }
      },
      "outputs": [
        {
          "output_type": "execute_result",
          "data": {
            "text/plain": [
              "array([-0.14443616,  0.10888946,  0.74112849])"
            ]
          },
          "metadata": {},
          "execution_count": 55
        }
      ],
      "source": [
        "cv_results[\"test_score\"]"
      ]
    },
    {
      "cell_type": "code",
      "execution_count": null,
      "metadata": {
        "id": "OTr1cGx9ubAN",
        "outputId": "5c91f67e-2f41-40d8-9cc6-5306350a49fb",
        "colab": {
          "base_uri": "https://localhost:8080/"
        }
      },
      "outputs": [
        {
          "output_type": "execute_result",
          "data": {
            "text/plain": [
              "0.23519392952726648"
            ]
          },
          "metadata": {},
          "execution_count": 56
        }
      ],
      "source": [
        "cv_results[\"test_score\"].mean()"
      ]
    },
    {
      "cell_type": "markdown",
      "metadata": {
        "id": "2FgJrfPhubAN"
      },
      "source": [
        "- Vediamo che il ROI medio è 23,5\\%, ma molto variabile da un periodo d'applicazione all'altro, probabilmente anche per via dei training set di diversa durata (2, 4, 6 anni)\n",
        "  - notare che questi ROI sono calcolati su periodi di soli due anni, contro i quattro del validation set fisso usato prima"
      ]
    },
    {
      "cell_type": "markdown",
      "metadata": {
        "id": "YSPOrowZubAN"
      },
      "source": [
        "## Grid search\n",
        "\n",
        "- Possiamo riutilizzare gli stessi componenti della cross validation \"semplice\" in una grid search per tarare gli iperparametri dei modelli più avanzati\n",
        "- Prendiamo ad esempio come modello base la regressione polinomiale con o senza standardizzazione delle feature generate"
      ]
    },
    {
      "cell_type": "code",
      "execution_count": null,
      "metadata": {
        "id": "2gLHjhOtubAN"
      },
      "outputs": [],
      "source": [
        "model = Pipeline([\n",
        "    (\"poly\", PolynomialFeatures(include_bias=False)),\n",
        "    (\"scale\", None),\n",
        "    (\"regr\", LinearRegression())\n",
        "])"
      ]
    },
    {
      "cell_type": "markdown",
      "metadata": {
        "id": "juRHGhoXubAN"
      },
      "source": [
        "- Definiamo la griglia degli iperparametri variabili: applicazione o non della standardizzazione e grado del polinomio\n",
        "  - includiamo per confronto anche il grado 1, ovvero la regressione lineare standard"
      ]
    },
    {
      "cell_type": "code",
      "execution_count": null,
      "metadata": {
        "id": "mZCgjXnvubAO"
      },
      "outputs": [],
      "source": [
        "grid = {\n",
        "    \"scale\": [None, StandardScaler()],\n",
        "    \"poly__degree\": list(range(1, 7))\n",
        "}"
      ]
    },
    {
      "cell_type": "markdown",
      "metadata": {
        "id": "W0UTd-2GubAO"
      },
      "source": [
        "- Creiamo il modello grid search specificando tutti i parametri\n",
        "  - modello base con iperparametri fissi\n",
        "  - griglia dei iperparametri variabili\n",
        "  - criterio di cross validation\n",
        "  - metrica di valutazione"
      ]
    },
    {
      "cell_type": "code",
      "execution_count": null,
      "metadata": {
        "id": "-UvLFhn8ubAO"
      },
      "outputs": [],
      "source": [
        "from sklearn.model_selection import GridSearchCV\n",
        "gs = GridSearchCV(model, grid, cv=tss, scoring=roi_scorer)"
      ]
    },
    {
      "cell_type": "markdown",
      "metadata": {
        "id": "-BsA_xmuubAO"
      },
      "source": [
        "- Addestriamolo quindi su tutti i dati"
      ]
    },
    {
      "cell_type": "code",
      "execution_count": null,
      "metadata": {
        "id": "r0OrfAE1ubAO"
      },
      "outputs": [],
      "source": [
        "gs.fit(X, y);"
      ]
    },
    {
      "cell_type": "markdown",
      "metadata": {
        "id": "ejY7u3lzubAO"
      },
      "source": [
        "- Reperiamo e analizziamo i risultati ottenuti"
      ]
    },
    {
      "cell_type": "code",
      "execution_count": null,
      "metadata": {
        "id": "mAhtoxRBubAO"
      },
      "outputs": [],
      "source": [
        "gs_results = pd.DataFrame(gs.cv_results_)"
      ]
    },
    {
      "cell_type": "code",
      "execution_count": null,
      "metadata": {
        "id": "ROhsAZ8zubAO",
        "outputId": "d499c654-4ec0-489e-faac-29d894291274",
        "colab": {
          "base_uri": "https://localhost:8080/",
          "height": 425
        }
      },
      "outputs": [
        {
          "output_type": "execute_result",
          "data": {
            "text/plain": [
              "   mean_fit_time  std_fit_time  mean_score_time  std_score_time  \\\n",
              "8       0.030861      0.010221         0.010175        0.000826   \n",
              "9       0.030233      0.003943         0.011307        0.000956   \n",
              "0       0.007574      0.000145         0.004188        0.000876   \n",
              "1       0.004482      0.000162         0.002915        0.000245   \n",
              "6       0.019056      0.006825         0.007190        0.003273   \n",
              "\n",
              "  param_poly__degree       param_scale  \\\n",
              "8                  5              None   \n",
              "9                  5  StandardScaler()   \n",
              "0                  1              None   \n",
              "1                  1  StandardScaler()   \n",
              "6                  4              None   \n",
              "\n",
              "                                           params  split0_test_score  \\\n",
              "8              {'poly__degree': 5, 'scale': None}          -0.042530   \n",
              "9  {'poly__degree': 5, 'scale': StandardScaler()}          -0.042530   \n",
              "0              {'poly__degree': 1, 'scale': None}          -0.144436   \n",
              "1  {'poly__degree': 1, 'scale': StandardScaler()}          -0.144436   \n",
              "6              {'poly__degree': 4, 'scale': None}          -0.028171   \n",
              "\n",
              "   split1_test_score  split2_test_score  mean_test_score  std_test_score  \\\n",
              "8           0.189004           0.770411         0.305628        0.341974   \n",
              "9           0.189004           0.770411         0.305628        0.341974   \n",
              "0           0.108889           0.741128         0.235194        0.372398   \n",
              "1           0.108889           0.741128         0.235194        0.372398   \n",
              "6           0.097567           0.272940         0.114112        0.123484   \n",
              "\n",
              "   rank_test_score  \n",
              "8                1  \n",
              "9                1  \n",
              "0                3  \n",
              "1                3  \n",
              "6                5  "
            ],
            "text/html": [
              "\n",
              "  <div id=\"df-dc0c7a3a-2e55-47a6-8c35-b5acb99dcc01\">\n",
              "    <div class=\"colab-df-container\">\n",
              "      <div>\n",
              "<style scoped>\n",
              "    .dataframe tbody tr th:only-of-type {\n",
              "        vertical-align: middle;\n",
              "    }\n",
              "\n",
              "    .dataframe tbody tr th {\n",
              "        vertical-align: top;\n",
              "    }\n",
              "\n",
              "    .dataframe thead th {\n",
              "        text-align: right;\n",
              "    }\n",
              "</style>\n",
              "<table border=\"1\" class=\"dataframe\">\n",
              "  <thead>\n",
              "    <tr style=\"text-align: right;\">\n",
              "      <th></th>\n",
              "      <th>mean_fit_time</th>\n",
              "      <th>std_fit_time</th>\n",
              "      <th>mean_score_time</th>\n",
              "      <th>std_score_time</th>\n",
              "      <th>param_poly__degree</th>\n",
              "      <th>param_scale</th>\n",
              "      <th>params</th>\n",
              "      <th>split0_test_score</th>\n",
              "      <th>split1_test_score</th>\n",
              "      <th>split2_test_score</th>\n",
              "      <th>mean_test_score</th>\n",
              "      <th>std_test_score</th>\n",
              "      <th>rank_test_score</th>\n",
              "    </tr>\n",
              "  </thead>\n",
              "  <tbody>\n",
              "    <tr>\n",
              "      <th>8</th>\n",
              "      <td>0.030861</td>\n",
              "      <td>0.010221</td>\n",
              "      <td>0.010175</td>\n",
              "      <td>0.000826</td>\n",
              "      <td>5</td>\n",
              "      <td>None</td>\n",
              "      <td>{'poly__degree': 5, 'scale': None}</td>\n",
              "      <td>-0.042530</td>\n",
              "      <td>0.189004</td>\n",
              "      <td>0.770411</td>\n",
              "      <td>0.305628</td>\n",
              "      <td>0.341974</td>\n",
              "      <td>1</td>\n",
              "    </tr>\n",
              "    <tr>\n",
              "      <th>9</th>\n",
              "      <td>0.030233</td>\n",
              "      <td>0.003943</td>\n",
              "      <td>0.011307</td>\n",
              "      <td>0.000956</td>\n",
              "      <td>5</td>\n",
              "      <td>StandardScaler()</td>\n",
              "      <td>{'poly__degree': 5, 'scale': StandardScaler()}</td>\n",
              "      <td>-0.042530</td>\n",
              "      <td>0.189004</td>\n",
              "      <td>0.770411</td>\n",
              "      <td>0.305628</td>\n",
              "      <td>0.341974</td>\n",
              "      <td>1</td>\n",
              "    </tr>\n",
              "    <tr>\n",
              "      <th>0</th>\n",
              "      <td>0.007574</td>\n",
              "      <td>0.000145</td>\n",
              "      <td>0.004188</td>\n",
              "      <td>0.000876</td>\n",
              "      <td>1</td>\n",
              "      <td>None</td>\n",
              "      <td>{'poly__degree': 1, 'scale': None}</td>\n",
              "      <td>-0.144436</td>\n",
              "      <td>0.108889</td>\n",
              "      <td>0.741128</td>\n",
              "      <td>0.235194</td>\n",
              "      <td>0.372398</td>\n",
              "      <td>3</td>\n",
              "    </tr>\n",
              "    <tr>\n",
              "      <th>1</th>\n",
              "      <td>0.004482</td>\n",
              "      <td>0.000162</td>\n",
              "      <td>0.002915</td>\n",
              "      <td>0.000245</td>\n",
              "      <td>1</td>\n",
              "      <td>StandardScaler()</td>\n",
              "      <td>{'poly__degree': 1, 'scale': StandardScaler()}</td>\n",
              "      <td>-0.144436</td>\n",
              "      <td>0.108889</td>\n",
              "      <td>0.741128</td>\n",
              "      <td>0.235194</td>\n",
              "      <td>0.372398</td>\n",
              "      <td>3</td>\n",
              "    </tr>\n",
              "    <tr>\n",
              "      <th>6</th>\n",
              "      <td>0.019056</td>\n",
              "      <td>0.006825</td>\n",
              "      <td>0.007190</td>\n",
              "      <td>0.003273</td>\n",
              "      <td>4</td>\n",
              "      <td>None</td>\n",
              "      <td>{'poly__degree': 4, 'scale': None}</td>\n",
              "      <td>-0.028171</td>\n",
              "      <td>0.097567</td>\n",
              "      <td>0.272940</td>\n",
              "      <td>0.114112</td>\n",
              "      <td>0.123484</td>\n",
              "      <td>5</td>\n",
              "    </tr>\n",
              "  </tbody>\n",
              "</table>\n",
              "</div>\n",
              "      <button class=\"colab-df-convert\" onclick=\"convertToInteractive('df-dc0c7a3a-2e55-47a6-8c35-b5acb99dcc01')\"\n",
              "              title=\"Convert this dataframe to an interactive table.\"\n",
              "              style=\"display:none;\">\n",
              "        \n",
              "  <svg xmlns=\"http://www.w3.org/2000/svg\" height=\"24px\"viewBox=\"0 0 24 24\"\n",
              "       width=\"24px\">\n",
              "    <path d=\"M0 0h24v24H0V0z\" fill=\"none\"/>\n",
              "    <path d=\"M18.56 5.44l.94 2.06.94-2.06 2.06-.94-2.06-.94-.94-2.06-.94 2.06-2.06.94zm-11 1L8.5 8.5l.94-2.06 2.06-.94-2.06-.94L8.5 2.5l-.94 2.06-2.06.94zm10 10l.94 2.06.94-2.06 2.06-.94-2.06-.94-.94-2.06-.94 2.06-2.06.94z\"/><path d=\"M17.41 7.96l-1.37-1.37c-.4-.4-.92-.59-1.43-.59-.52 0-1.04.2-1.43.59L10.3 9.45l-7.72 7.72c-.78.78-.78 2.05 0 2.83L4 21.41c.39.39.9.59 1.41.59.51 0 1.02-.2 1.41-.59l7.78-7.78 2.81-2.81c.8-.78.8-2.07 0-2.86zM5.41 20L4 18.59l7.72-7.72 1.47 1.35L5.41 20z\"/>\n",
              "  </svg>\n",
              "      </button>\n",
              "      \n",
              "  <style>\n",
              "    .colab-df-container {\n",
              "      display:flex;\n",
              "      flex-wrap:wrap;\n",
              "      gap: 12px;\n",
              "    }\n",
              "\n",
              "    .colab-df-convert {\n",
              "      background-color: #E8F0FE;\n",
              "      border: none;\n",
              "      border-radius: 50%;\n",
              "      cursor: pointer;\n",
              "      display: none;\n",
              "      fill: #1967D2;\n",
              "      height: 32px;\n",
              "      padding: 0 0 0 0;\n",
              "      width: 32px;\n",
              "    }\n",
              "\n",
              "    .colab-df-convert:hover {\n",
              "      background-color: #E2EBFA;\n",
              "      box-shadow: 0px 1px 2px rgba(60, 64, 67, 0.3), 0px 1px 3px 1px rgba(60, 64, 67, 0.15);\n",
              "      fill: #174EA6;\n",
              "    }\n",
              "\n",
              "    [theme=dark] .colab-df-convert {\n",
              "      background-color: #3B4455;\n",
              "      fill: #D2E3FC;\n",
              "    }\n",
              "\n",
              "    [theme=dark] .colab-df-convert:hover {\n",
              "      background-color: #434B5C;\n",
              "      box-shadow: 0px 1px 3px 1px rgba(0, 0, 0, 0.15);\n",
              "      filter: drop-shadow(0px 1px 2px rgba(0, 0, 0, 0.3));\n",
              "      fill: #FFFFFF;\n",
              "    }\n",
              "  </style>\n",
              "\n",
              "      <script>\n",
              "        const buttonEl =\n",
              "          document.querySelector('#df-dc0c7a3a-2e55-47a6-8c35-b5acb99dcc01 button.colab-df-convert');\n",
              "        buttonEl.style.display =\n",
              "          google.colab.kernel.accessAllowed ? 'block' : 'none';\n",
              "\n",
              "        async function convertToInteractive(key) {\n",
              "          const element = document.querySelector('#df-dc0c7a3a-2e55-47a6-8c35-b5acb99dcc01');\n",
              "          const dataTable =\n",
              "            await google.colab.kernel.invokeFunction('convertToInteractive',\n",
              "                                                     [key], {});\n",
              "          if (!dataTable) return;\n",
              "\n",
              "          const docLinkHtml = 'Like what you see? Visit the ' +\n",
              "            '<a target=\"_blank\" href=https://colab.research.google.com/notebooks/data_table.ipynb>data table notebook</a>'\n",
              "            + ' to learn more about interactive tables.';\n",
              "          element.innerHTML = '';\n",
              "          dataTable['output_type'] = 'display_data';\n",
              "          await google.colab.output.renderOutput(dataTable, element);\n",
              "          const docLink = document.createElement('div');\n",
              "          docLink.innerHTML = docLinkHtml;\n",
              "          element.appendChild(docLink);\n",
              "        }\n",
              "      </script>\n",
              "    </div>\n",
              "  </div>\n",
              "  "
            ]
          },
          "metadata": {},
          "execution_count": 62
        }
      ],
      "source": [
        "# stampo le 5 configurazioni migliori\n",
        "gs_results.sort_values(\"mean_test_score\", ascending=False).head(5)"
      ]
    },
    {
      "cell_type": "markdown",
      "metadata": {
        "id": "PpxBtkXXubAP"
      },
      "source": [
        "- Le migliori configurazioni in questo caso sono quelle con le feature di 5° grado (la standardizzazione non fa differenza)"
      ]
    },
    {
      "cell_type": "markdown",
      "metadata": {
        "id": "dViNQRWvubAP"
      },
      "source": [
        "### Esercizio 7: Grid search su kernel ridge\n",
        "\n",
        "- Effettuare la grid search su un modello kernel ridge\n",
        "  - con kernel `rbf` con `gamma` pari a $10^{-3},10^{-2},10^{-1}$\n",
        "  - con peso di regolarizzazione `alpha` pari a $10^{-3},10^{-2},\\ldots,10^2$\n",
        "    - si può usare `np.logspace`\n",
        "  - con o senza standardizzazione delle feature in ingresso\n",
        "- Stampare come sopra un frame con le 5 configurazioni migliori"
      ]
    },
    {
      "cell_type": "code",
      "execution_count": null,
      "metadata": {
        "id": "UPRXf14YubAP"
      },
      "outputs": [],
      "source": [
        "from sklearn.kernel_ridge import KernelRidge"
      ]
    },
    {
      "cell_type": "code",
      "execution_count": null,
      "metadata": {
        "id": "XrjmPl4RubAP"
      },
      "outputs": [],
      "source": [
        "model = Pipeline([\n",
        "    (\"scale\", None),\n",
        "    (\"regr\", KernelRidge(kernel=\"rbf\"))\n",
        "])\n",
        "grid = {\n",
        "    \"scale\": [None, StandardScaler()],\n",
        "    \"regr__gamma\": [0.001, 0.01, 0.1],\n",
        "    \"regr__alpha\": np.logspace(-3, 2, 6)\n",
        "}\n",
        "gs = GridSearchCV(model, grid, scoring=roi_scorer, cv=tss)\n",
        "gs.fit(X, y)\n",
        "cv_results = pd.DataFrame(gs.cv_results_)"
      ]
    },
    {
      "cell_type": "code",
      "execution_count": null,
      "metadata": {
        "id": "aEN9nc8tubAP",
        "outputId": "cc625817-0319-4104-e8f6-6de38cc039e1",
        "colab": {
          "base_uri": "https://localhost:8080/",
          "height": 577
        }
      },
      "outputs": [
        {
          "output_type": "execute_result",
          "data": {
            "text/plain": [
              "    mean_fit_time  std_fit_time  mean_score_time  std_score_time  \\\n",
              "17       0.343402      0.179422         0.091212        0.031327   \n",
              "8        0.357241      0.253677         0.075551        0.029456   \n",
              "2        0.314660      0.225519         0.067434        0.012992   \n",
              "14       0.254097      0.161272         0.102836        0.026704   \n",
              "18       0.406895      0.240996         0.096291        0.040739   \n",
              "\n",
              "   param_regr__alpha param_regr__gamma       param_scale  \\\n",
              "17               0.1               0.1  StandardScaler()   \n",
              "8               0.01              0.01              None   \n",
              "2              0.001              0.01              None   \n",
              "14               0.1              0.01              None   \n",
              "18               1.0             0.001              None   \n",
              "\n",
              "                                               params  split0_test_score  \\\n",
              "17  {'regr__alpha': 0.1, 'regr__gamma': 0.1, 'scal...          -0.179396   \n",
              "8   {'regr__alpha': 0.01, 'regr__gamma': 0.01, 'sc...           0.095404   \n",
              "2   {'regr__alpha': 0.001, 'regr__gamma': 0.01, 's...          -0.135527   \n",
              "14  {'regr__alpha': 0.1, 'regr__gamma': 0.01, 'sca...           0.087712   \n",
              "18  {'regr__alpha': 1.0, 'regr__gamma': 0.001, 'sc...          -0.161897   \n",
              "\n",
              "    split1_test_score  split2_test_score  mean_test_score  std_test_score  \\\n",
              "17           0.148859           0.987389         0.318950        0.491287   \n",
              "8           -0.035444           0.846344         0.302101        0.388527   \n",
              "2            0.018342           0.949231         0.277349        0.479228   \n",
              "14           0.090150           0.605152         0.261005        0.243351   \n",
              "18           0.134916           0.717848         0.230289        0.365431   \n",
              "\n",
              "    rank_test_score  \n",
              "17                1  \n",
              "8                 2  \n",
              "2                 3  \n",
              "14                4  \n",
              "18                5  "
            ],
            "text/html": [
              "\n",
              "  <div id=\"df-e09bd81d-a297-47e5-9438-f67687eb9d25\">\n",
              "    <div class=\"colab-df-container\">\n",
              "      <div>\n",
              "<style scoped>\n",
              "    .dataframe tbody tr th:only-of-type {\n",
              "        vertical-align: middle;\n",
              "    }\n",
              "\n",
              "    .dataframe tbody tr th {\n",
              "        vertical-align: top;\n",
              "    }\n",
              "\n",
              "    .dataframe thead th {\n",
              "        text-align: right;\n",
              "    }\n",
              "</style>\n",
              "<table border=\"1\" class=\"dataframe\">\n",
              "  <thead>\n",
              "    <tr style=\"text-align: right;\">\n",
              "      <th></th>\n",
              "      <th>mean_fit_time</th>\n",
              "      <th>std_fit_time</th>\n",
              "      <th>mean_score_time</th>\n",
              "      <th>std_score_time</th>\n",
              "      <th>param_regr__alpha</th>\n",
              "      <th>param_regr__gamma</th>\n",
              "      <th>param_scale</th>\n",
              "      <th>params</th>\n",
              "      <th>split0_test_score</th>\n",
              "      <th>split1_test_score</th>\n",
              "      <th>split2_test_score</th>\n",
              "      <th>mean_test_score</th>\n",
              "      <th>std_test_score</th>\n",
              "      <th>rank_test_score</th>\n",
              "    </tr>\n",
              "  </thead>\n",
              "  <tbody>\n",
              "    <tr>\n",
              "      <th>17</th>\n",
              "      <td>0.343402</td>\n",
              "      <td>0.179422</td>\n",
              "      <td>0.091212</td>\n",
              "      <td>0.031327</td>\n",
              "      <td>0.1</td>\n",
              "      <td>0.1</td>\n",
              "      <td>StandardScaler()</td>\n",
              "      <td>{'regr__alpha': 0.1, 'regr__gamma': 0.1, 'scal...</td>\n",
              "      <td>-0.179396</td>\n",
              "      <td>0.148859</td>\n",
              "      <td>0.987389</td>\n",
              "      <td>0.318950</td>\n",
              "      <td>0.491287</td>\n",
              "      <td>1</td>\n",
              "    </tr>\n",
              "    <tr>\n",
              "      <th>8</th>\n",
              "      <td>0.357241</td>\n",
              "      <td>0.253677</td>\n",
              "      <td>0.075551</td>\n",
              "      <td>0.029456</td>\n",
              "      <td>0.01</td>\n",
              "      <td>0.01</td>\n",
              "      <td>None</td>\n",
              "      <td>{'regr__alpha': 0.01, 'regr__gamma': 0.01, 'sc...</td>\n",
              "      <td>0.095404</td>\n",
              "      <td>-0.035444</td>\n",
              "      <td>0.846344</td>\n",
              "      <td>0.302101</td>\n",
              "      <td>0.388527</td>\n",
              "      <td>2</td>\n",
              "    </tr>\n",
              "    <tr>\n",
              "      <th>2</th>\n",
              "      <td>0.314660</td>\n",
              "      <td>0.225519</td>\n",
              "      <td>0.067434</td>\n",
              "      <td>0.012992</td>\n",
              "      <td>0.001</td>\n",
              "      <td>0.01</td>\n",
              "      <td>None</td>\n",
              "      <td>{'regr__alpha': 0.001, 'regr__gamma': 0.01, 's...</td>\n",
              "      <td>-0.135527</td>\n",
              "      <td>0.018342</td>\n",
              "      <td>0.949231</td>\n",
              "      <td>0.277349</td>\n",
              "      <td>0.479228</td>\n",
              "      <td>3</td>\n",
              "    </tr>\n",
              "    <tr>\n",
              "      <th>14</th>\n",
              "      <td>0.254097</td>\n",
              "      <td>0.161272</td>\n",
              "      <td>0.102836</td>\n",
              "      <td>0.026704</td>\n",
              "      <td>0.1</td>\n",
              "      <td>0.01</td>\n",
              "      <td>None</td>\n",
              "      <td>{'regr__alpha': 0.1, 'regr__gamma': 0.01, 'sca...</td>\n",
              "      <td>0.087712</td>\n",
              "      <td>0.090150</td>\n",
              "      <td>0.605152</td>\n",
              "      <td>0.261005</td>\n",
              "      <td>0.243351</td>\n",
              "      <td>4</td>\n",
              "    </tr>\n",
              "    <tr>\n",
              "      <th>18</th>\n",
              "      <td>0.406895</td>\n",
              "      <td>0.240996</td>\n",
              "      <td>0.096291</td>\n",
              "      <td>0.040739</td>\n",
              "      <td>1.0</td>\n",
              "      <td>0.001</td>\n",
              "      <td>None</td>\n",
              "      <td>{'regr__alpha': 1.0, 'regr__gamma': 0.001, 'sc...</td>\n",
              "      <td>-0.161897</td>\n",
              "      <td>0.134916</td>\n",
              "      <td>0.717848</td>\n",
              "      <td>0.230289</td>\n",
              "      <td>0.365431</td>\n",
              "      <td>5</td>\n",
              "    </tr>\n",
              "  </tbody>\n",
              "</table>\n",
              "</div>\n",
              "      <button class=\"colab-df-convert\" onclick=\"convertToInteractive('df-e09bd81d-a297-47e5-9438-f67687eb9d25')\"\n",
              "              title=\"Convert this dataframe to an interactive table.\"\n",
              "              style=\"display:none;\">\n",
              "        \n",
              "  <svg xmlns=\"http://www.w3.org/2000/svg\" height=\"24px\"viewBox=\"0 0 24 24\"\n",
              "       width=\"24px\">\n",
              "    <path d=\"M0 0h24v24H0V0z\" fill=\"none\"/>\n",
              "    <path d=\"M18.56 5.44l.94 2.06.94-2.06 2.06-.94-2.06-.94-.94-2.06-.94 2.06-2.06.94zm-11 1L8.5 8.5l.94-2.06 2.06-.94-2.06-.94L8.5 2.5l-.94 2.06-2.06.94zm10 10l.94 2.06.94-2.06 2.06-.94-2.06-.94-.94-2.06-.94 2.06-2.06.94z\"/><path d=\"M17.41 7.96l-1.37-1.37c-.4-.4-.92-.59-1.43-.59-.52 0-1.04.2-1.43.59L10.3 9.45l-7.72 7.72c-.78.78-.78 2.05 0 2.83L4 21.41c.39.39.9.59 1.41.59.51 0 1.02-.2 1.41-.59l7.78-7.78 2.81-2.81c.8-.78.8-2.07 0-2.86zM5.41 20L4 18.59l7.72-7.72 1.47 1.35L5.41 20z\"/>\n",
              "  </svg>\n",
              "      </button>\n",
              "      \n",
              "  <style>\n",
              "    .colab-df-container {\n",
              "      display:flex;\n",
              "      flex-wrap:wrap;\n",
              "      gap: 12px;\n",
              "    }\n",
              "\n",
              "    .colab-df-convert {\n",
              "      background-color: #E8F0FE;\n",
              "      border: none;\n",
              "      border-radius: 50%;\n",
              "      cursor: pointer;\n",
              "      display: none;\n",
              "      fill: #1967D2;\n",
              "      height: 32px;\n",
              "      padding: 0 0 0 0;\n",
              "      width: 32px;\n",
              "    }\n",
              "\n",
              "    .colab-df-convert:hover {\n",
              "      background-color: #E2EBFA;\n",
              "      box-shadow: 0px 1px 2px rgba(60, 64, 67, 0.3), 0px 1px 3px 1px rgba(60, 64, 67, 0.15);\n",
              "      fill: #174EA6;\n",
              "    }\n",
              "\n",
              "    [theme=dark] .colab-df-convert {\n",
              "      background-color: #3B4455;\n",
              "      fill: #D2E3FC;\n",
              "    }\n",
              "\n",
              "    [theme=dark] .colab-df-convert:hover {\n",
              "      background-color: #434B5C;\n",
              "      box-shadow: 0px 1px 3px 1px rgba(0, 0, 0, 0.15);\n",
              "      filter: drop-shadow(0px 1px 2px rgba(0, 0, 0, 0.3));\n",
              "      fill: #FFFFFF;\n",
              "    }\n",
              "  </style>\n",
              "\n",
              "      <script>\n",
              "        const buttonEl =\n",
              "          document.querySelector('#df-e09bd81d-a297-47e5-9438-f67687eb9d25 button.colab-df-convert');\n",
              "        buttonEl.style.display =\n",
              "          google.colab.kernel.accessAllowed ? 'block' : 'none';\n",
              "\n",
              "        async function convertToInteractive(key) {\n",
              "          const element = document.querySelector('#df-e09bd81d-a297-47e5-9438-f67687eb9d25');\n",
              "          const dataTable =\n",
              "            await google.colab.kernel.invokeFunction('convertToInteractive',\n",
              "                                                     [key], {});\n",
              "          if (!dataTable) return;\n",
              "\n",
              "          const docLinkHtml = 'Like what you see? Visit the ' +\n",
              "            '<a target=\"_blank\" href=https://colab.research.google.com/notebooks/data_table.ipynb>data table notebook</a>'\n",
              "            + ' to learn more about interactive tables.';\n",
              "          element.innerHTML = '';\n",
              "          dataTable['output_type'] = 'display_data';\n",
              "          await google.colab.output.renderOutput(dataTable, element);\n",
              "          const docLink = document.createElement('div');\n",
              "          docLink.innerHTML = docLinkHtml;\n",
              "          element.appendChild(docLink);\n",
              "        }\n",
              "      </script>\n",
              "    </div>\n",
              "  </div>\n",
              "  "
            ]
          },
          "metadata": {},
          "execution_count": 65
        }
      ],
      "source": [
        "cv_results.sort_values(\"mean_test_score\", ascending=False).head(5)"
      ]
    },
    {
      "cell_type": "markdown",
      "metadata": {
        "id": "P9d35T2nubAP"
      },
      "source": [
        "## Aggiunta di variabili predittive\n",
        "\n",
        "- I modelli addestrati sopra sono basati solamente su tre variabili, ovvero i valori di $\\Delta_d$ nei tre giorni precedenti a $d$\n",
        "- Non stiamo utilizzando altre informazioni, quali le variazioni dei valori da un giorno all'altro e i massimi/minimi giornalieri\n",
        "- Creiamo un nuovo insieme di variabili che tenga conto di queste altre informazioni"
      ]
    },
    {
      "cell_type": "code",
      "execution_count": null,
      "metadata": {
        "id": "zHN-pUsmubAP"
      },
      "outputs": [],
      "source": [
        "features = {}"
      ]
    },
    {
      "cell_type": "markdown",
      "metadata": {
        "id": "XSGJhDh3ubAP"
      },
      "source": [
        "- Inseriamo inizialmente le feature relative ai valori di $\\Delta_d$ nei giorni precedenti, come prima"
      ]
    },
    {
      "cell_type": "code",
      "execution_count": null,
      "metadata": {
        "id": "Myqrlzb6ubAP"
      },
      "outputs": [],
      "source": [
        "for n in range(1, 4):   # n da 1 a 3\n",
        "    features[\"DeltaLag{}\".format(n)] = delta.shift(n)"
      ]
    },
    {
      "cell_type": "markdown",
      "metadata": {
        "id": "Fawt_UYwubAQ"
      },
      "source": [
        "- Per cogliere le variazioni da un giorno all'altro, possiamo considerare le differenze tra valori di una stessa variabile tra giorni consecutivi\n",
        "- Consideriamo ad esempio il valore di apertura $O_d$\n",
        "- Possiamo usare come variabile la differenza $O_d-O_{d-1}$ di questo valore da quello del giorno precedente\n",
        "  - anche questa variabile, come $\\Delta_d$, è una differenza tra valori piuttosto che un valore assoluto: non viene influenzata dall'andamento di lungo periodo del mercato\n",
        "- Possiamo ottenere questa variabile dalla differenza tra la serie `open` e lo `shift` di se stessa"
      ]
    },
    {
      "cell_type": "code",
      "execution_count": null,
      "metadata": {
        "id": "B_LmRDZFubAQ"
      },
      "outputs": [],
      "source": [
        "open_diff = open - open.shift(1)"
      ]
    },
    {
      "cell_type": "markdown",
      "metadata": {
        "id": "ZKW5J5j2ubAQ"
      },
      "source": [
        "- Visualizziamo alcuni valori di tale variabile, affiancati a quelle da cui è ricavata"
      ]
    },
    {
      "cell_type": "code",
      "execution_count": null,
      "metadata": {
        "id": "HKAFM50eubAQ",
        "outputId": "2800d050-3e02-48d3-f152-a7887e54dfff",
        "colab": {
          "base_uri": "https://localhost:8080/",
          "height": 422
        }
      },
      "outputs": [
        {
          "output_type": "execute_result",
          "data": {
            "text/plain": [
              "                   Open     OpenLag1   OpenDiff\n",
              "Date                                           \n",
              "2001-01-02  1320.280029          NaN        NaN\n",
              "2001-01-03  1283.270020  1320.280029 -37.010010\n",
              "2001-01-04  1347.560059  1283.270020  64.290039\n",
              "2001-01-05  1333.339966  1347.560059 -14.220093\n",
              "2001-01-08  1298.349976  1333.339966 -34.989990"
            ],
            "text/html": [
              "\n",
              "  <div id=\"df-8dba14dd-3a46-467a-9200-33d10d260304\">\n",
              "    <div class=\"colab-df-container\">\n",
              "      <div>\n",
              "<style scoped>\n",
              "    .dataframe tbody tr th:only-of-type {\n",
              "        vertical-align: middle;\n",
              "    }\n",
              "\n",
              "    .dataframe tbody tr th {\n",
              "        vertical-align: top;\n",
              "    }\n",
              "\n",
              "    .dataframe thead th {\n",
              "        text-align: right;\n",
              "    }\n",
              "</style>\n",
              "<table border=\"1\" class=\"dataframe\">\n",
              "  <thead>\n",
              "    <tr style=\"text-align: right;\">\n",
              "      <th></th>\n",
              "      <th>Open</th>\n",
              "      <th>OpenLag1</th>\n",
              "      <th>OpenDiff</th>\n",
              "    </tr>\n",
              "    <tr>\n",
              "      <th>Date</th>\n",
              "      <th></th>\n",
              "      <th></th>\n",
              "      <th></th>\n",
              "    </tr>\n",
              "  </thead>\n",
              "  <tbody>\n",
              "    <tr>\n",
              "      <th>2001-01-02</th>\n",
              "      <td>1320.280029</td>\n",
              "      <td>NaN</td>\n",
              "      <td>NaN</td>\n",
              "    </tr>\n",
              "    <tr>\n",
              "      <th>2001-01-03</th>\n",
              "      <td>1283.270020</td>\n",
              "      <td>1320.280029</td>\n",
              "      <td>-37.010010</td>\n",
              "    </tr>\n",
              "    <tr>\n",
              "      <th>2001-01-04</th>\n",
              "      <td>1347.560059</td>\n",
              "      <td>1283.270020</td>\n",
              "      <td>64.290039</td>\n",
              "    </tr>\n",
              "    <tr>\n",
              "      <th>2001-01-05</th>\n",
              "      <td>1333.339966</td>\n",
              "      <td>1347.560059</td>\n",
              "      <td>-14.220093</td>\n",
              "    </tr>\n",
              "    <tr>\n",
              "      <th>2001-01-08</th>\n",
              "      <td>1298.349976</td>\n",
              "      <td>1333.339966</td>\n",
              "      <td>-34.989990</td>\n",
              "    </tr>\n",
              "  </tbody>\n",
              "</table>\n",
              "</div>\n",
              "      <button class=\"colab-df-convert\" onclick=\"convertToInteractive('df-8dba14dd-3a46-467a-9200-33d10d260304')\"\n",
              "              title=\"Convert this dataframe to an interactive table.\"\n",
              "              style=\"display:none;\">\n",
              "        \n",
              "  <svg xmlns=\"http://www.w3.org/2000/svg\" height=\"24px\"viewBox=\"0 0 24 24\"\n",
              "       width=\"24px\">\n",
              "    <path d=\"M0 0h24v24H0V0z\" fill=\"none\"/>\n",
              "    <path d=\"M18.56 5.44l.94 2.06.94-2.06 2.06-.94-2.06-.94-.94-2.06-.94 2.06-2.06.94zm-11 1L8.5 8.5l.94-2.06 2.06-.94-2.06-.94L8.5 2.5l-.94 2.06-2.06.94zm10 10l.94 2.06.94-2.06 2.06-.94-2.06-.94-.94-2.06-.94 2.06-2.06.94z\"/><path d=\"M17.41 7.96l-1.37-1.37c-.4-.4-.92-.59-1.43-.59-.52 0-1.04.2-1.43.59L10.3 9.45l-7.72 7.72c-.78.78-.78 2.05 0 2.83L4 21.41c.39.39.9.59 1.41.59.51 0 1.02-.2 1.41-.59l7.78-7.78 2.81-2.81c.8-.78.8-2.07 0-2.86zM5.41 20L4 18.59l7.72-7.72 1.47 1.35L5.41 20z\"/>\n",
              "  </svg>\n",
              "      </button>\n",
              "      \n",
              "  <style>\n",
              "    .colab-df-container {\n",
              "      display:flex;\n",
              "      flex-wrap:wrap;\n",
              "      gap: 12px;\n",
              "    }\n",
              "\n",
              "    .colab-df-convert {\n",
              "      background-color: #E8F0FE;\n",
              "      border: none;\n",
              "      border-radius: 50%;\n",
              "      cursor: pointer;\n",
              "      display: none;\n",
              "      fill: #1967D2;\n",
              "      height: 32px;\n",
              "      padding: 0 0 0 0;\n",
              "      width: 32px;\n",
              "    }\n",
              "\n",
              "    .colab-df-convert:hover {\n",
              "      background-color: #E2EBFA;\n",
              "      box-shadow: 0px 1px 2px rgba(60, 64, 67, 0.3), 0px 1px 3px 1px rgba(60, 64, 67, 0.15);\n",
              "      fill: #174EA6;\n",
              "    }\n",
              "\n",
              "    [theme=dark] .colab-df-convert {\n",
              "      background-color: #3B4455;\n",
              "      fill: #D2E3FC;\n",
              "    }\n",
              "\n",
              "    [theme=dark] .colab-df-convert:hover {\n",
              "      background-color: #434B5C;\n",
              "      box-shadow: 0px 1px 3px 1px rgba(0, 0, 0, 0.15);\n",
              "      filter: drop-shadow(0px 1px 2px rgba(0, 0, 0, 0.3));\n",
              "      fill: #FFFFFF;\n",
              "    }\n",
              "  </style>\n",
              "\n",
              "      <script>\n",
              "        const buttonEl =\n",
              "          document.querySelector('#df-8dba14dd-3a46-467a-9200-33d10d260304 button.colab-df-convert');\n",
              "        buttonEl.style.display =\n",
              "          google.colab.kernel.accessAllowed ? 'block' : 'none';\n",
              "\n",
              "        async function convertToInteractive(key) {\n",
              "          const element = document.querySelector('#df-8dba14dd-3a46-467a-9200-33d10d260304');\n",
              "          const dataTable =\n",
              "            await google.colab.kernel.invokeFunction('convertToInteractive',\n",
              "                                                     [key], {});\n",
              "          if (!dataTable) return;\n",
              "\n",
              "          const docLinkHtml = 'Like what you see? Visit the ' +\n",
              "            '<a target=\"_blank\" href=https://colab.research.google.com/notebooks/data_table.ipynb>data table notebook</a>'\n",
              "            + ' to learn more about interactive tables.';\n",
              "          element.innerHTML = '';\n",
              "          dataTable['output_type'] = 'display_data';\n",
              "          await google.colab.output.renderOutput(dataTable, element);\n",
              "          const docLink = document.createElement('div');\n",
              "          docLink.innerHTML = docLinkHtml;\n",
              "          element.appendChild(docLink);\n",
              "        }\n",
              "      </script>\n",
              "    </div>\n",
              "  </div>\n",
              "  "
            ]
          },
          "metadata": {},
          "execution_count": 69
        }
      ],
      "source": [
        "pd.DataFrame({\n",
        "    \"Open\": open,\n",
        "    \"OpenLag1\": open.shift(1),\n",
        "    \"OpenDiff\": open_diff\n",
        "}).head(5)"
      ]
    },
    {
      "cell_type": "markdown",
      "metadata": {
        "id": "GT5xjvTNubAR"
      },
      "source": [
        "- scikit-learn offre un metodo `diff(n)` per ottenere direttamente la differenza tra una serie e il suo `shift(n)`"
      ]
    },
    {
      "cell_type": "code",
      "execution_count": null,
      "metadata": {
        "id": "QyQZkPyuubAR",
        "outputId": "fa1a81f6-8656-4cb2-90de-852a27763425",
        "colab": {
          "base_uri": "https://localhost:8080/"
        }
      },
      "outputs": [
        {
          "output_type": "execute_result",
          "data": {
            "text/plain": [
              "Date\n",
              "2001-01-02          NaN\n",
              "2001-01-03   -37.010010\n",
              "2001-01-04    64.290039\n",
              "2001-01-05   -14.220093\n",
              "2001-01-08   -34.989990\n",
              "Name: Open, dtype: float64"
            ]
          },
          "metadata": {},
          "execution_count": 70
        }
      ],
      "source": [
        "open.diff()   .head()"
      ]
    },
    {
      "cell_type": "markdown",
      "metadata": {
        "id": "753nv2WWubAR"
      },
      "source": [
        "- Il metodo `equals` permette di verificare che una serie (o frame) sia identica ad un'altra"
      ]
    },
    {
      "cell_type": "code",
      "execution_count": null,
      "metadata": {
        "id": "A2eNkYTRubAR",
        "outputId": "812e313e-0296-466a-ab9e-e1573f640c7e",
        "colab": {
          "base_uri": "https://localhost:8080/"
        }
      },
      "outputs": [
        {
          "output_type": "execute_result",
          "data": {
            "text/plain": [
              "True"
            ]
          },
          "metadata": {},
          "execution_count": 71
        }
      ],
      "source": [
        "open.diff() .equals( open - open.shift(1) )"
      ]
    },
    {
      "cell_type": "markdown",
      "metadata": {
        "id": "hRrS_KOvubAS"
      },
      "source": [
        "- Aggiungiamo ad esempio alle feature le differenze da un giorno all'altro dei valori di `high` e `low`, ovvero i massimi e minimi di giornata\n",
        "  - tenere presente che ad ogni giornata $d$ non conosciamo subito $H_d$ e $L_d$, per cui utilizziamo invece $H_{d-1}$ e $L_{d-1}$\n",
        "  - ad es., per ottenere $H_{d-1}-H_{d-2}$, $H_{d-2}-H_{d-3}$ e $H_{d-3}-H_{d-4}$ prendiamo $H_{d}-H_{d-1}$ e applichiamo lo `shift` di 1, 2 e 3 giorni\n",
        "  - _evitiamo quì di usare le differenze $O_d$ e $C_{d-1}$, in quanto in questi dati sono molto correlate a $\\Delta_d$_"
      ]
    },
    {
      "cell_type": "code",
      "execution_count": null,
      "metadata": {
        "id": "dIlhggeQubAS"
      },
      "outputs": [],
      "source": [
        "for n in range(1, 4): # n da 1 a 3\n",
        "    features[\"HighDiff{}\".format(n)] = high.diff().shift(n)\n",
        "    features[\"LowDiff{}\".format(n)] = low.diff().shift(n)"
      ]
    },
    {
      "cell_type": "markdown",
      "metadata": {
        "id": "f8YTwpswubAS"
      },
      "source": [
        "- Usiamo la funzione `prepare_data` definita sopra per creare il dataset completo con le variabili scelte"
      ]
    },
    {
      "cell_type": "code",
      "execution_count": null,
      "metadata": {
        "id": "PzjALKPGubAS"
      },
      "outputs": [],
      "source": [
        "X, y = prepare_data(features, delta)"
      ]
    },
    {
      "cell_type": "markdown",
      "metadata": {
        "id": "eS0I6ScYubAT"
      },
      "source": [
        "- Possiamo visualizzare le prime righe del frame con le variabili generate"
      ]
    },
    {
      "cell_type": "code",
      "execution_count": null,
      "metadata": {
        "id": "W-jO1iIFubAT",
        "outputId": "5dd6e92e-3f5f-4730-c0b6-90c3fe37ac03",
        "colab": {
          "base_uri": "https://localhost:8080/",
          "height": 422
        }
      },
      "outputs": [
        {
          "output_type": "execute_result",
          "data": {
            "text/plain": [
              "            DeltaLag1  DeltaLag2  DeltaLag3  HighDiff1   LowDiff1  HighDiff2  \\\n",
              "Date                                                                           \n",
              "2001-01-08 -34.989990 -14.220093  64.290039 -15.469971 -34.190063   2.479980   \n",
              "2001-01-09  -2.489990 -34.989990 -14.220093 -36.420044 -18.659912 -15.469971   \n",
              "2001-01-10   4.940063  -2.489990 -34.989990  13.369995  18.849976 -36.420044   \n",
              "2001-01-11  12.469971   4.940063  -2.489990   2.040039  -7.859985  13.369995   \n",
              "2001-01-12  13.549927  12.469971   4.940063  18.429932  22.439941   2.040039   \n",
              "\n",
              "             LowDiff2  HighDiff3   LowDiff3  \n",
              "Date                                         \n",
              "2001-01-08  54.520020  27.479980  -1.430054  \n",
              "2001-01-09 -34.190063   2.479980  54.520020  \n",
              "2001-01-10 -18.659912 -15.469971 -34.190063  \n",
              "2001-01-11  18.849976 -36.420044 -18.659912  \n",
              "2001-01-12  -7.859985  13.369995  18.849976  "
            ],
            "text/html": [
              "\n",
              "  <div id=\"df-da5af9b7-b94b-4bb7-a91e-20aaf80dec66\">\n",
              "    <div class=\"colab-df-container\">\n",
              "      <div>\n",
              "<style scoped>\n",
              "    .dataframe tbody tr th:only-of-type {\n",
              "        vertical-align: middle;\n",
              "    }\n",
              "\n",
              "    .dataframe tbody tr th {\n",
              "        vertical-align: top;\n",
              "    }\n",
              "\n",
              "    .dataframe thead th {\n",
              "        text-align: right;\n",
              "    }\n",
              "</style>\n",
              "<table border=\"1\" class=\"dataframe\">\n",
              "  <thead>\n",
              "    <tr style=\"text-align: right;\">\n",
              "      <th></th>\n",
              "      <th>DeltaLag1</th>\n",
              "      <th>DeltaLag2</th>\n",
              "      <th>DeltaLag3</th>\n",
              "      <th>HighDiff1</th>\n",
              "      <th>LowDiff1</th>\n",
              "      <th>HighDiff2</th>\n",
              "      <th>LowDiff2</th>\n",
              "      <th>HighDiff3</th>\n",
              "      <th>LowDiff3</th>\n",
              "    </tr>\n",
              "    <tr>\n",
              "      <th>Date</th>\n",
              "      <th></th>\n",
              "      <th></th>\n",
              "      <th></th>\n",
              "      <th></th>\n",
              "      <th></th>\n",
              "      <th></th>\n",
              "      <th></th>\n",
              "      <th></th>\n",
              "      <th></th>\n",
              "    </tr>\n",
              "  </thead>\n",
              "  <tbody>\n",
              "    <tr>\n",
              "      <th>2001-01-08</th>\n",
              "      <td>-34.989990</td>\n",
              "      <td>-14.220093</td>\n",
              "      <td>64.290039</td>\n",
              "      <td>-15.469971</td>\n",
              "      <td>-34.190063</td>\n",
              "      <td>2.479980</td>\n",
              "      <td>54.520020</td>\n",
              "      <td>27.479980</td>\n",
              "      <td>-1.430054</td>\n",
              "    </tr>\n",
              "    <tr>\n",
              "      <th>2001-01-09</th>\n",
              "      <td>-2.489990</td>\n",
              "      <td>-34.989990</td>\n",
              "      <td>-14.220093</td>\n",
              "      <td>-36.420044</td>\n",
              "      <td>-18.659912</td>\n",
              "      <td>-15.469971</td>\n",
              "      <td>-34.190063</td>\n",
              "      <td>2.479980</td>\n",
              "      <td>54.520020</td>\n",
              "    </tr>\n",
              "    <tr>\n",
              "      <th>2001-01-10</th>\n",
              "      <td>4.940063</td>\n",
              "      <td>-2.489990</td>\n",
              "      <td>-34.989990</td>\n",
              "      <td>13.369995</td>\n",
              "      <td>18.849976</td>\n",
              "      <td>-36.420044</td>\n",
              "      <td>-18.659912</td>\n",
              "      <td>-15.469971</td>\n",
              "      <td>-34.190063</td>\n",
              "    </tr>\n",
              "    <tr>\n",
              "      <th>2001-01-11</th>\n",
              "      <td>12.469971</td>\n",
              "      <td>4.940063</td>\n",
              "      <td>-2.489990</td>\n",
              "      <td>2.040039</td>\n",
              "      <td>-7.859985</td>\n",
              "      <td>13.369995</td>\n",
              "      <td>18.849976</td>\n",
              "      <td>-36.420044</td>\n",
              "      <td>-18.659912</td>\n",
              "    </tr>\n",
              "    <tr>\n",
              "      <th>2001-01-12</th>\n",
              "      <td>13.549927</td>\n",
              "      <td>12.469971</td>\n",
              "      <td>4.940063</td>\n",
              "      <td>18.429932</td>\n",
              "      <td>22.439941</td>\n",
              "      <td>2.040039</td>\n",
              "      <td>-7.859985</td>\n",
              "      <td>13.369995</td>\n",
              "      <td>18.849976</td>\n",
              "    </tr>\n",
              "  </tbody>\n",
              "</table>\n",
              "</div>\n",
              "      <button class=\"colab-df-convert\" onclick=\"convertToInteractive('df-da5af9b7-b94b-4bb7-a91e-20aaf80dec66')\"\n",
              "              title=\"Convert this dataframe to an interactive table.\"\n",
              "              style=\"display:none;\">\n",
              "        \n",
              "  <svg xmlns=\"http://www.w3.org/2000/svg\" height=\"24px\"viewBox=\"0 0 24 24\"\n",
              "       width=\"24px\">\n",
              "    <path d=\"M0 0h24v24H0V0z\" fill=\"none\"/>\n",
              "    <path d=\"M18.56 5.44l.94 2.06.94-2.06 2.06-.94-2.06-.94-.94-2.06-.94 2.06-2.06.94zm-11 1L8.5 8.5l.94-2.06 2.06-.94-2.06-.94L8.5 2.5l-.94 2.06-2.06.94zm10 10l.94 2.06.94-2.06 2.06-.94-2.06-.94-.94-2.06-.94 2.06-2.06.94z\"/><path d=\"M17.41 7.96l-1.37-1.37c-.4-.4-.92-.59-1.43-.59-.52 0-1.04.2-1.43.59L10.3 9.45l-7.72 7.72c-.78.78-.78 2.05 0 2.83L4 21.41c.39.39.9.59 1.41.59.51 0 1.02-.2 1.41-.59l7.78-7.78 2.81-2.81c.8-.78.8-2.07 0-2.86zM5.41 20L4 18.59l7.72-7.72 1.47 1.35L5.41 20z\"/>\n",
              "  </svg>\n",
              "      </button>\n",
              "      \n",
              "  <style>\n",
              "    .colab-df-container {\n",
              "      display:flex;\n",
              "      flex-wrap:wrap;\n",
              "      gap: 12px;\n",
              "    }\n",
              "\n",
              "    .colab-df-convert {\n",
              "      background-color: #E8F0FE;\n",
              "      border: none;\n",
              "      border-radius: 50%;\n",
              "      cursor: pointer;\n",
              "      display: none;\n",
              "      fill: #1967D2;\n",
              "      height: 32px;\n",
              "      padding: 0 0 0 0;\n",
              "      width: 32px;\n",
              "    }\n",
              "\n",
              "    .colab-df-convert:hover {\n",
              "      background-color: #E2EBFA;\n",
              "      box-shadow: 0px 1px 2px rgba(60, 64, 67, 0.3), 0px 1px 3px 1px rgba(60, 64, 67, 0.15);\n",
              "      fill: #174EA6;\n",
              "    }\n",
              "\n",
              "    [theme=dark] .colab-df-convert {\n",
              "      background-color: #3B4455;\n",
              "      fill: #D2E3FC;\n",
              "    }\n",
              "\n",
              "    [theme=dark] .colab-df-convert:hover {\n",
              "      background-color: #434B5C;\n",
              "      box-shadow: 0px 1px 3px 1px rgba(0, 0, 0, 0.15);\n",
              "      filter: drop-shadow(0px 1px 2px rgba(0, 0, 0, 0.3));\n",
              "      fill: #FFFFFF;\n",
              "    }\n",
              "  </style>\n",
              "\n",
              "      <script>\n",
              "        const buttonEl =\n",
              "          document.querySelector('#df-da5af9b7-b94b-4bb7-a91e-20aaf80dec66 button.colab-df-convert');\n",
              "        buttonEl.style.display =\n",
              "          google.colab.kernel.accessAllowed ? 'block' : 'none';\n",
              "\n",
              "        async function convertToInteractive(key) {\n",
              "          const element = document.querySelector('#df-da5af9b7-b94b-4bb7-a91e-20aaf80dec66');\n",
              "          const dataTable =\n",
              "            await google.colab.kernel.invokeFunction('convertToInteractive',\n",
              "                                                     [key], {});\n",
              "          if (!dataTable) return;\n",
              "\n",
              "          const docLinkHtml = 'Like what you see? Visit the ' +\n",
              "            '<a target=\"_blank\" href=https://colab.research.google.com/notebooks/data_table.ipynb>data table notebook</a>'\n",
              "            + ' to learn more about interactive tables.';\n",
              "          element.innerHTML = '';\n",
              "          dataTable['output_type'] = 'display_data';\n",
              "          await google.colab.output.renderOutput(dataTable, element);\n",
              "          const docLink = document.createElement('div');\n",
              "          docLink.innerHTML = docLinkHtml;\n",
              "          element.appendChild(docLink);\n",
              "        }\n",
              "      </script>\n",
              "    </div>\n",
              "  </div>\n",
              "  "
            ]
          },
          "metadata": {},
          "execution_count": 74
        }
      ],
      "source": [
        "X.head(5)"
      ]
    },
    {
      "cell_type": "markdown",
      "metadata": {
        "id": "aGfmm8pLubAT"
      },
      "source": [
        "### Esercizio 8: Test modelli con nuove feature\n",
        "\n",
        "- **(8a)** Addestrare sui nuovi dati un modello di regressione lasso con $\\alpha=3$ e verificare quali feature non vengono escluse\n",
        "- **(8b)** Eseguire la cross validation di un modello di regressione lineare semplice, con gli stessi criteri di suddivisione dati e valutazione usati sopra\n",
        "- **(8c)** Eseguire la grid search degli iperparametri di un modello kernel ridge, usando le stesse specifiche dell'esercizio 7"
      ]
    },
    {
      "cell_type": "code",
      "execution_count": null,
      "metadata": {
        "id": "yPSWBcd4ubAT",
        "outputId": "f513840b-5e1f-4a4a-d6fb-d881bcf29ee2",
        "colab": {
          "base_uri": "https://localhost:8080/"
        }
      },
      "outputs": [
        {
          "output_type": "execute_result",
          "data": {
            "text/plain": [
              "DeltaLag1   -0.051997\n",
              "DeltaLag2   -0.039001\n",
              "DeltaLag3    0.043048\n",
              "HighDiff1    0.000000\n",
              "LowDiff1    -0.051650\n",
              "HighDiff2   -0.007102\n",
              "LowDiff2    -0.000000\n",
              "HighDiff3    0.000000\n",
              "LowDiff3    -0.028046\n",
              "dtype: float64"
            ]
          },
          "metadata": {},
          "execution_count": 75
        }
      ],
      "source": [
        "# 8a\n",
        "from sklearn.linear_model import Lasso\n",
        "model = Lasso(alpha=3)\n",
        "model.fit(X, y)\n",
        "pd.Series(model.coef_, X.columns)"
      ]
    },
    {
      "cell_type": "code",
      "execution_count": null,
      "metadata": {
        "id": "0L9DpxpQubAU",
        "outputId": "64c9341b-183c-4c0c-8e07-0bef99a37412",
        "colab": {
          "base_uri": "https://localhost:8080/"
        }
      },
      "outputs": [
        {
          "output_type": "execute_result",
          "data": {
            "text/plain": [
              "{'fit_time': array([0.02398181, 0.01416063, 0.01121616]),\n",
              " 'score_time': array([0.00922918, 0.00973558, 0.00904369]),\n",
              " 'test_score': array([ 0.04231903, -0.10271079,  0.60356483])}"
            ]
          },
          "metadata": {},
          "execution_count": 76
        }
      ],
      "source": [
        "# 8b\n",
        "cross_validate(LinearRegression(), X, y, cv=tss, scoring=roi_scorer)"
      ]
    },
    {
      "cell_type": "code",
      "execution_count": null,
      "metadata": {
        "id": "F4SXy6LcubAU"
      },
      "outputs": [],
      "source": [
        "# 8c\n",
        "model = Pipeline([\n",
        "    (\"scale\", None),\n",
        "    (\"regr\", KernelRidge(kernel=\"rbf\"))\n",
        "])\n",
        "grid = {\n",
        "    \"scale\": [None, StandardScaler()],\n",
        "    \"regr__gamma\": [0.001, 0.01, 0.1],\n",
        "    \"regr__alpha\": np.logspace(-3, 2, 6)\n",
        "}\n",
        "gs = GridSearchCV(model, grid, cv=tss, scoring=roi_scorer)\n",
        "gs.fit(X, y)\n",
        "cv_results = pd.DataFrame(gs.cv_results_)"
      ]
    },
    {
      "cell_type": "code",
      "execution_count": null,
      "metadata": {
        "id": "2PhkOeWVubAU",
        "outputId": "511db72c-765e-43fb-d5c0-124be82007fb",
        "colab": {
          "base_uri": "https://localhost:8080/",
          "height": 577
        }
      },
      "outputs": [
        {
          "output_type": "execute_result",
          "data": {
            "text/plain": [
              "    mean_fit_time  std_fit_time  mean_score_time  std_score_time  \\\n",
              "15       0.223636      0.103572         0.058827        0.017237   \n",
              "14       0.186219      0.106546         0.080380        0.026122   \n",
              "7        0.181663      0.136723         0.060429        0.009902   \n",
              "21       0.110571      0.078005         0.024001        0.007950   \n",
              "28       0.130662      0.073880         0.024644        0.008422   \n",
              "\n",
              "   param_regr__alpha param_regr__gamma       param_scale  \\\n",
              "15               0.1              0.01  StandardScaler()   \n",
              "14               0.1              0.01              None   \n",
              "7               0.01             0.001  StandardScaler()   \n",
              "21               1.0              0.01  StandardScaler()   \n",
              "28              10.0               0.1              None   \n",
              "\n",
              "                                               params  split0_test_score  \\\n",
              "15  {'regr__alpha': 0.1, 'regr__gamma': 0.01, 'sca...           0.089293   \n",
              "14  {'regr__alpha': 0.1, 'regr__gamma': 0.01, 'sca...           0.135564   \n",
              "7   {'regr__alpha': 0.01, 'regr__gamma': 0.001, 's...           0.098224   \n",
              "21  {'regr__alpha': 1.0, 'regr__gamma': 0.01, 'sca...           0.092093   \n",
              "28  {'regr__alpha': 10.0, 'regr__gamma': 0.1, 'sca...           0.067815   \n",
              "\n",
              "    split1_test_score  split2_test_score  mean_test_score  std_test_score  \\\n",
              "15           0.002383           0.787928         0.293201        0.351619   \n",
              "14           0.206851           0.490796         0.277737        0.153440   \n",
              "7           -0.064361           0.679617         0.237827        0.319367   \n",
              "21           0.067109           0.544988         0.234730        0.219622   \n",
              "28           0.139187           0.496590         0.234531        0.187581   \n",
              "\n",
              "    rank_test_score  \n",
              "15                1  \n",
              "14                2  \n",
              "7                 3  \n",
              "21                4  \n",
              "28                5  "
            ],
            "text/html": [
              "\n",
              "  <div id=\"df-f30e0bba-9b64-4a2c-adf3-8e6bfc0411f3\">\n",
              "    <div class=\"colab-df-container\">\n",
              "      <div>\n",
              "<style scoped>\n",
              "    .dataframe tbody tr th:only-of-type {\n",
              "        vertical-align: middle;\n",
              "    }\n",
              "\n",
              "    .dataframe tbody tr th {\n",
              "        vertical-align: top;\n",
              "    }\n",
              "\n",
              "    .dataframe thead th {\n",
              "        text-align: right;\n",
              "    }\n",
              "</style>\n",
              "<table border=\"1\" class=\"dataframe\">\n",
              "  <thead>\n",
              "    <tr style=\"text-align: right;\">\n",
              "      <th></th>\n",
              "      <th>mean_fit_time</th>\n",
              "      <th>std_fit_time</th>\n",
              "      <th>mean_score_time</th>\n",
              "      <th>std_score_time</th>\n",
              "      <th>param_regr__alpha</th>\n",
              "      <th>param_regr__gamma</th>\n",
              "      <th>param_scale</th>\n",
              "      <th>params</th>\n",
              "      <th>split0_test_score</th>\n",
              "      <th>split1_test_score</th>\n",
              "      <th>split2_test_score</th>\n",
              "      <th>mean_test_score</th>\n",
              "      <th>std_test_score</th>\n",
              "      <th>rank_test_score</th>\n",
              "    </tr>\n",
              "  </thead>\n",
              "  <tbody>\n",
              "    <tr>\n",
              "      <th>15</th>\n",
              "      <td>0.223636</td>\n",
              "      <td>0.103572</td>\n",
              "      <td>0.058827</td>\n",
              "      <td>0.017237</td>\n",
              "      <td>0.1</td>\n",
              "      <td>0.01</td>\n",
              "      <td>StandardScaler()</td>\n",
              "      <td>{'regr__alpha': 0.1, 'regr__gamma': 0.01, 'sca...</td>\n",
              "      <td>0.089293</td>\n",
              "      <td>0.002383</td>\n",
              "      <td>0.787928</td>\n",
              "      <td>0.293201</td>\n",
              "      <td>0.351619</td>\n",
              "      <td>1</td>\n",
              "    </tr>\n",
              "    <tr>\n",
              "      <th>14</th>\n",
              "      <td>0.186219</td>\n",
              "      <td>0.106546</td>\n",
              "      <td>0.080380</td>\n",
              "      <td>0.026122</td>\n",
              "      <td>0.1</td>\n",
              "      <td>0.01</td>\n",
              "      <td>None</td>\n",
              "      <td>{'regr__alpha': 0.1, 'regr__gamma': 0.01, 'sca...</td>\n",
              "      <td>0.135564</td>\n",
              "      <td>0.206851</td>\n",
              "      <td>0.490796</td>\n",
              "      <td>0.277737</td>\n",
              "      <td>0.153440</td>\n",
              "      <td>2</td>\n",
              "    </tr>\n",
              "    <tr>\n",
              "      <th>7</th>\n",
              "      <td>0.181663</td>\n",
              "      <td>0.136723</td>\n",
              "      <td>0.060429</td>\n",
              "      <td>0.009902</td>\n",
              "      <td>0.01</td>\n",
              "      <td>0.001</td>\n",
              "      <td>StandardScaler()</td>\n",
              "      <td>{'regr__alpha': 0.01, 'regr__gamma': 0.001, 's...</td>\n",
              "      <td>0.098224</td>\n",
              "      <td>-0.064361</td>\n",
              "      <td>0.679617</td>\n",
              "      <td>0.237827</td>\n",
              "      <td>0.319367</td>\n",
              "      <td>3</td>\n",
              "    </tr>\n",
              "    <tr>\n",
              "      <th>21</th>\n",
              "      <td>0.110571</td>\n",
              "      <td>0.078005</td>\n",
              "      <td>0.024001</td>\n",
              "      <td>0.007950</td>\n",
              "      <td>1.0</td>\n",
              "      <td>0.01</td>\n",
              "      <td>StandardScaler()</td>\n",
              "      <td>{'regr__alpha': 1.0, 'regr__gamma': 0.01, 'sca...</td>\n",
              "      <td>0.092093</td>\n",
              "      <td>0.067109</td>\n",
              "      <td>0.544988</td>\n",
              "      <td>0.234730</td>\n",
              "      <td>0.219622</td>\n",
              "      <td>4</td>\n",
              "    </tr>\n",
              "    <tr>\n",
              "      <th>28</th>\n",
              "      <td>0.130662</td>\n",
              "      <td>0.073880</td>\n",
              "      <td>0.024644</td>\n",
              "      <td>0.008422</td>\n",
              "      <td>10.0</td>\n",
              "      <td>0.1</td>\n",
              "      <td>None</td>\n",
              "      <td>{'regr__alpha': 10.0, 'regr__gamma': 0.1, 'sca...</td>\n",
              "      <td>0.067815</td>\n",
              "      <td>0.139187</td>\n",
              "      <td>0.496590</td>\n",
              "      <td>0.234531</td>\n",
              "      <td>0.187581</td>\n",
              "      <td>5</td>\n",
              "    </tr>\n",
              "  </tbody>\n",
              "</table>\n",
              "</div>\n",
              "      <button class=\"colab-df-convert\" onclick=\"convertToInteractive('df-f30e0bba-9b64-4a2c-adf3-8e6bfc0411f3')\"\n",
              "              title=\"Convert this dataframe to an interactive table.\"\n",
              "              style=\"display:none;\">\n",
              "        \n",
              "  <svg xmlns=\"http://www.w3.org/2000/svg\" height=\"24px\"viewBox=\"0 0 24 24\"\n",
              "       width=\"24px\">\n",
              "    <path d=\"M0 0h24v24H0V0z\" fill=\"none\"/>\n",
              "    <path d=\"M18.56 5.44l.94 2.06.94-2.06 2.06-.94-2.06-.94-.94-2.06-.94 2.06-2.06.94zm-11 1L8.5 8.5l.94-2.06 2.06-.94-2.06-.94L8.5 2.5l-.94 2.06-2.06.94zm10 10l.94 2.06.94-2.06 2.06-.94-2.06-.94-.94-2.06-.94 2.06-2.06.94z\"/><path d=\"M17.41 7.96l-1.37-1.37c-.4-.4-.92-.59-1.43-.59-.52 0-1.04.2-1.43.59L10.3 9.45l-7.72 7.72c-.78.78-.78 2.05 0 2.83L4 21.41c.39.39.9.59 1.41.59.51 0 1.02-.2 1.41-.59l7.78-7.78 2.81-2.81c.8-.78.8-2.07 0-2.86zM5.41 20L4 18.59l7.72-7.72 1.47 1.35L5.41 20z\"/>\n",
              "  </svg>\n",
              "      </button>\n",
              "      \n",
              "  <style>\n",
              "    .colab-df-container {\n",
              "      display:flex;\n",
              "      flex-wrap:wrap;\n",
              "      gap: 12px;\n",
              "    }\n",
              "\n",
              "    .colab-df-convert {\n",
              "      background-color: #E8F0FE;\n",
              "      border: none;\n",
              "      border-radius: 50%;\n",
              "      cursor: pointer;\n",
              "      display: none;\n",
              "      fill: #1967D2;\n",
              "      height: 32px;\n",
              "      padding: 0 0 0 0;\n",
              "      width: 32px;\n",
              "    }\n",
              "\n",
              "    .colab-df-convert:hover {\n",
              "      background-color: #E2EBFA;\n",
              "      box-shadow: 0px 1px 2px rgba(60, 64, 67, 0.3), 0px 1px 3px 1px rgba(60, 64, 67, 0.15);\n",
              "      fill: #174EA6;\n",
              "    }\n",
              "\n",
              "    [theme=dark] .colab-df-convert {\n",
              "      background-color: #3B4455;\n",
              "      fill: #D2E3FC;\n",
              "    }\n",
              "\n",
              "    [theme=dark] .colab-df-convert:hover {\n",
              "      background-color: #434B5C;\n",
              "      box-shadow: 0px 1px 3px 1px rgba(0, 0, 0, 0.15);\n",
              "      filter: drop-shadow(0px 1px 2px rgba(0, 0, 0, 0.3));\n",
              "      fill: #FFFFFF;\n",
              "    }\n",
              "  </style>\n",
              "\n",
              "      <script>\n",
              "        const buttonEl =\n",
              "          document.querySelector('#df-f30e0bba-9b64-4a2c-adf3-8e6bfc0411f3 button.colab-df-convert');\n",
              "        buttonEl.style.display =\n",
              "          google.colab.kernel.accessAllowed ? 'block' : 'none';\n",
              "\n",
              "        async function convertToInteractive(key) {\n",
              "          const element = document.querySelector('#df-f30e0bba-9b64-4a2c-adf3-8e6bfc0411f3');\n",
              "          const dataTable =\n",
              "            await google.colab.kernel.invokeFunction('convertToInteractive',\n",
              "                                                     [key], {});\n",
              "          if (!dataTable) return;\n",
              "\n",
              "          const docLinkHtml = 'Like what you see? Visit the ' +\n",
              "            '<a target=\"_blank\" href=https://colab.research.google.com/notebooks/data_table.ipynb>data table notebook</a>'\n",
              "            + ' to learn more about interactive tables.';\n",
              "          element.innerHTML = '';\n",
              "          dataTable['output_type'] = 'display_data';\n",
              "          await google.colab.output.renderOutput(dataTable, element);\n",
              "          const docLink = document.createElement('div');\n",
              "          docLink.innerHTML = docLinkHtml;\n",
              "          element.appendChild(docLink);\n",
              "        }\n",
              "      </script>\n",
              "    </div>\n",
              "  </div>\n",
              "  "
            ]
          },
          "metadata": {},
          "execution_count": 78
        }
      ],
      "source": [
        "cv_results.sort_values(\"mean_test_score\", ascending=False).head(5)"
      ]
    },
    {
      "cell_type": "markdown",
      "metadata": {
        "id": "a4hXGpEtubAU"
      },
      "source": [
        "## Esercizi avanzati suggeriti\n",
        "\n",
        "- Testare modelli con l'aggiunta di nuove feature non considerate quì, ad es. le differenze tra valori massimi e minimi nei giorni precedenti\n",
        "- Cambiare il protocollo di trading in modo che venga svolta un'operazione di acquisto/vendita solo se il valore assoluto di $\\hat{\\Delta}_d$ supera una determinata soglia (per cui c'è più certezza di un rialzo/ribasso) e verificare come varia il ROI al variare di tale soglia\n",
        "- Eseguire test su periodi differenti e/o con titoli/indici differenti"
      ]
    }
  ],
  "metadata": {
    "language_info": {
      "name": "python"
    },
    "colab": {
      "name": "Copia di Predizione_Indice_Borsa.sol.ipynb",
      "provenance": [],
      "collapsed_sections": [
        "5TgGNJXUua_z",
        "t7QEq-Ppua_0",
        "gFgjs2bMua_4",
        "bSSToOXZua_4",
        "oJYLKqhIua_6",
        "lCF4T7-Tua_6",
        "769FjYJRua_7",
        "-VdC6wRaua_7",
        "GkBteYQAubAJ",
        "PNYwgb72ubAK",
        "H2FQVDJyubAL",
        "YSPOrowZubAN",
        "dViNQRWvubAP",
        "P9d35T2nubAP",
        "aGfmm8pLubAT",
        "a4hXGpEtubAU"
      ]
    },
    "kernelspec": {
      "name": "python3",
      "display_name": "Python 3"
    }
  },
  "nbformat": 4,
  "nbformat_minor": 0
}