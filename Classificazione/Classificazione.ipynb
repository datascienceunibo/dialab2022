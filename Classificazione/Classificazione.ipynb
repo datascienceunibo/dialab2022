{
 "cells": [
  {
   "cell_type": "markdown",
   "metadata": {
    "slideshow": {
     "slide_type": "slide"
    }
   },
   "source": [
    "# Laboratorio: Classificazione\n",
    "\n",
    "**Programmazione di Applicazioni Data Intensive**  \n",
    "Laurea in Ingegneria e Scienze Informatiche  \n",
    "DISI - Università di Bologna, Cesena\n",
    "\n",
    "Proff. Gianluca Moro, Roberto Pasolini  \n",
    "nome.cognome@unibo.it"
   ]
  },
  {
   "cell_type": "code",
   "execution_count": 1,
   "metadata": {},
   "outputs": [],
   "source": [
    "# setup e test librerie\n",
    "%matplotlib inline\n",
    "import numpy as np\n",
    "import pandas as pd\n",
    "import matplotlib.pyplot as plt\n",
    "import sklearn"
   ]
  },
  {
   "cell_type": "markdown",
   "metadata": {
    "slideshow": {
     "slide_type": "slide"
    }
   },
   "source": [
    "## Classificazione\n",
    "\n",
    "- Nei problemi visti finora di _regressione_, l'obiettivo è prevedere il valore di una variabile _continua_\n",
    "  - una quantità di energia consumata, il prezzo di una casa, ...\n",
    "- Nei problemi di **_classificazione_** l'obiettivo generale è invece, per ogni osservazione, **distinguere uno di due o più casi (_classi_) possibili**\n",
    "- Come per la regressione, un modello di classificazione va addestrato su esempi già correttamente classificati"
   ]
  },
  {
   "cell_type": "markdown",
   "metadata": {
    "slideshow": {
     "slide_type": "slide"
    }
   },
   "source": [
    "## Caso di studio: Diagnostica per immagini\n",
    "\n",
    "- Data un'immagine di cellule tumorali estratte da un paziente, si vogliono classificare queste come benigne o maligne\n",
    "- Da ciascuna cellula possono essere estratte delle caratteristiche\n",
    "  - dimensione, concavità, consistenza, ...\n",
    "- Dall'immagine intera possiamo estrarre statistiche su ciascuna di queste caratteristiche\n",
    "- Vogliamo addestrare un modello a classificare ciascuna immagine sulla base di queste caratteristiche"
   ]
  },
  {
   "cell_type": "markdown",
   "metadata": {},
   "source": [
    "_Immagini da cui sono estratte le righe 92751 e 927241 del dataset_\n",
    "\n",
    "![immagine cellule](http://web.archive.org/web/19970511062136/http://www.cs.wisc.edu/~street/images/92_751.gif)\n",
    "![immagine cellule](http://web.archive.org/web/19970511062136/http://www.cs.wisc.edu/~street/images/92_7241.gif)"
   ]
  },
  {
   "cell_type": "markdown",
   "metadata": {
    "slideshow": {
     "slide_type": "slide"
    }
   },
   "source": [
    "- Utilizziamo il [Breast Cancer Wisconsin (Diagnostic) Data Set](https://archive.ics.uci.edu/ml/datasets/Breast+Cancer+Wisconsin+%28Diagnostic%29), in cui ogni osservazione contiene le caratteristiche estratte da un'immagine\n",
    "- Con `read_csv` possiamo importare il dataset direttamente in un frame pandas dato il suo URL\n",
    "  - con `header=None` specifichiamo l'assenza di una riga header\n",
    "  - la prima colonna contiene un ID univoco per osservazione, la impostiamo come indice"
   ]
  },
  {
   "cell_type": "code",
   "execution_count": 2,
   "metadata": {},
   "outputs": [],
   "source": [
    "BCWDS_URL = \"https://archive.ics.uci.edu/ml/machine-learning-databases/breast-cancer-wisconsin/wdbc.data\"\n",
    "bcwds = pd.read_csv(BCWDS_URL, header=None, index_col=0)"
   ]
  },
  {
   "cell_type": "code",
   "execution_count": 3,
   "metadata": {},
   "outputs": [
    {
     "data": {
      "text/html": [
       "<div>\n",
       "<style scoped>\n",
       "    .dataframe tbody tr th:only-of-type {\n",
       "        vertical-align: middle;\n",
       "    }\n",
       "\n",
       "    .dataframe tbody tr th {\n",
       "        vertical-align: top;\n",
       "    }\n",
       "\n",
       "    .dataframe thead th {\n",
       "        text-align: right;\n",
       "    }\n",
       "</style>\n",
       "<table border=\"1\" class=\"dataframe\">\n",
       "  <thead>\n",
       "    <tr style=\"text-align: right;\">\n",
       "      <th></th>\n",
       "      <th>1</th>\n",
       "      <th>2</th>\n",
       "      <th>3</th>\n",
       "      <th>4</th>\n",
       "      <th>5</th>\n",
       "      <th>6</th>\n",
       "      <th>7</th>\n",
       "      <th>8</th>\n",
       "      <th>9</th>\n",
       "      <th>10</th>\n",
       "      <th>...</th>\n",
       "      <th>22</th>\n",
       "      <th>23</th>\n",
       "      <th>24</th>\n",
       "      <th>25</th>\n",
       "      <th>26</th>\n",
       "      <th>27</th>\n",
       "      <th>28</th>\n",
       "      <th>29</th>\n",
       "      <th>30</th>\n",
       "      <th>31</th>\n",
       "    </tr>\n",
       "    <tr>\n",
       "      <th>0</th>\n",
       "      <th></th>\n",
       "      <th></th>\n",
       "      <th></th>\n",
       "      <th></th>\n",
       "      <th></th>\n",
       "      <th></th>\n",
       "      <th></th>\n",
       "      <th></th>\n",
       "      <th></th>\n",
       "      <th></th>\n",
       "      <th></th>\n",
       "      <th></th>\n",
       "      <th></th>\n",
       "      <th></th>\n",
       "      <th></th>\n",
       "      <th></th>\n",
       "      <th></th>\n",
       "      <th></th>\n",
       "      <th></th>\n",
       "      <th></th>\n",
       "      <th></th>\n",
       "    </tr>\n",
       "  </thead>\n",
       "  <tbody>\n",
       "    <tr>\n",
       "      <th>842302</th>\n",
       "      <td>M</td>\n",
       "      <td>17.99</td>\n",
       "      <td>10.38</td>\n",
       "      <td>122.8</td>\n",
       "      <td>1001.0</td>\n",
       "      <td>0.11840</td>\n",
       "      <td>0.27760</td>\n",
       "      <td>0.3001</td>\n",
       "      <td>0.14710</td>\n",
       "      <td>0.2419</td>\n",
       "      <td>...</td>\n",
       "      <td>25.38</td>\n",
       "      <td>17.33</td>\n",
       "      <td>184.6</td>\n",
       "      <td>2019.0</td>\n",
       "      <td>0.1622</td>\n",
       "      <td>0.6656</td>\n",
       "      <td>0.7119</td>\n",
       "      <td>0.2654</td>\n",
       "      <td>0.4601</td>\n",
       "      <td>0.11890</td>\n",
       "    </tr>\n",
       "    <tr>\n",
       "      <th>842517</th>\n",
       "      <td>M</td>\n",
       "      <td>20.57</td>\n",
       "      <td>17.77</td>\n",
       "      <td>132.9</td>\n",
       "      <td>1326.0</td>\n",
       "      <td>0.08474</td>\n",
       "      <td>0.07864</td>\n",
       "      <td>0.0869</td>\n",
       "      <td>0.07017</td>\n",
       "      <td>0.1812</td>\n",
       "      <td>...</td>\n",
       "      <td>24.99</td>\n",
       "      <td>23.41</td>\n",
       "      <td>158.8</td>\n",
       "      <td>1956.0</td>\n",
       "      <td>0.1238</td>\n",
       "      <td>0.1866</td>\n",
       "      <td>0.2416</td>\n",
       "      <td>0.1860</td>\n",
       "      <td>0.2750</td>\n",
       "      <td>0.08902</td>\n",
       "    </tr>\n",
       "    <tr>\n",
       "      <th>84300903</th>\n",
       "      <td>M</td>\n",
       "      <td>19.69</td>\n",
       "      <td>21.25</td>\n",
       "      <td>130.0</td>\n",
       "      <td>1203.0</td>\n",
       "      <td>0.10960</td>\n",
       "      <td>0.15990</td>\n",
       "      <td>0.1974</td>\n",
       "      <td>0.12790</td>\n",
       "      <td>0.2069</td>\n",
       "      <td>...</td>\n",
       "      <td>23.57</td>\n",
       "      <td>25.53</td>\n",
       "      <td>152.5</td>\n",
       "      <td>1709.0</td>\n",
       "      <td>0.1444</td>\n",
       "      <td>0.4245</td>\n",
       "      <td>0.4504</td>\n",
       "      <td>0.2430</td>\n",
       "      <td>0.3613</td>\n",
       "      <td>0.08758</td>\n",
       "    </tr>\n",
       "  </tbody>\n",
       "</table>\n",
       "<p>3 rows × 31 columns</p>\n",
       "</div>"
      ],
      "text/plain": [
       "         1      2      3      4       5        6        7       8        9   \\\n",
       "0                                                                             \n",
       "842302    M  17.99  10.38  122.8  1001.0  0.11840  0.27760  0.3001  0.14710   \n",
       "842517    M  20.57  17.77  132.9  1326.0  0.08474  0.07864  0.0869  0.07017   \n",
       "84300903  M  19.69  21.25  130.0  1203.0  0.10960  0.15990  0.1974  0.12790   \n",
       "\n",
       "              10  ...     22     23     24      25      26      27      28  \\\n",
       "0                 ...                                                        \n",
       "842302    0.2419  ...  25.38  17.33  184.6  2019.0  0.1622  0.6656  0.7119   \n",
       "842517    0.1812  ...  24.99  23.41  158.8  1956.0  0.1238  0.1866  0.2416   \n",
       "84300903  0.2069  ...  23.57  25.53  152.5  1709.0  0.1444  0.4245  0.4504   \n",
       "\n",
       "              29      30       31  \n",
       "0                                  \n",
       "842302    0.2654  0.4601  0.11890  \n",
       "842517    0.1860  0.2750  0.08902  \n",
       "84300903  0.2430  0.3613  0.08758  \n",
       "\n",
       "[3 rows x 31 columns]"
      ]
     },
     "execution_count": 3,
     "metadata": {},
     "output_type": "execute_result"
    }
   ],
   "source": [
    "bcwds.head(3)"
   ]
  },
  {
   "cell_type": "markdown",
   "metadata": {
    "slideshow": {
     "slide_type": "slide"
    }
   },
   "source": [
    "- La prima colonna dei dati indica la classificazione delle cellule nell'immagine\n",
    "  - M = maligne, B = benigne\n",
    "- Le altre 30 colonne corrispondono alle variabili estratte dalle immagini\n",
    "- Da ogni cellula in ogni immagine sono state estratte le seguenti caratteristiche\n",
    "  - si veda la pagina del dataset per il significato di ciascuna"
   ]
  },
  {
   "cell_type": "code",
   "execution_count": 4,
   "metadata": {},
   "outputs": [],
   "source": [
    "cell_features = [\"radius\",     \"texture\",\n",
    "                 \"perimeter\",  \"area\",\n",
    "                 \"smoothness\", \"compactness\",\n",
    "                 \"concavity\",  \"concave_pts\",\n",
    "                 \"symmetry\",   \"fractal_dim\"]"
   ]
  },
  {
   "cell_type": "markdown",
   "metadata": {},
   "source": [
    "- Sull'insieme delle cellule sono estratte tre statistiche per ciascuna caratteristica: la media, la deviazione standard e la media dei tre valori più alti (\"worst\")"
   ]
  },
  {
   "cell_type": "code",
   "execution_count": 5,
   "metadata": {},
   "outputs": [],
   "source": [
    "stats = [\"mean\", \"std\", \"worst\"]"
   ]
  },
  {
   "cell_type": "markdown",
   "metadata": {},
   "source": [
    "- Assegniamo i nomi alle colonne del frame, generandoli dalle due liste sopra con due cicli innestati"
   ]
  },
  {
   "cell_type": "code",
   "execution_count": 6,
   "metadata": {},
   "outputs": [],
   "source": [
    "bcwds.columns = [\"diagnosis\"] + [f\"{stat}_{feat}\" for stat in stats for feat in cell_features]"
   ]
  },
  {
   "cell_type": "markdown",
   "metadata": {
    "slideshow": {
     "slide_type": "slide"
    }
   },
   "source": [
    "- Abbiamo così il frame con nomi leggibili per le colonne\n",
    "- Di default pandas visualizza al massimo 20 colonne (prime 10 e ultime 10): il seguente comando aumenta tale limite\n",
    "  - ci sono [varie altre opzioni](https://pandas.pydata.org/docs/user_guide/options.html) impostabili per la visualizzazione dei frame, ad es. `max_rows` per il numero di righe"
   ]
  },
  {
   "cell_type": "code",
   "execution_count": 7,
   "metadata": {},
   "outputs": [],
   "source": [
    "pd.options.display.max_columns = 31"
   ]
  },
  {
   "cell_type": "code",
   "execution_count": 8,
   "metadata": {},
   "outputs": [
    {
     "data": {
      "text/html": [
       "<div>\n",
       "<style scoped>\n",
       "    .dataframe tbody tr th:only-of-type {\n",
       "        vertical-align: middle;\n",
       "    }\n",
       "\n",
       "    .dataframe tbody tr th {\n",
       "        vertical-align: top;\n",
       "    }\n",
       "\n",
       "    .dataframe thead th {\n",
       "        text-align: right;\n",
       "    }\n",
       "</style>\n",
       "<table border=\"1\" class=\"dataframe\">\n",
       "  <thead>\n",
       "    <tr style=\"text-align: right;\">\n",
       "      <th></th>\n",
       "      <th>diagnosis</th>\n",
       "      <th>mean_radius</th>\n",
       "      <th>mean_texture</th>\n",
       "      <th>mean_perimeter</th>\n",
       "      <th>mean_area</th>\n",
       "      <th>mean_smoothness</th>\n",
       "      <th>mean_compactness</th>\n",
       "      <th>mean_concavity</th>\n",
       "      <th>mean_concave_pts</th>\n",
       "      <th>mean_symmetry</th>\n",
       "      <th>mean_fractal_dim</th>\n",
       "      <th>std_radius</th>\n",
       "      <th>std_texture</th>\n",
       "      <th>std_perimeter</th>\n",
       "      <th>std_area</th>\n",
       "      <th>std_smoothness</th>\n",
       "      <th>std_compactness</th>\n",
       "      <th>std_concavity</th>\n",
       "      <th>std_concave_pts</th>\n",
       "      <th>std_symmetry</th>\n",
       "      <th>std_fractal_dim</th>\n",
       "      <th>worst_radius</th>\n",
       "      <th>worst_texture</th>\n",
       "      <th>worst_perimeter</th>\n",
       "      <th>worst_area</th>\n",
       "      <th>worst_smoothness</th>\n",
       "      <th>worst_compactness</th>\n",
       "      <th>worst_concavity</th>\n",
       "      <th>worst_concave_pts</th>\n",
       "      <th>worst_symmetry</th>\n",
       "      <th>worst_fractal_dim</th>\n",
       "    </tr>\n",
       "    <tr>\n",
       "      <th>0</th>\n",
       "      <th></th>\n",
       "      <th></th>\n",
       "      <th></th>\n",
       "      <th></th>\n",
       "      <th></th>\n",
       "      <th></th>\n",
       "      <th></th>\n",
       "      <th></th>\n",
       "      <th></th>\n",
       "      <th></th>\n",
       "      <th></th>\n",
       "      <th></th>\n",
       "      <th></th>\n",
       "      <th></th>\n",
       "      <th></th>\n",
       "      <th></th>\n",
       "      <th></th>\n",
       "      <th></th>\n",
       "      <th></th>\n",
       "      <th></th>\n",
       "      <th></th>\n",
       "      <th></th>\n",
       "      <th></th>\n",
       "      <th></th>\n",
       "      <th></th>\n",
       "      <th></th>\n",
       "      <th></th>\n",
       "      <th></th>\n",
       "      <th></th>\n",
       "      <th></th>\n",
       "      <th></th>\n",
       "    </tr>\n",
       "  </thead>\n",
       "  <tbody>\n",
       "    <tr>\n",
       "      <th>842302</th>\n",
       "      <td>M</td>\n",
       "      <td>17.99</td>\n",
       "      <td>10.38</td>\n",
       "      <td>122.80</td>\n",
       "      <td>1001.0</td>\n",
       "      <td>0.11840</td>\n",
       "      <td>0.27760</td>\n",
       "      <td>0.3001</td>\n",
       "      <td>0.14710</td>\n",
       "      <td>0.2419</td>\n",
       "      <td>0.07871</td>\n",
       "      <td>1.0950</td>\n",
       "      <td>0.9053</td>\n",
       "      <td>8.589</td>\n",
       "      <td>153.40</td>\n",
       "      <td>0.006399</td>\n",
       "      <td>0.04904</td>\n",
       "      <td>0.05373</td>\n",
       "      <td>0.01587</td>\n",
       "      <td>0.03003</td>\n",
       "      <td>0.006193</td>\n",
       "      <td>25.38</td>\n",
       "      <td>17.33</td>\n",
       "      <td>184.60</td>\n",
       "      <td>2019.0</td>\n",
       "      <td>0.1622</td>\n",
       "      <td>0.6656</td>\n",
       "      <td>0.7119</td>\n",
       "      <td>0.2654</td>\n",
       "      <td>0.4601</td>\n",
       "      <td>0.11890</td>\n",
       "    </tr>\n",
       "    <tr>\n",
       "      <th>842517</th>\n",
       "      <td>M</td>\n",
       "      <td>20.57</td>\n",
       "      <td>17.77</td>\n",
       "      <td>132.90</td>\n",
       "      <td>1326.0</td>\n",
       "      <td>0.08474</td>\n",
       "      <td>0.07864</td>\n",
       "      <td>0.0869</td>\n",
       "      <td>0.07017</td>\n",
       "      <td>0.1812</td>\n",
       "      <td>0.05667</td>\n",
       "      <td>0.5435</td>\n",
       "      <td>0.7339</td>\n",
       "      <td>3.398</td>\n",
       "      <td>74.08</td>\n",
       "      <td>0.005225</td>\n",
       "      <td>0.01308</td>\n",
       "      <td>0.01860</td>\n",
       "      <td>0.01340</td>\n",
       "      <td>0.01389</td>\n",
       "      <td>0.003532</td>\n",
       "      <td>24.99</td>\n",
       "      <td>23.41</td>\n",
       "      <td>158.80</td>\n",
       "      <td>1956.0</td>\n",
       "      <td>0.1238</td>\n",
       "      <td>0.1866</td>\n",
       "      <td>0.2416</td>\n",
       "      <td>0.1860</td>\n",
       "      <td>0.2750</td>\n",
       "      <td>0.08902</td>\n",
       "    </tr>\n",
       "    <tr>\n",
       "      <th>84300903</th>\n",
       "      <td>M</td>\n",
       "      <td>19.69</td>\n",
       "      <td>21.25</td>\n",
       "      <td>130.00</td>\n",
       "      <td>1203.0</td>\n",
       "      <td>0.10960</td>\n",
       "      <td>0.15990</td>\n",
       "      <td>0.1974</td>\n",
       "      <td>0.12790</td>\n",
       "      <td>0.2069</td>\n",
       "      <td>0.05999</td>\n",
       "      <td>0.7456</td>\n",
       "      <td>0.7869</td>\n",
       "      <td>4.585</td>\n",
       "      <td>94.03</td>\n",
       "      <td>0.006150</td>\n",
       "      <td>0.04006</td>\n",
       "      <td>0.03832</td>\n",
       "      <td>0.02058</td>\n",
       "      <td>0.02250</td>\n",
       "      <td>0.004571</td>\n",
       "      <td>23.57</td>\n",
       "      <td>25.53</td>\n",
       "      <td>152.50</td>\n",
       "      <td>1709.0</td>\n",
       "      <td>0.1444</td>\n",
       "      <td>0.4245</td>\n",
       "      <td>0.4504</td>\n",
       "      <td>0.2430</td>\n",
       "      <td>0.3613</td>\n",
       "      <td>0.08758</td>\n",
       "    </tr>\n",
       "    <tr>\n",
       "      <th>84348301</th>\n",
       "      <td>M</td>\n",
       "      <td>11.42</td>\n",
       "      <td>20.38</td>\n",
       "      <td>77.58</td>\n",
       "      <td>386.1</td>\n",
       "      <td>0.14250</td>\n",
       "      <td>0.28390</td>\n",
       "      <td>0.2414</td>\n",
       "      <td>0.10520</td>\n",
       "      <td>0.2597</td>\n",
       "      <td>0.09744</td>\n",
       "      <td>0.4956</td>\n",
       "      <td>1.1560</td>\n",
       "      <td>3.445</td>\n",
       "      <td>27.23</td>\n",
       "      <td>0.009110</td>\n",
       "      <td>0.07458</td>\n",
       "      <td>0.05661</td>\n",
       "      <td>0.01867</td>\n",
       "      <td>0.05963</td>\n",
       "      <td>0.009208</td>\n",
       "      <td>14.91</td>\n",
       "      <td>26.50</td>\n",
       "      <td>98.87</td>\n",
       "      <td>567.7</td>\n",
       "      <td>0.2098</td>\n",
       "      <td>0.8663</td>\n",
       "      <td>0.6869</td>\n",
       "      <td>0.2575</td>\n",
       "      <td>0.6638</td>\n",
       "      <td>0.17300</td>\n",
       "    </tr>\n",
       "    <tr>\n",
       "      <th>84358402</th>\n",
       "      <td>M</td>\n",
       "      <td>20.29</td>\n",
       "      <td>14.34</td>\n",
       "      <td>135.10</td>\n",
       "      <td>1297.0</td>\n",
       "      <td>0.10030</td>\n",
       "      <td>0.13280</td>\n",
       "      <td>0.1980</td>\n",
       "      <td>0.10430</td>\n",
       "      <td>0.1809</td>\n",
       "      <td>0.05883</td>\n",
       "      <td>0.7572</td>\n",
       "      <td>0.7813</td>\n",
       "      <td>5.438</td>\n",
       "      <td>94.44</td>\n",
       "      <td>0.011490</td>\n",
       "      <td>0.02461</td>\n",
       "      <td>0.05688</td>\n",
       "      <td>0.01885</td>\n",
       "      <td>0.01756</td>\n",
       "      <td>0.005115</td>\n",
       "      <td>22.54</td>\n",
       "      <td>16.67</td>\n",
       "      <td>152.20</td>\n",
       "      <td>1575.0</td>\n",
       "      <td>0.1374</td>\n",
       "      <td>0.2050</td>\n",
       "      <td>0.4000</td>\n",
       "      <td>0.1625</td>\n",
       "      <td>0.2364</td>\n",
       "      <td>0.07678</td>\n",
       "    </tr>\n",
       "  </tbody>\n",
       "</table>\n",
       "</div>"
      ],
      "text/plain": [
       "         diagnosis  mean_radius  mean_texture  mean_perimeter  mean_area  \\\n",
       "0                                                                          \n",
       "842302           M        17.99         10.38          122.80     1001.0   \n",
       "842517           M        20.57         17.77          132.90     1326.0   \n",
       "84300903         M        19.69         21.25          130.00     1203.0   \n",
       "84348301         M        11.42         20.38           77.58      386.1   \n",
       "84358402         M        20.29         14.34          135.10     1297.0   \n",
       "\n",
       "          mean_smoothness  mean_compactness  mean_concavity  mean_concave_pts  \\\n",
       "0                                                                               \n",
       "842302            0.11840           0.27760          0.3001           0.14710   \n",
       "842517            0.08474           0.07864          0.0869           0.07017   \n",
       "84300903          0.10960           0.15990          0.1974           0.12790   \n",
       "84348301          0.14250           0.28390          0.2414           0.10520   \n",
       "84358402          0.10030           0.13280          0.1980           0.10430   \n",
       "\n",
       "          mean_symmetry  mean_fractal_dim  std_radius  std_texture  \\\n",
       "0                                                                    \n",
       "842302           0.2419           0.07871      1.0950       0.9053   \n",
       "842517           0.1812           0.05667      0.5435       0.7339   \n",
       "84300903         0.2069           0.05999      0.7456       0.7869   \n",
       "84348301         0.2597           0.09744      0.4956       1.1560   \n",
       "84358402         0.1809           0.05883      0.7572       0.7813   \n",
       "\n",
       "          std_perimeter  std_area  std_smoothness  std_compactness  \\\n",
       "0                                                                    \n",
       "842302            8.589    153.40        0.006399          0.04904   \n",
       "842517            3.398     74.08        0.005225          0.01308   \n",
       "84300903          4.585     94.03        0.006150          0.04006   \n",
       "84348301          3.445     27.23        0.009110          0.07458   \n",
       "84358402          5.438     94.44        0.011490          0.02461   \n",
       "\n",
       "          std_concavity  std_concave_pts  std_symmetry  std_fractal_dim  \\\n",
       "0                                                                         \n",
       "842302          0.05373          0.01587       0.03003         0.006193   \n",
       "842517          0.01860          0.01340       0.01389         0.003532   \n",
       "84300903        0.03832          0.02058       0.02250         0.004571   \n",
       "84348301        0.05661          0.01867       0.05963         0.009208   \n",
       "84358402        0.05688          0.01885       0.01756         0.005115   \n",
       "\n",
       "          worst_radius  worst_texture  worst_perimeter  worst_area  \\\n",
       "0                                                                    \n",
       "842302           25.38          17.33           184.60      2019.0   \n",
       "842517           24.99          23.41           158.80      1956.0   \n",
       "84300903         23.57          25.53           152.50      1709.0   \n",
       "84348301         14.91          26.50            98.87       567.7   \n",
       "84358402         22.54          16.67           152.20      1575.0   \n",
       "\n",
       "          worst_smoothness  worst_compactness  worst_concavity  \\\n",
       "0                                                                \n",
       "842302              0.1622             0.6656           0.7119   \n",
       "842517              0.1238             0.1866           0.2416   \n",
       "84300903            0.1444             0.4245           0.4504   \n",
       "84348301            0.2098             0.8663           0.6869   \n",
       "84358402            0.1374             0.2050           0.4000   \n",
       "\n",
       "          worst_concave_pts  worst_symmetry  worst_fractal_dim  \n",
       "0                                                               \n",
       "842302               0.2654          0.4601            0.11890  \n",
       "842517               0.1860          0.2750            0.08902  \n",
       "84300903             0.2430          0.3613            0.08758  \n",
       "84348301             0.2575          0.6638            0.17300  \n",
       "84358402             0.1625          0.2364            0.07678  "
      ]
     },
     "execution_count": 8,
     "metadata": {},
     "output_type": "execute_result"
    }
   ],
   "source": [
    "bcwds.head(5)"
   ]
  },
  {
   "cell_type": "markdown",
   "metadata": {
    "slideshow": {
     "slide_type": "slide"
    }
   },
   "source": [
    "## Esercizio 1: Analisi esplorativa\n",
    "\n",
    "- **(1a)** Stampare il numero di valori \"M\" e \"B\" della variabile `diagnosis`\n",
    "- **(1b)** Rappresentare la distribuzione di valori di `diagnosis` in un diagramma a torta\n",
    "- **(1c)** Visualizzare le statistiche principali (media, dev. standard, ...) delle 10 variabili `mean_*`\n",
    "  - si trovano dalla 2ᵃ all'11ᵃ colonna del frame\n",
    "- **(1d)** Rappresentare la distribuzione di valori di `mean_area` in un'istogramma a 20 intervalli\n",
    "- **(1e)** Rappresentare la distribuzione congiunta di `mean_area` e `mean_concave_pts` in un grafico a dispersione"
   ]
  },
  {
   "cell_type": "code",
   "execution_count": 9,
   "metadata": {},
   "outputs": [],
   "source": [
    "##solhead:ESERCIZIO 1"
   ]
  },
  {
   "cell_type": "code",
   "execution_count": 10,
   "metadata": {},
   "outputs": [
    {
     "data": {
      "text/plain": [
       "B    357\n",
       "M    212\n",
       "Name: diagnosis, dtype: int64"
      ]
     },
     "execution_count": 10,
     "metadata": {},
     "output_type": "execute_result"
    }
   ],
   "source": [
    "##sol:1a\n",
    "bcwds[\"diagnosis\"].value_counts()"
   ]
  },
  {
   "cell_type": "code",
   "execution_count": 11,
   "metadata": {},
   "outputs": [
    {
     "data": {
      "image/png": "[encoded data removed]",
      "text/plain": [
       "<Figure size 432x288 with 1 Axes>"
      ]
     },
     "metadata": {},
     "output_type": "display_data"
    }
   ],
   "source": [
    "##sol:1b\n",
    "bcwds[\"diagnosis\"].value_counts().plot.pie();"
   ]
  },
  {
   "cell_type": "code",
   "execution_count": 12,
   "metadata": {},
   "outputs": [
    {
     "data": {
      "text/html": [
       "<div>\n",
       "<style scoped>\n",
       "    .dataframe tbody tr th:only-of-type {\n",
       "        vertical-align: middle;\n",
       "    }\n",
       "\n",
       "    .dataframe tbody tr th {\n",
       "        vertical-align: top;\n",
       "    }\n",
       "\n",
       "    .dataframe thead th {\n",
       "        text-align: right;\n",
       "    }\n",
       "</style>\n",
       "<table border=\"1\" class=\"dataframe\">\n",
       "  <thead>\n",
       "    <tr style=\"text-align: right;\">\n",
       "      <th></th>\n",
       "      <th>mean_radius</th>\n",
       "      <th>mean_texture</th>\n",
       "      <th>mean_perimeter</th>\n",
       "      <th>mean_area</th>\n",
       "      <th>mean_smoothness</th>\n",
       "      <th>mean_compactness</th>\n",
       "      <th>mean_concavity</th>\n",
       "      <th>mean_concave_pts</th>\n",
       "      <th>mean_symmetry</th>\n",
       "      <th>mean_fractal_dim</th>\n",
       "    </tr>\n",
       "  </thead>\n",
       "  <tbody>\n",
       "    <tr>\n",
       "      <th>count</th>\n",
       "      <td>569.000000</td>\n",
       "      <td>569.000000</td>\n",
       "      <td>569.000000</td>\n",
       "      <td>569.000000</td>\n",
       "      <td>569.000000</td>\n",
       "      <td>569.000000</td>\n",
       "      <td>569.000000</td>\n",
       "      <td>569.000000</td>\n",
       "      <td>569.000000</td>\n",
       "      <td>569.000000</td>\n",
       "    </tr>\n",
       "    <tr>\n",
       "      <th>mean</th>\n",
       "      <td>14.127292</td>\n",
       "      <td>19.289649</td>\n",
       "      <td>91.969033</td>\n",
       "      <td>654.889104</td>\n",
       "      <td>0.096360</td>\n",
       "      <td>0.104341</td>\n",
       "      <td>0.088799</td>\n",
       "      <td>0.048919</td>\n",
       "      <td>0.181162</td>\n",
       "      <td>0.062798</td>\n",
       "    </tr>\n",
       "    <tr>\n",
       "      <th>std</th>\n",
       "      <td>3.524049</td>\n",
       "      <td>4.301036</td>\n",
       "      <td>24.298981</td>\n",
       "      <td>351.914129</td>\n",
       "      <td>0.014064</td>\n",
       "      <td>0.052813</td>\n",
       "      <td>0.079720</td>\n",
       "      <td>0.038803</td>\n",
       "      <td>0.027414</td>\n",
       "      <td>0.007060</td>\n",
       "    </tr>\n",
       "    <tr>\n",
       "      <th>min</th>\n",
       "      <td>6.981000</td>\n",
       "      <td>9.710000</td>\n",
       "      <td>43.790000</td>\n",
       "      <td>143.500000</td>\n",
       "      <td>0.052630</td>\n",
       "      <td>0.019380</td>\n",
       "      <td>0.000000</td>\n",
       "      <td>0.000000</td>\n",
       "      <td>0.106000</td>\n",
       "      <td>0.049960</td>\n",
       "    </tr>\n",
       "    <tr>\n",
       "      <th>25%</th>\n",
       "      <td>11.700000</td>\n",
       "      <td>16.170000</td>\n",
       "      <td>75.170000</td>\n",
       "      <td>420.300000</td>\n",
       "      <td>0.086370</td>\n",
       "      <td>0.064920</td>\n",
       "      <td>0.029560</td>\n",
       "      <td>0.020310</td>\n",
       "      <td>0.161900</td>\n",
       "      <td>0.057700</td>\n",
       "    </tr>\n",
       "    <tr>\n",
       "      <th>50%</th>\n",
       "      <td>13.370000</td>\n",
       "      <td>18.840000</td>\n",
       "      <td>86.240000</td>\n",
       "      <td>551.100000</td>\n",
       "      <td>0.095870</td>\n",
       "      <td>0.092630</td>\n",
       "      <td>0.061540</td>\n",
       "      <td>0.033500</td>\n",
       "      <td>0.179200</td>\n",
       "      <td>0.061540</td>\n",
       "    </tr>\n",
       "    <tr>\n",
       "      <th>75%</th>\n",
       "      <td>15.780000</td>\n",
       "      <td>21.800000</td>\n",
       "      <td>104.100000</td>\n",
       "      <td>782.700000</td>\n",
       "      <td>0.105300</td>\n",
       "      <td>0.130400</td>\n",
       "      <td>0.130700</td>\n",
       "      <td>0.074000</td>\n",
       "      <td>0.195700</td>\n",
       "      <td>0.066120</td>\n",
       "    </tr>\n",
       "    <tr>\n",
       "      <th>max</th>\n",
       "      <td>28.110000</td>\n",
       "      <td>39.280000</td>\n",
       "      <td>188.500000</td>\n",
       "      <td>2501.000000</td>\n",
       "      <td>0.163400</td>\n",
       "      <td>0.345400</td>\n",
       "      <td>0.426800</td>\n",
       "      <td>0.201200</td>\n",
       "      <td>0.304000</td>\n",
       "      <td>0.097440</td>\n",
       "    </tr>\n",
       "  </tbody>\n",
       "</table>\n",
       "</div>"
      ],
      "text/plain": [
       "       mean_radius  mean_texture  mean_perimeter    mean_area  \\\n",
       "count   569.000000    569.000000      569.000000   569.000000   \n",
       "mean     14.127292     19.289649       91.969033   654.889104   \n",
       "std       3.524049      4.301036       24.298981   351.914129   \n",
       "min       6.981000      9.710000       43.790000   143.500000   \n",
       "25%      11.700000     16.170000       75.170000   420.300000   \n",
       "50%      13.370000     18.840000       86.240000   551.100000   \n",
       "75%      15.780000     21.800000      104.100000   782.700000   \n",
       "max      28.110000     39.280000      188.500000  2501.000000   \n",
       "\n",
       "       mean_smoothness  mean_compactness  mean_concavity  mean_concave_pts  \\\n",
       "count       569.000000        569.000000      569.000000        569.000000   \n",
       "mean          0.096360          0.104341        0.088799          0.048919   \n",
       "std           0.014064          0.052813        0.079720          0.038803   \n",
       "min           0.052630          0.019380        0.000000          0.000000   \n",
       "25%           0.086370          0.064920        0.029560          0.020310   \n",
       "50%           0.095870          0.092630        0.061540          0.033500   \n",
       "75%           0.105300          0.130400        0.130700          0.074000   \n",
       "max           0.163400          0.345400        0.426800          0.201200   \n",
       "\n",
       "       mean_symmetry  mean_fractal_dim  \n",
       "count     569.000000        569.000000  \n",
       "mean        0.181162          0.062798  \n",
       "std         0.027414          0.007060  \n",
       "min         0.106000          0.049960  \n",
       "25%         0.161900          0.057700  \n",
       "50%         0.179200          0.061540  \n",
       "75%         0.195700          0.066120  \n",
       "max         0.304000          0.097440  "
      ]
     },
     "execution_count": 12,
     "metadata": {},
     "output_type": "execute_result"
    }
   ],
   "source": [
    "##sol:1c\n",
    "bcwds.iloc[:, 1:11].describe()"
   ]
  },
  {
   "cell_type": "code",
   "execution_count": 13,
   "metadata": {},
   "outputs": [
    {
     "data": {
      "image/png": "[encoded data removed]",
      "text/plain": [
       "<Figure size 432x288 with 1 Axes>"
      ]
     },
     "metadata": {
      "needs_background": "light"
     },
     "output_type": "display_data"
    }
   ],
   "source": [
    "##sol:1d\n",
    "bcwds[\"mean_area\"].plot.hist(bins=20);"
   ]
  },
  {
   "cell_type": "code",
   "execution_count": 14,
   "metadata": {},
   "outputs": [
    {
     "data": {
      "image/png": "[encoded data removed]",
      "text/plain": [
       "<Figure size 432x288 with 1 Axes>"
      ]
     },
     "metadata": {
      "needs_background": "light"
     },
     "output_type": "display_data"
    }
   ],
   "source": [
    "##sol:1e\n",
    "bcwds.plot.scatter(\"mean_area\", \"mean_concave_pts\");"
   ]
  },
  {
   "cell_type": "markdown",
   "metadata": {
    "slideshow": {
     "slide_type": "slide"
    }
   },
   "source": [
    "## Distribuzione valori suddivisi per classi\n",
    "\n",
    "- In un problema di classificazione, è utile visualizzare quanto le variabili predittive siano correlate con la classe da predire\n",
    "- Negli ultimi punti dell'esercizio abbiamo generato grafici con la distribuzione delle variabili, ignorando la classe di appartenenza\n",
    "- Vogliamo ora integrare l'informazione della classe negli stessi grafici, per valutare quanto le variabili siano utili nella predizione della classe"
   ]
  },
  {
   "cell_type": "markdown",
   "metadata": {
    "slideshow": {
     "slide_type": "slide"
    }
   },
   "source": [
    "- Visualizziamo un'istogramma _stacked_ di `mean_area`, in cui in ogni intervallo si vede la suddivisione dei valori tra le due classi\n",
    "  - con `pivot(columns=\"diagnosis\")` sdoppiamo ciascuna colonna nel frame, suddividendo i valori relativi alle classi B e M\n",
    "  - con `[\"mean_area\"]` selezioniamo le due colonne `(\"mean_area\", *)`\n",
    "  - visualizziamole in un'istogramma, specificando `stacked=True` per far sì che le barre delle due colonne siano poste una sopra l'altra"
   ]
  },
  {
   "cell_type": "code",
   "execution_count": 15,
   "metadata": {},
   "outputs": [
    {
     "data": {
      "image/png": "[encoded data removed]",
      "text/plain": [
       "<Figure size 864x432 with 1 Axes>"
      ]
     },
     "metadata": {
      "needs_background": "light"
     },
     "output_type": "display_data"
    }
   ],
   "source": [
    "bcwds.pivot(columns=\"diagnosis\")[\"mean_area\"].plot.hist(bins=20, stacked=True, figsize=(12, 6));"
   ]
  },
  {
   "cell_type": "markdown",
   "metadata": {},
   "source": [
    "- Questo grafico evidenzia ad es. che la `mean_area` è tendenzialmente bassa nei casi B e alta nei casi M"
   ]
  },
  {
   "cell_type": "markdown",
   "metadata": {
    "slideshow": {
     "slide_type": "slide"
    }
   },
   "source": [
    "- Possiamo evidenziare le classi anche nei diagrammi a dispersione con la distribuzione tra due variabili, differenziando i punti ad es. per colore\n",
    "- Definiamo in un dizionario che associ un colore a ciascuna classe"
   ]
  },
  {
   "cell_type": "code",
   "execution_count": 16,
   "metadata": {},
   "outputs": [],
   "source": [
    "diagnosis_color_map = {\"B\": \"blue\", \"M\": \"red\"}"
   ]
  },
  {
   "cell_type": "markdown",
   "metadata": {},
   "source": [
    "- Col metodo `map`, convertiamo ciascun elemento in una serie (o frame) secondo un dizionario dato"
   ]
  },
  {
   "cell_type": "code",
   "execution_count": 17,
   "metadata": {},
   "outputs": [],
   "source": [
    "diagnosis_colors = bcwds[\"diagnosis\"].map(diagnosis_color_map)"
   ]
  },
  {
   "cell_type": "markdown",
   "metadata": {},
   "source": [
    "- Otteniamo così una serie di valori \"red\" e \"blue\""
   ]
  },
  {
   "cell_type": "code",
   "execution_count": 18,
   "metadata": {},
   "outputs": [
    {
     "data": {
      "text/plain": [
       "0\n",
       "926682     red\n",
       "926954     red\n",
       "927241     red\n",
       "92751     blue\n",
       "Name: diagnosis, dtype: object"
      ]
     },
     "execution_count": 18,
     "metadata": {},
     "output_type": "execute_result"
    }
   ],
   "source": [
    "diagnosis_colors.tail(4)"
   ]
  },
  {
   "cell_type": "markdown",
   "metadata": {
    "slideshow": {
     "slide_type": "slide"
    }
   },
   "source": [
    "- Usiamo questa serie come parametro `c` nel metodo `plot.scatter` per assegnare un colore differenziato ai punti del grafico a dispersione"
   ]
  },
  {
   "cell_type": "code",
   "execution_count": 19,
   "metadata": {},
   "outputs": [
    {
     "data": {
      "image/png": "[encoded data removed]",
      "text/plain": [
       "<Figure size 576x432 with 1 Axes>"
      ]
     },
     "metadata": {
      "needs_background": "light"
     },
     "output_type": "display_data"
    }
   ],
   "source": [
    "bcwds.plot.scatter(\"mean_area\", \"mean_concave_pts\", c=diagnosis_colors, figsize=(8, 6));"
   ]
  },
  {
   "cell_type": "markdown",
   "metadata": {
    "slideshow": {
     "slide_type": "slide"
    }
   },
   "source": [
    "## Classificazione lineare\n",
    "\n",
    "- Come per la regressione, anche per la classificazione i metodi più semplici si basano su modelli con relazioni lineari tra le variabili\n",
    "- Un classificatore a due classi _lineare_ è definito da un **iperpiano** che separa lo spazio delle variabili in due _semispazi_\n",
    "  - la classe prevista per un'osservazione (un punto) dipende dal semispazio in cui si trova\n",
    "- Se consideriamo uno spazio di due variabili (un piano), questo significa in pratica tracciare una retta che separi una classe dall'altra"
   ]
  },
  {
   "cell_type": "markdown",
   "metadata": {
    "slideshow": {
     "slide_type": "slide"
    }
   },
   "source": [
    "- Consideriamo ad esempio il piano visualizzato sopra con le due variabili `mean_area` e `mean_concave_pts` e le osservazioni differenziate per classe\n",
    "- Selezioniamo i dati su cui lavorare\n",
    "  - la variabile `y` da predire è la classe: B (benigno) o M (maligno)\n",
    "  - le variabili `X` sono `mean_area` ($x_1$) e `mean_concave_pts` ($x_2$), per ora ignoriamo le altre variabili"
   ]
  },
  {
   "cell_type": "code",
   "execution_count": 20,
   "metadata": {},
   "outputs": [],
   "source": [
    "y = bcwds[\"diagnosis\"]\n",
    "X2d = bcwds[[\"mean_area\", \"mean_concave_pts\"]]"
   ]
  },
  {
   "cell_type": "markdown",
   "metadata": {},
   "source": [
    "- Suddividiamo come al solito i dati in un training set e in un validation set con la funzione `train_test_split`"
   ]
  },
  {
   "cell_type": "code",
   "execution_count": 21,
   "metadata": {},
   "outputs": [],
   "source": [
    "from sklearn.model_selection import train_test_split\n",
    "\n",
    "X2d_train, X2d_val, y_train, y_val = train_test_split(\n",
    "    X2d, y,           # dati da suddividere\n",
    "    test_size=1/3,    # proporzione: 2/3 training, 1/3 validation\n",
    "    random_state=42   # seed per la riproducibilità\n",
    ")"
   ]
  },
  {
   "cell_type": "markdown",
   "metadata": {
    "slideshow": {
     "slide_type": "slide"
    }
   },
   "source": [
    "- Visualizziamo i dati di training su cui addestrare il classificatore\n",
    "  - applichiamo ad `y_train` la mappa dei colori definita sopra"
   ]
  },
  {
   "cell_type": "code",
   "execution_count": 22,
   "metadata": {},
   "outputs": [
    {
     "data": {
      "image/png": "[encoded data removed]",
      "text/plain": [
       "<Figure size 576x432 with 1 Axes>"
      ]
     },
     "metadata": {
      "needs_background": "light"
     },
     "output_type": "display_data"
    }
   ],
   "source": [
    "X2d_train.plot.scatter(\"mean_area\", \"mean_concave_pts\", c=y_train.map(diagnosis_color_map), figsize=(8, 6));"
   ]
  },
  {
   "cell_type": "markdown",
   "metadata": {
    "slideshow": {
     "slide_type": "slide"
    }
   },
   "source": [
    "- Per addestrare un classificatore lineare, dobbiamo individuare **una retta che separi i punti rossi dai punti blu**\n",
    "- In seguito, ciascuna nuova osservazione sarà classificata \"B\" (blu) o \"M\" (rossa) a seconda del lato della retta su cui si trova\n",
    "- Ipotizziamo ad esempio di utilizzare come separatore la retta descritta dall'equazione\n",
    "$$ x_2 = -0.0001\\cdot x_1+0.15 $$\n",
    "- Possiamo rappresentare la retta sovrapposta ai dati similmente a come abbiamo fatto per i modelli di regressione\n",
    "  - campioniamo una serie di valori campione per $x_1$ (essendo una retta bastano i due estremi)\n",
    "  - estraiamo i valori corrispondenti di $x_2$"
   ]
  },
  {
   "cell_type": "code",
   "execution_count": 23,
   "metadata": {},
   "outputs": [],
   "source": [
    "sep_x1 = np.linspace(0, 1500, 2)\n",
    "sep_x2 = -0.0001 * sep_x1 + 0.15"
   ]
  },
  {
   "cell_type": "code",
   "execution_count": 24,
   "metadata": {
    "slideshow": {
     "slide_type": "slide"
    }
   },
   "outputs": [
    {
     "data": {
      "image/png": "[encoded data removed]",
      "text/plain": [
       "<Figure size 576x432 with 1 Axes>"
      ]
     },
     "metadata": {
      "needs_background": "light"
     },
     "output_type": "display_data"
    }
   ],
   "source": [
    "X2d_train.plot.scatter(\"mean_area\", \"mean_concave_pts\", c=y_train.map(diagnosis_color_map), figsize=(8, 6))\n",
    "plt.plot(sep_x1, sep_x2, c=\"green\", linewidth=2);"
   ]
  },
  {
   "cell_type": "markdown",
   "metadata": {},
   "source": [
    "- Assumiamo questa retta come modello di classificazione, classificando come B i punti al di sotto e come M quelli sopra"
   ]
  },
  {
   "cell_type": "markdown",
   "metadata": {
    "slideshow": {
     "slide_type": "slide"
    }
   },
   "source": [
    "## Esercizio 2: Estrazione predizioni classificazione\n",
    "\n",
    "- Creare un array `y_pred` che indichi la classe predetta (`\"M\"` o `\"B\"`) per ciascuna osservazione del validation set `X2d_val`\n",
    "- Consiglio: servirsi della funzione `np.where(B, xt, xf)`, che dato un array (o serie) booleano `B` ne restituisce uno di pari lunghezza con i valori `xt` e `xf` al posto di `True` e `False`"
   ]
  },
  {
   "cell_type": "code",
   "execution_count": 25,
   "metadata": {},
   "outputs": [
    {
     "data": {
      "text/plain": [
       "array(['pos', 'neg', 'pos', 'neg', 'pos', 'pos'], dtype='<U3')"
      ]
     },
     "execution_count": 25,
     "metadata": {},
     "output_type": "execute_result"
    }
   ],
   "source": [
    "# esempio\n",
    "foo = np.array([1, -2, 3, -4, 5, 6])\n",
    "np.where(foo > 0, \"pos\", \"neg\")"
   ]
  },
  {
   "cell_type": "code",
   "execution_count": 26,
   "metadata": {},
   "outputs": [],
   "source": [
    "##solhead:ESERCIZIO 2"
   ]
  },
  {
   "cell_type": "code",
   "execution_count": 27,
   "metadata": {},
   "outputs": [],
   "source": [
    "##sol\n",
    "is_malignant = X2d_val[\"mean_concave_pts\"] > -0.0001 * X2d_val[\"mean_area\"] + 0.15\n",
    "y_pred = np.where(is_malignant, \"M\", \"B\")"
   ]
  },
  {
   "cell_type": "markdown",
   "metadata": {
    "slideshow": {
     "slide_type": "slide"
    }
   },
   "source": [
    "## Accuratezza delle predizioni\n",
    "\n",
    "- Per confrontare diversi classificatori, vogliamo una misura quantitativa della loro bontà\n",
    "- Nella predizione di valori continui (regressione), possiamo valutare un modello in base a quanto ciascun valore predetto si avvicini a quello reale\n",
    "  - questo è misurato con metriche quali ad es. MSE o R²\n",
    "- Nella classificazione, possiamo valutare direttamente se le classi predette coincidano o meno con quelle reali\n",
    "- Definiamo come **accuratezza** la percentuale di osservazioni del validation set di cui il modello predice correttamente la classe"
   ]
  },
  {
   "cell_type": "markdown",
   "metadata": {
    "slideshow": {
     "slide_type": "slide"
    }
   },
   "source": [
    "## Esercizio 3: Calcolo dell'accuratezza\n",
    "\n",
    "- **(3a)** Estrarre un array booleano `correct_class` che indichi per quali osservazioni del validation set la classe indicata in `y_pred` è corretta\n",
    "- **(3b)** Da questo calcolare l'accuratezza, ovvero la percentuale di classificazioni corrette"
   ]
  },
  {
   "cell_type": "code",
   "execution_count": 28,
   "metadata": {},
   "outputs": [],
   "source": [
    "##solhead:ESERCIZIO 3"
   ]
  },
  {
   "cell_type": "code",
   "execution_count": 29,
   "metadata": {},
   "outputs": [],
   "source": [
    "##sol:3a\n",
    "correct_class = y_pred == y_val"
   ]
  },
  {
   "cell_type": "code",
   "execution_count": 30,
   "metadata": {},
   "outputs": [
    {
     "data": {
      "text/plain": [
       "0.8789473684210526"
      ]
     },
     "execution_count": 30,
     "metadata": {},
     "output_type": "execute_result"
    }
   ],
   "source": [
    "##sol:3b\n",
    "correct_class.mean()"
   ]
  },
  {
   "cell_type": "markdown",
   "metadata": {
    "slideshow": {
     "slide_type": "slide"
    }
   },
   "source": [
    "## Modelli di classificazione lineari\n",
    "\n",
    "- Abbiamo validato un modello di classificazione individuato \"ad occhio\", vediamo ora come addestrarne uno in modo automatico\n",
    "- Un modello di classificazione lineare a $n$ variabili $x_1,\\ldots,x_n$ consiste in generale nell'individuare un iperpiano di classificazione descritto dall'equazione:\n",
    "$$ w_1\\cdot x_1+\\ldots+w_n\\cdot x_n+b = 0 $$\n",
    "- In forma vettoriale:\n",
    "$$ \\mathbf{w}\\cdot\\mathbf{x}+b = 0 $$\n",
    "- L'addestramento del modello consiste nel determinare valori ottimali per il vettore $\\mathbf{w}$ (_weights_, pesi) e per il termine $b$ (_bias_, distanza dell'iperpiano dall'origine)"
   ]
  },
  {
   "cell_type": "markdown",
   "metadata": {
    "slideshow": {
     "slide_type": "slide"
    }
   },
   "source": [
    "## Perceptron\n",
    "\n",
    "- Il _perceptron_ è un algoritmo di apprendimento molto semplice, concettualmente simile alla discesa gradiente\n",
    "  - i parametri $\\mathbf{w}$ e $b$ sono inizializzati casualmente\n",
    "  - si itera il training set: per ogni istanza mal classificata, i parametri vengono aggiornati proporzionalmente ai valori di $\\mathbf{x}$ e ad un _learning rate_ preimpostato\n",
    "  - si possono eseguire molteplici iterazioni del training set\n",
    "- Per creare un modello perceptron, come per i modelli di regressione, iniziamo creando un'istanza della classe `Perceptron`\n",
    "  - ci sono diversi parametri impostabili per ottenere varianti (es. con regolarizzazione), ma quì non le consideriamo"
   ]
  },
  {
   "cell_type": "markdown",
   "metadata": {
    "slideshow": {
     "slide_type": "slide"
    }
   },
   "source": [
    "- Prima di procedere, dato che le variabili `mean_area` e `mean_concave_pts` hanno scale molto diverse, ne effettuiamo la standardizzazione (media 0 e dev. standard 1)\n",
    "  - evitiamo per ora di utilizzare una pipeline, per analizzare più agevolmente il modello\n",
    "- Utilizziamo un filtro `StandardScaler` per ottenere gli array `X2dn_train` e `X2dn_val` con i dati in `X2d_train` e `X2d_val` standardizzati"
   ]
  },
  {
   "cell_type": "code",
   "execution_count": 31,
   "metadata": {},
   "outputs": [],
   "source": [
    "from sklearn.preprocessing import StandardScaler\n",
    "scaler = StandardScaler()\n",
    "X2dn_train = scaler.fit_transform(X2d_train)\n",
    "X2dn_val = scaler.transform(X2d_val)"
   ]
  },
  {
   "cell_type": "markdown",
   "metadata": {
    "slideshow": {
     "slide_type": "slide"
    }
   },
   "source": [
    "- Visualizziamo in un grafico a dispersione i dati standardizzati `X2dn_train` con classi differenziate\n",
    "  - si ottiene una figura identica a quella dei dati non standardizzati, con solamente gli intervalli degli assi cambiati"
   ]
  },
  {
   "cell_type": "code",
   "execution_count": 32,
   "metadata": {},
   "outputs": [
    {
     "data": {
      "image/png": "[encoded data removed]",
      "text/plain": [
       "<Figure size 576x432 with 1 Axes>"
      ]
     },
     "metadata": {
      "needs_background": "light"
     },
     "output_type": "display_data"
    }
   ],
   "source": [
    "plt.figure(figsize=(8, 6))\n",
    "plt.scatter(X2dn_train[:, 0], X2dn_train[:, 1], c=y_train.map(diagnosis_color_map));"
   ]
  },
  {
   "cell_type": "markdown",
   "metadata": {
    "slideshow": {
     "slide_type": "slide"
    }
   },
   "source": [
    "- Creiamo un modello `Perceptron`"
   ]
  },
  {
   "cell_type": "code",
   "execution_count": 33,
   "metadata": {},
   "outputs": [],
   "source": [
    "from sklearn.linear_model import Perceptron\n",
    "model = Perceptron(random_state=42)"
   ]
  },
  {
   "cell_type": "markdown",
   "metadata": {},
   "source": [
    "- Addestriamo il modello sul training set standardizzato\n",
    "  - come nei modelli di regressione, passiamo separatamente i valori delle variabili predittive (X) e quelli della variabile da predire (y)"
   ]
  },
  {
   "cell_type": "code",
   "execution_count": 34,
   "metadata": {},
   "outputs": [
    {
     "data": {
      "text/plain": [
       "Perceptron(random_state=42)"
      ]
     },
     "execution_count": 34,
     "metadata": {},
     "output_type": "execute_result"
    }
   ],
   "source": [
    "model.fit(X2dn_train, y_train)"
   ]
  },
  {
   "cell_type": "markdown",
   "metadata": {
    "slideshow": {
     "slide_type": "slide"
    }
   },
   "source": [
    "- Una volta addestrato il modello, possiamo trovare i valori dei pesi $\\mathbf{w}$ e del bias $b$ rispettivamente negli attributi `coef_[0]` e `intercept_[0]`\n",
    "  - lo `[0]` si riferisce al primo iperpiano, in questo caso è l'unico, in un modello a più di due classi sarebbero molteplici"
   ]
  },
  {
   "cell_type": "code",
   "execution_count": 35,
   "metadata": {},
   "outputs": [
    {
     "data": {
      "text/plain": [
       "array([0.55782253, 1.686364  ])"
      ]
     },
     "execution_count": 35,
     "metadata": {},
     "output_type": "execute_result"
    }
   ],
   "source": [
    "model.coef_[0]"
   ]
  },
  {
   "cell_type": "code",
   "execution_count": 36,
   "metadata": {},
   "outputs": [
    {
     "data": {
      "text/plain": [
       "-1.0"
      ]
     },
     "execution_count": 36,
     "metadata": {},
     "output_type": "execute_result"
    }
   ],
   "source": [
    "model.intercept_[0]"
   ]
  },
  {
   "cell_type": "markdown",
   "metadata": {},
   "source": [
    "- Ad esempio questi coefficienti indicano che l'iperpiano individuato dal modello è descritto dall'equazione\n",
    "$$ 0.558x_1+1.686x_2-1 = 0 $$\n",
    "- L'attributo `classes_` mostra le classi riconosciute dal classificatore\n",
    "  - la prima è quella a cui sono assegnati i punti sotto la retta, la seconda quella a cui sono assegnati i punti sopra"
   ]
  },
  {
   "cell_type": "code",
   "execution_count": 37,
   "metadata": {},
   "outputs": [
    {
     "data": {
      "text/plain": [
       "array(['B', 'M'], dtype='<U1')"
      ]
     },
     "execution_count": 37,
     "metadata": {},
     "output_type": "execute_result"
    }
   ],
   "source": [
    "model.classes_"
   ]
  },
  {
   "cell_type": "markdown",
   "metadata": {
    "slideshow": {
     "slide_type": "slide"
    }
   },
   "source": [
    "- Per visualizzare la retta del modello...\n",
    "$$ w_1\\cdot x_1+w_2\\cdot x_2+b = 0 $$\n",
    "- ...la esprimiamo nella forma $x_2=\\ldots$\n",
    "$$ x_2 = -\\frac{w_1}{w_2}\\cdot x_1-\\frac{b}{w_2} $$\n",
    "- Implementiamo una funzione `separator_2d` in modo che, dato un modello e un array di valori $x_1$, restituisca l'array di corrispondenti valori $x_2$"
   ]
  },
  {
   "cell_type": "code",
   "execution_count": 38,
   "metadata": {},
   "outputs": [],
   "source": [
    "def separator_2d(model, x1):\n",
    "    # ricaviamo w e b dal modello\n",
    "    w = model.coef_[0]\n",
    "    b = model.intercept_[0]\n",
    "    # riportiamo in NumPy la formula sopra\n",
    "    return -x1 * w[0] / w[1] - b / w[1]"
   ]
  },
  {
   "cell_type": "markdown",
   "metadata": {
    "slideshow": {
     "slide_type": "slide"
    }
   },
   "source": [
    "- Creiamo una funzione per visualizzare la retta del modello sovrapposta al grafico a dispersione dei dati, simile a quella che utilizzavamo nella regressione"
   ]
  },
  {
   "cell_type": "code",
   "execution_count": 39,
   "metadata": {},
   "outputs": [],
   "source": [
    "def plot_separator_on_data(X, y, model=None):\n",
    "    X = np.array(X)\n",
    "    colors = pd.Series(y).map(diagnosis_color_map)\n",
    "    plt.figure(figsize=(8, 6))\n",
    "    plt.scatter(X[:, 0], X[:, 1], c=colors)\n",
    "    if model is not None:\n",
    "        xlim, ylim = plt.xlim(), plt.ylim()\n",
    "        sep_x = np.linspace(*xlim, 2)\n",
    "        sep_y = separator_2d(model, sep_x)\n",
    "        plt.plot(sep_x, sep_y, c=\"green\", linewidth=2)\n",
    "        plt.xlim(xlim); plt.ylim(ylim)"
   ]
  },
  {
   "cell_type": "markdown",
   "metadata": {
    "slideshow": {
     "slide_type": "slide"
    }
   },
   "source": [
    "- Visualizziamo la retta di separazione sovrapposta al validation set"
   ]
  },
  {
   "cell_type": "code",
   "execution_count": 40,
   "metadata": {},
   "outputs": [
    {
     "data": {
      "image/png": "[encoded data removed]",
      "text/plain": [
       "<Figure size 576x432 with 1 Axes>"
      ]
     },
     "metadata": {
      "needs_background": "light"
     },
     "output_type": "display_data"
    }
   ],
   "source": [
    "plot_separator_on_data(X2dn_val, y_val, model)"
   ]
  },
  {
   "cell_type": "markdown",
   "metadata": {
    "slideshow": {
     "slide_type": "slide"
    }
   },
   "source": [
    "- Dal modello addestrato possiamo ottenere le predizioni per una o più osservazioni con `predict`\n",
    "  - otteniamo ad esempio le predizioni per i primi 3 elementi del validation set"
   ]
  },
  {
   "cell_type": "code",
   "execution_count": 41,
   "metadata": {},
   "outputs": [
    {
     "data": {
      "text/plain": [
       "array(['B', 'M', 'M'], dtype='<U1')"
      ]
     },
     "execution_count": 41,
     "metadata": {},
     "output_type": "execute_result"
    }
   ],
   "source": [
    "model.predict(X2dn_val[:3])"
   ]
  },
  {
   "cell_type": "markdown",
   "metadata": {},
   "source": [
    "- L'accuratezza definita sopra è la metrica predefinita per i modelli di classificazione: possiamo calcolarla col metodo `score`\n",
    "  - come per calcolare R² nei modelli di regressione, passiamo X e y del validation set"
   ]
  },
  {
   "cell_type": "code",
   "execution_count": 42,
   "metadata": {},
   "outputs": [
    {
     "data": {
      "text/plain": [
       "0.8947368421052632"
      ]
     },
     "execution_count": 42,
     "metadata": {},
     "output_type": "execute_result"
    }
   ],
   "source": [
    "model.score(X2dn_val, y_val)"
   ]
  },
  {
   "cell_type": "markdown",
   "metadata": {},
   "source": [
    "- Il modello classifica correttamente quasi il 90\\% delle istanze del validation set"
   ]
  },
  {
   "cell_type": "markdown",
   "metadata": {
    "slideshow": {
     "slide_type": "slide"
    }
   },
   "source": [
    "## Matrice di confusione, precision e recall\n",
    "\n",
    "- Oltre all'accuratezza come percentuale di classificazioni corrette, esistono altri modi per valutare l'accuratezza di un classificatore\n",
    "  - particolarmente utili in caso di sbilanciamento tra le classi, per cui l'accuratezza può non essere un indicatore affidabile\n",
    "- Confrontando le classi predette da un classificatore su un set di dati con quelle reali, possiamo ottenere una **_matrice di confusione_**\n",
    "- Ogni cella in riga i e colonna j indica quanti esempi della classe i-esima sono stati etichettati dal classificatore come di classe j-esima\n",
    "  - lungo la diagonale (i=j) abbiamo quindi le quantità di classificazioni corrette, al di fuori abbiamo invece le quantità di errori"
   ]
  },
  {
   "cell_type": "markdown",
   "metadata": {
    "slideshow": {
     "slide_type": "slide"
    }
   },
   "source": [
    "- Otteniamo la matrice col metodo `confusion_matrix`, passando i vettori di classi reali e predette"
   ]
  },
  {
   "cell_type": "code",
   "execution_count": 43,
   "metadata": {},
   "outputs": [],
   "source": [
    "from sklearn.metrics import confusion_matrix\n",
    "y_pred = model.predict(X2dn_val)\n",
    "cm = confusion_matrix(y_val, y_pred)"
   ]
  },
  {
   "cell_type": "markdown",
   "metadata": {},
   "source": [
    "- Otteniamo la matrice in forma di array NumPy"
   ]
  },
  {
   "cell_type": "code",
   "execution_count": 44,
   "metadata": {},
   "outputs": [
    {
     "data": {
      "text/plain": [
       "array([[122,   0],\n",
       "       [ 20,  48]])"
      ]
     },
     "execution_count": 44,
     "metadata": {},
     "output_type": "execute_result"
    }
   ],
   "source": [
    "cm"
   ]
  },
  {
   "cell_type": "markdown",
   "metadata": {
    "slideshow": {
     "slide_type": "slide"
    }
   },
   "source": [
    "- Per maggiore chiarezza, inseriamo i valori in un frame etichettando righe e colonne con i nomi delle classi"
   ]
  },
  {
   "cell_type": "code",
   "execution_count": 45,
   "metadata": {},
   "outputs": [
    {
     "data": {
      "text/html": [
       "<div>\n",
       "<style scoped>\n",
       "    .dataframe tbody tr th:only-of-type {\n",
       "        vertical-align: middle;\n",
       "    }\n",
       "\n",
       "    .dataframe tbody tr th {\n",
       "        vertical-align: top;\n",
       "    }\n",
       "\n",
       "    .dataframe thead th {\n",
       "        text-align: right;\n",
       "    }\n",
       "</style>\n",
       "<table border=\"1\" class=\"dataframe\">\n",
       "  <thead>\n",
       "    <tr style=\"text-align: right;\">\n",
       "      <th></th>\n",
       "      <th>B</th>\n",
       "      <th>M</th>\n",
       "    </tr>\n",
       "  </thead>\n",
       "  <tbody>\n",
       "    <tr>\n",
       "      <th>B</th>\n",
       "      <td>122</td>\n",
       "      <td>0</td>\n",
       "    </tr>\n",
       "    <tr>\n",
       "      <th>M</th>\n",
       "      <td>20</td>\n",
       "      <td>48</td>\n",
       "    </tr>\n",
       "  </tbody>\n",
       "</table>\n",
       "</div>"
      ],
      "text/plain": [
       "     B   M\n",
       "B  122   0\n",
       "M   20  48"
      ]
     },
     "execution_count": 45,
     "metadata": {},
     "output_type": "execute_result"
    }
   ],
   "source": [
    "pd.DataFrame(cm, index=model.classes_, columns=model.classes_)"
   ]
  },
  {
   "cell_type": "markdown",
   "metadata": {},
   "source": [
    "- La matrice ad esempio ci indica che, di 68 esempi di immagini di cellule maligne (seconda riga) presenti nel validation set\n",
    "  - 48 sono state correttamente etichettate come tali\n",
    "  - 20 sono state erroneamente etichettate come benigne\n",
    "- L'accuratezza si può ottenere dalla matrice di confusione come somma dei valori nella diagonale divisa per la somma complessiva"
   ]
  },
  {
   "cell_type": "code",
   "execution_count": 46,
   "metadata": {},
   "outputs": [
    {
     "data": {
      "text/plain": [
       "0.8947368421052632"
      ]
     },
     "execution_count": 46,
     "metadata": {},
     "output_type": "execute_result"
    }
   ],
   "source": [
    "cm.diagonal().sum() / cm.sum()"
   ]
  },
  {
   "cell_type": "markdown",
   "metadata": {
    "slideshow": {
     "slide_type": "slide"
    }
   },
   "source": [
    "- Dalla sola matrice di confusione possiamo ricavare altre misure di performance importanti\n",
    "- Presa una classe di riferimento, ad es. \"M\" (cellule maligne), la **_precision_** indica la percentuale di esempi classificati come \"M\" che sono realmente tali"
   ]
  },
  {
   "cell_type": "code",
   "execution_count": 47,
   "metadata": {},
   "outputs": [
    {
     "data": {
      "text/plain": [
       "1.0"
      ]
     },
     "execution_count": 47,
     "metadata": {},
     "output_type": "execute_result"
    }
   ],
   "source": [
    "#        quante istanze del validation set sono PREDETTE \"M\"\n",
    "#                          ^^^^^^^^^^^^^^\n",
    "malignant_prc = cm[1, 1] / cm[:, 1].sum()\n",
    "malignant_prc"
   ]
  },
  {
   "cell_type": "markdown",
   "metadata": {},
   "source": [
    "- Di contro, la **_recall_** indica la percentuale di esempi realmente di classe \"M\" che sono stati rilevati essere tali dal modello"
   ]
  },
  {
   "cell_type": "code",
   "execution_count": 48,
   "metadata": {},
   "outputs": [
    {
     "data": {
      "text/plain": [
       "0.7058823529411765"
      ]
     },
     "execution_count": 48,
     "metadata": {},
     "output_type": "execute_result"
    }
   ],
   "source": [
    "#        quante istanze del validation set sono REALMENTE \"M\"\n",
    "#                          ^^^^^^^^^^^^^^\n",
    "malignant_rec = cm[1, 1] / cm[1, :].sum()\n",
    "malignant_rec"
   ]
  },
  {
   "cell_type": "markdown",
   "metadata": {
    "slideshow": {
     "slide_type": "slide"
    }
   },
   "source": [
    "- Precision e recall sono quindi due indicatori complementari della bontà di un modello\n",
    "- Generalmente, tarando il modello per migliorarne uno, l'altro peggiora\n",
    "- Come misura unica della performance di un modello è spesso usata quindi la **_F1-measure_**, ovvero la media armonica tra precision e recall\n",
    "$$ F_1 = \\frac{2\\cdot P\\cdot R}{P+R} $$"
   ]
  },
  {
   "cell_type": "code",
   "execution_count": 49,
   "metadata": {},
   "outputs": [
    {
     "data": {
      "text/plain": [
       "0.8275862068965517"
      ]
     },
     "execution_count": 49,
     "metadata": {},
     "output_type": "execute_result"
    }
   ],
   "source": [
    "2 * malignant_prc * malignant_rec / (malignant_prc + malignant_rec)"
   ]
  },
  {
   "cell_type": "markdown",
   "metadata": {
    "slideshow": {
     "slide_type": "slide"
    }
   },
   "source": [
    "- Per calcolare direttamente tali misure, scikit-learn fornisce le funzioni `precision_score`, `recall_score` e `f1_score`\n",
    "  - col parametro `pos_label` si indica la classe di riferimento\n",
    "  - si può in alternativa ottenere un vettore di punteggi per tutte le classi (`average=None`) o la loro media (`average=\"macro\"`)"
   ]
  },
  {
   "cell_type": "code",
   "execution_count": 50,
   "metadata": {},
   "outputs": [],
   "source": [
    "from sklearn.metrics import precision_score, recall_score, f1_score"
   ]
  },
  {
   "cell_type": "code",
   "execution_count": 51,
   "metadata": {},
   "outputs": [
    {
     "data": {
      "text/plain": [
       "1.0"
      ]
     },
     "execution_count": 51,
     "metadata": {},
     "output_type": "execute_result"
    }
   ],
   "source": [
    "precision_score(y_val, y_pred, pos_label=\"M\")"
   ]
  },
  {
   "cell_type": "code",
   "execution_count": 52,
   "metadata": {},
   "outputs": [
    {
     "data": {
      "text/plain": [
       "0.7058823529411765"
      ]
     },
     "execution_count": 52,
     "metadata": {},
     "output_type": "execute_result"
    }
   ],
   "source": [
    "recall_score(y_val, y_pred, pos_label=\"M\")"
   ]
  },
  {
   "cell_type": "code",
   "execution_count": 53,
   "metadata": {},
   "outputs": [
    {
     "data": {
      "text/plain": [
       "array([0.92424242, 0.82758621])"
      ]
     },
     "execution_count": 53,
     "metadata": {},
     "output_type": "execute_result"
    }
   ],
   "source": [
    "f1_score(y_val, y_pred, average=None)"
   ]
  },
  {
   "cell_type": "code",
   "execution_count": 54,
   "metadata": {},
   "outputs": [
    {
     "data": {
      "text/plain": [
       "0.875914315569488"
      ]
     },
     "execution_count": 54,
     "metadata": {},
     "output_type": "execute_result"
    }
   ],
   "source": [
    "f1_score(y_val, y_pred, average=\"macro\")"
   ]
  },
  {
   "cell_type": "markdown",
   "metadata": {
    "slideshow": {
     "slide_type": "slide"
    }
   },
   "source": [
    "## Regressione Logistica\n",
    "\n",
    "- La regressione _logistica_ è un modello di classificazione binaria basato sulla regressione lineare\n",
    "- Sia data una variabile y pari a 1 per gli esempi di una classe (positiva) e -1 per quelli dell'altra (negativa), si minimizza la funzione\n",
    "$$ \\sum_{i=1}^n \\log(\\exp(- y_i (X_i^T w + c)) + 1) $$\n",
    "- Per addestrare tale modello, creiamo un oggetto `LogisticRegression`\n",
    "  - `random_state` indica il seed per la casualità usato nell'addestramento\n",
    "  - `solver` indica quale implementazione utilizzare tra [diverse disponibili](https://scikit-learn.org/stable/modules/linear_model.html#logistic-regression) per l'addestramento, `\"saga\"` è l'unica che supporta tutte le opzioni per la regolarizzazione (che vediamo sotto)"
   ]
  },
  {
   "cell_type": "code",
   "execution_count": 55,
   "metadata": {},
   "outputs": [],
   "source": [
    "from sklearn.linear_model import LogisticRegression\n",
    "model = LogisticRegression(solver=\"saga\", random_state=42)"
   ]
  },
  {
   "cell_type": "markdown",
   "metadata": {
    "slideshow": {
     "slide_type": "slide"
    }
   },
   "source": [
    "- Come sopra, addestriamo il modello sui dati già standardizzati"
   ]
  },
  {
   "cell_type": "code",
   "execution_count": 56,
   "metadata": {},
   "outputs": [
    {
     "data": {
      "text/plain": [
       "LogisticRegression(random_state=42, solver='saga')"
      ]
     },
     "execution_count": 56,
     "metadata": {},
     "output_type": "execute_result"
    }
   ],
   "source": [
    "model.fit(X2dn_train, y_train)"
   ]
  },
  {
   "cell_type": "markdown",
   "metadata": {},
   "source": [
    "- Anche quì possiamo accedere ai parametri del modello addestrato e usarli per visualizzare il piano di separazione"
   ]
  },
  {
   "cell_type": "code",
   "execution_count": 57,
   "metadata": {},
   "outputs": [
    {
     "data": {
      "text/plain": [
       "array([1.77607177, 2.9625736 ])"
      ]
     },
     "execution_count": 57,
     "metadata": {},
     "output_type": "execute_result"
    }
   ],
   "source": [
    "model.coef_[0]"
   ]
  },
  {
   "cell_type": "code",
   "execution_count": 58,
   "metadata": {},
   "outputs": [
    {
     "data": {
      "text/plain": [
       "-0.3296498207295979"
      ]
     },
     "execution_count": 58,
     "metadata": {},
     "output_type": "execute_result"
    }
   ],
   "source": [
    "model.intercept_[0]"
   ]
  },
  {
   "cell_type": "code",
   "execution_count": 59,
   "metadata": {
    "slideshow": {
     "slide_type": "slide"
    }
   },
   "outputs": [
    {
     "data": {
      "image/png": "[encoded data removed]",
      "text/plain": [
       "<Figure size 576x432 with 1 Axes>"
      ]
     },
     "metadata": {
      "needs_background": "light"
     },
     "output_type": "display_data"
    }
   ],
   "source": [
    "plot_separator_on_data(X2dn_train, y_train, model)"
   ]
  },
  {
   "cell_type": "markdown",
   "metadata": {
    "slideshow": {
     "slide_type": "slide"
    }
   },
   "source": [
    "- La funzione logistica del modello restituisce la probabilità di appartenenza ad una classe (quella considerata \"positiva\")\n",
    "  - sia essa p, quella per la negativa è implicitamente 1-p\n",
    "- Date delle osservazioni da classificare, possiamo ottenere per ciascuna la distribuzione di probabilità tra le classi\n",
    "  - possiamo in pratica vedere quanto il classificatore sia \"sicuro\" della classe da assegnare\n",
    "- Passiamo le osservazioni al metodo `predict_proba`, ad es. le prime 3 del validation set: otteniamo una riga per ciascuna con le probabilità delle due classi\n",
    "  - possiamo verificare l'ordine delle classi in `classes_`"
   ]
  },
  {
   "cell_type": "code",
   "execution_count": 60,
   "metadata": {},
   "outputs": [
    {
     "data": {
      "text/plain": [
       "array(['B', 'M'], dtype=object)"
      ]
     },
     "execution_count": 60,
     "metadata": {},
     "output_type": "execute_result"
    }
   ],
   "source": [
    "model.classes_"
   ]
  },
  {
   "cell_type": "code",
   "execution_count": 61,
   "metadata": {},
   "outputs": [
    {
     "data": {
      "text/plain": [
       "array([[0.88335058, 0.11664942],\n",
       "       [0.01288568, 0.98711432],\n",
       "       [0.06982745, 0.93017255]])"
      ]
     },
     "execution_count": 61,
     "metadata": {},
     "output_type": "execute_result"
    }
   ],
   "source": [
    "model.predict_proba(X2dn_val[:3])"
   ]
  },
  {
   "cell_type": "markdown",
   "metadata": {},
   "source": [
    "- Ad esempio la prima osservazione è \"B\" con probabilità 88\\%, mentre la seconda è \"M\" con probabilità 99\\%"
   ]
  },
  {
   "cell_type": "markdown",
   "metadata": {
    "slideshow": {
     "slide_type": "slide"
    }
   },
   "source": [
    "- Possiamo visualizzare in un grafico i dati sovrapposti al valore di probabilità restituito dal modello nello spazio dei dati"
   ]
  },
  {
   "cell_type": "code",
   "execution_count": 62,
   "metadata": {},
   "outputs": [
    {
     "data": {
      "image/png": "[encoded data removed]",
      "text/plain": [
       "<Figure size 648x432 with 2 Axes>"
      ]
     },
     "metadata": {
      "needs_background": "light"
     },
     "output_type": "display_data"
    }
   ],
   "source": [
    "# estraggo un campione di 100x100 punti nel piano\n",
    "mx1, mx2 = np.meshgrid(np.linspace(-2, 5.5, 100), np.linspace(-2, 4.5, 100))\n",
    "# estraggo le probabilità della classe M per ciascun punto\n",
    "my = model.predict_proba(np.c_[mx1.ravel(), mx2.ravel()])[:, 1].reshape(mx1.shape)\n",
    "# disegno il grafico\n",
    "plt.figure(figsize=(9, 6))\n",
    "plt.contourf(mx1, mx2, my, cmap=\"summer\")\n",
    "plt.scatter(*X2dn_train.T, c=y_train.map(diagnosis_color_map))\n",
    "plt.colorbar();"
   ]
  },
  {
   "cell_type": "markdown",
   "metadata": {
    "slideshow": {
     "slide_type": "slide"
    }
   },
   "source": [
    "## Esercizio 4: Accuratezza del modello\n",
    "\n",
    "In riferimento al modello di regressione logistica, calcolare sul validation set:\n",
    "- **(4a)** l'accuratezza del modello\n",
    "- **(4b)** la matrice di confusione\n",
    "- **(4c)** la F1-measure relativa alla classe \"M\""
   ]
  },
  {
   "cell_type": "code",
   "execution_count": 63,
   "metadata": {},
   "outputs": [],
   "source": [
    "##solhead:ESERCIZIO 4"
   ]
  },
  {
   "cell_type": "code",
   "execution_count": 64,
   "metadata": {},
   "outputs": [
    {
     "data": {
      "text/plain": [
       "0.9"
      ]
     },
     "execution_count": 64,
     "metadata": {},
     "output_type": "execute_result"
    }
   ],
   "source": [
    "##sol:4a\n",
    "model.score(X2dn_val, y_val)"
   ]
  },
  {
   "cell_type": "code",
   "execution_count": 65,
   "metadata": {},
   "outputs": [
    {
     "data": {
      "text/plain": [
       "array([[112,  10],\n",
       "       [  9,  59]])"
      ]
     },
     "execution_count": 65,
     "metadata": {},
     "output_type": "execute_result"
    }
   ],
   "source": [
    "##sol:4b\n",
    "confusion_matrix(y_val, model.predict(X2dn_val))"
   ]
  },
  {
   "cell_type": "code",
   "execution_count": 66,
   "metadata": {},
   "outputs": [
    {
     "data": {
      "text/plain": [
       "0.8613138686131386"
      ]
     },
     "execution_count": 66,
     "metadata": {},
     "output_type": "execute_result"
    }
   ],
   "source": [
    "##sol:4c\n",
    "f1_score(y_val, model.predict(X2dn_val), pos_label=\"M\")"
   ]
  },
  {
   "cell_type": "markdown",
   "metadata": {
    "slideshow": {
     "slide_type": "slide"
    }
   },
   "source": [
    "## Regolarizzazione\n",
    "\n",
    "- Anche nella regressione logistica possiamo applicare le tecniche di regolarizzazione viste nell'analisi di regressione\n",
    "- Di default nella classe `LogisticRegression` viene applicata la regolarizzazione L2, che mantiene limitati i pesi in $\\mathbf{w}$\n",
    "  - questo impedisce che a singole variabili siano dati pesi molto grandi\n",
    "- In `LogisticRegression` è possibile impostare un parametro `C`, che è il **reciproco** del peso della regolarizzazione (il parametro `alpha` visto in altre classi)\n",
    "  - `C` è il _costo_ assegnato alle classificazioni sbagliate nella funzione d'errore da minimizzare"
   ]
  },
  {
   "cell_type": "markdown",
   "metadata": {
    "slideshow": {
     "slide_type": "slide"
    }
   },
   "source": [
    "- Confrontiamo ad esempio tre modelli\n",
    "  - il `model` addestrato sopra con `C=1` (default)\n",
    "  - `model_high_C` con `C=1000` (scarsa regolarizzazione)\n",
    "  - `model_low_C` con `C=0.001` (regolarizzazione intensa)"
   ]
  },
  {
   "cell_type": "code",
   "execution_count": 67,
   "metadata": {},
   "outputs": [],
   "source": [
    "model_high_C = LogisticRegression(solver=\"saga\", random_state=42, C=10000)\n",
    "model_low_C = LogisticRegression(solver=\"saga\", random_state=42, C=0.01)"
   ]
  },
  {
   "cell_type": "markdown",
   "metadata": {},
   "source": [
    "- Addestriamo i due nuovi modelli sugli stessi dati a due variabili usati sopra"
   ]
  },
  {
   "cell_type": "code",
   "execution_count": 68,
   "metadata": {},
   "outputs": [],
   "source": [
    "model_high_C.fit(X2dn_train, y_train)\n",
    "model_low_C.fit(X2dn_train, y_train);"
   ]
  },
  {
   "cell_type": "markdown",
   "metadata": {
    "slideshow": {
     "slide_type": "slide"
    }
   },
   "source": [
    "- Mettiamo a confronto i parametri dei tre modelli addestrati\n",
    "  - creiamo una funzione per estrarli in forma di serie e la utilizziamo per costruire un frame"
   ]
  },
  {
   "cell_type": "code",
   "execution_count": 69,
   "metadata": {},
   "outputs": [
    {
     "data": {
      "text/html": [
       "<div>\n",
       "<style scoped>\n",
       "    .dataframe tbody tr th:only-of-type {\n",
       "        vertical-align: middle;\n",
       "    }\n",
       "\n",
       "    .dataframe tbody tr th {\n",
       "        vertical-align: top;\n",
       "    }\n",
       "\n",
       "    .dataframe thead th {\n",
       "        text-align: right;\n",
       "    }\n",
       "</style>\n",
       "<table border=\"1\" class=\"dataframe\">\n",
       "  <thead>\n",
       "    <tr style=\"text-align: right;\">\n",
       "      <th></th>\n",
       "      <th>low_C</th>\n",
       "      <th>mid_C</th>\n",
       "      <th>high_C</th>\n",
       "    </tr>\n",
       "  </thead>\n",
       "  <tbody>\n",
       "    <tr>\n",
       "      <th>w1</th>\n",
       "      <td>0.509911</td>\n",
       "      <td>1.776072</td>\n",
       "      <td>2.037397</td>\n",
       "    </tr>\n",
       "    <tr>\n",
       "      <th>w2</th>\n",
       "      <td>0.648664</td>\n",
       "      <td>2.962574</td>\n",
       "      <td>3.497886</td>\n",
       "    </tr>\n",
       "    <tr>\n",
       "      <th>b</th>\n",
       "      <td>-0.520482</td>\n",
       "      <td>-0.329650</td>\n",
       "      <td>-0.271896</td>\n",
       "    </tr>\n",
       "  </tbody>\n",
       "</table>\n",
       "</div>"
      ],
      "text/plain": [
       "       low_C     mid_C    high_C\n",
       "w1  0.509911  1.776072  2.037397\n",
       "w2  0.648664  2.962574  3.497886\n",
       "b  -0.520482 -0.329650 -0.271896"
      ]
     },
     "execution_count": 69,
     "metadata": {},
     "output_type": "execute_result"
    }
   ],
   "source": [
    "def params(model):\n",
    "    return pd.Series(list(model.coef_[0]) + [model.intercept_[0]],\n",
    "                     index=[\"w1\", \"w2\", \"b\"])\n",
    "models = {\"low_C\": model_low_C, \"mid_C\": model, \"high_C\": model_high_C}\n",
    "pd.DataFrame({name: params(model) for name, model in models.items()})"
   ]
  },
  {
   "cell_type": "markdown",
   "metadata": {},
   "source": [
    "- Si può notare che i pesi sono più alti per valori alti di C\n",
    "- Mettendo a confronto le rette dei tre modelli si può notare che, al calare di C, la retta tende ad avere un'inclinazione di (-)45°, in quanto w1 e w2 tendono ad eguagliarsi"
   ]
  },
  {
   "cell_type": "code",
   "execution_count": 70,
   "metadata": {
    "slideshow": {
     "slide_type": "slide"
    }
   },
   "outputs": [
    {
     "data": {
      "image/png": "[encoded data removed]",
      "text/plain": [
       "<Figure size 720x720 with 1 Axes>"
      ]
     },
     "metadata": {
      "needs_background": "light"
     },
     "output_type": "display_data"
    }
   ],
   "source": [
    "plt.figure(figsize=(10, 10))\n",
    "plt.scatter(*X2dn_train.T, c=y_train.map(diagnosis_color_map))\n",
    "xlim, ylim = plt.xlim(), plt.ylim()\n",
    "sep_x = np.linspace(*xlim, 2)\n",
    "sep_y_hc = separator_2d(model_high_C, sep_x)\n",
    "sep_y_mc = separator_2d(model, sep_x)\n",
    "sep_y_lc = separator_2d(model_low_C, sep_x)\n",
    "plt.plot(sep_x, sep_y_hc)\n",
    "plt.plot(sep_x, sep_y_mc)\n",
    "plt.plot(sep_x, sep_y_lc)\n",
    "plt.legend([\"Dati\", \"C=10000\", \"C=1\", \"C=0.01\"])\n",
    "plt.xlim(xlim); plt.ylim(ylim);"
   ]
  },
  {
   "cell_type": "markdown",
   "metadata": {
    "slideshow": {
     "slide_type": "slide"
    }
   },
   "source": [
    "- `LogisticRegression` supporta anche la regolarizzazione L1, che permette di azzerare i pesi delle variabili meno significative\n",
    "- Possiamo applicarla al posto della L2 specificando `penalty=\"l1\"`\n",
    "- Addestriamo ad esempio un modello con regolarizzazione L1 e C basso"
   ]
  },
  {
   "cell_type": "code",
   "execution_count": 71,
   "metadata": {},
   "outputs": [],
   "source": [
    "model = LogisticRegression(solver=\"saga\", random_state=42, penalty=\"l1\", C=0.01)\n",
    "model.fit(X2dn_train, y_train);"
   ]
  },
  {
   "cell_type": "markdown",
   "metadata": {},
   "source": [
    "- Vediamone i parametri"
   ]
  },
  {
   "cell_type": "code",
   "execution_count": 72,
   "metadata": {},
   "outputs": [
    {
     "data": {
      "text/plain": [
       "array([0.        , 0.50493059])"
      ]
     },
     "execution_count": 72,
     "metadata": {},
     "output_type": "execute_result"
    }
   ],
   "source": [
    "model.coef_[0]"
   ]
  },
  {
   "cell_type": "code",
   "execution_count": 73,
   "metadata": {},
   "outputs": [
    {
     "data": {
      "text/plain": [
       "-0.5089287059647748"
      ]
     },
     "execution_count": 73,
     "metadata": {},
     "output_type": "execute_result"
    }
   ],
   "source": [
    "model.intercept_[0]"
   ]
  },
  {
   "cell_type": "markdown",
   "metadata": {},
   "source": [
    "- Il peso di una delle due variabili ($x_1$) è stato annullato per via della forte regolarizzazione"
   ]
  },
  {
   "cell_type": "markdown",
   "metadata": {
    "slideshow": {
     "slide_type": "slide"
    }
   },
   "source": [
    "- In pratica la retta individuata dal modello è parallela all'asse $x_1$"
   ]
  },
  {
   "cell_type": "code",
   "execution_count": 74,
   "metadata": {},
   "outputs": [
    {
     "data": {
      "image/png": "[encoded data removed]",
      "text/plain": [
       "<Figure size 576x432 with 1 Axes>"
      ]
     },
     "metadata": {
      "needs_background": "light"
     },
     "output_type": "display_data"
    }
   ],
   "source": [
    "plot_separator_on_data(X2dn_train, y_train, model)"
   ]
  },
  {
   "cell_type": "markdown",
   "metadata": {
    "slideshow": {
     "slide_type": "slide"
    }
   },
   "source": [
    "- Possiamo infine indicare `penalty=\"elasticnet\"` per applicare entrambe le tecniche di regolarizzazione\n",
    "  - con `C` si regola il peso complessivo dei due termini di regolarizzazione\n",
    "  - possiamo decidere la proporzione tra le due tramite il parametro `l1_ratio`, funzionante come nel modello di regressione `ElasticNet`"
   ]
  },
  {
   "cell_type": "code",
   "execution_count": 75,
   "metadata": {},
   "outputs": [],
   "source": [
    "model = LogisticRegression(\n",
    "    solver=\"saga\", random_state=42,\n",
    "    penalty=\"elasticnet\", C=0.1, l1_ratio=0.2)\n",
    "model.fit(X2dn_train, y_train);"
   ]
  },
  {
   "cell_type": "markdown",
   "metadata": {},
   "source": [
    "- In questo dataset relativamente semplice non si apprezzano particolari differenze nell'accuratezza"
   ]
  },
  {
   "cell_type": "code",
   "execution_count": 76,
   "metadata": {},
   "outputs": [
    {
     "data": {
      "text/plain": [
       "0.9"
      ]
     },
     "execution_count": 76,
     "metadata": {},
     "output_type": "execute_result"
    }
   ],
   "source": [
    "model.score(X2dn_val, y_val)"
   ]
  },
  {
   "cell_type": "markdown",
   "metadata": {},
   "source": [
    "- È anche possibile disabilitare completamente la regolarizzazione con `penalty=\"none\"`, in tal caso il parametro `C` è ininfluente"
   ]
  },
  {
   "cell_type": "markdown",
   "metadata": {
    "slideshow": {
     "slide_type": "slide"
    }
   },
   "source": [
    "## Cross-validation su classificazione\n",
    "\n",
    "- Abbiamo già visto la cross validation a k fold per la validazione di un modello\n",
    "  - ciascun 1/k dei dati è testato su un modello addestrato sui restanti\n",
    "- Dovendo addestrare un modello a riconoscere delle classi, è opportuno che le proporzioni di ciascuna classe nei fold siano uguali\n",
    "- `StratifiedKFold` è una variante di `KFold` che garantisce uguale distribuzione delle classi tra un fold e l'altro\n",
    "  - le opzioni impostabili sono le stesse (numero di fold e casualità)\n",
    "- Per confronto, creiamo sia uno splitter `KFold` che uno `StratifiedKFold` con stessi parametri (3 fold)"
   ]
  },
  {
   "cell_type": "code",
   "execution_count": 77,
   "metadata": {},
   "outputs": [],
   "source": [
    "from sklearn.model_selection import KFold, StratifiedKFold\n",
    "kf = KFold(3, shuffle=True, random_state=42)\n",
    "skf = StratifiedKFold(3, shuffle=True, random_state=42)"
   ]
  },
  {
   "cell_type": "markdown",
   "metadata": {},
   "source": [
    "- Confrontando le distribuzioni delle classi nei validation set dei 3 fold, vediamo che con `StratifiedKFold` sono eque"
   ]
  },
  {
   "cell_type": "code",
   "execution_count": 78,
   "metadata": {
    "slideshow": {
     "slide_type": "slide"
    }
   },
   "outputs": [
    {
     "name": "stdout",
     "output_type": "stream",
     "text": [
      "B    75\n",
      "M    52\n",
      "Name: diagnosis, dtype: int64\n",
      "B    75\n",
      "M    51\n",
      "Name: diagnosis, dtype: int64\n",
      "B    85\n",
      "M    41\n",
      "Name: diagnosis, dtype: int64\n"
     ]
    }
   ],
   "source": [
    "# KFold\n",
    "for train, val in kf.split(X2dn_train, y_train):\n",
    "    print(y_train.iloc[val].value_counts())"
   ]
  },
  {
   "cell_type": "code",
   "execution_count": 79,
   "metadata": {},
   "outputs": [
    {
     "name": "stdout",
     "output_type": "stream",
     "text": [
      "B    79\n",
      "M    48\n",
      "Name: diagnosis, dtype: int64\n",
      "B    78\n",
      "M    48\n",
      "Name: diagnosis, dtype: int64\n",
      "B    78\n",
      "M    48\n",
      "Name: diagnosis, dtype: int64\n"
     ]
    }
   ],
   "source": [
    "# StratifiedKFold\n",
    "for train, val in skf.split(X2dn_train, y_train):\n",
    "    print(y_train.iloc[val].value_counts())"
   ]
  },
  {
   "cell_type": "markdown",
   "metadata": {
    "slideshow": {
     "slide_type": "slide"
    }
   },
   "source": [
    "## Grid search con parametri opzionali\n",
    "\n",
    "- Abbiamo visto come, data una \"griglia\" con liste di valori possibili per gli iperparametri di un modello, la grid search testi tutte le combinazioni possibili\n",
    "- Esistono però casi in cui alcuni parametri sono significativi dipendentemente dai valori di altri\n",
    "- Ad es. in `LogisticRegression` ha senso specificare `l1_ratio` solo se `penalty=\"elasticnet\"`\n",
    "- Per risolvere il problema, possiamo scomporre le combinazioni possibili su **più griglie di parametri**"
   ]
  },
  {
   "cell_type": "markdown",
   "metadata": {
    "slideshow": {
     "slide_type": "slide"
    }
   },
   "source": [
    "- Ipotizziamo ad esempio di voler testare la `LogisticRegression` con:\n",
    "  - regolarizzazione di tipo \"l2\", \"l1\" o \"elasticnet\"\n",
    "  - parametro C pari a 0.1, 1 o 10\n",
    "  - nel caso di \"elasticnet\", `l1_ratio` pari a 0.2 o 0.5\n",
    "- Il modello base è dato da:"
   ]
  },
  {
   "cell_type": "code",
   "execution_count": 80,
   "metadata": {},
   "outputs": [],
   "source": [
    "model = LogisticRegression(solver=\"saga\", random_state=42)"
   ]
  },
  {
   "cell_type": "markdown",
   "metadata": {},
   "source": [
    "- Un modo per testare tutte le combinazioni sarebbe:"
   ]
  },
  {
   "cell_type": "code",
   "execution_count": 81,
   "metadata": {},
   "outputs": [],
   "source": [
    "grid = {\n",
    "    \"penalty\": [\"l2\", \"l1\", \"elasticnet\"],\n",
    "    \"C\": [0.1, 1, 10],\n",
    "    \"l1_ratio\": [0.2, 0.5]\n",
    "}"
   ]
  },
  {
   "cell_type": "markdown",
   "metadata": {},
   "source": [
    "- La griglia genera un totale di 3×3×2=18 combinazioni\n",
    "- Però i casi con regolarizzazione L2 e L1 sarebbero ripetuti con due valori possibili di `l1_ratio`, che non ha alcuna influenza\n",
    "  - riceveremmo inoltre dei warning perché impostiamo inutilmente il parametro `l1_ratio`"
   ]
  },
  {
   "cell_type": "markdown",
   "metadata": {
    "slideshow": {
     "slide_type": "slide"
    }
   },
   "source": [
    "- L'alternativa è scomporre i casi da provare in due griglie:\n",
    "  - una con regolarizzazione L2 e L1 senza specificare `l1_ratio`\n",
    "  - una con elasticnet specificando i valori possibili di `l1_ratio`"
   ]
  },
  {
   "cell_type": "code",
   "execution_count": 82,
   "metadata": {},
   "outputs": [],
   "source": [
    "grid = [\n",
    "    {\n",
    "        \"penalty\": [\"l2\", \"l1\"],\n",
    "        \"C\": [0.1, 1, 10]\n",
    "    },\n",
    "    {\n",
    "        \"penalty\": [\"elasticnet\"],\n",
    "        \"C\": [0.1, 1, 10],\n",
    "        \"l1_ratio\": [0.2, 0.5]\n",
    "    }\n",
    "]"
   ]
  },
  {
   "cell_type": "markdown",
   "metadata": {},
   "source": [
    "- La grid search testerà tutte le 2×3=6 combinazioni possibili della prima griglia e le 1×3×2=6 combinazioni possibili della seconda, per un totale di 12 configurazioni"
   ]
  },
  {
   "cell_type": "markdown",
   "metadata": {
    "slideshow": {
     "slide_type": "slide"
    }
   },
   "source": [
    "- Definiamo la grid search, specificando il modello, la lista di griglie e lo splitter per la cross-validation (usiamo lo `StratifiedKFold` creato sopra)"
   ]
  },
  {
   "cell_type": "code",
   "execution_count": 83,
   "metadata": {},
   "outputs": [],
   "source": [
    "from sklearn.model_selection import GridSearchCV\n",
    "gs = GridSearchCV(model, grid, cv=skf)"
   ]
  },
  {
   "cell_type": "markdown",
   "metadata": {},
   "source": [
    "- Effettuiamo quindi la ricerca sui dati usati finora per il training"
   ]
  },
  {
   "cell_type": "code",
   "execution_count": 84,
   "metadata": {},
   "outputs": [],
   "source": [
    "gs.fit(X2dn_train, y_train);"
   ]
  },
  {
   "cell_type": "markdown",
   "metadata": {},
   "source": [
    "- Come al solito, possiamo verificare la migliore combinazione di iperparametri...\n",
    "  - la metrica di riferimento di default è l'accuratezza, cioè la percentuale di classificazioni corrette"
   ]
  },
  {
   "cell_type": "code",
   "execution_count": 85,
   "metadata": {},
   "outputs": [
    {
     "data": {
      "text/plain": [
       "{'C': 0.1, 'penalty': 'l1'}"
      ]
     },
     "execution_count": 85,
     "metadata": {},
     "output_type": "execute_result"
    }
   ],
   "source": [
    "gs.best_params_"
   ]
  },
  {
   "cell_type": "markdown",
   "metadata": {
    "slideshow": {
     "slide_type": "slide"
    }
   },
   "source": [
    "- ...e vedere tutti i dettagli, ad es. selezionando le 5 parametrizzazioni con accuratezza migliore"
   ]
  },
  {
   "cell_type": "code",
   "execution_count": 86,
   "metadata": {},
   "outputs": [
    {
     "data": {
      "text/html": [
       "<div>\n",
       "<style scoped>\n",
       "    .dataframe tbody tr th:only-of-type {\n",
       "        vertical-align: middle;\n",
       "    }\n",
       "\n",
       "    .dataframe tbody tr th {\n",
       "        vertical-align: top;\n",
       "    }\n",
       "\n",
       "    .dataframe thead th {\n",
       "        text-align: right;\n",
       "    }\n",
       "</style>\n",
       "<table border=\"1\" class=\"dataframe\">\n",
       "  <thead>\n",
       "    <tr style=\"text-align: right;\">\n",
       "      <th></th>\n",
       "      <th>mean_fit_time</th>\n",
       "      <th>std_fit_time</th>\n",
       "      <th>mean_score_time</th>\n",
       "      <th>std_score_time</th>\n",
       "      <th>param_C</th>\n",
       "      <th>param_penalty</th>\n",
       "      <th>param_l1_ratio</th>\n",
       "      <th>params</th>\n",
       "      <th>split0_test_score</th>\n",
       "      <th>split1_test_score</th>\n",
       "      <th>split2_test_score</th>\n",
       "      <th>mean_test_score</th>\n",
       "      <th>std_test_score</th>\n",
       "      <th>rank_test_score</th>\n",
       "    </tr>\n",
       "  </thead>\n",
       "  <tbody>\n",
       "    <tr>\n",
       "      <th>1</th>\n",
       "      <td>0.003720</td>\n",
       "      <td>0.000363</td>\n",
       "      <td>0.000922</td>\n",
       "      <td>0.000058</td>\n",
       "      <td>0.1</td>\n",
       "      <td>l1</td>\n",
       "      <td>NaN</td>\n",
       "      <td>{'C': 0.1, 'penalty': 'l1'}</td>\n",
       "      <td>0.944882</td>\n",
       "      <td>0.904762</td>\n",
       "      <td>0.928571</td>\n",
       "      <td>0.926072</td>\n",
       "      <td>0.016474</td>\n",
       "      <td>1</td>\n",
       "    </tr>\n",
       "    <tr>\n",
       "      <th>2</th>\n",
       "      <td>0.003983</td>\n",
       "      <td>0.000482</td>\n",
       "      <td>0.000902</td>\n",
       "      <td>0.000073</td>\n",
       "      <td>1</td>\n",
       "      <td>l2</td>\n",
       "      <td>NaN</td>\n",
       "      <td>{'C': 1, 'penalty': 'l2'}</td>\n",
       "      <td>0.952756</td>\n",
       "      <td>0.896825</td>\n",
       "      <td>0.912698</td>\n",
       "      <td>0.920760</td>\n",
       "      <td>0.023534</td>\n",
       "      <td>2</td>\n",
       "    </tr>\n",
       "    <tr>\n",
       "      <th>3</th>\n",
       "      <td>0.003946</td>\n",
       "      <td>0.001033</td>\n",
       "      <td>0.000844</td>\n",
       "      <td>0.000143</td>\n",
       "      <td>1</td>\n",
       "      <td>l1</td>\n",
       "      <td>NaN</td>\n",
       "      <td>{'C': 1, 'penalty': 'l1'}</td>\n",
       "      <td>0.952756</td>\n",
       "      <td>0.896825</td>\n",
       "      <td>0.912698</td>\n",
       "      <td>0.920760</td>\n",
       "      <td>0.023534</td>\n",
       "      <td>2</td>\n",
       "    </tr>\n",
       "    <tr>\n",
       "      <th>4</th>\n",
       "      <td>0.004580</td>\n",
       "      <td>0.000847</td>\n",
       "      <td>0.000967</td>\n",
       "      <td>0.000083</td>\n",
       "      <td>10</td>\n",
       "      <td>l2</td>\n",
       "      <td>NaN</td>\n",
       "      <td>{'C': 10, 'penalty': 'l2'}</td>\n",
       "      <td>0.952756</td>\n",
       "      <td>0.896825</td>\n",
       "      <td>0.912698</td>\n",
       "      <td>0.920760</td>\n",
       "      <td>0.023534</td>\n",
       "      <td>2</td>\n",
       "    </tr>\n",
       "    <tr>\n",
       "      <th>5</th>\n",
       "      <td>0.002748</td>\n",
       "      <td>0.000037</td>\n",
       "      <td>0.000546</td>\n",
       "      <td>0.000053</td>\n",
       "      <td>10</td>\n",
       "      <td>l1</td>\n",
       "      <td>NaN</td>\n",
       "      <td>{'C': 10, 'penalty': 'l1'}</td>\n",
       "      <td>0.952756</td>\n",
       "      <td>0.896825</td>\n",
       "      <td>0.912698</td>\n",
       "      <td>0.920760</td>\n",
       "      <td>0.023534</td>\n",
       "      <td>2</td>\n",
       "    </tr>\n",
       "  </tbody>\n",
       "</table>\n",
       "</div>"
      ],
      "text/plain": [
       "   mean_fit_time  std_fit_time  mean_score_time  std_score_time param_C  \\\n",
       "1       0.003720      0.000363         0.000922        0.000058     0.1   \n",
       "2       0.003983      0.000482         0.000902        0.000073       1   \n",
       "3       0.003946      0.001033         0.000844        0.000143       1   \n",
       "4       0.004580      0.000847         0.000967        0.000083      10   \n",
       "5       0.002748      0.000037         0.000546        0.000053      10   \n",
       "\n",
       "  param_penalty param_l1_ratio                       params  \\\n",
       "1            l1            NaN  {'C': 0.1, 'penalty': 'l1'}   \n",
       "2            l2            NaN    {'C': 1, 'penalty': 'l2'}   \n",
       "3            l1            NaN    {'C': 1, 'penalty': 'l1'}   \n",
       "4            l2            NaN   {'C': 10, 'penalty': 'l2'}   \n",
       "5            l1            NaN   {'C': 10, 'penalty': 'l1'}   \n",
       "\n",
       "   split0_test_score  split1_test_score  split2_test_score  mean_test_score  \\\n",
       "1           0.944882           0.904762           0.928571         0.926072   \n",
       "2           0.952756           0.896825           0.912698         0.920760   \n",
       "3           0.952756           0.896825           0.912698         0.920760   \n",
       "4           0.952756           0.896825           0.912698         0.920760   \n",
       "5           0.952756           0.896825           0.912698         0.920760   \n",
       "\n",
       "   std_test_score  rank_test_score  \n",
       "1        0.016474                1  \n",
       "2        0.023534                2  \n",
       "3        0.023534                2  \n",
       "4        0.023534                2  \n",
       "5        0.023534                2  "
      ]
     },
     "execution_count": 86,
     "metadata": {},
     "output_type": "execute_result"
    }
   ],
   "source": [
    "pd.DataFrame(gs.cv_results_).sort_values(\"rank_test_score\").head(5)"
   ]
  },
  {
   "cell_type": "markdown",
   "metadata": {},
   "source": [
    "## Alberi decisionali per la classificazione\n",
    "\n",
    "- Abbiamo visto come utilizzare gli alberi decisionali per addestrare modelli di regressione non lineari\n",
    "- Lo stesso principio si può utilizzare per i problemi di classificazione con poche differenze\n",
    "  - così come nella regressione ogni foglia dell'albero rappresenta un diverso valore della variabile continua _y_ da predire...\n",
    "  - ...nella classificazione ogni foglia dell'albero indica una classe predetta per le istanze catturate da essa\n",
    "- Per addestrare alberi di classificazione usiamo la classe `DecisionTreeClassifier`, che accetta gli stessi iperparametri della classe `DecisionTreeRegressor` con lo stesso significato\n",
    "- Iniziamo addestrando un albero con profondità massima di 2 livelli"
   ]
  },
  {
   "cell_type": "code",
   "execution_count": 87,
   "metadata": {},
   "outputs": [],
   "source": [
    "from sklearn.tree import DecisionTreeClassifier\n",
    "model = DecisionTreeClassifier(max_depth=2)\n",
    "model.fit(X2d_train, y_train);"
   ]
  },
  {
   "cell_type": "markdown",
   "metadata": {},
   "source": [
    "- Come nella regressione, possiamo ottenere una rappresentazione degli alberi risultanti con le funzioni `export_text` e `plot_tree`"
   ]
  },
  {
   "cell_type": "code",
   "execution_count": 88,
   "metadata": {},
   "outputs": [
    {
     "name": "stdout",
     "output_type": "stream",
     "text": [
      "|--- mean_concave_pts <= 0.05\n",
      "|   |--- mean_area <= 696.25\n",
      "|   |   |--- class: B\n",
      "|   |--- mean_area >  696.25\n",
      "|   |   |--- class: B\n",
      "|--- mean_concave_pts >  0.05\n",
      "|   |--- mean_area <= 515.90\n",
      "|   |   |--- class: B\n",
      "|   |--- mean_area >  515.90\n",
      "|   |   |--- class: M\n",
      "\n"
     ]
    }
   ],
   "source": [
    "from sklearn.tree import export_text\n",
    "print(export_text(model, feature_names=X2d_train.columns.to_list()))"
   ]
  },
  {
   "cell_type": "code",
   "execution_count": 89,
   "metadata": {},
   "outputs": [
    {
     "data": {
      "image/png": "[encoded data removed]",
      "text/plain": [
       "<Figure size 864x576 with 1 Axes>"
      ]
     },
     "metadata": {
      "needs_background": "light"
     },
     "output_type": "display_data"
    }
   ],
   "source": [
    "from sklearn.tree import plot_tree\n",
    "plt.figure(figsize=(12, 8))\n",
    "plot_tree(model, feature_names=X2d_train.columns.to_list());"
   ]
  },
  {
   "cell_type": "markdown",
   "metadata": {},
   "source": [
    "- L'albero in pratica classifica un'istanza come \"M\" se `mean_concave_pts > 0.05` e `mean_area > 515.90`\n",
    "- Creiamo come sopra una visualizzazione delle probabilità\n",
    "  - in ogni nodo è associata una distribuzione di probabilità pari a quella delle istanze di training catturate dal nodo"
   ]
  },
  {
   "cell_type": "code",
   "execution_count": 90,
   "metadata": {},
   "outputs": [
    {
     "name": "stderr",
     "output_type": "stream",
     "text": [
      "/home/pasolini/.venvs/dia/lib/python3.10/site-packages/sklearn/base.py:450: UserWarning: X does not have valid feature names, but DecisionTreeClassifier was fitted with feature names\n",
      "  warnings.warn(\n"
     ]
    },
    {
     "data": {
      "image/png": "[encoded data removed]",
      "text/plain": [
       "<Figure size 648x432 with 2 Axes>"
      ]
     },
     "metadata": {
      "needs_background": "light"
     },
     "output_type": "display_data"
    }
   ],
   "source": [
    "# estraggo un campione di 100x100 punti nel piano\n",
    "mx1, mx2 = np.meshgrid(np.linspace(0, 2700, 100), np.linspace(0, 0.22, 100))\n",
    "# estraggo le probabilità della classe M per ciascun punto\n",
    "my = model.predict_proba(np.c_[mx1.ravel(), mx2.ravel()])[:, 1].reshape(mx1.shape)\n",
    "# disegno il grafico\n",
    "plt.figure(figsize=(9, 6))\n",
    "plt.contourf(mx1, mx2, my, cmap=\"summer\")\n",
    "plt.scatter(*X2d_train.values.T, c=y_train.map(diagnosis_color_map))\n",
    "plt.colorbar();"
   ]
  },
  {
   "cell_type": "markdown",
   "metadata": {},
   "source": [
    "- L'accuratezza è in questo caso simile a quella degli altri modelli"
   ]
  },
  {
   "cell_type": "code",
   "execution_count": 91,
   "metadata": {},
   "outputs": [
    {
     "data": {
      "text/plain": [
       "0.8947368421052632"
      ]
     },
     "execution_count": 91,
     "metadata": {},
     "output_type": "execute_result"
    }
   ],
   "source": [
    "model.score(X2d_val, y_val)"
   ]
  },
  {
   "cell_type": "markdown",
   "metadata": {},
   "source": [
    "- Non limitando la profondità dell'albero si crea una suddivisione dello spazio dei dati molto fine, che spesso però costituisce overfitting"
   ]
  },
  {
   "cell_type": "code",
   "execution_count": 92,
   "metadata": {},
   "outputs": [],
   "source": [
    "model = DecisionTreeClassifier()\n",
    "model.fit(X2d_train, y_train);"
   ]
  },
  {
   "cell_type": "code",
   "execution_count": 93,
   "metadata": {},
   "outputs": [
    {
     "data": {
      "text/plain": [
       "0.8947368421052632"
      ]
     },
     "execution_count": 93,
     "metadata": {},
     "output_type": "execute_result"
    }
   ],
   "source": [
    "model.score(X2d_val, y_val)"
   ]
  },
  {
   "cell_type": "code",
   "execution_count": 94,
   "metadata": {},
   "outputs": [
    {
     "name": "stderr",
     "output_type": "stream",
     "text": [
      "/home/pasolini/.venvs/dia/lib/python3.10/site-packages/sklearn/base.py:450: UserWarning: X does not have valid feature names, but DecisionTreeClassifier was fitted with feature names\n",
      "  warnings.warn(\n"
     ]
    },
    {
     "data": {
      "image/png": "[encoded data removed]",
      "text/plain": [
       "<Figure size 648x432 with 2 Axes>"
      ]
     },
     "metadata": {
      "needs_background": "light"
     },
     "output_type": "display_data"
    }
   ],
   "source": [
    "mx1, mx2 = np.meshgrid(np.linspace(0, 2700, 100), np.linspace(0, 0.22, 100))\n",
    "my = model.predict_proba(np.c_[mx1.ravel(), mx2.ravel()])[:, 1].reshape(mx1.shape)\n",
    "plt.figure(figsize=(9, 6))\n",
    "plt.contourf(mx1, mx2, my, cmap=\"summer\")\n",
    "plt.scatter(*X2d_train.values.T, c=y_train.map(diagnosis_color_map), s=3)\n",
    "plt.colorbar();"
   ]
  },
  {
   "cell_type": "code",
   "execution_count": 95,
   "metadata": {},
   "outputs": [
    {
     "name": "stderr",
     "output_type": "stream",
     "text": [
      "/home/pasolini/.venvs/dia/lib/python3.10/site-packages/sklearn/base.py:450: UserWarning: X does not have valid feature names, but DecisionTreeClassifier was fitted with feature names\n",
      "  warnings.warn(\n"
     ]
    },
    {
     "data": {
      "image/png": "[encoded data removed]",
      "text/plain": [
       "<Figure size 648x432 with 2 Axes>"
      ]
     },
     "metadata": {
      "needs_background": "light"
     },
     "output_type": "display_data"
    }
   ],
   "source": [
    "# zoom su una porzione di grafico\n",
    "xlim = (400, 600)\n",
    "ylim = (0.03, 0.04)\n",
    "mx1, mx2 = np.meshgrid(np.linspace(*xlim, 200), np.linspace(*ylim, 200))\n",
    "my = model.predict_proba(np.c_[mx1.ravel(), mx2.ravel()])[:, 1].reshape(mx1.shape)\n",
    "plt.figure(figsize=(9, 6))\n",
    "plt.contourf(mx1, mx2, my, cmap=\"summer\")\n",
    "plt.scatter(*X2d_train.values.T, c=y_train.map(diagnosis_color_map), s=80)\n",
    "plt.xlim(xlim); plt.ylim(ylim)\n",
    "plt.colorbar();"
   ]
  },
  {
   "cell_type": "markdown",
   "metadata": {
    "slideshow": {
     "slide_type": "slide"
    }
   },
   "source": [
    "## Esercizio 5: Addestramento sul dataset completo\n",
    "\n",
    "Effettuiamo ora esperimenti sul dataset completo con tutte le 30 variabili"
   ]
  },
  {
   "cell_type": "code",
   "execution_count": 96,
   "metadata": {},
   "outputs": [],
   "source": [
    "X = bcwds.drop(columns=\"diagnosis\")\n",
    "y = bcwds[\"diagnosis\"]"
   ]
  },
  {
   "cell_type": "markdown",
   "metadata": {},
   "source": [
    "- **(5a)** Addestrare un modello di regressione logistica con standardizzazione dei dati e regolarizzazione L1 con C=0.1 e stampare i pesi del modello etichettati con i nomi delle colonne\n",
    "  - verificare quante e quali delle 30 colonne risultano significative\n",
    "- **(5b)** Effettuare una grid search per ricercare i parametri migliori della regressione logistica sull'intero set di dati con cross-validation a 3 fold stratificati (riutilizzare l'oggetto `skf` sopra), testando tutte le configurazioni significative e stampando i dettagli delle 5 con migliore accuratezza\n",
    "  - con e senza standardizzazione dei dati\n",
    "  - con regolarizzazione \"l2\", \"l1\", \"elasticnet\" o \"none\" (ne L1 ne L2)\n",
    "  - con parametro C pari a 0.01, 0.1, 1, 10 o 100\n",
    "  - con `l1_ratio` pari a 0.2 o 0.5"
   ]
  },
  {
   "cell_type": "code",
   "execution_count": 97,
   "metadata": {},
   "outputs": [],
   "source": [
    "# usare una pipeline per effettuare la standardizzazione\n",
    "from sklearn.pipeline import Pipeline"
   ]
  },
  {
   "cell_type": "code",
   "execution_count": 98,
   "metadata": {},
   "outputs": [],
   "source": [
    "##solhead:ESERCIZIO 5"
   ]
  },
  {
   "cell_type": "code",
   "execution_count": 99,
   "metadata": {},
   "outputs": [
    {
     "name": "stderr",
     "output_type": "stream",
     "text": [
      "/home/pasolini/.venvs/dia/lib/python3.10/site-packages/sklearn/linear_model/_sag.py:352: ConvergenceWarning: The max_iter was reached which means the coef_ did not converge\n",
      "  warnings.warn(\n"
     ]
    },
    {
     "data": {
      "text/plain": [
       "mean_radius          0.029691\n",
       "mean_texture         0.005595\n",
       "mean_perimeter       0.000000\n",
       "mean_area            0.000000\n",
       "mean_smoothness      0.000000\n",
       "mean_compactness     0.000000\n",
       "mean_concavity       0.000000\n",
       "mean_concave_pts     0.575152\n",
       "mean_symmetry        0.000000\n",
       "mean_fractal_dim     0.000000\n",
       "std_radius           0.357914\n",
       "std_texture          0.000000\n",
       "std_perimeter        0.000000\n",
       "std_area             0.000000\n",
       "std_smoothness       0.000000\n",
       "std_compactness      0.000000\n",
       "std_concavity        0.000000\n",
       "std_concave_pts      0.000000\n",
       "std_symmetry         0.000000\n",
       "std_fractal_dim      0.000000\n",
       "worst_radius         1.022540\n",
       "worst_texture        0.719200\n",
       "worst_perimeter      0.781014\n",
       "worst_area           0.426817\n",
       "worst_smoothness     0.209736\n",
       "worst_compactness    0.000000\n",
       "worst_concavity      0.033866\n",
       "worst_concave_pts    0.947574\n",
       "worst_symmetry       0.177823\n",
       "worst_fractal_dim    0.000000\n",
       "dtype: float64"
      ]
     },
     "execution_count": 99,
     "metadata": {},
     "output_type": "execute_result"
    }
   ],
   "source": [
    "##sol:5a\n",
    "model = Pipeline([\n",
    "    (\"scaler\", StandardScaler()),\n",
    "    (\"lr\", LogisticRegression(solver=\"saga\", penalty=\"l1\", C=0.1))\n",
    "])\n",
    "model.fit(X, y)\n",
    "pd.Series(model.named_steps[\"lr\"].coef_[0], index=X.columns)"
   ]
  },
  {
   "cell_type": "code",
   "execution_count": 100,
   "metadata": {},
   "outputs": [
    {
     "name": "stderr",
     "output_type": "stream",
     "text": [
      "/home/pasolini/.venvs/dia/lib/python3.10/site-packages/sklearn/linear_model/_sag.py:352: ConvergenceWarning: The max_iter was reached which means the coef_ did not converge\n",
      "  warnings.warn(\n",
      "/home/pasolini/.venvs/dia/lib/python3.10/site-packages/sklearn/linear_model/_sag.py:352: ConvergenceWarning: The max_iter was reached which means the coef_ did not converge\n",
      "  warnings.warn(\n",
      "/home/pasolini/.venvs/dia/lib/python3.10/site-packages/sklearn/linear_model/_sag.py:352: ConvergenceWarning: The max_iter was reached which means the coef_ did not converge\n",
      "  warnings.warn(\n",
      "/home/pasolini/.venvs/dia/lib/python3.10/site-packages/sklearn/linear_model/_sag.py:352: ConvergenceWarning: The max_iter was reached which means the coef_ did not converge\n",
      "  warnings.warn(\n",
      "/home/pasolini/.venvs/dia/lib/python3.10/site-packages/sklearn/linear_model/_sag.py:352: ConvergenceWarning: The max_iter was reached which means the coef_ did not converge\n",
      "  warnings.warn(\n",
      "/home/pasolini/.venvs/dia/lib/python3.10/site-packages/sklearn/linear_model/_sag.py:352: ConvergenceWarning: The max_iter was reached which means the coef_ did not converge\n",
      "  warnings.warn(\n",
      "/home/pasolini/.venvs/dia/lib/python3.10/site-packages/sklearn/linear_model/_sag.py:352: ConvergenceWarning: The max_iter was reached which means the coef_ did not converge\n",
      "  warnings.warn(\n",
      "/home/pasolini/.venvs/dia/lib/python3.10/site-packages/sklearn/linear_model/_sag.py:352: ConvergenceWarning: The max_iter was reached which means the coef_ did not converge\n",
      "  warnings.warn(\n",
      "/home/pasolini/.venvs/dia/lib/python3.10/site-packages/sklearn/linear_model/_sag.py:352: ConvergenceWarning: The max_iter was reached which means the coef_ did not converge\n",
      "  warnings.warn(\n",
      "/home/pasolini/.venvs/dia/lib/python3.10/site-packages/sklearn/linear_model/_sag.py:352: ConvergenceWarning: The max_iter was reached which means the coef_ did not converge\n",
      "  warnings.warn(\n",
      "/home/pasolini/.venvs/dia/lib/python3.10/site-packages/sklearn/linear_model/_sag.py:352: ConvergenceWarning: The max_iter was reached which means the coef_ did not converge\n",
      "  warnings.warn(\n",
      "/home/pasolini/.venvs/dia/lib/python3.10/site-packages/sklearn/linear_model/_sag.py:352: ConvergenceWarning: The max_iter was reached which means the coef_ did not converge\n",
      "  warnings.warn(\n",
      "/home/pasolini/.venvs/dia/lib/python3.10/site-packages/sklearn/linear_model/_sag.py:352: ConvergenceWarning: The max_iter was reached which means the coef_ did not converge\n",
      "  warnings.warn(\n",
      "/home/pasolini/.venvs/dia/lib/python3.10/site-packages/sklearn/linear_model/_sag.py:352: ConvergenceWarning: The max_iter was reached which means the coef_ did not converge\n",
      "  warnings.warn(\n",
      "/home/pasolini/.venvs/dia/lib/python3.10/site-packages/sklearn/linear_model/_sag.py:352: ConvergenceWarning: The max_iter was reached which means the coef_ did not converge\n",
      "  warnings.warn(\n",
      "/home/pasolini/.venvs/dia/lib/python3.10/site-packages/sklearn/linear_model/_sag.py:352: ConvergenceWarning: The max_iter was reached which means the coef_ did not converge\n",
      "  warnings.warn(\n",
      "/home/pasolini/.venvs/dia/lib/python3.10/site-packages/sklearn/linear_model/_sag.py:352: ConvergenceWarning: The max_iter was reached which means the coef_ did not converge\n",
      "  warnings.warn(\n",
      "/home/pasolini/.venvs/dia/lib/python3.10/site-packages/sklearn/linear_model/_sag.py:352: ConvergenceWarning: The max_iter was reached which means the coef_ did not converge\n",
      "  warnings.warn(\n",
      "/home/pasolini/.venvs/dia/lib/python3.10/site-packages/sklearn/linear_model/_sag.py:352: ConvergenceWarning: The max_iter was reached which means the coef_ did not converge\n",
      "  warnings.warn(\n",
      "/home/pasolini/.venvs/dia/lib/python3.10/site-packages/sklearn/linear_model/_sag.py:352: ConvergenceWarning: The max_iter was reached which means the coef_ did not converge\n",
      "  warnings.warn(\n",
      "/home/pasolini/.venvs/dia/lib/python3.10/site-packages/sklearn/linear_model/_sag.py:352: ConvergenceWarning: The max_iter was reached which means the coef_ did not converge\n",
      "  warnings.warn(\n",
      "/home/pasolini/.venvs/dia/lib/python3.10/site-packages/sklearn/linear_model/_sag.py:352: ConvergenceWarning: The max_iter was reached which means the coef_ did not converge\n",
      "  warnings.warn(\n",
      "/home/pasolini/.venvs/dia/lib/python3.10/site-packages/sklearn/linear_model/_sag.py:352: ConvergenceWarning: The max_iter was reached which means the coef_ did not converge\n",
      "  warnings.warn(\n",
      "/home/pasolini/.venvs/dia/lib/python3.10/site-packages/sklearn/linear_model/_sag.py:352: ConvergenceWarning: The max_iter was reached which means the coef_ did not converge\n",
      "  warnings.warn(\n",
      "/home/pasolini/.venvs/dia/lib/python3.10/site-packages/sklearn/linear_model/_sag.py:352: ConvergenceWarning: The max_iter was reached which means the coef_ did not converge\n",
      "  warnings.warn(\n",
      "/home/pasolini/.venvs/dia/lib/python3.10/site-packages/sklearn/linear_model/_sag.py:352: ConvergenceWarning: The max_iter was reached which means the coef_ did not converge\n",
      "  warnings.warn(\n",
      "/home/pasolini/.venvs/dia/lib/python3.10/site-packages/sklearn/linear_model/_sag.py:352: ConvergenceWarning: The max_iter was reached which means the coef_ did not converge\n",
      "  warnings.warn(\n",
      "/home/pasolini/.venvs/dia/lib/python3.10/site-packages/sklearn/linear_model/_sag.py:352: ConvergenceWarning: The max_iter was reached which means the coef_ did not converge\n",
      "  warnings.warn(\n",
      "/home/pasolini/.venvs/dia/lib/python3.10/site-packages/sklearn/linear_model/_sag.py:352: ConvergenceWarning: The max_iter was reached which means the coef_ did not converge\n",
      "  warnings.warn(\n",
      "/home/pasolini/.venvs/dia/lib/python3.10/site-packages/sklearn/linear_model/_sag.py:352: ConvergenceWarning: The max_iter was reached which means the coef_ did not converge\n",
      "  warnings.warn(\n",
      "/home/pasolini/.venvs/dia/lib/python3.10/site-packages/sklearn/linear_model/_sag.py:352: ConvergenceWarning: The max_iter was reached which means the coef_ did not converge\n",
      "  warnings.warn(\n",
      "/home/pasolini/.venvs/dia/lib/python3.10/site-packages/sklearn/linear_model/_sag.py:352: ConvergenceWarning: The max_iter was reached which means the coef_ did not converge\n",
      "  warnings.warn(\n",
      "/home/pasolini/.venvs/dia/lib/python3.10/site-packages/sklearn/linear_model/_sag.py:352: ConvergenceWarning: The max_iter was reached which means the coef_ did not converge\n",
      "  warnings.warn(\n",
      "/home/pasolini/.venvs/dia/lib/python3.10/site-packages/sklearn/linear_model/_sag.py:352: ConvergenceWarning: The max_iter was reached which means the coef_ did not converge\n",
      "  warnings.warn(\n",
      "/home/pasolini/.venvs/dia/lib/python3.10/site-packages/sklearn/linear_model/_sag.py:352: ConvergenceWarning: The max_iter was reached which means the coef_ did not converge\n",
      "  warnings.warn(\n",
      "/home/pasolini/.venvs/dia/lib/python3.10/site-packages/sklearn/linear_model/_sag.py:352: ConvergenceWarning: The max_iter was reached which means the coef_ did not converge\n",
      "  warnings.warn(\n",
      "/home/pasolini/.venvs/dia/lib/python3.10/site-packages/sklearn/linear_model/_sag.py:352: ConvergenceWarning: The max_iter was reached which means the coef_ did not converge\n",
      "  warnings.warn(\n",
      "/home/pasolini/.venvs/dia/lib/python3.10/site-packages/sklearn/linear_model/_sag.py:352: ConvergenceWarning: The max_iter was reached which means the coef_ did not converge\n",
      "  warnings.warn(\n",
      "/home/pasolini/.venvs/dia/lib/python3.10/site-packages/sklearn/linear_model/_sag.py:352: ConvergenceWarning: The max_iter was reached which means the coef_ did not converge\n",
      "  warnings.warn(\n",
      "/home/pasolini/.venvs/dia/lib/python3.10/site-packages/sklearn/linear_model/_sag.py:352: ConvergenceWarning: The max_iter was reached which means the coef_ did not converge\n",
      "  warnings.warn(\n",
      "/home/pasolini/.venvs/dia/lib/python3.10/site-packages/sklearn/linear_model/_sag.py:352: ConvergenceWarning: The max_iter was reached which means the coef_ did not converge\n",
      "  warnings.warn(\n",
      "/home/pasolini/.venvs/dia/lib/python3.10/site-packages/sklearn/linear_model/_sag.py:352: ConvergenceWarning: The max_iter was reached which means the coef_ did not converge\n",
      "  warnings.warn(\n",
      "/home/pasolini/.venvs/dia/lib/python3.10/site-packages/sklearn/linear_model/_sag.py:352: ConvergenceWarning: The max_iter was reached which means the coef_ did not converge\n",
      "  warnings.warn(\n",
      "/home/pasolini/.venvs/dia/lib/python3.10/site-packages/sklearn/linear_model/_sag.py:352: ConvergenceWarning: The max_iter was reached which means the coef_ did not converge\n",
      "  warnings.warn(\n",
      "/home/pasolini/.venvs/dia/lib/python3.10/site-packages/sklearn/linear_model/_sag.py:352: ConvergenceWarning: The max_iter was reached which means the coef_ did not converge\n",
      "  warnings.warn(\n",
      "/home/pasolini/.venvs/dia/lib/python3.10/site-packages/sklearn/linear_model/_sag.py:352: ConvergenceWarning: The max_iter was reached which means the coef_ did not converge\n",
      "  warnings.warn(\n",
      "/home/pasolini/.venvs/dia/lib/python3.10/site-packages/sklearn/linear_model/_sag.py:352: ConvergenceWarning: The max_iter was reached which means the coef_ did not converge\n",
      "  warnings.warn(\n",
      "/home/pasolini/.venvs/dia/lib/python3.10/site-packages/sklearn/linear_model/_sag.py:352: ConvergenceWarning: The max_iter was reached which means the coef_ did not converge\n",
      "  warnings.warn(\n",
      "/home/pasolini/.venvs/dia/lib/python3.10/site-packages/sklearn/linear_model/_sag.py:352: ConvergenceWarning: The max_iter was reached which means the coef_ did not converge\n",
      "  warnings.warn(\n",
      "/home/pasolini/.venvs/dia/lib/python3.10/site-packages/sklearn/linear_model/_sag.py:352: ConvergenceWarning: The max_iter was reached which means the coef_ did not converge\n",
      "  warnings.warn(\n",
      "/home/pasolini/.venvs/dia/lib/python3.10/site-packages/sklearn/linear_model/_sag.py:352: ConvergenceWarning: The max_iter was reached which means the coef_ did not converge\n",
      "  warnings.warn(\n",
      "/home/pasolini/.venvs/dia/lib/python3.10/site-packages/sklearn/linear_model/_sag.py:352: ConvergenceWarning: The max_iter was reached which means the coef_ did not converge\n",
      "  warnings.warn(\n",
      "/home/pasolini/.venvs/dia/lib/python3.10/site-packages/sklearn/linear_model/_sag.py:352: ConvergenceWarning: The max_iter was reached which means the coef_ did not converge\n",
      "  warnings.warn(\n",
      "/home/pasolini/.venvs/dia/lib/python3.10/site-packages/sklearn/linear_model/_sag.py:352: ConvergenceWarning: The max_iter was reached which means the coef_ did not converge\n",
      "  warnings.warn(\n",
      "/home/pasolini/.venvs/dia/lib/python3.10/site-packages/sklearn/linear_model/_sag.py:352: ConvergenceWarning: The max_iter was reached which means the coef_ did not converge\n",
      "  warnings.warn(\n",
      "/home/pasolini/.venvs/dia/lib/python3.10/site-packages/sklearn/linear_model/_sag.py:352: ConvergenceWarning: The max_iter was reached which means the coef_ did not converge\n",
      "  warnings.warn(\n",
      "/home/pasolini/.venvs/dia/lib/python3.10/site-packages/sklearn/linear_model/_sag.py:352: ConvergenceWarning: The max_iter was reached which means the coef_ did not converge\n",
      "  warnings.warn(\n",
      "/home/pasolini/.venvs/dia/lib/python3.10/site-packages/sklearn/linear_model/_sag.py:352: ConvergenceWarning: The max_iter was reached which means the coef_ did not converge\n",
      "  warnings.warn(\n",
      "/home/pasolini/.venvs/dia/lib/python3.10/site-packages/sklearn/linear_model/_sag.py:352: ConvergenceWarning: The max_iter was reached which means the coef_ did not converge\n",
      "  warnings.warn(\n",
      "/home/pasolini/.venvs/dia/lib/python3.10/site-packages/sklearn/linear_model/_sag.py:352: ConvergenceWarning: The max_iter was reached which means the coef_ did not converge\n",
      "  warnings.warn(\n",
      "/home/pasolini/.venvs/dia/lib/python3.10/site-packages/sklearn/linear_model/_sag.py:352: ConvergenceWarning: The max_iter was reached which means the coef_ did not converge\n",
      "  warnings.warn(\n",
      "/home/pasolini/.venvs/dia/lib/python3.10/site-packages/sklearn/linear_model/_sag.py:352: ConvergenceWarning: The max_iter was reached which means the coef_ did not converge\n",
      "  warnings.warn(\n",
      "/home/pasolini/.venvs/dia/lib/python3.10/site-packages/sklearn/linear_model/_sag.py:352: ConvergenceWarning: The max_iter was reached which means the coef_ did not converge\n",
      "  warnings.warn(\n",
      "/home/pasolini/.venvs/dia/lib/python3.10/site-packages/sklearn/linear_model/_sag.py:352: ConvergenceWarning: The max_iter was reached which means the coef_ did not converge\n",
      "  warnings.warn(\n",
      "/home/pasolini/.venvs/dia/lib/python3.10/site-packages/sklearn/linear_model/_sag.py:352: ConvergenceWarning: The max_iter was reached which means the coef_ did not converge\n",
      "  warnings.warn(\n",
      "/home/pasolini/.venvs/dia/lib/python3.10/site-packages/sklearn/linear_model/_sag.py:352: ConvergenceWarning: The max_iter was reached which means the coef_ did not converge\n",
      "  warnings.warn(\n",
      "/home/pasolini/.venvs/dia/lib/python3.10/site-packages/sklearn/linear_model/_sag.py:352: ConvergenceWarning: The max_iter was reached which means the coef_ did not converge\n",
      "  warnings.warn(\n",
      "/home/pasolini/.venvs/dia/lib/python3.10/site-packages/sklearn/linear_model/_sag.py:352: ConvergenceWarning: The max_iter was reached which means the coef_ did not converge\n",
      "  warnings.warn(\n",
      "/home/pasolini/.venvs/dia/lib/python3.10/site-packages/sklearn/linear_model/_sag.py:352: ConvergenceWarning: The max_iter was reached which means the coef_ did not converge\n",
      "  warnings.warn(\n",
      "/home/pasolini/.venvs/dia/lib/python3.10/site-packages/sklearn/linear_model/_sag.py:352: ConvergenceWarning: The max_iter was reached which means the coef_ did not converge\n",
      "  warnings.warn(\n",
      "/home/pasolini/.venvs/dia/lib/python3.10/site-packages/sklearn/linear_model/_sag.py:352: ConvergenceWarning: The max_iter was reached which means the coef_ did not converge\n",
      "  warnings.warn(\n",
      "/home/pasolini/.venvs/dia/lib/python3.10/site-packages/sklearn/linear_model/_sag.py:352: ConvergenceWarning: The max_iter was reached which means the coef_ did not converge\n",
      "  warnings.warn(\n",
      "/home/pasolini/.venvs/dia/lib/python3.10/site-packages/sklearn/linear_model/_sag.py:352: ConvergenceWarning: The max_iter was reached which means the coef_ did not converge\n",
      "  warnings.warn(\n",
      "/home/pasolini/.venvs/dia/lib/python3.10/site-packages/sklearn/linear_model/_sag.py:352: ConvergenceWarning: The max_iter was reached which means the coef_ did not converge\n",
      "  warnings.warn(\n",
      "/home/pasolini/.venvs/dia/lib/python3.10/site-packages/sklearn/linear_model/_sag.py:352: ConvergenceWarning: The max_iter was reached which means the coef_ did not converge\n",
      "  warnings.warn(\n",
      "/home/pasolini/.venvs/dia/lib/python3.10/site-packages/sklearn/linear_model/_sag.py:352: ConvergenceWarning: The max_iter was reached which means the coef_ did not converge\n",
      "  warnings.warn(\n",
      "/home/pasolini/.venvs/dia/lib/python3.10/site-packages/sklearn/linear_model/_sag.py:352: ConvergenceWarning: The max_iter was reached which means the coef_ did not converge\n",
      "  warnings.warn(\n",
      "/home/pasolini/.venvs/dia/lib/python3.10/site-packages/sklearn/linear_model/_sag.py:352: ConvergenceWarning: The max_iter was reached which means the coef_ did not converge\n",
      "  warnings.warn(\n",
      "/home/pasolini/.venvs/dia/lib/python3.10/site-packages/sklearn/linear_model/_sag.py:352: ConvergenceWarning: The max_iter was reached which means the coef_ did not converge\n",
      "  warnings.warn(\n",
      "/home/pasolini/.venvs/dia/lib/python3.10/site-packages/sklearn/linear_model/_sag.py:352: ConvergenceWarning: The max_iter was reached which means the coef_ did not converge\n",
      "  warnings.warn(\n",
      "/home/pasolini/.venvs/dia/lib/python3.10/site-packages/sklearn/linear_model/_sag.py:352: ConvergenceWarning: The max_iter was reached which means the coef_ did not converge\n",
      "  warnings.warn(\n",
      "/home/pasolini/.venvs/dia/lib/python3.10/site-packages/sklearn/linear_model/_sag.py:352: ConvergenceWarning: The max_iter was reached which means the coef_ did not converge\n",
      "  warnings.warn(\n",
      "/home/pasolini/.venvs/dia/lib/python3.10/site-packages/sklearn/linear_model/_sag.py:352: ConvergenceWarning: The max_iter was reached which means the coef_ did not converge\n",
      "  warnings.warn(\n",
      "/home/pasolini/.venvs/dia/lib/python3.10/site-packages/sklearn/linear_model/_sag.py:352: ConvergenceWarning: The max_iter was reached which means the coef_ did not converge\n",
      "  warnings.warn(\n",
      "/home/pasolini/.venvs/dia/lib/python3.10/site-packages/sklearn/linear_model/_sag.py:352: ConvergenceWarning: The max_iter was reached which means the coef_ did not converge\n",
      "  warnings.warn(\n",
      "/home/pasolini/.venvs/dia/lib/python3.10/site-packages/sklearn/linear_model/_sag.py:352: ConvergenceWarning: The max_iter was reached which means the coef_ did not converge\n",
      "  warnings.warn(\n",
      "/home/pasolini/.venvs/dia/lib/python3.10/site-packages/sklearn/linear_model/_sag.py:352: ConvergenceWarning: The max_iter was reached which means the coef_ did not converge\n",
      "  warnings.warn(\n",
      "/home/pasolini/.venvs/dia/lib/python3.10/site-packages/sklearn/linear_model/_sag.py:352: ConvergenceWarning: The max_iter was reached which means the coef_ did not converge\n",
      "  warnings.warn(\n",
      "/home/pasolini/.venvs/dia/lib/python3.10/site-packages/sklearn/linear_model/_sag.py:352: ConvergenceWarning: The max_iter was reached which means the coef_ did not converge\n",
      "  warnings.warn(\n",
      "/home/pasolini/.venvs/dia/lib/python3.10/site-packages/sklearn/linear_model/_sag.py:352: ConvergenceWarning: The max_iter was reached which means the coef_ did not converge\n",
      "  warnings.warn(\n",
      "/home/pasolini/.venvs/dia/lib/python3.10/site-packages/sklearn/linear_model/_sag.py:352: ConvergenceWarning: The max_iter was reached which means the coef_ did not converge\n",
      "  warnings.warn(\n",
      "/home/pasolini/.venvs/dia/lib/python3.10/site-packages/sklearn/linear_model/_sag.py:352: ConvergenceWarning: The max_iter was reached which means the coef_ did not converge\n",
      "  warnings.warn(\n",
      "/home/pasolini/.venvs/dia/lib/python3.10/site-packages/sklearn/linear_model/_sag.py:352: ConvergenceWarning: The max_iter was reached which means the coef_ did not converge\n",
      "  warnings.warn(\n",
      "/home/pasolini/.venvs/dia/lib/python3.10/site-packages/sklearn/linear_model/_sag.py:352: ConvergenceWarning: The max_iter was reached which means the coef_ did not converge\n",
      "  warnings.warn(\n",
      "/home/pasolini/.venvs/dia/lib/python3.10/site-packages/sklearn/linear_model/_sag.py:352: ConvergenceWarning: The max_iter was reached which means the coef_ did not converge\n",
      "  warnings.warn(\n",
      "/home/pasolini/.venvs/dia/lib/python3.10/site-packages/sklearn/linear_model/_sag.py:352: ConvergenceWarning: The max_iter was reached which means the coef_ did not converge\n",
      "  warnings.warn(\n",
      "/home/pasolini/.venvs/dia/lib/python3.10/site-packages/sklearn/linear_model/_sag.py:352: ConvergenceWarning: The max_iter was reached which means the coef_ did not converge\n",
      "  warnings.warn(\n",
      "/home/pasolini/.venvs/dia/lib/python3.10/site-packages/sklearn/linear_model/_sag.py:352: ConvergenceWarning: The max_iter was reached which means the coef_ did not converge\n",
      "  warnings.warn(\n",
      "/home/pasolini/.venvs/dia/lib/python3.10/site-packages/sklearn/linear_model/_sag.py:352: ConvergenceWarning: The max_iter was reached which means the coef_ did not converge\n",
      "  warnings.warn(\n",
      "/home/pasolini/.venvs/dia/lib/python3.10/site-packages/sklearn/linear_model/_sag.py:352: ConvergenceWarning: The max_iter was reached which means the coef_ did not converge\n",
      "  warnings.warn(\n",
      "/home/pasolini/.venvs/dia/lib/python3.10/site-packages/sklearn/linear_model/_sag.py:352: ConvergenceWarning: The max_iter was reached which means the coef_ did not converge\n",
      "  warnings.warn(\n",
      "/home/pasolini/.venvs/dia/lib/python3.10/site-packages/sklearn/linear_model/_sag.py:352: ConvergenceWarning: The max_iter was reached which means the coef_ did not converge\n",
      "  warnings.warn(\n",
      "/home/pasolini/.venvs/dia/lib/python3.10/site-packages/sklearn/linear_model/_sag.py:352: ConvergenceWarning: The max_iter was reached which means the coef_ did not converge\n",
      "  warnings.warn(\n",
      "/home/pasolini/.venvs/dia/lib/python3.10/site-packages/sklearn/linear_model/_sag.py:352: ConvergenceWarning: The max_iter was reached which means the coef_ did not converge\n",
      "  warnings.warn(\n",
      "/home/pasolini/.venvs/dia/lib/python3.10/site-packages/sklearn/linear_model/_sag.py:352: ConvergenceWarning: The max_iter was reached which means the coef_ did not converge\n",
      "  warnings.warn(\n",
      "/home/pasolini/.venvs/dia/lib/python3.10/site-packages/sklearn/linear_model/_sag.py:352: ConvergenceWarning: The max_iter was reached which means the coef_ did not converge\n",
      "  warnings.warn(\n",
      "/home/pasolini/.venvs/dia/lib/python3.10/site-packages/sklearn/linear_model/_sag.py:352: ConvergenceWarning: The max_iter was reached which means the coef_ did not converge\n",
      "  warnings.warn(\n",
      "/home/pasolini/.venvs/dia/lib/python3.10/site-packages/sklearn/linear_model/_sag.py:352: ConvergenceWarning: The max_iter was reached which means the coef_ did not converge\n",
      "  warnings.warn(\n",
      "/home/pasolini/.venvs/dia/lib/python3.10/site-packages/sklearn/linear_model/_sag.py:352: ConvergenceWarning: The max_iter was reached which means the coef_ did not converge\n",
      "  warnings.warn(\n",
      "/home/pasolini/.venvs/dia/lib/python3.10/site-packages/sklearn/linear_model/_sag.py:352: ConvergenceWarning: The max_iter was reached which means the coef_ did not converge\n",
      "  warnings.warn(\n",
      "/home/pasolini/.venvs/dia/lib/python3.10/site-packages/sklearn/linear_model/_sag.py:352: ConvergenceWarning: The max_iter was reached which means the coef_ did not converge\n",
      "  warnings.warn(\n",
      "/home/pasolini/.venvs/dia/lib/python3.10/site-packages/sklearn/linear_model/_sag.py:352: ConvergenceWarning: The max_iter was reached which means the coef_ did not converge\n",
      "  warnings.warn(\n",
      "/home/pasolini/.venvs/dia/lib/python3.10/site-packages/sklearn/linear_model/_sag.py:352: ConvergenceWarning: The max_iter was reached which means the coef_ did not converge\n",
      "  warnings.warn(\n",
      "/home/pasolini/.venvs/dia/lib/python3.10/site-packages/sklearn/linear_model/_sag.py:352: ConvergenceWarning: The max_iter was reached which means the coef_ did not converge\n",
      "  warnings.warn(\n",
      "/home/pasolini/.venvs/dia/lib/python3.10/site-packages/sklearn/linear_model/_sag.py:352: ConvergenceWarning: The max_iter was reached which means the coef_ did not converge\n",
      "  warnings.warn(\n",
      "/home/pasolini/.venvs/dia/lib/python3.10/site-packages/sklearn/linear_model/_sag.py:352: ConvergenceWarning: The max_iter was reached which means the coef_ did not converge\n",
      "  warnings.warn(\n"
     ]
    },
    {
     "data": {
      "text/html": [
       "<div>\n",
       "<style scoped>\n",
       "    .dataframe tbody tr th:only-of-type {\n",
       "        vertical-align: middle;\n",
       "    }\n",
       "\n",
       "    .dataframe tbody tr th {\n",
       "        vertical-align: top;\n",
       "    }\n",
       "\n",
       "    .dataframe thead th {\n",
       "        text-align: right;\n",
       "    }\n",
       "</style>\n",
       "<table border=\"1\" class=\"dataframe\">\n",
       "  <thead>\n",
       "    <tr style=\"text-align: right;\">\n",
       "      <th></th>\n",
       "      <th>mean_fit_time</th>\n",
       "      <th>std_fit_time</th>\n",
       "      <th>mean_score_time</th>\n",
       "      <th>std_score_time</th>\n",
       "      <th>param_lr__penalty</th>\n",
       "      <th>param_scaler</th>\n",
       "      <th>param_lr__C</th>\n",
       "      <th>param_lr__l1_ratio</th>\n",
       "      <th>params</th>\n",
       "      <th>split0_test_score</th>\n",
       "      <th>split1_test_score</th>\n",
       "      <th>split2_test_score</th>\n",
       "      <th>mean_test_score</th>\n",
       "      <th>std_test_score</th>\n",
       "      <th>rank_test_score</th>\n",
       "    </tr>\n",
       "  </thead>\n",
       "  <tbody>\n",
       "    <tr>\n",
       "      <th>41</th>\n",
       "      <td>0.035036</td>\n",
       "      <td>0.000695</td>\n",
       "      <td>0.002341</td>\n",
       "      <td>0.000380</td>\n",
       "      <td>elasticnet</td>\n",
       "      <td>StandardScaler()</td>\n",
       "      <td>100.0</td>\n",
       "      <td>0.5</td>\n",
       "      <td>{'lr__C': 100.0, 'lr__l1_ratio': 0.5, 'lr__pen...</td>\n",
       "      <td>0.973684</td>\n",
       "      <td>0.968421</td>\n",
       "      <td>0.989418</td>\n",
       "      <td>0.977174</td>\n",
       "      <td>0.00892</td>\n",
       "      <td>1</td>\n",
       "    </tr>\n",
       "    <tr>\n",
       "      <th>21</th>\n",
       "      <td>0.028637</td>\n",
       "      <td>0.002074</td>\n",
       "      <td>0.002135</td>\n",
       "      <td>0.000233</td>\n",
       "      <td>l1</td>\n",
       "      <td>StandardScaler()</td>\n",
       "      <td>100.0</td>\n",
       "      <td>NaN</td>\n",
       "      <td>{'lr__C': 100.0, 'lr__penalty': 'l1', 'scaler'...</td>\n",
       "      <td>0.973684</td>\n",
       "      <td>0.968421</td>\n",
       "      <td>0.989418</td>\n",
       "      <td>0.977174</td>\n",
       "      <td>0.00892</td>\n",
       "      <td>1</td>\n",
       "    </tr>\n",
       "    <tr>\n",
       "      <th>39</th>\n",
       "      <td>0.030195</td>\n",
       "      <td>0.004184</td>\n",
       "      <td>0.003026</td>\n",
       "      <td>0.000563</td>\n",
       "      <td>elasticnet</td>\n",
       "      <td>StandardScaler()</td>\n",
       "      <td>100.0</td>\n",
       "      <td>0.2</td>\n",
       "      <td>{'lr__C': 100.0, 'lr__l1_ratio': 0.2, 'lr__pen...</td>\n",
       "      <td>0.973684</td>\n",
       "      <td>0.968421</td>\n",
       "      <td>0.989418</td>\n",
       "      <td>0.977174</td>\n",
       "      <td>0.00892</td>\n",
       "      <td>1</td>\n",
       "    </tr>\n",
       "    <tr>\n",
       "      <th>19</th>\n",
       "      <td>0.021913</td>\n",
       "      <td>0.001193</td>\n",
       "      <td>0.002459</td>\n",
       "      <td>0.000427</td>\n",
       "      <td>l2</td>\n",
       "      <td>StandardScaler()</td>\n",
       "      <td>100.0</td>\n",
       "      <td>NaN</td>\n",
       "      <td>{'lr__C': 100.0, 'lr__penalty': 'l2', 'scaler'...</td>\n",
       "      <td>0.973684</td>\n",
       "      <td>0.968421</td>\n",
       "      <td>0.989418</td>\n",
       "      <td>0.977174</td>\n",
       "      <td>0.00892</td>\n",
       "      <td>1</td>\n",
       "    </tr>\n",
       "    <tr>\n",
       "      <th>17</th>\n",
       "      <td>0.031215</td>\n",
       "      <td>0.001220</td>\n",
       "      <td>0.002718</td>\n",
       "      <td>0.001012</td>\n",
       "      <td>l1</td>\n",
       "      <td>StandardScaler()</td>\n",
       "      <td>10.0</td>\n",
       "      <td>NaN</td>\n",
       "      <td>{'lr__C': 10.0, 'lr__penalty': 'l1', 'scaler':...</td>\n",
       "      <td>0.973684</td>\n",
       "      <td>0.968421</td>\n",
       "      <td>0.989418</td>\n",
       "      <td>0.977174</td>\n",
       "      <td>0.00892</td>\n",
       "      <td>1</td>\n",
       "    </tr>\n",
       "  </tbody>\n",
       "</table>\n",
       "</div>"
      ],
      "text/plain": [
       "    mean_fit_time  std_fit_time  mean_score_time  std_score_time  \\\n",
       "41       0.035036      0.000695         0.002341        0.000380   \n",
       "21       0.028637      0.002074         0.002135        0.000233   \n",
       "39       0.030195      0.004184         0.003026        0.000563   \n",
       "19       0.021913      0.001193         0.002459        0.000427   \n",
       "17       0.031215      0.001220         0.002718        0.001012   \n",
       "\n",
       "   param_lr__penalty      param_scaler param_lr__C param_lr__l1_ratio  \\\n",
       "41        elasticnet  StandardScaler()       100.0                0.5   \n",
       "21                l1  StandardScaler()       100.0                NaN   \n",
       "39        elasticnet  StandardScaler()       100.0                0.2   \n",
       "19                l2  StandardScaler()       100.0                NaN   \n",
       "17                l1  StandardScaler()        10.0                NaN   \n",
       "\n",
       "                                               params  split0_test_score  \\\n",
       "41  {'lr__C': 100.0, 'lr__l1_ratio': 0.5, 'lr__pen...           0.973684   \n",
       "21  {'lr__C': 100.0, 'lr__penalty': 'l1', 'scaler'...           0.973684   \n",
       "39  {'lr__C': 100.0, 'lr__l1_ratio': 0.2, 'lr__pen...           0.973684   \n",
       "19  {'lr__C': 100.0, 'lr__penalty': 'l2', 'scaler'...           0.973684   \n",
       "17  {'lr__C': 10.0, 'lr__penalty': 'l1', 'scaler':...           0.973684   \n",
       "\n",
       "    split1_test_score  split2_test_score  mean_test_score  std_test_score  \\\n",
       "41           0.968421           0.989418         0.977174         0.00892   \n",
       "21           0.968421           0.989418         0.977174         0.00892   \n",
       "39           0.968421           0.989418         0.977174         0.00892   \n",
       "19           0.968421           0.989418         0.977174         0.00892   \n",
       "17           0.968421           0.989418         0.977174         0.00892   \n",
       "\n",
       "    rank_test_score  \n",
       "41                1  \n",
       "21                1  \n",
       "39                1  \n",
       "19                1  \n",
       "17                1  "
      ]
     },
     "execution_count": 100,
     "metadata": {},
     "output_type": "execute_result"
    }
   ],
   "source": [
    "##sol:5b\n",
    "model = Pipeline([\n",
    "    (\"scaler\", None),\n",
    "    (\"lr\", LogisticRegression(solver=\"saga\"))\n",
    "])\n",
    "grid = [\n",
    "    {\n",
    "        \"scaler\": [None, StandardScaler()],\n",
    "        \"lr__penalty\": [\"none\"]\n",
    "    },\n",
    "    {\n",
    "        \"scaler\": [None, StandardScaler()],\n",
    "        \"lr__penalty\": [\"l2\", \"l1\"],\n",
    "        \"lr__C\": np.logspace(-2, 2, 5)\n",
    "    },\n",
    "    {\n",
    "        \"scaler\": [None, StandardScaler()],\n",
    "        \"lr__penalty\": [\"elasticnet\"],\n",
    "        \"lr__C\": np.logspace(-2, 2, 5),\n",
    "        \"lr__l1_ratio\": [0.2, 0.5]\n",
    "    }\n",
    "]\n",
    "gs = GridSearchCV(model, grid, cv=skf)\n",
    "gs.fit(X, y)\n",
    "pd.DataFrame(gs.cv_results_).sort_values(\"rank_test_score\").head(5)"
   ]
  }
 ],
 "metadata": {
  "kernelspec": {
   "display_name": "DIA",
   "language": "python",
   "name": "dia"
  },
  "language_info": {
   "codemirror_mode": {
    "name": "ipython",
    "version": 3
   },
   "file_extension": ".py",
   "mimetype": "text/x-python",
   "name": "python",
   "nbconvert_exporter": "python",
   "pygments_lexer": "ipython3",
   "version": "3.10.4"
  }
 },
 "nbformat": 4,
 "nbformat_minor": 4
}
