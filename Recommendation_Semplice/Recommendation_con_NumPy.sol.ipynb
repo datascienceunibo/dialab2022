{
 "cells": [
  {
   "cell_type": "markdown",
   "id": "3a23e073",
   "metadata": {
    "slideshow": {
     "slide_type": "slide"
    }
   },
   "source": [
    "# Laboratorio: Recommendation con Algebra Lineare e NumPy\n",
    "\n",
    "**Programmazione di Applicazioni Data Intensive**  \n",
    "Laurea in Ingegneria e Scienze Informatiche  \n",
    "DISI - Università di Bologna, Cesena\n",
    "\n",
    "Proff. Gianluca Moro, Roberto Pasolini  \n",
    "nome.cognome@unibo.it"
   ]
  },
  {
   "cell_type": "markdown",
   "id": "505c1925",
   "metadata": {
    "slideshow": {
     "slide_type": "slide"
    }
   },
   "source": [
    "## Test librerie\n",
    "\n",
    "- NumPy si trova preinstallato su Colab e Anaconda\n",
    "- Eseguire la seguente cella per verificare il corretto funzionamento di NumPy"
   ]
  },
  {
   "cell_type": "code",
   "execution_count": 1,
   "id": "0b3bd34a",
   "metadata": {},
   "outputs": [
    {
     "data": {
      "text/plain": [
       "42"
      ]
     },
     "execution_count": 1,
     "metadata": {},
     "output_type": "execute_result"
    }
   ],
   "source": [
    "import numpy as np\n",
    "np.array([2, 6, 10, 24]).sum()"
   ]
  },
  {
   "cell_type": "markdown",
   "id": "b5ee2dbe",
   "metadata": {},
   "source": [
    "- In caso di errore, verificare di stare utilizzando il kernel corretto e che NumPy sia installato in esso\n",
    "- Per installare NumPy all'interno dell'ambiente virtuale corrente (può dare errore per permessi insufficienti in caso non si stia utilizzando un ambiente virtuale):"
   ]
  },
  {
   "cell_type": "code",
   "execution_count": 2,
   "id": "8a04d912",
   "metadata": {},
   "outputs": [],
   "source": [
    "# rimuovere il \"#\" nella riga sotto per abilitare il comando\n",
    "#pip install numpy"
   ]
  },
  {
   "cell_type": "markdown",
   "id": "805a13c8",
   "metadata": {
    "slideshow": {
     "slide_type": "slide"
    }
   },
   "source": [
    "## Recommendation: da strutture dati Python a matrici NumPy\n",
    "\n",
    "- Nella scorsa esercitazione abbiamo introdotto la **recommendation** di prodotti\n",
    "  - sappiamo **quali utenti** di un sito di e-commerce **hanno acquistato quali prodotti**\n",
    "  - vogliamo fornire **suggerimenti personalizzati a ciascun utente** su quali ulteriori prodotti dovrebbe acquistare\n",
    "- Abbiamo implementato una soluzione utilizzando **strutture dati e funzioni standard di Python**\n",
    "  - dizionari, insiemi, comprehension, ...\n",
    "- In questa esercitazione ripetiamo gli stessi passaggi usando **array NumPy**\n",
    "- Vediamo così come un problema reale si possa modellare nell'ambito dell'algebra lineare e risolvere tramite semplici operazioni tra matrici"
   ]
  },
  {
   "cell_type": "markdown",
   "id": "e82356f2",
   "metadata": {
    "slideshow": {
     "slide_type": "slide"
    }
   },
   "source": [
    "### Scaricamento file dati\n",
    "\n",
    "- Riutilizziamo i dati della scorsa esercitazione, scaricabili all'URL https://git.io/fhxQh\n",
    "- Eseguire la seguente cella di codice per scaricare il file ZIP dall'URL sopra ed estrarne i file"
   ]
  },
  {
   "cell_type": "code",
   "execution_count": 3,
   "id": "45b45aee",
   "metadata": {},
   "outputs": [],
   "source": [
    "import os.path\n",
    "if not os.path.exists(\"purchases_data.zip\"):\n",
    "    from urllib.request import urlretrieve\n",
    "    urlretrieve(\"https://git.io/fhxQh\", \"purchases_data.zip\")\n",
    "    from zipfile import ZipFile\n",
    "    with ZipFile(\"purchases_data.zip\") as f:\n",
    "        f.extractall()"
   ]
  },
  {
   "cell_type": "markdown",
   "id": "734642a7",
   "metadata": {
    "slideshow": {
     "slide_type": "slide"
    }
   },
   "source": [
    "### Caricamento Dati\n",
    "\n",
    "- Ripetiamo i passaggi della scorsa esercitazione per caricare i dati dai file\n",
    "  - il file `users.csv` contiene ID e nomi degli utenti analizzati: li carichiamo in un dizionario `users` che associ i nomi agli ID\n",
    "  - facciamo lo stesso col file `items.csv`, che contiene ID e nomi dei prodotti: otteniamo un dizionario `items`\n",
    "  - il file `purchases-2000.csv` contiene gli acquisti fino alla fine del 2000 in forma di tuple ID utente + ID prodotto: le carichiamo in un insieme `purchases_set`"
   ]
  },
  {
   "cell_type": "code",
   "execution_count": 4,
   "id": "93dc88da",
   "metadata": {},
   "outputs": [],
   "source": [
    "import csv\n",
    "with open(\"users.csv\", \"r\") as f:\n",
    "    users = {int(uid): name for uid, name in csv.reader(f, delimiter=\";\")}\n",
    "with open(\"items.csv\", \"r\") as f:\n",
    "    items = {int(iid): name for iid, name in csv.reader(f, delimiter=\";\")}\n",
    "with open(\"purchases-2000.csv\", \"r\") as f:\n",
    "    purchases_set = {(int(uid), int(iid)) for uid, iid in csv.reader(f, delimiter=\";\")}"
   ]
  },
  {
   "cell_type": "markdown",
   "id": "b5f1f55e",
   "metadata": {
    "slideshow": {
     "slide_type": "slide"
    }
   },
   "source": [
    "## Algebra Lineare e NumPy\n",
    "\n",
    "- Oggetto di studio dell'**algebra lineare** sono i vettori, le matrici e le principali operazioni tra di essi\n",
    "  - con vettori e matrici si possono rappresentare dati da analizzare\n",
    "  - informazioni d'interesse si possono estrarre con operazioni come il prodotto tra matrici\n",
    "- **NumPy** è una libreria Python molto usata per lavorare con vettori, matrici e array N-dimensionali in generale\n",
    "  - sugli array NumPy si possono compiere efficientemente operazioni elemento per elemento, aggregazioni, operazioni di algebra lineare, ecc.\n",
    "- Iniziando importando il package `numpy` assegnandogli l'alias convenzionale `np`"
   ]
  },
  {
   "cell_type": "code",
   "execution_count": 5,
   "id": "7a580ed5",
   "metadata": {},
   "outputs": [],
   "source": [
    "import numpy as np"
   ]
  },
  {
   "cell_type": "markdown",
   "id": "efed1b4c",
   "metadata": {
    "slideshow": {
     "slide_type": "slide"
    }
   },
   "source": [
    "## Rappresentare gli acquisti in forma di matrice\n",
    "\n",
    "- L'insieme `purchases` degli acquisti degli utenti analizzati può essere rappresentato in una matrice binaria (ovvero di valori 0 e 1)\n",
    "  - ogni **riga** corrisponde ad un **utente**\n",
    "  - ogni **colonna** corrisponde ad un **prodotto** distinto\n",
    "  - il valore della cella _i,j_ è 1 se l'utente i ha acquistato il prodotto j, 0 altrimenti\n",
    "\n",
    "$$\\mathbf{P} = \\begin{bmatrix}0&1&0&1&0&\\cdots\\\\1&0&0&1&0&\\cdots\\\\0&0&1&0&1&\\ldots\\\\\\vdots&\\vdots&\\vdots&\\vdots&\\vdots&\\ddots\\end{bmatrix}$$\n",
    "\n",
    "- Vediamo come costruire tale matrice"
   ]
  },
  {
   "cell_type": "markdown",
   "id": "466fb56a",
   "metadata": {
    "slideshow": {
     "slide_type": "slide"
    }
   },
   "source": [
    "### Assegnazione di indici a utenti e prodotti\n",
    "\n",
    "- Iniziamo definendo **a quali utenti e prodotti corrispondano** rispettivamente **righe e colonne** della matrice\n",
    "- Costruiamo un dizionario `user_indices` che associ ad ognuno degli N ID utente (`uid`) un numero tra 0 e N-1 (`index`)\n",
    "  - usiamo `enumerate` per ottenere tuple `(index, uid)`, dove _index_ è un numero progressivo da 0 a N-1  \n",
    "    `enumerate([X, Y, Z])` $\\Rightarrow$ `(0, X), (1, Y), (2, Z)`\n",
    "  - usiamo `sorted` per ottenere le chiavi in ordine crescente\n",
    "    - non è strettamente necessario, ma garantisce la piena riproducibilità dei passaggi"
   ]
  },
  {
   "cell_type": "code",
   "execution_count": 6,
   "id": "67ee70ae",
   "metadata": {},
   "outputs": [],
   "source": [
    "user_indices = {uid: index for index, uid in enumerate(sorted(users.keys()))}"
   ]
  },
  {
   "cell_type": "markdown",
   "id": "7d1e82ab",
   "metadata": {
    "slideshow": {
     "slide_type": "slide"
    }
   },
   "source": [
    "- Eseguiamo un'operazione simile per ottenere un dizionario `item_indices` con la numerazione degli oggetti"
   ]
  },
  {
   "cell_type": "code",
   "execution_count": 7,
   "id": "c85a4388",
   "metadata": {},
   "outputs": [],
   "source": [
    "item_indices = {iid: index for index, iid in enumerate(sorted(items.keys()))}"
   ]
  },
  {
   "cell_type": "markdown",
   "id": "4831eee1",
   "metadata": {},
   "source": [
    "- Abbiamo così ottenuto dizionari che mappano ID utenti e prodotti a righe e colonne della matrice\n",
    "- Ad esempio, la riga corrispondente all'utente con ID 63776 ha indice..."
   ]
  },
  {
   "cell_type": "code",
   "execution_count": 8,
   "id": "57611295",
   "metadata": {},
   "outputs": [
    {
     "data": {
      "text/plain": [
       "10"
      ]
     },
     "execution_count": 8,
     "metadata": {},
     "output_type": "execute_result"
    }
   ],
   "source": [
    "user_indices[63776]"
   ]
  },
  {
   "cell_type": "markdown",
   "id": "26982d10",
   "metadata": {
    "slideshow": {
     "slide_type": "slide"
    }
   },
   "source": [
    "### Inizializzazione della matrice\n",
    "\n",
    "- Per allocare la matrice degli acquisti, definiamone dapprima la _forma_, ovvero il numero di righe e di colonne\n",
    "- Questi sono pari rispettivamente al numero di utenti e di prodotti, che salviamo in due variabili per comodità"
   ]
  },
  {
   "cell_type": "code",
   "execution_count": 9,
   "id": "6d67e5f5",
   "metadata": {},
   "outputs": [
    {
     "name": "stdout",
     "output_type": "stream",
     "text": [
      "178 utenti, 3384 prodotti\n"
     ]
    }
   ],
   "source": [
    "n_users = len(users)\n",
    "n_items = len(items)\n",
    "print(f\"{n_users} utenti, {n_items} prodotti\")"
   ]
  },
  {
   "cell_type": "markdown",
   "id": "657b80b9",
   "metadata": {},
   "source": [
    "- Creiamo ora la matrice `purchases` inizializzando tutti i valori a 0, ovvero senza alcun acquisto\n",
    "- Usiamo per questo la funzione `zeros` passando la forma desiderata della matrice\n",
    "- Dato che la matrice conterrà solo valori interi (0 e 1), specifichiamo `int` come datatype\n",
    "  - `int` verrà convertito ad un dtype con una precisione specifica, es. `int64`"
   ]
  },
  {
   "cell_type": "code",
   "execution_count": 10,
   "id": "e3244100",
   "metadata": {},
   "outputs": [],
   "source": [
    "purchases = np.zeros((n_users, n_items), dtype=int)"
   ]
  },
  {
   "cell_type": "markdown",
   "id": "948b835f",
   "metadata": {
    "slideshow": {
     "slide_type": "slide"
    }
   },
   "source": [
    "### Esercizio 1: Scrittura acquisti nella matrice\n",
    "\n",
    "- Per ottenere la matrice degli acquisti effettiva, impostare a 1 gli elementi corrispondenti alle coppie utente-oggetto nell'insieme `purchases_set`\n",
    "  - usare opportunamente i dizionari `user_indices` e `item_indices` creati sopra\n",
    "  - per impostare un valore nella matrice:  \n",
    "    `matrice[indice_riga, indice_colonna] = valore`"
   ]
  },
  {
   "cell_type": "code",
   "execution_count": 12,
   "id": "0e2e4142",
   "metadata": {},
   "outputs": [],
   "source": [
    "for uid, iid in purchases_set:\n",
    "    row = user_indices[uid]\n",
    "    col = item_indices[iid]\n",
    "    purchases[row, col] = 1"
   ]
  },
  {
   "cell_type": "markdown",
   "id": "df7adaa4",
   "metadata": {
    "slideshow": {
     "slide_type": "slide"
    }
   },
   "source": [
    "- Visualizziamo una porzione della matrice ottenuta..."
   ]
  },
  {
   "cell_type": "code",
   "execution_count": 13,
   "id": "187f677d",
   "metadata": {},
   "outputs": [
    {
     "data": {
      "text/plain": [
       "array([[0, 0, 0, 0, 0, 0, 0, 0, 0, 0, 0, 0, 0, 0, 0],\n",
       "       [0, 0, 0, 0, 0, 0, 0, 0, 0, 0, 1, 0, 0, 0, 0],\n",
       "       [0, 0, 0, 0, 0, 0, 0, 0, 0, 0, 0, 0, 0, 0, 0],\n",
       "       [0, 0, 0, 0, 0, 0, 0, 0, 0, 0, 0, 1, 1, 0, 0],\n",
       "       [0, 0, 0, 0, 0, 0, 0, 0, 0, 0, 0, 0, 0, 0, 0]])"
      ]
     },
     "execution_count": 13,
     "metadata": {},
     "output_type": "execute_result"
    }
   ],
   "source": [
    "purchases[-5:, :15]   # ultime 5 righe, prime 15 colonne"
   ]
  },
  {
   "cell_type": "markdown",
   "id": "01e06b93",
   "metadata": {},
   "source": [
    "- Vediamo ad esempio che l'utente della penultima riga ha acquistato i prodotti di indice 11 e 12"
   ]
  },
  {
   "cell_type": "markdown",
   "id": "f6015175",
   "metadata": {
    "slideshow": {
     "slide_type": "slide"
    }
   },
   "source": [
    "### Array booleani\n",
    "\n",
    "- Oltre agli array numerici, NumPy supporta array booleani, contenenti valori `False` e `True`\n",
    "- Abbiamo rappresentato `purchases` con valori 0 e 1 perché è una notazione comune, ma può essere rappresentata anche come array booleano\n",
    "- Usiamo il metodo `astype` per ottenere una copia della matrice convertendone il datatype\n",
    "  - viene seguita la convenzione di Python per cui 0 diventa `False` e ogni altro numero `True`"
   ]
  },
  {
   "cell_type": "code",
   "execution_count": 14,
   "id": "93f6388a",
   "metadata": {},
   "outputs": [],
   "source": [
    "purchases_bool = purchases.astype(bool)"
   ]
  },
  {
   "cell_type": "markdown",
   "id": "e56b14fd",
   "metadata": {
    "slideshow": {
     "slide_type": "slide"
    }
   },
   "source": [
    "- Otteniamo una matrice con 0 e 1 convertiti rispettivamente in `False` e `True`"
   ]
  },
  {
   "cell_type": "code",
   "execution_count": 15,
   "id": "1d58a845",
   "metadata": {},
   "outputs": [
    {
     "data": {
      "text/plain": [
       "array([[False, False, False, False, False, False, False, False, False,\n",
       "        False, False, False, False, False, False],\n",
       "       [False, False, False, False, False, False, False, False, False,\n",
       "        False,  True, False, False, False, False],\n",
       "       [False, False, False, False, False, False, False, False, False,\n",
       "        False, False, False, False, False, False],\n",
       "       [False, False, False, False, False, False, False, False, False,\n",
       "        False, False,  True,  True, False, False],\n",
       "       [False, False, False, False, False, False, False, False, False,\n",
       "        False, False, False, False, False, False]])"
      ]
     },
     "execution_count": 15,
     "metadata": {},
     "output_type": "execute_result"
    }
   ],
   "source": [
    "purchases_bool[-5:, :15]   # ultime 5 righe, prime 15 colonne"
   ]
  },
  {
   "cell_type": "markdown",
   "id": "a644c471",
   "metadata": {},
   "source": [
    "- Questa versione booleana della matrice ci servirà per alcune operazioni"
   ]
  },
  {
   "cell_type": "markdown",
   "id": "c0b3f217",
   "metadata": {
    "slideshow": {
     "slide_type": "slide"
    }
   },
   "source": [
    "## Associare nomi a righe e colonne\n",
    "\n",
    "- I dizionari `*_indices` permettono, dato l'ID di un utente o prodotto, di risalire alla riga o colonna corrispondente della matrice\n",
    "- Creiamo ora un vettore `user_names` che contenga i nomi degli utenti nelle posizioni corrispondenti alle righe della matrice\n",
    "- Allochiamo un vettore vuoto con lunghezza pari al numero di utenti e tipo di elementi `object`, ovvero oggetti Python arbitrari\n",
    "  - `n_users` (valore singolo) equivale a `(n_users, )` (tupla di un elemento, quindi vettore)"
   ]
  },
  {
   "cell_type": "code",
   "execution_count": 16,
   "id": "ec62594c",
   "metadata": {},
   "outputs": [],
   "source": [
    "user_names = np.empty(n_users, dtype=object)"
   ]
  },
  {
   "cell_type": "markdown",
   "id": "1c4bcdbe",
   "metadata": {
    "slideshow": {
     "slide_type": "slide"
    }
   },
   "source": [
    "### Esercizio 2: Creazione vettori nomi\n",
    "\n",
    "- **(2a)** Riempire il vettore `user_names` con i nomi degli utenti corrispondenti alle righe di `purchases`\n",
    "  - usare i dizionari `users` e `user_indices`\n",
    "- **(2b)** Creare e riempire in modo simile un vettore `item_names` con i nomi degli oggetti corrispondenti alle colonne di `purchases`"
   ]
  },
  {
   "cell_type": "code",
   "execution_count": 18,
   "id": "b9dcb297",
   "metadata": {},
   "outputs": [],
   "source": [
    "# per ogni coppia ID, nome\n",
    "for uid, name in users.items():\n",
    "    # ottengo l'indice del vettore\n",
    "    i = user_indices[uid]\n",
    "    # inserisco il nome nel vettore\n",
    "    user_names[i] = name"
   ]
  },
  {
   "cell_type": "code",
   "execution_count": 19,
   "id": "e8515b3c",
   "metadata": {},
   "outputs": [],
   "source": [
    "item_names = np.empty(n_items, dtype=object)\n",
    "for iid, name in items.items():\n",
    "    item_names[item_indices[iid]] = name"
   ]
  },
  {
   "cell_type": "markdown",
   "id": "c6c647ed",
   "metadata": {
    "slideshow": {
     "slide_type": "slide"
    }
   },
   "source": [
    "- Possiamo così ottenere il nomi di un singolo utente o prodotto data la riga o colonna"
   ]
  },
  {
   "cell_type": "code",
   "execution_count": 20,
   "id": "055fdd45",
   "metadata": {},
   "outputs": [
    {
     "data": {
      "text/plain": [
       "'Doctor Who - Robot [VHS]'"
      ]
     },
     "execution_count": 20,
     "metadata": {},
     "output_type": "execute_result"
    }
   ],
   "source": [
    "item_names[11]"
   ]
  },
  {
   "cell_type": "markdown",
   "id": "b74828c1",
   "metadata": {},
   "source": [
    "- In più, rispetto alle liste di Python, possiamo estrarre molteplici valori dal vettore passando una **lista di indici**"
   ]
  },
  {
   "cell_type": "code",
   "execution_count": 21,
   "id": "eedbf3d1",
   "metadata": {},
   "outputs": [
    {
     "data": {
      "text/plain": [
       "array(['Star Wars - Episode IV, A New Hope [VHS]',\n",
       "       'Star Wars - Episode V, The Empire Strikes Back [VHS]',\n",
       "       'Star Wars - Episode VI, Return of the Jedi [VHS]'], dtype=object)"
      ]
     },
     "execution_count": 21,
     "metadata": {},
     "output_type": "execute_result"
    }
   ],
   "source": [
    "item_names[[3112, 1417, 3109]]"
   ]
  },
  {
   "cell_type": "markdown",
   "id": "8ee5de1a",
   "metadata": {
    "slideshow": {
     "slide_type": "slide"
    }
   },
   "source": [
    "## Selezione elementi tramite array booleani\n",
    "\n",
    "- Possiamo usare l'**indicizzazione booleana** per estrarre elementi che corrispondano ad una condizione\n",
    "- Consideriamo ad esempio la riga 176 della matrice, che indica gli acquisti dell'utente..."
   ]
  },
  {
   "cell_type": "code",
   "execution_count": 22,
   "id": "37d47984",
   "metadata": {},
   "outputs": [
    {
     "data": {
      "text/plain": [
       "'G.Spider'"
      ]
     },
     "execution_count": 22,
     "metadata": {},
     "output_type": "execute_result"
    }
   ],
   "source": [
    "user_names[176]"
   ]
  },
  {
   "cell_type": "markdown",
   "id": "25cc1928",
   "metadata": {},
   "source": [
    "- Estraiamo la riga corrispondente dalla matrice `purchases_bool` per ottenere un vettore in forma booleana\n",
    "  - `[176, :]` si può abbreviare in `[176]`\n",
    "  - essendo una singola riga di una matrice, otteniamo un vettore"
   ]
  },
  {
   "cell_type": "code",
   "execution_count": 23,
   "id": "21ebead2",
   "metadata": {},
   "outputs": [
    {
     "data": {
      "text/plain": [
       "array([False, False, False, False, False, False, False, False, False,\n",
       "       False, False,  True,  True, False, False, False, False, False,\n",
       "       False, False])"
      ]
     },
     "execution_count": 23,
     "metadata": {},
     "output_type": "execute_result"
    }
   ],
   "source": [
    "purchased_by_user_176 = purchases_bool[176, :]\n",
    "\n",
    "# visualizzo i primi 20 valori\n",
    "purchased_by_user_176[:20]"
   ]
  },
  {
   "cell_type": "markdown",
   "id": "9fde3922",
   "metadata": {
    "slideshow": {
     "slide_type": "slide"
    }
   },
   "source": [
    "- Possiamo usare questo vettore come selettore del vettore `item_names` per estrarre i soli valori di `item_names` corrispondenti a valori `True`\n",
    "- In questo modo otteniamo un vettore con i **nomi** dei soli prodotti **acquistati dall'utente**"
   ]
  },
  {
   "cell_type": "code",
   "execution_count": 24,
   "id": "a7bd35a5",
   "metadata": {},
   "outputs": [
    {
     "data": {
      "text/plain": [
       "array(['Doctor Who - Robot [VHS]', 'Doctor Who - City of Death [VHS]',\n",
       "       'Doctor Who: The Curse of Peladon [VHS]',\n",
       "       'Doctor Who:  Time and The Rani [VHS]',\n",
       "       'Doctor Who - Ghost Light [VHS]',\n",
       "       'Doctor Who - The Visitation / Black Orchid [VHS]',\n",
       "       'Doctor Who - Kinda [VHS]',\n",
       "       'Doctor Who - The Mark of the Rani [VHS]',\n",
       "       'Doctor Who - The Leisure Hive [VHS]',\n",
       "       'Star Wars - Episode I, The Phantom Menace [VHS]'], dtype=object)"
      ]
     },
     "execution_count": 24,
     "metadata": {},
     "output_type": "execute_result"
    }
   ],
   "source": [
    "item_names_purchased_by_user_176 = item_names[purchased_by_user_176]\n",
    "\n",
    "# visualizzo i primi 10 elementi\n",
    "item_names_purchased_by_user_176[:10]"
   ]
  },
  {
   "cell_type": "markdown",
   "id": "388d85c2",
   "metadata": {},
   "source": [
    "- Si noti che per questa selezione è necessario usare l'array booleano, usando quello binario si ha un risultato errato"
   ]
  },
  {
   "cell_type": "code",
   "execution_count": 25,
   "id": "73bc2d96",
   "metadata": {},
   "outputs": [
    {
     "data": {
      "text/plain": [
       "array(['Age of Innocence [VHS]', 'Age of Innocence [VHS]',\n",
       "       'Age of Innocence [VHS]', ..., 'Age of Innocence [VHS]',\n",
       "       'Age of Innocence [VHS]', 'Age of Innocence [VHS]'], dtype=object)"
      ]
     },
     "execution_count": 25,
     "metadata": {},
     "output_type": "execute_result"
    }
   ],
   "source": [
    "item_names[purchases[176, :]]"
   ]
  },
  {
   "cell_type": "markdown",
   "id": "7ea6424e",
   "metadata": {
    "slideshow": {
     "slide_type": "slide"
    }
   },
   "source": [
    "## Statistiche sugli acquisti\n",
    "\n",
    "- Gli array forniscono metodi per calcolare valori aggregati: somma, media, min/max, ecc.\n",
    "- Ad esempio il metodo `sum` calcola la somma di tutti gli elementi di un array\n",
    "- Possiamo utilizzarlo per ottenere il numero totale di acquisti analizzati"
   ]
  },
  {
   "cell_type": "code",
   "execution_count": 26,
   "id": "a676c284",
   "metadata": {},
   "outputs": [
    {
     "data": {
      "text/plain": [
       "9683"
      ]
     },
     "execution_count": 26,
     "metadata": {},
     "output_type": "execute_result"
    }
   ],
   "source": [
    "purchases.sum()"
   ]
  },
  {
   "cell_type": "markdown",
   "id": "31a3c28a",
   "metadata": {},
   "source": [
    "- Posso ottenere lo stesso risultato effettuando la somma sulla matrice booleana (perché trattati come numeri `False` e `True` valgono 0 e 1 rispettivamente)\n",
    "  - in generale, `sum` può essere usato per contare i valori `True` in un array booleano"
   ]
  },
  {
   "cell_type": "code",
   "execution_count": 27,
   "id": "9bd6fa9b",
   "metadata": {},
   "outputs": [
    {
     "data": {
      "text/plain": [
       "9683"
      ]
     },
     "execution_count": 27,
     "metadata": {},
     "output_type": "execute_result"
    }
   ],
   "source": [
    "purchases_bool.sum()"
   ]
  },
  {
   "cell_type": "markdown",
   "id": "0aa3737a",
   "metadata": {
    "slideshow": {
     "slide_type": "slide"
    }
   },
   "source": [
    "- Oltre ad aggregare tutti i valori, possiamo compiere aggregazioni per righe (asse 0) o per colonne (asse 1)\n",
    "- Applichiamo la somma per righe e per colonne alla matrice degli acquisti\n",
    "  - `sum(1)` -> sommo tra loro le colonne -> ottengo il numero di prodotti acquistati per ogni utente\n",
    "  - `sum(0)` -> sommo tra loro le righe -> ottengo il numero di utenti che hanno acquistato ciascun prodotto"
   ]
  },
  {
   "cell_type": "code",
   "execution_count": 28,
   "id": "0c843511",
   "metadata": {},
   "outputs": [],
   "source": [
    "user_purchases = purchases.sum(1)\n",
    "item_purchases = purchases.sum(0)"
   ]
  },
  {
   "cell_type": "code",
   "execution_count": 29,
   "id": "4aed9423",
   "metadata": {},
   "outputs": [
    {
     "data": {
      "text/plain": [
       "array([38, 32, 50, 41, 34, 47, 72, 40, 33, 51])"
      ]
     },
     "execution_count": 29,
     "metadata": {},
     "output_type": "execute_result"
    }
   ],
   "source": [
    "# numero di acquisti dei primi 10 clienti\n",
    "user_purchases[:10]"
   ]
  },
  {
   "cell_type": "code",
   "execution_count": 30,
   "id": "0d7b2071",
   "metadata": {},
   "outputs": [
    {
     "data": {
      "text/plain": [
       "array([1, 2, 1, 4, 1, 1, 1, 1, 1, 2])"
      ]
     },
     "execution_count": 30,
     "metadata": {},
     "output_type": "execute_result"
    }
   ],
   "source": [
    "# numero di clienti che hanno acquistato i primi 10 oggetti\n",
    "item_purchases[:10]"
   ]
  },
  {
   "cell_type": "markdown",
   "id": "9592f7b5",
   "metadata": {},
   "source": [
    "Oltre a `sum` si ricordano tra i metodi più comuni\n",
    "- `mean` per la media\n",
    "- `min` e `max` per ottenere **i valori** minimo e massimo dell'array\n",
    "- `argmin` e `argmax` per ottenere **gli indici** all'interno di un vettore del valori minimo e massimo\n",
    "\n",
    "Nota: per ognuno di questi metodi, ad es. `X.sum()`, esiste una funzione equivalente `np.sum(X)` che si può applicare anche ad oggetti \"array-like\", ad es. le normali `list` di Python"
   ]
  },
  {
   "cell_type": "code",
   "execution_count": 31,
   "id": "7ad23b2c",
   "metadata": {},
   "outputs": [
    {
     "data": {
      "text/plain": [
       "6"
      ]
     },
     "execution_count": 31,
     "metadata": {},
     "output_type": "execute_result"
    }
   ],
   "source": [
    "np.sum( np.array([1, 2, 3]) )"
   ]
  },
  {
   "cell_type": "code",
   "execution_count": 32,
   "id": "e027a5c3",
   "metadata": {},
   "outputs": [
    {
     "data": {
      "text/plain": [
       "6"
      ]
     },
     "execution_count": 32,
     "metadata": {},
     "output_type": "execute_result"
    }
   ],
   "source": [
    "np.sum([1, 2, 3])"
   ]
  },
  {
   "cell_type": "markdown",
   "id": "3d78d27a",
   "metadata": {
    "slideshow": {
     "slide_type": "slide"
    }
   },
   "source": [
    "### Esercizio 3: Estrazione informazioni dai vettori\n",
    "\n",
    "Utilizzando i vettori `user_purchases`, `item_purchases`, `user_names` e `item_names` ricavare:\n",
    "- **(3a)** il numero di acquisti medio per ogni utente\n",
    "- **(3b)** il numero di acquisti del prodotto più acquistato\n",
    "- **(3c)** il nome dell'utente che ha effettuato più acquisti\n",
    "- **(3d)** il numero di utenti che hanno acquistato almeno 50 prodotti\n",
    "- **(3e)** i nomi dei prodotti acquistati da almeno 35 utenti"
   ]
  },
  {
   "cell_type": "code",
   "execution_count": 34,
   "id": "36855f37",
   "metadata": {},
   "outputs": [
    {
     "data": {
      "text/plain": [
       "54.39887640449438"
      ]
     },
     "execution_count": 34,
     "metadata": {},
     "output_type": "execute_result"
    }
   ],
   "source": [
    "user_purchases.mean()"
   ]
  },
  {
   "cell_type": "code",
   "execution_count": 35,
   "id": "12b2beed",
   "metadata": {},
   "outputs": [
    {
     "data": {
      "text/plain": [
       "50"
      ]
     },
     "execution_count": 35,
     "metadata": {},
     "output_type": "execute_result"
    }
   ],
   "source": [
    "item_purchases.max()"
   ]
  },
  {
   "cell_type": "code",
   "execution_count": 36,
   "id": "71ba82e9",
   "metadata": {},
   "outputs": [
    {
     "data": {
      "text/plain": [
       "'Bertin Ramirez \"justareviewer\"'"
      ]
     },
     "execution_count": 36,
     "metadata": {},
     "output_type": "execute_result"
    }
   ],
   "source": [
    "user_names[user_purchases.argmax()]"
   ]
  },
  {
   "cell_type": "code",
   "execution_count": 37,
   "id": "a5808f36",
   "metadata": {},
   "outputs": [
    {
     "data": {
      "text/plain": [
       "68"
      ]
     },
     "execution_count": 37,
     "metadata": {},
     "output_type": "execute_result"
    }
   ],
   "source": [
    "(user_purchases >= 50).sum()"
   ]
  },
  {
   "cell_type": "code",
   "execution_count": 38,
   "id": "b6a33d28",
   "metadata": {},
   "outputs": [
    {
     "data": {
      "text/plain": [
       "array(['Star Wars - Episode I, The Phantom Menace [VHS]', 'The Matrix',\n",
       "       'Sleepy Hollow', 'Curse of the Blair Witch [VHS]',\n",
       "       'The Sixth Sense [VHS]'], dtype=object)"
      ]
     },
     "execution_count": 38,
     "metadata": {},
     "output_type": "execute_result"
    }
   ],
   "source": [
    "item_names[item_purchases >= 35]"
   ]
  },
  {
   "cell_type": "markdown",
   "id": "8a9c6f29",
   "metadata": {
    "slideshow": {
     "slide_type": "slide"
    }
   },
   "source": [
    "## Similarità tra utenti\n",
    "\n",
    "- Misuriamo la similarità tra due utenti come il numero di **prodotti distinti acquistati da entrambi**\n",
    "- Rappresentando i dati in insiemi Python, abbiamo usato intersezioni tra gli insiemi di prodotti acquistati\n",
    "- Avendo un vettore (riga della matrice) booleano per ogni utente, possiamo trovare quali sono gli acquisti comuni tra due utenti tramite l'AND elemento per elemento\n",
    "- Estraiamo ad esempio gli acquisti comuni tra i primi due utenti nella matrice"
   ]
  },
  {
   "cell_type": "code",
   "execution_count": 39,
   "id": "10168c01",
   "metadata": {},
   "outputs": [],
   "source": [
    "common_purchases_0_1 = purchases_bool[0] & purchases_bool[1]"
   ]
  },
  {
   "cell_type": "code",
   "execution_count": 40,
   "id": "ecc86ab1",
   "metadata": {},
   "outputs": [
    {
     "data": {
      "text/plain": [
       "array([False, False, False, ..., False, False, False])"
      ]
     },
     "execution_count": 40,
     "metadata": {},
     "output_type": "execute_result"
    }
   ],
   "source": [
    "common_purchases_0_1"
   ]
  },
  {
   "cell_type": "markdown",
   "id": "38000123",
   "metadata": {},
   "source": [
    "- Nella rappresentazione binaria (0 e 1), questo corrisponde alla moltiplicazione elemento per elemento\n",
    "  - il prodotto elemento per elemento è 1 solo dove in entrambi i vettori c'è 1, altrimenti è 0"
   ]
  },
  {
   "cell_type": "code",
   "execution_count": 41,
   "id": "61a37ac3",
   "metadata": {},
   "outputs": [],
   "source": [
    "common_purchases_0_1 = purchases[0] * purchases[1]"
   ]
  },
  {
   "cell_type": "code",
   "execution_count": 42,
   "id": "c83c4da3",
   "metadata": {},
   "outputs": [
    {
     "data": {
      "text/plain": [
       "array([0, 0, 0, ..., 0, 0, 0])"
      ]
     },
     "execution_count": 42,
     "metadata": {},
     "output_type": "execute_result"
    }
   ],
   "source": [
    "common_purchases_0_1"
   ]
  },
  {
   "cell_type": "markdown",
   "id": "4e09c9bb",
   "metadata": {},
   "source": [
    "- Per sapere quanti sono i prodotti acquistati in comune posso contare i `True` o gli 1 nell'array col metodo `sum`"
   ]
  },
  {
   "cell_type": "code",
   "execution_count": 43,
   "id": "dce56a88",
   "metadata": {},
   "outputs": [
    {
     "data": {
      "text/plain": [
       "4"
      ]
     },
     "execution_count": 43,
     "metadata": {},
     "output_type": "execute_result"
    }
   ],
   "source": [
    "common_purchases_0_1.sum()"
   ]
  },
  {
   "cell_type": "markdown",
   "id": "b8f7f5f8",
   "metadata": {},
   "source": [
    "- Il numero di prodotti acquistati in comune è quindi pari alla somma dei prodotti tra le corrispondenti righe della matrice"
   ]
  },
  {
   "cell_type": "code",
   "execution_count": 44,
   "id": "25ce493b",
   "metadata": {},
   "outputs": [
    {
     "data": {
      "text/plain": [
       "4"
      ]
     },
     "execution_count": 44,
     "metadata": {},
     "output_type": "execute_result"
    }
   ],
   "source": [
    "np.sum( purchases[0] * purchases[1] )"
   ]
  },
  {
   "cell_type": "markdown",
   "id": "8fb69cc9",
   "metadata": {},
   "source": [
    "- Questo corrisponde al **prodotto scalare** (_dot product_) tra le due righe, che può essere estratto efficientemente con la funzione `dot`, il metodo `dot` o l'operatore `@`"
   ]
  },
  {
   "cell_type": "code",
   "execution_count": 45,
   "id": "cbead39f",
   "metadata": {},
   "outputs": [
    {
     "data": {
      "text/plain": [
       "4"
      ]
     },
     "execution_count": 45,
     "metadata": {},
     "output_type": "execute_result"
    }
   ],
   "source": [
    "np.dot(purchases[0], purchases[1])"
   ]
  },
  {
   "cell_type": "code",
   "execution_count": 46,
   "id": "1abde042",
   "metadata": {},
   "outputs": [
    {
     "data": {
      "text/plain": [
       "4"
      ]
     },
     "execution_count": 46,
     "metadata": {},
     "output_type": "execute_result"
    }
   ],
   "source": [
    "purchases[0].dot(purchases[1])"
   ]
  },
  {
   "cell_type": "code",
   "execution_count": 47,
   "id": "d8bf2be5",
   "metadata": {},
   "outputs": [
    {
     "data": {
      "text/plain": [
       "4"
      ]
     },
     "execution_count": 47,
     "metadata": {},
     "output_type": "execute_result"
    }
   ],
   "source": [
    "purchases[0] @ purchases[1]"
   ]
  },
  {
   "cell_type": "markdown",
   "id": "60da3431",
   "metadata": {
    "slideshow": {
     "slide_type": "slide"
    }
   },
   "source": [
    "### Matrice di similarità\n",
    "\n",
    "- Vogliamo ottenere in una matrice `similarity` NxN tutte le similarità reciproche tra gli N utenti, ovvero i prodotti scalari tra tutte le righe di `purchases`\n",
    "\n",
    "```\n",
    "similarity[i, j] == purchases[i, :] @ purchases[j, :]\n",
    "```\n",
    "\n",
    "- Abbiamo visto che il **prodotto tra matrici** restituisce una matrice di prodotti scalari tra le righe di una matrice e le colonne di un'altra\n",
    "\n",
    "```\n",
    "(A @ B)[i, j] == A[i, :] @ B[:, j]\n",
    "```\n",
    "\n",
    "- Se vogliamo calcolare i prodotti tra le righe di A e le righe di B, possiamo calcolare il prodotto tra A e la **trasposta** di B, estraibile con `B.T`\n",
    "\n",
    "```\n",
    "(A @ B.T)[i, j] == A[i, :] @ B[j, :]\n",
    "```\n",
    "\n",
    "- Per ottenere i prodotti scalari tra tutte le righe di `purchases` possiamo quindi **moltiplicarla per la sua trasposta**"
   ]
  },
  {
   "cell_type": "code",
   "execution_count": 48,
   "id": "a3fd3452",
   "metadata": {},
   "outputs": [],
   "source": [
    "similarity = purchases @ purchases.T"
   ]
  },
  {
   "cell_type": "markdown",
   "id": "dcc5f163",
   "metadata": {},
   "source": [
    "- Otteniamo una matrice quadrata, di ordine pari al numero di utenti"
   ]
  },
  {
   "cell_type": "code",
   "execution_count": 49,
   "id": "6ed39255",
   "metadata": {},
   "outputs": [
    {
     "data": {
      "text/plain": [
       "(178, 178)"
      ]
     },
     "execution_count": 49,
     "metadata": {},
     "output_type": "execute_result"
    }
   ],
   "source": [
    "similarity.shape"
   ]
  },
  {
   "cell_type": "markdown",
   "id": "065a513f",
   "metadata": {
    "slideshow": {
     "slide_type": "slide"
    }
   },
   "source": [
    "- Visualizziamo un estratto della matrice..."
   ]
  },
  {
   "cell_type": "code",
   "execution_count": 50,
   "id": "ed7a3229",
   "metadata": {},
   "outputs": [
    {
     "data": {
      "text/plain": [
       "array([[38,  4,  1,  0,  1,  2,  1,  1,  0,  2],\n",
       "       [ 4, 32,  1,  0,  0,  2,  0,  1,  2,  4],\n",
       "       [ 1,  1, 50,  1,  4,  2,  1,  2,  1,  7],\n",
       "       [ 0,  0,  1, 41,  1,  1,  3,  1,  1,  2],\n",
       "       [ 1,  0,  4,  1, 34,  1,  0,  2,  1,  2],\n",
       "       [ 2,  2,  2,  1,  1, 47,  1,  0,  2,  1],\n",
       "       [ 1,  0,  1,  3,  0,  1, 72,  1,  1,  2],\n",
       "       [ 1,  1,  2,  1,  2,  0,  1, 40,  1,  6],\n",
       "       [ 0,  2,  1,  1,  1,  2,  1,  1, 33,  3],\n",
       "       [ 2,  4,  7,  2,  2,  1,  2,  6,  3, 51]])"
      ]
     },
     "execution_count": 50,
     "metadata": {},
     "output_type": "execute_result"
    }
   ],
   "source": [
    "similarity[:10, :10]"
   ]
  },
  {
   "cell_type": "markdown",
   "id": "d1f1bf5e",
   "metadata": {},
   "source": [
    "- ...possiamo ad esempio notare che\n",
    "  - tra i primi due utenti ci sono 4 oggetti acquistati in comune (come visto sopra)\n",
    "  - il primo ed il quarto utente non hanno alcun acquisto in comune"
   ]
  },
  {
   "cell_type": "code",
   "execution_count": 51,
   "id": "bfbaa718",
   "metadata": {},
   "outputs": [
    {
     "data": {
      "text/plain": [
       "4"
      ]
     },
     "execution_count": 51,
     "metadata": {},
     "output_type": "execute_result"
    }
   ],
   "source": [
    "similarity[0, 1]"
   ]
  },
  {
   "cell_type": "code",
   "execution_count": 52,
   "id": "1530c557",
   "metadata": {},
   "outputs": [
    {
     "data": {
      "text/plain": [
       "0"
      ]
     },
     "execution_count": 52,
     "metadata": {},
     "output_type": "execute_result"
    }
   ],
   "source": [
    "similarity[0, 3]"
   ]
  },
  {
   "cell_type": "markdown",
   "id": "90eaead3",
   "metadata": {
    "slideshow": {
     "slide_type": "slide"
    }
   },
   "source": [
    "- Possiamo verificare che la matrice sia simmetrica controllando se è uguale alla sua trasposta\n",
    "  - l'operatore `==` applicato tra matrici restituisce una matrice booleana con il confronto elemento per elemento\n",
    "  - usiamo il metodo `all` (o la funzione `np.all`) per verificare che tutti i valori siano `True`"
   ]
  },
  {
   "cell_type": "code",
   "execution_count": 53,
   "id": "84785d6f",
   "metadata": {},
   "outputs": [
    {
     "data": {
      "text/plain": [
       "True"
      ]
     },
     "execution_count": 53,
     "metadata": {},
     "output_type": "execute_result"
    }
   ],
   "source": [
    "(similarity == similarity.T).all()"
   ]
  },
  {
   "cell_type": "code",
   "execution_count": 54,
   "id": "c9f69b3a",
   "metadata": {},
   "outputs": [
    {
     "data": {
      "text/plain": [
       "True"
      ]
     },
     "execution_count": 54,
     "metadata": {},
     "output_type": "execute_result"
    }
   ],
   "source": [
    "np.all(similarity == similarity.T)"
   ]
  },
  {
   "cell_type": "markdown",
   "id": "df1d44de",
   "metadata": {},
   "source": [
    "- In alternativa NumPy offre una funzione `array_equal` per verificare l'uguaglianza tra due array\n",
    "  - questa evita errori in caso si comparino array di dimensioni incompatibili"
   ]
  },
  {
   "cell_type": "code",
   "execution_count": 55,
   "id": "edecb368",
   "metadata": {},
   "outputs": [
    {
     "data": {
      "text/plain": [
       "True"
      ]
     },
     "execution_count": 55,
     "metadata": {},
     "output_type": "execute_result"
    }
   ],
   "source": [
    "np.array_equal(similarity, similarity.T)"
   ]
  },
  {
   "cell_type": "markdown",
   "id": "c72b539e",
   "metadata": {
    "slideshow": {
     "slide_type": "slide"
    }
   },
   "source": [
    "### Diagonale della matrice\n",
    "\n",
    "- La diagonale della matrice creata contiene i prodotti scalari di ciascuna riga della matrice originale con se stessa\n",
    "- Si può verificare che sono uguali al numero di acquisti per colonne calcolato sopra"
   ]
  },
  {
   "cell_type": "code",
   "execution_count": 56,
   "id": "890ae69d",
   "metadata": {},
   "outputs": [
    {
     "data": {
      "text/plain": [
       "True"
      ]
     },
     "execution_count": 56,
     "metadata": {},
     "output_type": "execute_result"
    }
   ],
   "source": [
    "np.array_equal(np.diag(similarity), user_purchases)"
   ]
  },
  {
   "cell_type": "markdown",
   "id": "a16838f7",
   "metadata": {},
   "source": [
    "- Prima di procedere, **impostiamo a 0 tutti i valori sulla diagonale** per far sì che tra i simili di ciascun utente non sia incluso lui stesso\n",
    "  - la funzione `fill_diagonal` imposta gli elementi della diagonale al valore dato"
   ]
  },
  {
   "cell_type": "code",
   "execution_count": 57,
   "id": "0ba4767b",
   "metadata": {},
   "outputs": [
    {
     "data": {
      "text/plain": [
       "array([[0, 4, 1, 0, 1],\n",
       "       [4, 0, 1, 0, 0],\n",
       "       [1, 1, 0, 1, 4],\n",
       "       [0, 0, 1, 0, 1],\n",
       "       [1, 0, 4, 1, 0]])"
      ]
     },
     "execution_count": 57,
     "metadata": {},
     "output_type": "execute_result"
    }
   ],
   "source": [
    "np.fill_diagonal(similarity, 0)\n",
    "similarity[:5, :5]"
   ]
  },
  {
   "cell_type": "markdown",
   "id": "347b3d52",
   "metadata": {
    "slideshow": {
     "slide_type": "slide"
    }
   },
   "source": [
    "### Esercizio 4: Estrazione informazioni dalla matrice similarità\n",
    "\n",
    "- **(4a)** Qual è il numero massimo di prodotti in comune tra due utenti?\n",
    "- **(4b)** Qual è il nome dell'utente che ha più acquisti in comune con l'utente con ID 7661?"
   ]
  },
  {
   "cell_type": "code",
   "execution_count": 59,
   "id": "79a91825",
   "metadata": {},
   "outputs": [
    {
     "data": {
      "text/plain": [
       "53"
      ]
     },
     "execution_count": 59,
     "metadata": {},
     "output_type": "execute_result"
    }
   ],
   "source": [
    "similarity.max()"
   ]
  },
  {
   "cell_type": "code",
   "execution_count": 60,
   "id": "c89561ee",
   "metadata": {},
   "outputs": [
    {
     "data": {
      "text/plain": [
       "'brent been'"
      ]
     },
     "execution_count": 60,
     "metadata": {},
     "output_type": "execute_result"
    }
   ],
   "source": [
    "user_names[similarity[user_indices[7661]].argmax()]"
   ]
  },
  {
   "cell_type": "markdown",
   "id": "b3c6fdc6",
   "metadata": {
    "slideshow": {
     "slide_type": "slide"
    }
   },
   "source": [
    "## Stimare il potenziale interesse nei prodotti\n",
    "\n",
    "- Per stimare **quanto ciascun utente U sia potenzialmente interessato** in ciascun prodotto P, calcoliamo la somma delle similarità degli altri utenti che l'hanno acquistato\n",
    "- Con Python abbiamo preso i punteggi di similarità tra U e altri utenti, filtrato quelli dei soli acquirenti di P e calcolato la loro somma\n",
    "- Questa somma equivale in pratica al prodotto scalare tra:\n",
    "  - la riga relativa a U di `similarity` che indica i punteggi di similarità con gli altri utenti e\n",
    "  - la colonna relativa a P di `purchases` che indica quali utenti lo hanno acquistato\n",
    "- Ad esempio, l'interesse stimato del 1° utente verso il 2° prodotto è:"
   ]
  },
  {
   "cell_type": "code",
   "execution_count": 61,
   "id": "93ff74a6",
   "metadata": {},
   "outputs": [
    {
     "data": {
      "text/plain": [
       "5"
      ]
     },
     "execution_count": 61,
     "metadata": {},
     "output_type": "execute_result"
    }
   ],
   "source": [
    "similarity[0, :] @ purchases[:, 1]"
   ]
  },
  {
   "cell_type": "markdown",
   "id": "193b260b",
   "metadata": {
    "slideshow": {
     "slide_type": "slide"
    }
   },
   "source": [
    "- Per ottenere l'interesse di ogni utente U verso ogni prodotto P possiamo quindi usare come sopra il prodotto tra le due matrici\n",
    "  - la matrice `common_purchases` ha forma **utenti** x utenti\n",
    "  - la matrice `purchases` ha forma utenti x **prodotti**\n",
    "  - la matrice risultante avrà forma **utenti x prodotti**"
   ]
  },
  {
   "cell_type": "code",
   "execution_count": 62,
   "id": "6782e55e",
   "metadata": {},
   "outputs": [],
   "source": [
    "interest = similarity @ purchases"
   ]
  },
  {
   "cell_type": "markdown",
   "id": "1e92de3d",
   "metadata": {},
   "source": [
    "- Verifichiamo che la forma della matrice sia pari a quella della matrice degli acquisti (utenti x prodotti)"
   ]
  },
  {
   "cell_type": "code",
   "execution_count": 63,
   "id": "6488bd84",
   "metadata": {},
   "outputs": [
    {
     "data": {
      "text/plain": [
       "True"
      ]
     },
     "execution_count": 63,
     "metadata": {},
     "output_type": "execute_result"
    }
   ],
   "source": [
    "interest.shape == purchases.shape"
   ]
  },
  {
   "cell_type": "markdown",
   "id": "bbebacd9",
   "metadata": {
    "slideshow": {
     "slide_type": "slide"
    }
   },
   "source": [
    "- Visualizziamo un estratto della matrice..."
   ]
  },
  {
   "cell_type": "code",
   "execution_count": 64,
   "id": "208ec8d0",
   "metadata": {},
   "outputs": [
    {
     "data": {
      "text/plain": [
       "array([[ 0,  5,  0,  4,  4,  3,  1,  0,  4,  3],\n",
       "       [ 3,  7,  1,  6,  1,  1,  2,  1,  2,  0],\n",
       "       [ 6,  9,  0, 12,  0,  0,  1,  0,  9,  0],\n",
       "       [ 1,  2,  2,  8,  0,  0,  0,  2,  5,  2],\n",
       "       [ 3,  2,  0,  5,  0,  0,  0,  0,  2,  0],\n",
       "       [ 2,  5,  0, 10,  0,  0,  1,  0,  5,  0],\n",
       "       [ 0,  5,  5,  5,  1,  2,  1,  5,  2,  3],\n",
       "       [ 1,  5,  0,  7,  0,  0,  0,  0,  0,  3],\n",
       "       [ 2,  4,  0,  9,  0,  0,  1,  0,  4,  4],\n",
       "       [ 6, 17,  0, 25,  0,  0,  0,  0,  9,  2]])"
      ]
     },
     "execution_count": 64,
     "metadata": {},
     "output_type": "execute_result"
    }
   ],
   "source": [
    "interest[0:10, 0:10]"
   ]
  },
  {
   "cell_type": "markdown",
   "id": "810f95ab",
   "metadata": {},
   "source": [
    "- Ad esempio si ritiene che il 10° utente (ultima riga) sia molto interessato al 4° prodotto"
   ]
  },
  {
   "cell_type": "markdown",
   "id": "83ad2cba",
   "metadata": {
    "slideshow": {
     "slide_type": "slide"
    }
   },
   "source": [
    "### Esercizio 5: Scartare i prodotti già acquistati\n",
    "\n",
    "- Nella matrice calcolata `interest`, sono ritenuti \"interessanti\" anche i prodotti **già acquistati** da ciascun utente\n",
    "- Prima di proseguire, **impostare a 0** i valori di `interest` relativi a coppie utente-prodotto a cui **corrisponde un acquisto effettuato**"
   ]
  },
  {
   "cell_type": "code",
   "execution_count": 66,
   "id": "3ec4bd46",
   "metadata": {},
   "outputs": [],
   "source": [
    "interest[purchases_bool] = 0"
   ]
  },
  {
   "cell_type": "markdown",
   "id": "c658fd89",
   "metadata": {
    "slideshow": {
     "slide_type": "slide"
    }
   },
   "source": [
    "## Ottenere _N_ suggerimenti di acquisto per ogni utente\n",
    "\n",
    "- Come la scorsa volta, vogliamo suggerire un numero fisso N di prodotti ad ogni utente, scegliendo quelli con interesse previsto maggiore"
   ]
  },
  {
   "cell_type": "code",
   "execution_count": 67,
   "id": "d7d3d30d",
   "metadata": {},
   "outputs": [],
   "source": [
    "N = 20"
   ]
  },
  {
   "cell_type": "markdown",
   "id": "1c7a00d4",
   "metadata": {},
   "source": [
    "- Per prima cosa assegniamo a ciascun prodotto un \"ranking\" in base all'interesse per ciascun utente\n",
    "- Quindi selezioniamo per ogni cliente gli _N_ prodotti col ranking migliore"
   ]
  },
  {
   "cell_type": "markdown",
   "id": "2e77743f",
   "metadata": {
    "slideshow": {
     "slide_type": "slide"
    }
   },
   "source": [
    "### Estrarre l'ordine dei valori: il metodo `argsort`\n",
    "\n",
    "- Il metodo `argsort` su un vettore restituisce un vettore con i suoi **indici** (da 0 a N-1) **ordinati** secondo i valori"
   ]
  },
  {
   "cell_type": "code",
   "execution_count": 68,
   "id": "3a64c6c9",
   "metadata": {},
   "outputs": [
    {
     "data": {
      "text/plain": [
       "array([6, 2, 3, 1, 4, 0, 5])"
      ]
     },
     "execution_count": 68,
     "metadata": {},
     "output_type": "execute_result"
    }
   ],
   "source": [
    "x = np.array([320, 80, 20, 40, 160, 640, 10])\n",
    "x.argsort()"
   ]
  },
  {
   "cell_type": "markdown",
   "id": "0c1f3cbf",
   "metadata": {
    "slideshow": {
     "slide_type": "-"
    }
   },
   "source": [
    "- Significa che l'elemento minimo è quello di indice 6 (10), seguito da quello di indice 2 (20) e così via fino al massimo di indice 5 (640)\n",
    "- In pratica, selezionando gli elementi dell'array nell'ordine dato da `argsort`, otteniamo un array con gli elementi in ordine crescente"
   ]
  },
  {
   "cell_type": "code",
   "execution_count": 69,
   "id": "290507fd",
   "metadata": {},
   "outputs": [
    {
     "data": {
      "text/plain": [
       "array([ 10,  20,  40,  80, 160, 320, 640])"
      ]
     },
     "execution_count": 69,
     "metadata": {},
     "output_type": "execute_result"
    }
   ],
   "source": [
    "x[x.argsort()]"
   ]
  },
  {
   "cell_type": "markdown",
   "id": "85ab8937",
   "metadata": {
    "slideshow": {
     "slide_type": "slide"
    }
   },
   "source": [
    "- Nel caso di una matrice, l'operazione va eseguita **lungo una dimensione** a scelta (riga per riga o colonna per colonna)"
   ]
  },
  {
   "cell_type": "code",
   "execution_count": 70,
   "id": "d9844f99",
   "metadata": {},
   "outputs": [
    {
     "data": {
      "text/plain": [
       "array([[6, 2, 3, 1, 4, 0, 5],\n",
       "       [5, 6, 2, 0, 1, 4, 3]])"
      ]
     },
     "execution_count": 70,
     "metadata": {},
     "output_type": "execute_result"
    }
   ],
   "source": [
    "np.array([[32,  8,  2,  4, 16, 64,  1],\n",
    "          [ 8, 16,  4, 64, 32,  1,  2]]).argsort(1)   # 1 = riga per riga"
   ]
  },
  {
   "cell_type": "markdown",
   "id": "b9f4e6bf",
   "metadata": {
    "slideshow": {
     "slide_type": "slide"
    }
   },
   "source": [
    "### Calcolare il \"ranking\" dei prodotti\n",
    "\n",
    "- Applicando l'operazione `argsort` due volte otteniamo il \"ranking\" dei valore, ovvero l'indice che ogni elemento avrebbe nell'array ordinato\n",
    "  - otteniamo quindi un array che associa **0 all'elemento più basso, 1 al secondo e così via**"
   ]
  },
  {
   "cell_type": "code",
   "execution_count": 71,
   "id": "ef85d29d",
   "metadata": {},
   "outputs": [
    {
     "data": {
      "text/plain": [
       "array([320,  80,  20,  40, 160, 640,  10])"
      ]
     },
     "execution_count": 71,
     "metadata": {},
     "output_type": "execute_result"
    }
   ],
   "source": [
    "x"
   ]
  },
  {
   "cell_type": "code",
   "execution_count": 72,
   "id": "036db53d",
   "metadata": {},
   "outputs": [
    {
     "data": {
      "text/plain": [
       "array([6, 2, 3, 1, 4, 0, 5])"
      ]
     },
     "execution_count": 72,
     "metadata": {},
     "output_type": "execute_result"
    }
   ],
   "source": [
    "x.argsort()"
   ]
  },
  {
   "cell_type": "markdown",
   "id": "b144da41",
   "metadata": {},
   "source": [
    "Da leggersi: l'elemento più basso di `x` ha indice 6, il secondo ha indice 2, ..."
   ]
  },
  {
   "cell_type": "code",
   "execution_count": 73,
   "id": "38534258",
   "metadata": {},
   "outputs": [
    {
     "data": {
      "text/plain": [
       "array([5, 3, 1, 2, 4, 6, 0])"
      ]
     },
     "execution_count": 73,
     "metadata": {},
     "output_type": "execute_result"
    }
   ],
   "source": [
    "x.argsort().argsort()"
   ]
  },
  {
   "cell_type": "markdown",
   "id": "d84fe342",
   "metadata": {},
   "source": [
    "Da leggersi: il primo elemento di `x` è il 5° (contando da 0°) più basso, il secondo è il 3°, ...\n",
    "\n",
    "_(chi fosse curioso può leggere [questa dimostrazione formale](https://www.berkayantmen.com/rank.html) che spiega perché si ottiene questo risultato)_"
   ]
  },
  {
   "cell_type": "markdown",
   "id": "757e4c8e",
   "metadata": {
    "slideshow": {
     "slide_type": "slide"
    }
   },
   "source": [
    "### Ottenere il ranking dei prodotti per ogni utente\n",
    "\n",
    "- Tramite l'applicazione doppia di `argsort`, possiamo trasformare i punteggi di `interest` in valori 0, 1, 2, ... che indichino in ciascuna riga il valore più basso, il secondo ecc.\n",
    "- D'altra parte, **invertendo** l'array a cui è applicata l'operazione, otteniamo un array che associa 0 al valore **più alto**, 1 al secondo ecc.\n",
    "- Applichiamo queste operazioni per ottenere un array `interest_ranking`"
   ]
  },
  {
   "cell_type": "code",
   "execution_count": 74,
   "id": "7485027f",
   "metadata": {},
   "outputs": [],
   "source": [
    "interest_ranking = (-interest).argsort(1).argsort(1)"
   ]
  },
  {
   "cell_type": "code",
   "execution_count": 75,
   "id": "c139f5bf",
   "metadata": {},
   "outputs": [
    {
     "data": {
      "text/plain": [
       "array([[3383, 1259, 2771, 1347, 1346, 1648, 2684, 2775, 1352, 1655],\n",
       "       [1585,  853, 2324, 1097, 2297, 2300, 1860, 2310, 1854, 2794],\n",
       "       [1214,  930, 2777,  595, 2874, 2857, 2224, 2773,  925, 2782],\n",
       "       [2148, 1519, 1515,  359, 2821, 2817, 2816, 1507,  808, 1511],\n",
       "       [1197, 1739, 2676,  775, 2675, 2672, 2667, 2666, 1750, 2654]])"
      ]
     },
     "execution_count": 75,
     "metadata": {},
     "output_type": "execute_result"
    }
   ],
   "source": [
    "interest_ranking[:5, :10]"
   ]
  },
  {
   "cell_type": "markdown",
   "id": "ff3a5ade",
   "metadata": {},
   "source": [
    "- La matrice indica ad es. che, per il primo utente, il secondo prodotto è il 1.259° (partendo da 0°) più interessante da acquistare"
   ]
  },
  {
   "cell_type": "markdown",
   "id": "75e55e0b",
   "metadata": {
    "slideshow": {
     "slide_type": "slide"
    }
   },
   "source": [
    "### Selezionare i prodotti da suggerire\n",
    "\n",
    "- Abbiamo così ottenuto un array dove per ogni utente (riga) abbiamo i prodotti numerati univocamente da 0 a _N_-1 in ordine di interesse\n",
    "- Da questo array possiamo quindi selezionare i **valori minori di _N_** per ottenere gli **_N_ prodotti di maggiore interesse** per ciascun utente\n",
    "  - otteniamo una matrice booleana, che convertiamo in numerica con `astype`"
   ]
  },
  {
   "cell_type": "code",
   "execution_count": 76,
   "id": "e95d4d1a",
   "metadata": {},
   "outputs": [],
   "source": [
    "suggestions = (interest_ranking < N).astype(int)"
   ]
  },
  {
   "cell_type": "markdown",
   "id": "1a1c5bfd",
   "metadata": {},
   "source": [
    "- Questa è la **matrice dei prodotti suggeriti**, che associa ad ogni utente gli _N_ prodotti a cui è potenzialmente più interessato"
   ]
  },
  {
   "cell_type": "markdown",
   "id": "7e9716d8",
   "metadata": {
    "slideshow": {
     "slide_type": "slide"
    }
   },
   "source": [
    "## Accuratezza dei suggerimenti di acquisto\n",
    "\n",
    "- Come la scorsa volta, valutiamo i suggerimenti ottenuti comparandoli con gli acquisti effettuati dopo l'analisi\n",
    "- Tali acquisti sono riportati nel file `purchases-2014.csv`\n",
    "- Come abbiamo fatto per il primo file, creiamo una matrice binaria che indichi quali utenti hanno acquistato quali prodotti\n",
    "  - `zeros_like` crea una matrice di zeri di tipo e forma identiche a una data (esistono anche `empty_like` e `ones_like`)"
   ]
  },
  {
   "cell_type": "code",
   "execution_count": 77,
   "id": "57c66f09",
   "metadata": {},
   "outputs": [],
   "source": [
    "purchases_updated = np.zeros_like(purchases)"
   ]
  },
  {
   "cell_type": "markdown",
   "id": "c6696381",
   "metadata": {
    "slideshow": {
     "slide_type": "slide"
    }
   },
   "source": [
    "### Esercizio 6: Caricamento dati in matrice\n",
    "\n",
    "- Impostare a 1 gli elementi di `purchases_updated` corrispondenti alle coppie utente-prodotto nel file CSV `purchases-2014.csv`\n",
    "  - non usare una struttura dati intermedia (es. l'insieme `purchases_set` usato sopra)\n",
    "  - riutilizzare gli stessi dizionari `user_indices` e `item_indices` di prima per garantire che righe e colonne delle matrici combacino"
   ]
  },
  {
   "cell_type": "code",
   "execution_count": 79,
   "id": "4ce06697",
   "metadata": {},
   "outputs": [],
   "source": [
    "with open(\"purchases-2014.csv\", \"r\") as f:\n",
    "    for uid, iid in csv.reader(f, delimiter=\";\"):\n",
    "        purchases_updated[user_indices[int(uid)], item_indices[int(iid)]] = 1"
   ]
  },
  {
   "cell_type": "markdown",
   "id": "b4bc015a",
   "metadata": {
    "slideshow": {
     "slide_type": "slide"
    }
   },
   "source": [
    "### Esercizio 7: Selezionare solo i nuovi acquisti\n",
    "\n",
    "- La nuova matrice riporta **tutti** gli acquisti, compresi quelli già indicati nella matrice precedente\n",
    "- Vogliamo una matrice binaria `new_purchases` in cui siano indicati **solo gli acquisti successivi** all'analisi svolta sopra\n",
    "- Quale operazione tra le matrici `purchases` e `purchases_updated` ci permette di ottenere tale risultato?"
   ]
  },
  {
   "cell_type": "code",
   "execution_count": 82,
   "id": "a519d06b",
   "metadata": {},
   "outputs": [],
   "source": [
    "new_purchases = purchases_updated - purchases"
   ]
  },
  {
   "cell_type": "markdown",
   "id": "90d06e80",
   "metadata": {
    "slideshow": {
     "slide_type": "slide"
    }
   },
   "source": [
    "### Esercizio 8: Quali nuovi acquisti sono stati suggeriti?\n",
    "\n",
    "- Abbiamo ora la matrice `suggestions` con gli acquisti _suggeriti_ e quella `new_purchases` con i nuovi acquisti _effettivi_\n",
    "- Da queste possiamo estrarre una matrice binaria `hits` che indichi quali sono i suggerimenti **validi**, quelli a cui dopo l'analisi è corrisposto un acquisto\n",
    "- Quale operazione tra le due matrici ci fa ottenere tale risultato?"
   ]
  },
  {
   "cell_type": "code",
   "execution_count": 85,
   "id": "4774aec6",
   "metadata": {},
   "outputs": [],
   "source": [
    "hits = suggestions * new_purchases"
   ]
  },
  {
   "cell_type": "markdown",
   "id": "4e99baf6",
   "metadata": {
    "slideshow": {
     "slide_type": "slide"
    }
   },
   "source": [
    "### Esercizio 9: Quanti utenti hanno ricevuto almeno un suggerimento valido?\n",
    "\n",
    "- **(9a)** Ottenere un vettore binario `satisfied_users` che associ 1 ai soli utenti che hanno ottenuto almeno un suggerimento valido, cioè almeno un 1 nella riga corrispondente di `hits`\n",
    "- **(9b)** Ricavare dal vettore stesso il numero di tali utenti\n",
    "- **(9c)** Ricavare dal vettore stesso la percentuale di tali utenti rispetto al numero totale"
   ]
  },
  {
   "cell_type": "code",
   "execution_count": 88,
   "id": "14039e6d",
   "metadata": {},
   "outputs": [],
   "source": [
    "satisfied_users = hits.max(1)\n",
    "# in alternativa, per ottenere un vettore booleano:\n",
    "# satisfied_users = hits.any(1)"
   ]
  },
  {
   "cell_type": "code",
   "execution_count": 89,
   "id": "4a5fd0c9",
   "metadata": {},
   "outputs": [
    {
     "data": {
      "text/plain": [
       "61"
      ]
     },
     "execution_count": 89,
     "metadata": {},
     "output_type": "execute_result"
    }
   ],
   "source": [
    "satisfied_users.sum()"
   ]
  },
  {
   "cell_type": "code",
   "execution_count": 90,
   "id": "ce31e58e",
   "metadata": {},
   "outputs": [
    {
     "data": {
      "text/plain": [
       "0.34269662921348315"
      ]
     },
     "execution_count": 90,
     "metadata": {},
     "output_type": "execute_result"
    }
   ],
   "source": [
    "satisfied_users.mean()"
   ]
  },
  {
   "cell_type": "markdown",
   "id": "8012296d",
   "metadata": {},
   "source": [
    "- Si dovrebbe ottenere una percentuale del **34,3%** di utenti soddisfatti, alla pari della scorsa esercitazione"
   ]
  },
  {
   "cell_type": "markdown",
   "id": "7828638f",
   "metadata": {
    "slideshow": {
     "slide_type": "slide"
    }
   },
   "source": [
    "## Esercizio extra: Confronto con una selezione casuale di prodotti\n",
    "\n",
    "- Come nella scorsa esercitazione, per valutare quanto sia buono il risultato ottenuto, confrontiamolo con quello che si otterrebbe suggerendo prodotti a caso\n",
    "- Utilizziamo la generazione casuale di array fornita da NumPy, inizializzando il relativo seed"
   ]
  },
  {
   "cell_type": "code",
   "execution_count": 91,
   "id": "9eea0f4b",
   "metadata": {},
   "outputs": [],
   "source": [
    "np.random.seed(123)"
   ]
  },
  {
   "cell_type": "markdown",
   "id": "c18fd1b3",
   "metadata": {},
   "source": [
    "- **(a)** generare una matrice `random_interest` di forma pari ad `interest` con valori casuali\n",
    "  - usare una funzione per generare valori casuali in un intervallo continuo, ad es `np.random.random`, indicando la forma desiderata"
   ]
  },
  {
   "cell_type": "code",
   "execution_count": 94,
   "id": "c8881814",
   "metadata": {},
   "outputs": [],
   "source": [
    "random_interest = np.random.random((n_users, n_items))"
   ]
  },
  {
   "cell_type": "markdown",
   "id": "92d970ee",
   "metadata": {
    "slideshow": {
     "slide_type": "slide"
    }
   },
   "source": [
    "- **(b)** impostare a 0 i valori della matrice corrispondenti a prodotti già acquistati"
   ]
  },
  {
   "cell_type": "code",
   "execution_count": 95,
   "id": "c59b8f30",
   "metadata": {},
   "outputs": [],
   "source": [
    "random_interest[purchases_bool] = 0"
   ]
  },
  {
   "cell_type": "markdown",
   "id": "6e3b5b95",
   "metadata": {
    "slideshow": {
     "slide_type": "-"
    }
   },
   "source": [
    "- **(c)** selezionare gli _N_ prodotti di maggiore interesse per ogni utente\n",
    "  - come sopra, generare la matrice con i ranking lungo ciascuna riga, quindi selezionare i ranking appropriati"
   ]
  },
  {
   "cell_type": "code",
   "execution_count": 97,
   "id": "d7f7d64a",
   "metadata": {},
   "outputs": [],
   "source": [
    "random_interest_ranking = (-random_interest).argsort(1).argsort(1)\n",
    "random_suggestions = (random_interest_ranking < N).astype(int)"
   ]
  },
  {
   "cell_type": "markdown",
   "id": "7d3e8d6b",
   "metadata": {
    "slideshow": {
     "slide_type": "slide"
    }
   },
   "source": [
    "- **(d)** eseguire il confronto con i prodotti effettivamente acquistati ed estrarre il vettore che indica gli utenti con almeno un suggerimento valido"
   ]
  },
  {
   "cell_type": "code",
   "execution_count": 99,
   "id": "d12433d5",
   "metadata": {},
   "outputs": [],
   "source": [
    "random_hits = random_suggestions * new_purchases\n",
    "randomly_satisfied_users = random_hits.sum(1)"
   ]
  },
  {
   "cell_type": "markdown",
   "id": "00d1e827",
   "metadata": {},
   "source": [
    "- **(e)** calcolare la percentuale di tali utenti rispetto al totale"
   ]
  },
  {
   "cell_type": "code",
   "execution_count": 100,
   "id": "62211007",
   "metadata": {},
   "outputs": [
    {
     "data": {
      "text/plain": [
       "0.15730337078651685"
      ]
     },
     "execution_count": 100,
     "metadata": {},
     "output_type": "execute_result"
    }
   ],
   "source": [
    "randomly_satisfied_users.mean()"
   ]
  }
 ],
 "metadata": {
  "language_info": {
   "codemirror_mode": {
    "name": "ipython",
    "version": 3
   },
   "file_extension": ".py",
   "mimetype": "text/x-python",
   "name": "python",
   "nbconvert_exporter": "python",
   "pygments_lexer": "ipython3",
   "version": "3.10.2"
  }
 },
 "nbformat": 4,
 "nbformat_minor": 5
}
