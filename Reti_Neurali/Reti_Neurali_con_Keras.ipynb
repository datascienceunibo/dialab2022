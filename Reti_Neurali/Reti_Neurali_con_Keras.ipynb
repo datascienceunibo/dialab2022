{
 "cells": [
  {
   "cell_type": "markdown",
   "metadata": {
    "slideshow": {
     "slide_type": "slide"
    }
   },
   "source": [
    "# Laboratorio: Reti Neurali con Keras\n",
    "\n",
    "**Programmazione di Applicazioni Data Intensive**  \n",
    "Laurea in Ingegneria e Scienze Informatiche  \n",
    "DISI - Università di Bologna, Cesena\n",
    "\n",
    "Proff. Gianluca Moro, Roberto Pasolini  \n",
    "`nome.cognome@unibo.it`"
   ]
  },
  {
   "cell_type": "markdown",
   "metadata": {
    "slideshow": {
     "slide_type": "slide"
    }
   },
   "source": [
    "## Setup\n",
    "\n",
    "- Per questa esercitazione utilizziamo\n",
    "  - **Keras** come API di alto livello per la costruzione e l'addestramento di reti neurali\n",
    "  - **TensorFlow** come backend per la computazione da utilizzare attraverso Keras\n",
    "    - usiamo l'API Keras integrata dentro a TensorFlow\n",
    "- Se si lavora sul proprio PC, installare le librerie con `conda` oppure `pip`\n",
    "  - su Colab sono già installate"
   ]
  },
  {
   "cell_type": "code",
   "execution_count": 1,
   "metadata": {},
   "outputs": [],
   "source": [
    "# se si utilizza Anaconda:\n",
    "#%conda install tensorflow"
   ]
  },
  {
   "cell_type": "code",
   "execution_count": 2,
   "metadata": {},
   "outputs": [],
   "source": [
    "# altrimenti:\n",
    "#%pip install tensorflow"
   ]
  },
  {
   "cell_type": "markdown",
   "metadata": {},
   "source": [
    "- Importare TensorFlow per verificarne il funzionamento"
   ]
  },
  {
   "cell_type": "code",
   "execution_count": 3,
   "metadata": {},
   "outputs": [
    {
     "name": "stderr",
     "output_type": "stream",
     "text": [
      "2022-06-01 12:01:56.460296: W tensorflow/stream_executor/platform/default/dso_loader.cc:64] Could not load dynamic library 'libcudart.so.11.0'; dlerror: libcudart.so.11.0: cannot open shared object file: No such file or directory\n",
      "2022-06-01 12:01:56.460315: I tensorflow/stream_executor/cuda/cudart_stub.cc:29] Ignore above cudart dlerror if you do not have a GPU set up on your machine.\n"
     ]
    }
   ],
   "source": [
    "import tensorflow as tf"
   ]
  },
  {
   "cell_type": "markdown",
   "metadata": {
    "slideshow": {
     "slide_type": "slide"
    }
   },
   "source": [
    "- Importiamo le altre librerie di uso comune"
   ]
  },
  {
   "cell_type": "code",
   "execution_count": 4,
   "metadata": {},
   "outputs": [],
   "source": [
    "import numpy as np\n",
    "import pandas as pd\n",
    "import matplotlib.pyplot as plt\n",
    "%matplotlib inline\n",
    "import sklearn"
   ]
  },
  {
   "cell_type": "markdown",
   "metadata": {
    "slideshow": {
     "slide_type": "-"
    }
   },
   "source": [
    "- Definiamo la seguente funzione di supporto per scaricare i file di dati necessari"
   ]
  },
  {
   "cell_type": "code",
   "execution_count": 5,
   "metadata": {},
   "outputs": [],
   "source": [
    "import os\n",
    "from urllib.request import urlretrieve\n",
    "def download(file, url):\n",
    "    if not os.path.isfile(file):\n",
    "        urlretrieve(url, file)"
   ]
  },
  {
   "cell_type": "markdown",
   "metadata": {
    "slideshow": {
     "slide_type": "slide"
    }
   },
   "source": [
    "## Ripasso: Reti neurali\n",
    "\n",
    "- Una _rete neurale_ è un modello di apprendimento costituito da molteplici strati di nodi elementari\n",
    "- Ciascun nodo è in pratica un modello di regressione, i cui input sono forniti dallo strato precedente e il cui output è passato a quello successivo\n",
    "  - per modellare relazioni non lineari si applicano agli output dei nodi delle _funzioni di attivazione_, ad es. la funzione _ReLU_\n",
    "- Tramite la _backpropagation_, i parametri (pesi e bias) di tutti i nodi sono addestrati congiuntamente per ottimizzare l'errore della rete tramite discesa gradiente stocastica\n",
    "  - il training set è iterato molteplici volte (_epoche_), ad ogni iterazione le istanze vengono considerate a gruppi (_minibatch_)\n",
    "- Ci sono molti aspetti configurabili (_iperparametri_) nella configurazione e nell'addestramento di una rete\n",
    "  - struttura della rete: numero di strati, numero di nodi in ciascuno, funzione di attivazione, ...\n",
    "  - addestramento: batch size, numero di epoche, ..."
   ]
  },
  {
   "cell_type": "markdown",
   "metadata": {
    "slideshow": {
     "slide_type": "slide"
    }
   },
   "source": [
    "## Regressione con reti neurali\n",
    "\n",
    "- Le reti neurali sono in primis modelli di regressione, in quanto forniscono in output un valore reale (o più d'uno)\n",
    "- Vediamo un esempio concreto di uso di una rete neurale in un problema di regressione"
   ]
  },
  {
   "cell_type": "markdown",
   "metadata": {
    "slideshow": {
     "slide_type": "slide"
    }
   },
   "source": [
    "- Riprendiamo il problema della predizione dei consumi elettrici in base alla temperatura\n",
    "- Carichiamo il dataset in un frame pandas"
   ]
  },
  {
   "cell_type": "code",
   "execution_count": 6,
   "metadata": {},
   "outputs": [],
   "source": [
    "download(\"power.csv\", \"https://git.io/vpaM1\")\n",
    "data = pd.read_csv(\"power.csv\", index_col=\"date\", parse_dates=[\"date\"])"
   ]
  },
  {
   "cell_type": "code",
   "execution_count": 7,
   "metadata": {},
   "outputs": [
    {
     "data": {
      "text/html": [
       "<div>\n",
       "<style scoped>\n",
       "    .dataframe tbody tr th:only-of-type {\n",
       "        vertical-align: middle;\n",
       "    }\n",
       "\n",
       "    .dataframe tbody tr th {\n",
       "        vertical-align: top;\n",
       "    }\n",
       "\n",
       "    .dataframe thead th {\n",
       "        text-align: right;\n",
       "    }\n",
       "</style>\n",
       "<table border=\"1\" class=\"dataframe\">\n",
       "  <thead>\n",
       "    <tr style=\"text-align: right;\">\n",
       "      <th></th>\n",
       "      <th>demand</th>\n",
       "      <th>temp</th>\n",
       "    </tr>\n",
       "    <tr>\n",
       "      <th>date</th>\n",
       "      <th></th>\n",
       "      <th></th>\n",
       "    </tr>\n",
       "  </thead>\n",
       "  <tbody>\n",
       "    <tr>\n",
       "      <th>2015-01-01</th>\n",
       "      <td>1.736065</td>\n",
       "      <td>1.7</td>\n",
       "    </tr>\n",
       "    <tr>\n",
       "      <th>2015-01-02</th>\n",
       "      <td>1.831672</td>\n",
       "      <td>2.2</td>\n",
       "    </tr>\n",
       "    <tr>\n",
       "      <th>2015-01-03</th>\n",
       "      <td>1.714934</td>\n",
       "      <td>14.4</td>\n",
       "    </tr>\n",
       "    <tr>\n",
       "      <th>2015-01-04</th>\n",
       "      <td>1.628577</td>\n",
       "      <td>15.6</td>\n",
       "    </tr>\n",
       "    <tr>\n",
       "      <th>2015-01-05</th>\n",
       "      <td>2.045394</td>\n",
       "      <td>0.0</td>\n",
       "    </tr>\n",
       "  </tbody>\n",
       "</table>\n",
       "</div>"
      ],
      "text/plain": [
       "              demand  temp\n",
       "date                      \n",
       "2015-01-01  1.736065   1.7\n",
       "2015-01-02  1.831672   2.2\n",
       "2015-01-03  1.714934  14.4\n",
       "2015-01-04  1.628577  15.6\n",
       "2015-01-05  2.045394   0.0"
      ]
     },
     "execution_count": 7,
     "metadata": {},
     "output_type": "execute_result"
    }
   ],
   "source": [
    "data.head(5)"
   ]
  },
  {
   "cell_type": "markdown",
   "metadata": {
    "slideshow": {
     "slide_type": "slide"
    }
   },
   "source": [
    "- Ricordiamo che anche in questo caso la relazione tra i dati è non lineare"
   ]
  },
  {
   "cell_type": "code",
   "execution_count": 8,
   "metadata": {},
   "outputs": [
    {
     "data": {
      "image/png": "[encoded data removed]",
      "text/plain": [
       "<Figure size 432x288 with 1 Axes>"
      ]
     },
     "metadata": {
      "needs_background": "light"
     },
     "output_type": "display_data"
    }
   ],
   "source": [
    "data.plot.scatter(\"temp\", \"demand\");"
   ]
  },
  {
   "cell_type": "markdown",
   "metadata": {
    "slideshow": {
     "slide_type": "slide"
    }
   },
   "source": [
    "- Come in precedenza consideriamo\n",
    "  - i dati del 2015 e del 2016 come training set\n",
    "  - quelli del 2017 come validation set\n",
    "- Per ogni set estraiamo\n",
    "  - le temperature registrate (variabile indipendente x)\n",
    "  - i consumi (variabile dipendente y)"
   ]
  },
  {
   "cell_type": "code",
   "execution_count": 9,
   "metadata": {},
   "outputs": [],
   "source": [
    "is_train = data.index.year < 2017\n",
    "X_train = data.loc[is_train, [\"temp\"]]\n",
    "y_train = data.loc[is_train, \"demand\"]\n",
    "X_val = data.loc[~is_train, [\"temp\"]]\n",
    "y_val = data.loc[~is_train, \"demand\"]"
   ]
  },
  {
   "cell_type": "markdown",
   "metadata": {
    "slideshow": {
     "slide_type": "slide"
    }
   },
   "source": [
    "- Eseguiamo la standardizzazione sia delle X che delle y\n",
    "  - non utilizziamo una pipeline per analizzare meglio i passaggi"
   ]
  },
  {
   "cell_type": "code",
   "execution_count": 10,
   "metadata": {},
   "outputs": [],
   "source": [
    "from sklearn.preprocessing import StandardScaler\n",
    "X_scaler = StandardScaler()\n",
    "X_train = X_scaler.fit_transform(X_train)\n",
    "X_val = X_scaler.transform(X_val)\n",
    "y_scaler = StandardScaler()\n",
    "y_train = y_scaler.fit_transform(y_train.values[:, None]).ravel()\n",
    "y_val = y_scaler.transform(y_val.values[:, None]).ravel()"
   ]
  },
  {
   "cell_type": "markdown",
   "metadata": {
    "slideshow": {
     "slide_type": "slide"
    }
   },
   "source": [
    "- Per addestrare un modello di regressione basato su rete neurale, utilizziamo la classe `MLPRegressor`\n",
    "- Questa classe supporta gli stessi iperparametri di `MLPClassifier`\n",
    "- Definiamo ad esempio una rete con 4 nodi nascosti con attivazione ReLU"
   ]
  },
  {
   "cell_type": "code",
   "execution_count": 11,
   "metadata": {},
   "outputs": [],
   "source": [
    "from sklearn.neural_network import MLPRegressor\n",
    "model = MLPRegressor(\n",
    "    hidden_layer_sizes=[4],\n",
    "    activation=\"relu\",\n",
    "    solver=\"sgd\",\n",
    "    random_state=12345\n",
    ")"
   ]
  },
  {
   "cell_type": "markdown",
   "metadata": {
    "slideshow": {
     "slide_type": "-"
    }
   },
   "source": [
    "- Addestriamo il modello come al solito"
   ]
  },
  {
   "cell_type": "code",
   "execution_count": 12,
   "metadata": {},
   "outputs": [
    {
     "name": "stderr",
     "output_type": "stream",
     "text": [
      "/home/rrobby/software/jupyter/lib/python3.9/site-packages/sklearn/neural_network/_multilayer_perceptron.py:692: ConvergenceWarning: Stochastic Optimizer: Maximum iterations (200) reached and the optimization hasn't converged yet.\n",
      "  warnings.warn(\n"
     ]
    }
   ],
   "source": [
    "model.fit(X_train, y_train);"
   ]
  },
  {
   "cell_type": "code",
   "execution_count": 13,
   "metadata": {},
   "outputs": [
    {
     "data": {
      "text/plain": [
       "0.651189449215087"
      ]
     },
     "execution_count": 13,
     "metadata": {},
     "output_type": "execute_result"
    }
   ],
   "source": [
    "model.score(X_val, y_val)"
   ]
  },
  {
   "cell_type": "markdown",
   "metadata": {
    "slideshow": {
     "slide_type": "slide"
    }
   },
   "source": [
    "- Riprendiamo la funzione utilizzata in precedenza per visualizzare le predizioni del modello sovrapposte ai dati"
   ]
  },
  {
   "cell_type": "code",
   "execution_count": 14,
   "metadata": {},
   "outputs": [],
   "source": [
    "def plot_model_on_data(X, y, model=None):\n",
    "    plt.scatter(X, y)\n",
    "    if model is not None:\n",
    "        xlim, ylim = plt.xlim(), plt.ylim()\n",
    "        line_x = np.linspace(xlim[0], xlim[1], 100)\n",
    "        line_y = model.predict(line_x[:, None])\n",
    "        plt.plot(line_x, line_y, c=\"red\", lw=3)\n",
    "        plt.xlim(xlim); plt.ylim(ylim)\n",
    "    plt.grid()\n",
    "    plt.xlabel(\"Temperatura (normalizzata)\"); plt.ylabel(\"Consumi (normalizzati)\")"
   ]
  },
  {
   "cell_type": "markdown",
   "metadata": {
    "slideshow": {
     "slide_type": "slide"
    }
   },
   "source": [
    "- Usiamola per visualizzare il modello addestrato"
   ]
  },
  {
   "cell_type": "code",
   "execution_count": 15,
   "metadata": {},
   "outputs": [
    {
     "data": {
      "image/png": "[encoded data removed]",
      "text/plain": [
       "<Figure size 432x288 with 1 Axes>"
      ]
     },
     "metadata": {
      "needs_background": "light"
     },
     "output_type": "display_data"
    }
   ],
   "source": [
    "plot_model_on_data(X_val, y_val, model)"
   ]
  },
  {
   "cell_type": "markdown",
   "metadata": {},
   "source": [
    "- Con i nodi ReLU abbiamo ottenuto in pratica una funzione \"spezzata\""
   ]
  },
  {
   "cell_type": "markdown",
   "metadata": {
    "slideshow": {
     "slide_type": "slide"
    }
   },
   "source": [
    "## Reti neurali con Keras\n",
    "\n",
    "- Abbiamo visto il supporto basilare offerto da scikit-learn per addestrare reti neurali\n",
    "- Vediamo ora come utilizzare la libreria Keras, che offre\n",
    "  - maggiore configurabilità delle reti, con la possibilità di definirne nel dettaglio ciascuno strato\n",
    "  - maggiore efficienza, utilizzando backend come TensorFlow con possibilità di utilizzo della GPU"
   ]
  },
  {
   "cell_type": "markdown",
   "metadata": {
    "slideshow": {
     "slide_type": "slide"
    }
   },
   "source": [
    "## Modello di regressione con Keras\n",
    "\n",
    "- Continuiamo a considerare il problema di predizione dei consumi, per cui ci serve un modello di regressione\n",
    "- Un modello _sequenziale_ di Keras è definito da una sequenza (senza diramazioni, cicli, ecc.) di strati connessi\n",
    "  - il primo strato riceve l'input dato alla rete\n",
    "  - ogni strato propaga l'output allo strato successivo\n",
    "  - l'ultimo strato fornisce l'output della rete\n",
    "- Si definisce con un oggetto `Sequential` definendo la lista di strati\n",
    "- Il tipo di strato più comune è `Dense`, in cui ogni nodo riceve input da tutti i nodi dello strato precedente"
   ]
  },
  {
   "cell_type": "code",
   "execution_count": 16,
   "metadata": {},
   "outputs": [],
   "source": [
    "from tensorflow.keras.models import Sequential\n",
    "from tensorflow.keras.layers import Dense"
   ]
  },
  {
   "cell_type": "markdown",
   "metadata": {
    "slideshow": {
     "slide_type": "slide"
    }
   },
   "source": [
    "- Per iniziare, creiamo una \"rete\" con un singolo strato e un singolo nodo\n",
    "- Su ogni strato `Dense` dobbiamo indicare il numero di nodi\n",
    "- Inoltre sul primo strato dobbiamo indicare con `input_dim` il numero di valori in input, in questo caso due (le coordinate di ciascun punto)"
   ]
  },
  {
   "cell_type": "code",
   "execution_count": 17,
   "metadata": {},
   "outputs": [
    {
     "name": "stderr",
     "output_type": "stream",
     "text": [
      "2022-06-01 12:01:58.954249: W tensorflow/stream_executor/platform/default/dso_loader.cc:64] Could not load dynamic library 'libcuda.so.1'; dlerror: libcuda.so.1: cannot open shared object file: No such file or directory\n",
      "2022-06-01 12:01:58.954271: W tensorflow/stream_executor/cuda/cuda_driver.cc:269] failed call to cuInit: UNKNOWN ERROR (303)\n",
      "2022-06-01 12:01:58.954286: I tensorflow/stream_executor/cuda/cuda_diagnostics.cc:156] kernel driver does not appear to be running on this host (rrobby-home): /proc/driver/nvidia/version does not exist\n",
      "2022-06-01 12:01:58.954464: I tensorflow/core/platform/cpu_feature_guard.cc:193] This TensorFlow binary is optimized with oneAPI Deep Neural Network Library (oneDNN) to use the following CPU instructions in performance-critical operations:  AVX2 FMA\n",
      "To enable them in other operations, rebuild TensorFlow with the appropriate compiler flags.\n"
     ]
    }
   ],
   "source": [
    "model = Sequential([\n",
    "    Dense(1, input_dim=1)\n",
    "])"
   ]
  },
  {
   "cell_type": "markdown",
   "metadata": {},
   "source": [
    "- L'output della rete sarà il valore restituito dal singolo nodo\n",
    "  - questo è in pratica un semplice modello di regressione lineare univariata"
   ]
  },
  {
   "cell_type": "markdown",
   "metadata": {
    "slideshow": {
     "slide_type": "slide"
    }
   },
   "source": [
    "- Col metodo `summary` vediamo un riepilogo degli strati della rete"
   ]
  },
  {
   "cell_type": "code",
   "execution_count": 18,
   "metadata": {},
   "outputs": [
    {
     "name": "stdout",
     "output_type": "stream",
     "text": [
      "Model: \"sequential\"\n",
      "_________________________________________________________________\n",
      " Layer (type)                Output Shape              Param #   \n",
      "=================================================================\n",
      " dense (Dense)               (None, 1)                 2         \n",
      "                                                                 \n",
      "=================================================================\n",
      "Total params: 2\n",
      "Trainable params: 2\n",
      "Non-trainable params: 0\n",
      "_________________________________________________________________\n"
     ]
    }
   ],
   "source": [
    "model.summary()"
   ]
  },
  {
   "cell_type": "markdown",
   "metadata": {},
   "source": [
    "- La `Output shape` indica la forma dell'output di ciascuno strato\n",
    "  - il primo termine (`None`) si riferisce al numero di osservazioni in ciascun minibatch, al momento non specificato\n",
    "  - il secondo termine (1) è dato dal numero di nodi specificato\n",
    "- `Param #` indica il numero di parametri che saranno addestrati\n",
    "  - in questo caso solamente 2: 1 peso w e 1 bias b ($y=w\\cdot x+b$)"
   ]
  },
  {
   "cell_type": "markdown",
   "metadata": {
    "slideshow": {
     "slide_type": "slide"
    }
   },
   "source": [
    "- Una volta definita la struttura della rete questa va _compilata_ per costruirne il grafo computazionale su TensorFlow\n",
    "- Quando si compila la rete va specificato un algoritmo di ottimizzazione (`optimizer`) da utilizzare per addestrare la rete\n",
    "  - si possono usare diverse varianti della discesa gradiente stocastica\n",
    "- Va inoltre specificata la misura di errore (`loss`) da minimizzare nell'addestramento\n",
    "  - per la regressione usiamo l'errore quadratico medio"
   ]
  },
  {
   "cell_type": "code",
   "execution_count": 19,
   "metadata": {},
   "outputs": [],
   "source": [
    "model.compile(optimizer=\"adam\", loss=\"mean_squared_error\")"
   ]
  },
  {
   "cell_type": "markdown",
   "metadata": {
    "slideshow": {
     "slide_type": "slide"
    }
   },
   "source": [
    "- Ora possiamo addestrare la rete sul training set, usando il metodo `fit` come in scikit-learn\n",
    "  - passiamo la matrice X con variabili indipendenti e il vettore y con variabile dipendente da predire\n",
    "- Nella discesa gradiente stocastica gli esempi di training sono presi a gruppi di dimensione pari ad una `batch_size` indicata\n",
    "- L'intero training set viene scorso in ordine casuale per un numero cicli di addestramento, detti _epoche_ (`epochs`)"
   ]
  },
  {
   "cell_type": "code",
   "execution_count": 20,
   "metadata": {},
   "outputs": [
    {
     "name": "stdout",
     "output_type": "stream",
     "text": [
      "Epoch 1/20\n",
      "244/244 [==============================] - 0s 748us/step - loss: 0.8599\n",
      "Epoch 2/20\n",
      "244/244 [==============================] - 0s 782us/step - loss: 0.8587\n",
      "Epoch 3/20\n",
      "244/244 [==============================] - 0s 748us/step - loss: 0.8583\n",
      "Epoch 4/20\n",
      "244/244 [==============================] - 0s 792us/step - loss: 0.8581\n",
      "Epoch 5/20\n",
      "244/244 [==============================] - 0s 770us/step - loss: 0.8582\n",
      "Epoch 6/20\n",
      "244/244 [==============================] - 0s 740us/step - loss: 0.8585\n",
      "Epoch 7/20\n",
      "244/244 [==============================] - 0s 787us/step - loss: 0.8582\n",
      "Epoch 8/20\n",
      "244/244 [==============================] - 0s 772us/step - loss: 0.8579\n",
      "Epoch 9/20\n",
      "244/244 [==============================] - 0s 764us/step - loss: 0.8579\n",
      "Epoch 10/20\n",
      "244/244 [==============================] - 0s 774us/step - loss: 0.8582\n",
      "Epoch 11/20\n",
      "244/244 [==============================] - 0s 752us/step - loss: 0.8581\n",
      "Epoch 12/20\n",
      "244/244 [==============================] - 0s 774us/step - loss: 0.8585\n",
      "Epoch 13/20\n",
      "244/244 [==============================] - 0s 790us/step - loss: 0.8583\n",
      "Epoch 14/20\n",
      "244/244 [==============================] - 0s 763us/step - loss: 0.8587\n",
      "Epoch 15/20\n",
      "244/244 [==============================] - 0s 772us/step - loss: 0.8580\n",
      "Epoch 16/20\n",
      "244/244 [==============================] - 0s 776us/step - loss: 0.8586\n",
      "Epoch 17/20\n",
      "244/244 [==============================] - 0s 759us/step - loss: 0.8583\n",
      "Epoch 18/20\n",
      "244/244 [==============================] - 0s 765us/step - loss: 0.8582\n",
      "Epoch 19/20\n",
      "244/244 [==============================] - 0s 749us/step - loss: 0.8581\n",
      "Epoch 20/20\n",
      "244/244 [==============================] - 0s 785us/step - loss: 0.8584\n"
     ]
    }
   ],
   "source": [
    "##outsnip:4:4\n",
    "fit_history = model.fit(X_train, y_train, batch_size=3, epochs=20)"
   ]
  },
  {
   "cell_type": "markdown",
   "metadata": {
    "slideshow": {
     "slide_type": "slide"
    }
   },
   "source": [
    "- Durante l'addestramento, l'errore sul training set, mostrato come `loss`, si riduce progressivamente\n",
    "- L'andamento di epoca in epoca viene salvato nell'oggetto `fit_history`, possiamo visualizzarlo in un grafico"
   ]
  },
  {
   "cell_type": "code",
   "execution_count": 21,
   "metadata": {},
   "outputs": [
    {
     "data": {
      "image/png": "[encoded data removed]",
      "text/plain": [
       "<Figure size 432x288 with 1 Axes>"
      ]
     },
     "metadata": {
      "needs_background": "light"
     },
     "output_type": "display_data"
    }
   ],
   "source": [
    "plt.plot(fit_history.history[\"loss\"], \"ro-\")\n",
    "plt.xlabel(\"Epoche\")\n",
    "plt.ylabel(\"MSE\");"
   ]
  },
  {
   "cell_type": "markdown",
   "metadata": {
    "slideshow": {
     "slide_type": "slide"
    }
   },
   "source": [
    "- Una volta addestrato, possiamo ottenere predizioni dal modello col metodo `predict` come in scikit-learn\n",
    "- Otteniamo ad esempio le predizioni per il validation set"
   ]
  },
  {
   "cell_type": "code",
   "execution_count": 22,
   "metadata": {},
   "outputs": [
    {
     "name": "stdout",
     "output_type": "stream",
     "text": [
      "12/12 [==============================] - 0s 1ms/step\n"
     ]
    },
    {
     "data": {
      "text/plain": [
       "array([[-0.3513497 ],\n",
       "       [-0.29646206],\n",
       "       [-0.25872684]], dtype=float32)"
      ]
     },
     "execution_count": 22,
     "metadata": {},
     "output_type": "execute_result"
    }
   ],
   "source": [
    "y_pred = model.predict(X_val)\n",
    "y_pred[:3]"
   ]
  },
  {
   "cell_type": "markdown",
   "metadata": {},
   "source": [
    "- Si noti che i valori restituiti dal modello sono standardizzati sulla stessa scala usata nell'addestramento\n",
    "- Possiamo usare il metodo `inverse_transform` del filtro per \"destandardizzare\" i valori riportandoli alla scala originale"
   ]
  },
  {
   "cell_type": "code",
   "execution_count": 23,
   "metadata": {},
   "outputs": [
    {
     "name": "stdout",
     "output_type": "stream",
     "text": [
      "1/1 [==============================] - 0s 12ms/step\n"
     ]
    },
    {
     "data": {
      "text/plain": [
       "array([[1.7415233],\n",
       "       [1.7603732],\n",
       "       [1.7733326]], dtype=float32)"
      ]
     },
     "execution_count": 23,
     "metadata": {},
     "output_type": "execute_result"
    }
   ],
   "source": [
    "y_scaler.inverse_transform(model.predict(X_val[:3]))"
   ]
  },
  {
   "cell_type": "markdown",
   "metadata": {
    "slideshow": {
     "slide_type": "slide"
    }
   },
   "source": [
    "- Il metodo `evaluate` esegue una valutazione su un validation set e restituisce la misura d'errore usata in addestramento (il MSE)"
   ]
  },
  {
   "cell_type": "code",
   "execution_count": 24,
   "metadata": {},
   "outputs": [
    {
     "name": "stdout",
     "output_type": "stream",
     "text": [
      "12/12 [==============================] - 0s 855us/step - loss: 0.6909\n"
     ]
    },
    {
     "data": {
      "text/plain": [
       "0.6908621191978455"
      ]
     },
     "execution_count": 24,
     "metadata": {},
     "output_type": "execute_result"
    }
   ],
   "source": [
    "model.evaluate(X_val, y_val)"
   ]
  },
  {
   "cell_type": "markdown",
   "metadata": {},
   "source": [
    "- Questa misura può essere confrontata tra diversi modelli\n",
    "- Per ottenere una misura più generale dell'errore possiamo estrarre il coefficiente R², lo stesso restituito dal metodo `score` dei modelli di regressione di scikit-learn"
   ]
  },
  {
   "cell_type": "code",
   "execution_count": 25,
   "metadata": {},
   "outputs": [
    {
     "data": {
      "text/plain": [
       "0.027853024980799668"
      ]
     },
     "execution_count": 25,
     "metadata": {},
     "output_type": "execute_result"
    }
   ],
   "source": [
    "from sklearn.metrics import r2_score\n",
    "r2_score(\n",
    "    y_scaler.inverse_transform(y_val[:, None]),\n",
    "    y_scaler.inverse_transform(y_pred)\n",
    ")"
   ]
  },
  {
   "cell_type": "markdown",
   "metadata": {},
   "source": [
    "- Data la definizione di R², otteniamo lo stesso risultato confrontando gli output standardizzati"
   ]
  },
  {
   "cell_type": "code",
   "execution_count": 26,
   "metadata": {},
   "outputs": [
    {
     "data": {
      "text/plain": [
       "0.027853029177721478"
      ]
     },
     "execution_count": 26,
     "metadata": {},
     "output_type": "execute_result"
    }
   ],
   "source": [
    "r2_score(y_val, y_pred)"
   ]
  },
  {
   "cell_type": "markdown",
   "metadata": {
    "slideshow": {
     "slide_type": "slide"
    }
   },
   "source": [
    "- Il punteggio R² è prossimo allo 0, molto scarso\n",
    "- Questo è dovuto al fatto che il modello lineare non può modellare correttamente la relazione non lineare, come mostrato dal grafico del modello"
   ]
  },
  {
   "cell_type": "code",
   "execution_count": 27,
   "metadata": {
    "slideshow": {
     "slide_type": "slide"
    }
   },
   "outputs": [
    {
     "name": "stdout",
     "output_type": "stream",
     "text": [
      "4/4 [==============================] - 0s 1ms/step\n"
     ]
    },
    {
     "data": {
      "image/png": "[encoded data removed]",
      "text/plain": [
       "<Figure size 432x288 with 1 Axes>"
      ]
     },
     "metadata": {
      "needs_background": "light"
     },
     "output_type": "display_data"
    }
   ],
   "source": [
    "plot_model_on_data(X_val, y_val, model)"
   ]
  },
  {
   "cell_type": "markdown",
   "metadata": {
    "slideshow": {
     "slide_type": "slide"
    }
   },
   "source": [
    "## Aggiungere uno strato\n",
    "\n",
    "- Aggiungiamo ora al modello uno strato nascosto - ad es. di 8 nodi - a cui viene passato l'input\n",
    "- Per introdurre non linearità, a questo strato applichiamo la funzione di attivazione ReLU\n",
    "- Siano\n",
    "  - $w^{(l)}_{i,j}$ il peso della connessione dal nodo $i$ dello strato $l-1$ al nodo $j$ dello strato $l$\n",
    "  - $b^{(l)}_j$ il bias applicato sul nodo $j$ dello strato $l$\n",
    "- Ogni nodo dello strato nascosto $i$ fornirà come output:\n",
    "$$ h_i = \\text{ReLU}\\left(b^{(1)}_i + w^{(1)}_{1,i}\\cdot x\\right) $$\n",
    "- A sua volta l'output sarà una combinazione di questi 16 nodi:\n",
    "$$ y = b^{(2)}_1 + \\sum_{i=1}^{8}{w^{(2)}_{i1}\\cdot h_i} = b^{(2)}_1 + \\sum_{i=1}^{8}{w^{(2)}_{i,1}\\cdot\\text{ReLU}\\left(b^{(1)}_i + w^{(1)}_{1,i}\\cdot x\\right)} $$"
   ]
  },
  {
   "cell_type": "markdown",
   "metadata": {
    "slideshow": {
     "slide_type": "slide"
    }
   },
   "source": [
    "- Creiamo un nuovo modello `Sequential` con uno strato `Dense` aggiunto con attivazione \"relu\"\n",
    "  - lo strato in output ha sempre 1 nodo con attivazione lineare (default)"
   ]
  },
  {
   "cell_type": "code",
   "execution_count": 28,
   "metadata": {},
   "outputs": [],
   "source": [
    "model = Sequential([\n",
    "    Dense(8, activation=\"relu\", input_dim=1),\n",
    "    Dense(1)\n",
    "])"
   ]
  },
  {
   "cell_type": "markdown",
   "metadata": {},
   "source": [
    "- Eseguiamo la compilazione come sopra"
   ]
  },
  {
   "cell_type": "code",
   "execution_count": 29,
   "metadata": {},
   "outputs": [],
   "source": [
    "model.compile(optimizer=\"adam\", loss=\"mean_squared_error\")"
   ]
  },
  {
   "cell_type": "markdown",
   "metadata": {
    "slideshow": {
     "slide_type": "slide"
    }
   },
   "source": [
    "- Dal sommario vediamo che il modello ha 25 parametri addestrabili, ovvero\n",
    "  - gli 8 pesi $w^{(1)}_{1,j}$ dati all'input ai nodi dello strato nascosto\n",
    "  - gli 8 bias $b^{(1)}_j$ dei nodi dello strato nascosto\n",
    "  - gli 8 pesi $w^{(2)}_{i,1}$ dati all'output dello strato nascosto dal nodo di output\n",
    "  - il bias $b^{(2)}_1$ del nodo di output"
   ]
  },
  {
   "cell_type": "code",
   "execution_count": 30,
   "metadata": {},
   "outputs": [
    {
     "name": "stdout",
     "output_type": "stream",
     "text": [
      "Model: \"sequential_1\"\n",
      "_________________________________________________________________\n",
      " Layer (type)                Output Shape              Param #   \n",
      "=================================================================\n",
      " dense_1 (Dense)             (None, 8)                 16        \n",
      "                                                                 \n",
      " dense_2 (Dense)             (None, 1)                 9         \n",
      "                                                                 \n",
      "=================================================================\n",
      "Total params: 25\n",
      "Trainable params: 25\n",
      "Non-trainable params: 0\n",
      "_________________________________________________________________\n"
     ]
    }
   ],
   "source": [
    "model.summary()"
   ]
  },
  {
   "cell_type": "markdown",
   "metadata": {
    "slideshow": {
     "slide_type": "slide"
    }
   },
   "source": [
    "- Eseguiamo il training del modello mantenendo le stesse impostazioni"
   ]
  },
  {
   "cell_type": "code",
   "execution_count": 31,
   "metadata": {},
   "outputs": [
    {
     "name": "stdout",
     "output_type": "stream",
     "text": [
      "Epoch 1/20\n",
      "244/244 [==============================] - 0s 791us/step - loss: 1.4958\n",
      "Epoch 2/20\n",
      "244/244 [==============================] - 0s 827us/step - loss: 0.9641\n",
      "Epoch 3/20\n",
      "244/244 [==============================] - 0s 812us/step - loss: 0.7119\n",
      "Epoch 4/20\n",
      "244/244 [==============================] - 0s 823us/step - loss: 0.5586\n",
      "Epoch 5/20\n",
      "244/244 [==============================] - 0s 804us/step - loss: 0.4536\n",
      "Epoch 6/20\n",
      "244/244 [==============================] - 0s 793us/step - loss: 0.3793\n",
      "Epoch 7/20\n",
      "244/244 [==============================] - 0s 801us/step - loss: 0.3290\n",
      "Epoch 8/20\n",
      "244/244 [==============================] - 0s 818us/step - loss: 0.2921\n",
      "Epoch 9/20\n",
      "244/244 [==============================] - 0s 853us/step - loss: 0.2685\n",
      "Epoch 10/20\n",
      "244/244 [==============================] - 0s 802us/step - loss: 0.2507\n",
      "Epoch 11/20\n",
      "244/244 [==============================] - 0s 828us/step - loss: 0.2372\n",
      "Epoch 12/20\n",
      "244/244 [==============================] - 0s 813us/step - loss: 0.2275\n",
      "Epoch 13/20\n",
      "244/244 [==============================] - 0s 812us/step - loss: 0.2199\n",
      "Epoch 14/20\n",
      "244/244 [==============================] - 0s 803us/step - loss: 0.2134\n",
      "Epoch 15/20\n",
      "244/244 [==============================] - 0s 818us/step - loss: 0.2080\n",
      "Epoch 16/20\n",
      "244/244 [==============================] - 0s 806us/step - loss: 0.2036\n",
      "Epoch 17/20\n",
      "244/244 [==============================] - 0s 826us/step - loss: 0.1997\n",
      "Epoch 18/20\n",
      "244/244 [==============================] - 0s 816us/step - loss: 0.1959\n",
      "Epoch 19/20\n",
      "244/244 [==============================] - 0s 815us/step - loss: 0.1948\n",
      "Epoch 20/20\n",
      "244/244 [==============================] - 0s 817us/step - loss: 0.1916\n"
     ]
    }
   ],
   "source": [
    "##outsnip:4:4\n",
    "fit_history = model.fit(X_train, y_train, batch_size=3, epochs=20)"
   ]
  },
  {
   "cell_type": "markdown",
   "metadata": {},
   "source": [
    "- Vediamo già durante il training che la _loss_ (il MSE sul training set) è scesa di più rispetto alla rete precedente"
   ]
  },
  {
   "cell_type": "markdown",
   "metadata": {
    "slideshow": {
     "slide_type": "slide"
    }
   },
   "source": [
    "- Grafichiamo come sopra l'andamento del MSE durante il training"
   ]
  },
  {
   "cell_type": "code",
   "execution_count": 32,
   "metadata": {},
   "outputs": [
    {
     "data": {
      "image/png": "[encoded data removed]",
      "text/plain": [
       "<Figure size 432x288 with 1 Axes>"
      ]
     },
     "metadata": {
      "needs_background": "light"
     },
     "output_type": "display_data"
    }
   ],
   "source": [
    "plt.plot(fit_history.history[\"loss\"], \"ro-\")\n",
    "plt.xlabel(\"Epoche\")\n",
    "plt.ylabel(\"MSE\");"
   ]
  },
  {
   "cell_type": "markdown",
   "metadata": {
    "slideshow": {
     "slide_type": "slide"
    }
   },
   "source": [
    "- Calcoliamo MSE e R² sul validation set"
   ]
  },
  {
   "cell_type": "code",
   "execution_count": 33,
   "metadata": {},
   "outputs": [
    {
     "name": "stdout",
     "output_type": "stream",
     "text": [
      "12/12 [==============================] - 0s 829us/step - loss: 0.2255\n"
     ]
    },
    {
     "data": {
      "text/plain": [
       "0.22554846107959747"
      ]
     },
     "execution_count": 33,
     "metadata": {},
     "output_type": "execute_result"
    }
   ],
   "source": [
    "model.evaluate(X_val, y_val)"
   ]
  },
  {
   "cell_type": "code",
   "execution_count": 34,
   "metadata": {},
   "outputs": [
    {
     "name": "stdout",
     "output_type": "stream",
     "text": [
      "12/12 [==============================] - 0s 753us/step\n"
     ]
    },
    {
     "data": {
      "text/plain": [
       "0.6826193848536843"
      ]
     },
     "execution_count": 34,
     "metadata": {},
     "output_type": "execute_result"
    }
   ],
   "source": [
    "r2_score(y_val, model.predict(X_val))"
   ]
  },
  {
   "cell_type": "markdown",
   "metadata": {
    "slideshow": {
     "slide_type": "slide"
    }
   },
   "source": [
    "- Grazie alla combinazione di nodi non lineari abbiamo ottenuto un modello nettamente migliore, come visibile anche dal grafico"
   ]
  },
  {
   "cell_type": "code",
   "execution_count": 35,
   "metadata": {},
   "outputs": [
    {
     "name": "stdout",
     "output_type": "stream",
     "text": [
      "4/4 [==============================] - 0s 1ms/step\n"
     ]
    },
    {
     "data": {
      "image/png": "[encoded data removed]",
      "text/plain": [
       "<Figure size 432x288 with 1 Axes>"
      ]
     },
     "metadata": {
      "needs_background": "light"
     },
     "output_type": "display_data"
    }
   ],
   "source": [
    "plot_model_on_data(X_val, y_val, model)"
   ]
  },
  {
   "cell_type": "markdown",
   "metadata": {
    "slideshow": {
     "slide_type": "slide"
    }
   },
   "source": [
    "- Col metodo `get_weights` possiamo ottenere i parametri del modello, scomposti in questo caso in\n",
    "  - una matrice 1x8 con i pesi dello strato nascosto\n",
    "  - un vettore con gli 8 bias dello strato nascosto\n",
    "  - una matrice 8x1 con i pesi del nodo di output\n",
    "  - un vettore con il bias del nodo di output"
   ]
  },
  {
   "cell_type": "code",
   "execution_count": 36,
   "metadata": {},
   "outputs": [
    {
     "data": {
      "text/plain": [
       "[array([[-0.8191607 ,  0.20476808,  1.140861  ,  0.08004726, -0.4655723 ,\n",
       "         -0.727894  ,  0.26060814, -0.63253784]], dtype=float32),\n",
       " array([ 0.0569277 , -0.31781298, -0.24624728, -0.12425224,  0.64276856,\n",
       "         0.31200847, -0.40159246,  0.87152046], dtype=float32),\n",
       " array([[ 1.2075187 ],\n",
       "        [-0.5042149 ],\n",
       "        [ 1.5401789 ],\n",
       "        [-0.6972863 ],\n",
       "        [-0.9663397 ],\n",
       "        [ 0.9430387 ],\n",
       "        [-0.41315553],\n",
       "        [-0.7739441 ]], dtype=float32),\n",
       " array([-0.08722863], dtype=float32)]"
      ]
     },
     "execution_count": 36,
     "metadata": {},
     "output_type": "execute_result"
    }
   ],
   "source": [
    "model.get_weights()"
   ]
  },
  {
   "cell_type": "markdown",
   "metadata": {
    "slideshow": {
     "slide_type": "slide"
    }
   },
   "source": [
    "## Esercizio 1: Regressione in Keras\n",
    "\n",
    "- **(1a)** Definire, addestrare e calcolare R² di un modello a rete neurale come quello sopra ma con 32 nodi nello strato nascosto invece di 8\n",
    "- **(1b)** Definire, addestrare e calcolare R² di un modello a rete neurale con due strati nascosti rispettivamente di 32 e 8 nodi, entrambi con attivazione ReLU\n",
    "- Quesito: quanti parametri addestrabili ha ciascuno di questi due modelli? (rispondere prima di utilizzare `summary`)"
   ]
  },
  {
   "cell_type": "code",
   "execution_count": 37,
   "metadata": {},
   "outputs": [],
   "source": [
    "##solhead:ESERCIZIO 1"
   ]
  },
  {
   "cell_type": "code",
   "execution_count": 38,
   "metadata": {},
   "outputs": [
    {
     "name": "stdout",
     "output_type": "stream",
     "text": [
      "Epoch 1/10\n",
      "244/244 [==============================] - 0s 783us/step - loss: 0.8413\n",
      "Epoch 2/10\n",
      "244/244 [==============================] - 0s 777us/step - loss: 0.5126\n",
      "Epoch 3/10\n",
      "244/244 [==============================] - 0s 817us/step - loss: 0.3515\n",
      "Epoch 4/10\n",
      "244/244 [==============================] - 0s 791us/step - loss: 0.2655\n",
      "Epoch 5/10\n",
      "244/244 [==============================] - 0s 795us/step - loss: 0.2258\n",
      "Epoch 6/10\n",
      "244/244 [==============================] - 0s 800us/step - loss: 0.2086\n",
      "Epoch 7/10\n",
      "244/244 [==============================] - 0s 805us/step - loss: 0.1997\n",
      "Epoch 8/10\n",
      "244/244 [==============================] - 0s 810us/step - loss: 0.1924\n",
      "Epoch 9/10\n",
      "244/244 [==============================] - 0s 833us/step - loss: 0.1894\n",
      "Epoch 10/10\n",
      "244/244 [==============================] - 0s 802us/step - loss: 0.1863\n",
      "12/12 [==============================] - 0s 839us/step\n"
     ]
    },
    {
     "data": {
      "text/plain": [
       "0.7032526785455909"
      ]
     },
     "execution_count": 38,
     "metadata": {},
     "output_type": "execute_result"
    }
   ],
   "source": [
    "##sol:1a (1*32 + 32 + 32*1 + 1 = 97 parametri)\n",
    "model = Sequential([\n",
    "    Dense(32, activation=\"relu\", input_dim=1),\n",
    "    Dense(1)\n",
    "])\n",
    "model.compile(optimizer=\"adam\", loss=\"mean_squared_error\")\n",
    "model.fit(X_train, y_train, batch_size=3, epochs=10)\n",
    "r2_score(y_val, model.predict(X_val))"
   ]
  },
  {
   "cell_type": "code",
   "execution_count": 39,
   "metadata": {},
   "outputs": [
    {
     "name": "stdout",
     "output_type": "stream",
     "text": [
      "Epoch 1/10\n",
      "244/244 [==============================] - 0s 840us/step - loss: 0.6197\n",
      "Epoch 2/10\n",
      "244/244 [==============================] - 0s 847us/step - loss: 0.2835\n",
      "Epoch 3/10\n",
      "244/244 [==============================] - 0s 845us/step - loss: 0.1858\n",
      "Epoch 4/10\n",
      "244/244 [==============================] - 0s 825us/step - loss: 0.1802\n",
      "Epoch 5/10\n",
      "244/244 [==============================] - 0s 848us/step - loss: 0.1778\n",
      "Epoch 6/10\n",
      "244/244 [==============================] - 0s 853us/step - loss: 0.1772\n",
      "Epoch 7/10\n",
      "244/244 [==============================] - 0s 874us/step - loss: 0.1774\n",
      "Epoch 8/10\n",
      "244/244 [==============================] - 0s 836us/step - loss: 0.1766\n",
      "Epoch 9/10\n",
      "244/244 [==============================] - 0s 849us/step - loss: 0.1757\n",
      "Epoch 10/10\n",
      "244/244 [==============================] - 0s 819us/step - loss: 0.1791\n",
      "12/12 [==============================] - 0s 860us/step\n"
     ]
    },
    {
     "data": {
      "text/plain": [
       "0.7479179559850043"
      ]
     },
     "execution_count": 39,
     "metadata": {},
     "output_type": "execute_result"
    }
   ],
   "source": [
    "##sol:1b (1*32 + 32 + 32*8 + 8 + 8*1 + 1 = 337 parametri)\n",
    "model = Sequential([\n",
    "    Dense(32, activation=\"relu\", input_dim=1),\n",
    "    Dense(8, activation=\"relu\"),\n",
    "    Dense(1)\n",
    "])\n",
    "model.compile(optimizer=\"adam\", loss=\"mean_squared_error\")\n",
    "model.fit(X_train, y_train, batch_size=3, epochs=10)\n",
    "r2_score(y_val, model.predict(X_val))"
   ]
  },
  {
   "cell_type": "markdown",
   "metadata": {
    "slideshow": {
     "slide_type": "slide"
    }
   },
   "source": [
    "## Classificazione con reti neurali\n",
    "\n",
    "- Riprendiamo l'esempio della classificazione di punti nel piano con classi non separabili linearmente\n",
    "  - sia training che validation set contengono le coordinate di punti in un piano, distribuiti in due diverse corone circolari\n",
    "  - vogliamo addestrare un modello di classificazione a distinguere i punti interni da quelli esterni"
   ]
  },
  {
   "cell_type": "code",
   "execution_count": 40,
   "metadata": {},
   "outputs": [],
   "source": [
    "from sklearn.datasets import make_circles\n",
    "X_train, y_train = make_circles(1000, noise=0.1, factor=0.5, random_state=23)\n",
    "X_val, y_val = make_circles(1000, noise=0.1, factor=0.5, random_state=42)"
   ]
  },
  {
   "cell_type": "code",
   "execution_count": 41,
   "metadata": {
    "slideshow": {
     "slide_type": "slide"
    }
   },
   "outputs": [
    {
     "data": {
      "image/png": "[encoded data removed]",
      "text/plain": [
       "<Figure size 432x288 with 1 Axes>"
      ]
     },
     "metadata": {
      "needs_background": "light"
     },
     "output_type": "display_data"
    }
   ],
   "source": [
    "plt.scatter(*X_train.T, s=3, c=np.where(y_train, \"red\", \"blue\"));"
   ]
  },
  {
   "cell_type": "markdown",
   "metadata": {
    "slideshow": {
     "slide_type": "slide"
    }
   },
   "source": [
    "- Riprendiamo la funzione che, dato un modello, visualizza come questo classifica i punti nel piano"
   ]
  },
  {
   "cell_type": "code",
   "execution_count": 42,
   "metadata": {},
   "outputs": [],
   "source": [
    "def plot_class_model(X, y, model):\n",
    "    plt.scatter(X[:, 0], X[:, 1])\n",
    "    xlim, ylim = plt.xlim(), plt.ylim()\n",
    "    mx = np.linspace(xlim[0], xlim[1], 101)\n",
    "    my = np.linspace(ylim[0], ylim[1], 101)\n",
    "    mx, my = np.meshgrid(mx, my)\n",
    "    if hasattr(model, \"predict_proba\"):  # modello scikit-learn\n",
    "        mz = model.predict_proba(np.c_[mx.ravel(), my.ravel()])[:, 1].reshape(mx.shape)\n",
    "    else:  # modello keras\n",
    "        mz = model.predict(np.c_[mx.ravel(), my.ravel()])[:, 1].reshape(mx.shape)\n",
    "    plt.contourf(mx, my, mz, cmap=\"cool\")\n",
    "    plt.scatter(X[:, 0], X[:, 1], c=np.where(y, \"#880000\", \"blue\"), s=4)"
   ]
  },
  {
   "cell_type": "markdown",
   "metadata": {
    "slideshow": {
     "slide_type": "slide"
    }
   },
   "source": [
    "- Abbiamo visto che un modello lineare non può essere addestrato efficacemente a distinguere le due classi per via della non linearità"
   ]
  },
  {
   "cell_type": "code",
   "execution_count": 43,
   "metadata": {},
   "outputs": [
    {
     "data": {
      "image/png": "[encoded data removed]",
      "text/plain": [
       "<Figure size 432x288 with 1 Axes>"
      ]
     },
     "metadata": {
      "needs_background": "light"
     },
     "output_type": "display_data"
    }
   ],
   "source": [
    "from sklearn.linear_model import LogisticRegression\n",
    "model = LogisticRegression(solver=\"saga\", random_state=42)\n",
    "model.fit(X_train, y_train)\n",
    "plot_class_model(X_val, y_val, model)"
   ]
  },
  {
   "cell_type": "markdown",
   "metadata": {
    "slideshow": {
     "slide_type": "slide"
    }
   },
   "source": [
    "- Se introduciamo manualmente i quadrati delle variabili, otteniamo un modello efficace"
   ]
  },
  {
   "cell_type": "code",
   "execution_count": 44,
   "metadata": {},
   "outputs": [
    {
     "data": {
      "image/png": "[encoded data removed]",
      "text/plain": [
       "<Figure size 432x288 with 1 Axes>"
      ]
     },
     "metadata": {
      "needs_background": "light"
     },
     "output_type": "display_data"
    }
   ],
   "source": [
    "from sklearn.preprocessing import PolynomialFeatures\n",
    "from sklearn.pipeline import Pipeline\n",
    "model = Pipeline([\n",
    "    (\"poly\", PolynomialFeatures(degree=2, include_bias=False)),\n",
    "    (\"lr\", LogisticRegression(solver=\"saga\", random_state=42))\n",
    "])\n",
    "model.fit(X_train, y_train)\n",
    "plot_class_model(X_val, y_val, model)"
   ]
  },
  {
   "cell_type": "markdown",
   "metadata": {
    "slideshow": {
     "slide_type": "slide"
    }
   },
   "source": [
    "- Abbiamo però visto come con una rete neurale, senza generare manualmente delle variabili, otteniamo lo stesso risultato\n",
    "- Consideriamo ad esempio una rete\n",
    "  - costituita da un singolo strato nascosto di 32 nodi con attivazione ReLU\n",
    "    - $\\text{ReLU}(x)=\\max(0,x)$\n",
    "  - addestrata con discesa gradiente stocastica (SGD) per 100 epoche a minibatch di 200 istanze"
   ]
  },
  {
   "cell_type": "code",
   "execution_count": 45,
   "metadata": {},
   "outputs": [
    {
     "name": "stderr",
     "output_type": "stream",
     "text": [
      "/home/rrobby/software/jupyter/lib/python3.9/site-packages/sklearn/neural_network/_multilayer_perceptron.py:692: ConvergenceWarning: Stochastic Optimizer: Maximum iterations (100) reached and the optimization hasn't converged yet.\n",
      "  warnings.warn(\n"
     ]
    }
   ],
   "source": [
    "from sklearn.neural_network import MLPClassifier\n",
    "model = MLPClassifier(\n",
    "    hidden_layer_sizes=[32],\n",
    "    activation=\"relu\",\n",
    "    solver=\"sgd\",\n",
    "    max_iter=100,\n",
    "    batch_size=200,\n",
    "    random_state=123\n",
    ")\n",
    "model.fit(X_train, y_train);"
   ]
  },
  {
   "cell_type": "code",
   "execution_count": 46,
   "metadata": {
    "slideshow": {
     "slide_type": "slide"
    }
   },
   "outputs": [
    {
     "data": {
      "image/png": "[encoded data removed]",
      "text/plain": [
       "<Figure size 432x288 with 1 Axes>"
      ]
     },
     "metadata": {
      "needs_background": "light"
     },
     "output_type": "display_data"
    }
   ],
   "source": [
    "plot_class_model(X_val, y_val, model)"
   ]
  },
  {
   "cell_type": "code",
   "execution_count": 47,
   "metadata": {},
   "outputs": [
    {
     "data": {
      "text/plain": [
       "0.955"
      ]
     },
     "execution_count": 47,
     "metadata": {},
     "output_type": "execute_result"
    }
   ],
   "source": [
    "model.score(X_val, y_val)"
   ]
  },
  {
   "cell_type": "markdown",
   "metadata": {},
   "source": [
    "- La rete ha sfruttato i nodi per approssimare quanto meglio possibile la distribuzione delle classi"
   ]
  },
  {
   "cell_type": "markdown",
   "metadata": {
    "slideshow": {
     "slide_type": "slide"
    }
   },
   "source": [
    "## Modello di classificazione in Keras\n",
    "\n",
    "- Vediamo ora come creare un modello di classificazione in Keras per capirne il funzionamento"
   ]
  },
  {
   "cell_type": "markdown",
   "metadata": {
    "slideshow": {
     "slide_type": "slide"
    }
   },
   "source": [
    "- Per suddividere oggetti in N classi (quì 2), creiamo una rete neurale con **molteplici nodi di output**, uno per ciascuna classe\n",
    "  - con sole due classi potremmo replicare un modello di regressione logistica con un singolo nodo di output\n",
    "  - l'approccio che mostriamo è però generalizzabile ad un qualsiasi numero di classi\n",
    "- Addestriamo quindi la rete in modo che il nodo di output corrispondente alla classe giusta dia un valore maggiore degli altri\n",
    "- Per questo l'output atteso della rete per ciascun input, per ora rappresentato come un singolo valore 0 o 1..."
   ]
  },
  {
   "cell_type": "code",
   "execution_count": 48,
   "metadata": {},
   "outputs": [
    {
     "data": {
      "text/plain": [
       "array([1, 1, 0, 1, 1])"
      ]
     },
     "execution_count": 48,
     "metadata": {},
     "output_type": "execute_result"
    }
   ],
   "source": [
    "y_train[:5]"
   ]
  },
  {
   "cell_type": "markdown",
   "metadata": {},
   "source": [
    "- ...va rappresentato come un vettore _one-hot_ di due elementi, dove\n",
    "  - 0 (punti esterni) si codifica con `[1, 0]`\n",
    "  - 1 (punti interni) si codifica con `[0, 1]`\n",
    "- Questa rappresentazione è generalizzabile a qualsiasi numero di classi\n",
    "  - ad es. la quarta di 5 classi sarebbe codificata con `[0, 0, 0, 1, 0]`"
   ]
  },
  {
   "cell_type": "markdown",
   "metadata": {
    "slideshow": {
     "slide_type": "slide"
    }
   },
   "source": [
    "- Keras fornisce un'apposita funzione `to_categorical` per codificare l'output in questo modo"
   ]
  },
  {
   "cell_type": "code",
   "execution_count": 49,
   "metadata": {},
   "outputs": [],
   "source": [
    "from tensorflow.keras.utils import to_categorical\n",
    "yt_train = to_categorical(y_train)\n",
    "yt_val = to_categorical(y_val)"
   ]
  },
  {
   "cell_type": "markdown",
   "metadata": {},
   "source": [
    "- Otteniamo così le coppie di valori corrispondenti ai valori attesi dei due nodi di output della rete in ciascun caso"
   ]
  },
  {
   "cell_type": "code",
   "execution_count": 50,
   "metadata": {},
   "outputs": [
    {
     "data": {
      "text/plain": [
       "array([[0., 1.],\n",
       "       [0., 1.],\n",
       "       [1., 0.],\n",
       "       [0., 1.],\n",
       "       [0., 1.]], dtype=float32)"
      ]
     },
     "execution_count": 50,
     "metadata": {},
     "output_type": "execute_result"
    }
   ],
   "source": [
    "yt_train[:5]"
   ]
  },
  {
   "cell_type": "markdown",
   "metadata": {
    "slideshow": {
     "slide_type": "slide"
    }
   },
   "source": [
    "- Addestriamo un modello con uno strato nascosto di 8 nodi con attivazione ReLU\n",
    "  - specifichiamo che i valori in input sono 2, le coordinate del punto\n",
    "- Nello strato di output utilizziamo due nodi, **uno per classe**\n",
    "- La **funzione di attivazione `softmax`** fa in modo che l'output della rete costituisca una **distribuzione di probabilità tra le due classi**, ovvero che la somma dei due valori sia sempre 1"
   ]
  },
  {
   "cell_type": "code",
   "execution_count": 51,
   "metadata": {},
   "outputs": [],
   "source": [
    "model = Sequential([\n",
    "    Dense(8, activation=\"relu\", input_dim=2),\n",
    "    Dense(2, activation=\"softmax\")\n",
    "])"
   ]
  },
  {
   "cell_type": "markdown",
   "metadata": {
    "slideshow": {
     "slide_type": "slide"
    }
   },
   "source": [
    "- Nel modello abbiamo così un totale di 42 parametri\n",
    "  - 2x8 = 16 pesi e 8 bias nello strato nascosto\n",
    "  - 8x2 = 16 pesi e 2 bias nello strato di output"
   ]
  },
  {
   "cell_type": "code",
   "execution_count": 52,
   "metadata": {},
   "outputs": [
    {
     "name": "stdout",
     "output_type": "stream",
     "text": [
      "Model: \"sequential_4\"\n",
      "_________________________________________________________________\n",
      " Layer (type)                Output Shape              Param #   \n",
      "=================================================================\n",
      " dense_8 (Dense)             (None, 8)                 24        \n",
      "                                                                 \n",
      " dense_9 (Dense)             (None, 2)                 18        \n",
      "                                                                 \n",
      "=================================================================\n",
      "Total params: 42\n",
      "Trainable params: 42\n",
      "Non-trainable params: 0\n",
      "_________________________________________________________________\n"
     ]
    }
   ],
   "source": [
    "model.summary()"
   ]
  },
  {
   "cell_type": "markdown",
   "metadata": {
    "slideshow": {
     "slide_type": "slide"
    }
   },
   "source": [
    "- Per la classificazione, impostiamo `categorical_crossentropy` come misura dell'errore\n",
    "  - l'errore è tanto più alto quanto più la probabilità stimata per la classe corretta si allontana da 100\\%\n",
    "- In aggiunta alla metrica dell'errore da ottimizzare, possiamo aggiungere altre metriche di valutazione che vogliamo misurare (`metrics`)\n",
    "  - calcoliamo l'`accuracy`, ovvero la percentuale di esempi classificati correttamente\n",
    "- La rete sarà quindi addestrata per ridurre la `categorical_crossentropy`, ma verrà calcolata e mostrata anche la `accuracy`"
   ]
  },
  {
   "cell_type": "code",
   "execution_count": 53,
   "metadata": {},
   "outputs": [],
   "source": [
    "model.compile(\n",
    "    optimizer=\"adam\",\n",
    "    loss=\"categorical_crossentropy\",\n",
    "    metrics=[\"accuracy\"]\n",
    ")"
   ]
  },
  {
   "cell_type": "markdown",
   "metadata": {},
   "source": [
    "- Addestriamo quindi la rete, passando i valori in input (le coordinate dei punti) e quelli in output (le classi nel formato one-hot encoded)"
   ]
  },
  {
   "cell_type": "code",
   "execution_count": 54,
   "metadata": {
    "slideshow": {
     "slide_type": "slide"
    }
   },
   "outputs": [
    {
     "name": "stdout",
     "output_type": "stream",
     "text": [
      "Epoch 1/20\n",
      "100/100 [==============================] - 0s 849us/step - loss: 0.7365 - accuracy: 0.4940\n",
      "Epoch 2/20\n",
      "100/100 [==============================] - 0s 848us/step - loss: 0.7013 - accuracy: 0.4610\n",
      "Epoch 3/20\n",
      "100/100 [==============================] - 0s 894us/step - loss: 0.6767 - accuracy: 0.4690\n",
      "Epoch 4/20\n",
      "100/100 [==============================] - 0s 870us/step - loss: 0.6554 - accuracy: 0.5140\n",
      "Epoch 5/20\n",
      "100/100 [==============================] - 0s 822us/step - loss: 0.6342 - accuracy: 0.5790\n",
      "Epoch 6/20\n",
      "100/100 [==============================] - 0s 855us/step - loss: 0.6125 - accuracy: 0.6530\n",
      "Epoch 7/20\n",
      "100/100 [==============================] - 0s 844us/step - loss: 0.5902 - accuracy: 0.7260\n",
      "Epoch 8/20\n",
      "100/100 [==============================] - 0s 871us/step - loss: 0.5680 - accuracy: 0.8300\n",
      "Epoch 9/20\n",
      "100/100 [==============================] - 0s 851us/step - loss: 0.5457 - accuracy: 0.8840\n",
      "Epoch 10/20\n",
      "100/100 [==============================] - 0s 833us/step - loss: 0.5235 - accuracy: 0.8920\n",
      "Epoch 11/20\n",
      "100/100 [==============================] - 0s 841us/step - loss: 0.5016 - accuracy: 0.9180\n",
      "Epoch 12/20\n",
      "100/100 [==============================] - 0s 829us/step - loss: 0.4796 - accuracy: 0.9380\n",
      "Epoch 13/20\n",
      "100/100 [==============================] - 0s 834us/step - loss: 0.4576 - accuracy: 0.9440\n",
      "Epoch 14/20\n",
      "100/100 [==============================] - 0s 818us/step - loss: 0.4356 - accuracy: 0.9640\n",
      "Epoch 15/20\n",
      "100/100 [==============================] - 0s 892us/step - loss: 0.4126 - accuracy: 0.9740\n",
      "Epoch 16/20\n",
      "100/100 [==============================] - 0s 882us/step - loss: 0.3898 - accuracy: 0.9760\n",
      "Epoch 17/20\n",
      "100/100 [==============================] - 0s 906us/step - loss: 0.3680 - accuracy: 0.9770\n",
      "Epoch 18/20\n",
      "100/100 [==============================] - 0s 865us/step - loss: 0.3468 - accuracy: 0.9770\n",
      "Epoch 19/20\n",
      "100/100 [==============================] - 0s 878us/step - loss: 0.3259 - accuracy: 0.9840\n",
      "Epoch 20/20\n",
      "100/100 [==============================] - 0s 825us/step - loss: 0.3060 - accuracy: 0.9820\n"
     ]
    }
   ],
   "source": [
    "##outsnip:4:4\n",
    "fit_history = model.fit(X_train, yt_train, batch_size=10, epochs=20)"
   ]
  },
  {
   "cell_type": "markdown",
   "metadata": {
    "slideshow": {
     "slide_type": "slide"
    }
   },
   "source": [
    "- In `fit_history` troviamo salvato l'andamento sia dell'errore che dell'accuratezza sul training set"
   ]
  },
  {
   "cell_type": "code",
   "execution_count": 55,
   "metadata": {},
   "outputs": [
    {
     "data": {
      "image/png": "[encoded data removed]",
      "text/plain": [
       "<Figure size 432x288 with 1 Axes>"
      ]
     },
     "metadata": {
      "needs_background": "light"
     },
     "output_type": "display_data"
    }
   ],
   "source": [
    "plt.plot(fit_history.history[\"loss\"], \"ro-\")\n",
    "plt.plot(fit_history.history[\"accuracy\"], \"bo-\")\n",
    "plt.legend([\"Loss\", \"Accuracy\"])\n",
    "plt.xlabel(\"Epochs\");"
   ]
  },
  {
   "cell_type": "markdown",
   "metadata": {
    "slideshow": {
     "slide_type": "slide"
    }
   },
   "source": [
    "- Con `predict` otteniamo l'output \"grezzo\" della rete a fronte di input dati, ovvero le probabilità delle due classi"
   ]
  },
  {
   "cell_type": "code",
   "execution_count": 56,
   "metadata": {},
   "outputs": [
    {
     "name": "stdout",
     "output_type": "stream",
     "text": [
      "1/1 [==============================] - 0s 32ms/step\n"
     ]
    },
    {
     "data": {
      "text/plain": [
       "array([[0.23742898, 0.76257104],\n",
       "       [0.19231717, 0.8076828 ],\n",
       "       [0.4410852 , 0.5589148 ],\n",
       "       [0.25725883, 0.74274117],\n",
       "       [0.8170395 , 0.18296057]], dtype=float32)"
      ]
     },
     "execution_count": 56,
     "metadata": {},
     "output_type": "execute_result"
    }
   ],
   "source": [
    "model.predict(X_val[:5])"
   ]
  },
  {
   "cell_type": "markdown",
   "metadata": {},
   "source": [
    "- Per ottenere la classe predetta per ogni istanza (quella con probabilità maggiore) possiamo applicare `argmax` riga per riga"
   ]
  },
  {
   "cell_type": "code",
   "execution_count": 57,
   "metadata": {},
   "outputs": [
    {
     "name": "stdout",
     "output_type": "stream",
     "text": [
      "1/1 [==============================] - 0s 14ms/step\n"
     ]
    },
    {
     "data": {
      "text/plain": [
       "array([1, 1, 1, 1, 0])"
      ]
     },
     "execution_count": 57,
     "metadata": {},
     "output_type": "execute_result"
    }
   ],
   "source": [
    "np.argmax(model.predict(X_val[:5]), -1)"
   ]
  },
  {
   "cell_type": "markdown",
   "metadata": {
    "slideshow": {
     "slide_type": "slide"
    }
   },
   "source": [
    "- Con `evaluate` calcoliamo tutte le misure indicate in `compile`, ovvero la cross entropy e l'accuratezza"
   ]
  },
  {
   "cell_type": "code",
   "execution_count": 58,
   "metadata": {},
   "outputs": [
    {
     "name": "stdout",
     "output_type": "stream",
     "text": [
      "32/32 [==============================] - 0s 974us/step - loss: 0.3018 - accuracy: 0.9900\n"
     ]
    },
    {
     "data": {
      "text/plain": [
       "[0.3017919063568115, 0.9900000095367432]"
      ]
     },
     "execution_count": 58,
     "metadata": {},
     "output_type": "execute_result"
    }
   ],
   "source": [
    "model.evaluate(X_val, yt_val)"
   ]
  },
  {
   "cell_type": "code",
   "execution_count": 59,
   "metadata": {},
   "outputs": [
    {
     "name": "stdout",
     "output_type": "stream",
     "text": [
      "319/319 [==============================] - 0s 654us/step\n"
     ]
    },
    {
     "data": {
      "image/png": "[encoded data removed]",
      "text/plain": [
       "<Figure size 432x288 with 1 Axes>"
      ]
     },
     "metadata": {
      "needs_background": "light"
     },
     "output_type": "display_data"
    }
   ],
   "source": [
    "plot_class_model(X_val, y_val, model)"
   ]
  },
  {
   "cell_type": "markdown",
   "metadata": {
    "slideshow": {
     "slide_type": "slide"
    }
   },
   "source": [
    "## Esercizio 2: Classificazione in Keras\n",
    "\n",
    "- **(2a)** Definire, addestrare e calcolare l'accuratezza di un modello a rete neurale come quello sopra ma con 32 nodi nello strato nascosto invece di 8\n",
    "- **(2b)** Definire, addestrare e calcolare l'accuratezza di un modello a rete neurale con due strati nascosti rispettivamente di 32 e 8 nodi, entrambi con attivazione ReLU\n",
    "- Quesito: quanti parametri addestrabili ha ciascuno di questi due modelli? (rispondere prima di utilizzare `summary`)"
   ]
  },
  {
   "cell_type": "code",
   "execution_count": 60,
   "metadata": {},
   "outputs": [],
   "source": [
    "##solhead:ESERCIZIO 2"
   ]
  },
  {
   "cell_type": "code",
   "execution_count": 61,
   "metadata": {},
   "outputs": [
    {
     "name": "stdout",
     "output_type": "stream",
     "text": [
      "Epoch 1/10\n",
      "100/100 [==============================] - 0s 840us/step - loss: 0.7112 - accuracy: 0.4660\n",
      "Epoch 2/10\n",
      "100/100 [==============================] - 0s 848us/step - loss: 0.6618 - accuracy: 0.5010\n",
      "Epoch 3/10\n",
      "100/100 [==============================] - 0s 839us/step - loss: 0.6252 - accuracy: 0.5330\n",
      "Epoch 4/10\n",
      "100/100 [==============================] - 0s 851us/step - loss: 0.5887 - accuracy: 0.7340\n",
      "Epoch 5/10\n",
      "100/100 [==============================] - 0s 850us/step - loss: 0.5479 - accuracy: 0.8390\n",
      "Epoch 6/10\n",
      "100/100 [==============================] - 0s 855us/step - loss: 0.4980 - accuracy: 0.9460\n",
      "Epoch 7/10\n",
      "100/100 [==============================] - 0s 825us/step - loss: 0.4454 - accuracy: 0.9760\n",
      "Epoch 8/10\n",
      "100/100 [==============================] - 0s 863us/step - loss: 0.3965 - accuracy: 0.9780\n",
      "Epoch 9/10\n",
      "100/100 [==============================] - 0s 879us/step - loss: 0.3506 - accuracy: 0.9880\n",
      "Epoch 10/10\n",
      "100/100 [==============================] - 0s 841us/step - loss: 0.3084 - accuracy: 0.9870\n",
      "32/32 [==============================] - 0s 852us/step - loss: 0.2927 - accuracy: 0.9930\n"
     ]
    },
    {
     "data": {
      "text/plain": [
       "[0.29274651408195496, 0.9929999709129333]"
      ]
     },
     "execution_count": 61,
     "metadata": {},
     "output_type": "execute_result"
    }
   ],
   "source": [
    "##sol:2a (2*32 + 32 + 32*2 + 2 = 162 parametri)\n",
    "model = Sequential([\n",
    "    Dense(32, activation=\"relu\", input_dim=2),\n",
    "    Dense(2, activation=\"softmax\")\n",
    "])\n",
    "model.compile(\n",
    "    optimizer=\"adam\",\n",
    "    loss=\"categorical_crossentropy\",\n",
    "    metrics=[\"accuracy\"]\n",
    ")\n",
    "fit_history = model.fit(X_train, yt_train, batch_size=10, epochs=10)\n",
    "model.evaluate(X_val, yt_val)"
   ]
  },
  {
   "cell_type": "code",
   "execution_count": 62,
   "metadata": {},
   "outputs": [
    {
     "name": "stdout",
     "output_type": "stream",
     "text": [
      "Epoch 1/10\n",
      "100/100 [==============================] - 0s 857us/step - loss: 0.6542 - accuracy: 0.5460\n",
      "Epoch 2/10\n",
      "100/100 [==============================] - 0s 908us/step - loss: 0.5948 - accuracy: 0.7870\n",
      "Epoch 3/10\n",
      "100/100 [==============================] - 0s 903us/step - loss: 0.4914 - accuracy: 0.8890\n",
      "Epoch 4/10\n",
      "100/100 [==============================] - 0s 914us/step - loss: 0.3707 - accuracy: 0.9540\n",
      "Epoch 5/10\n",
      "100/100 [==============================] - 0s 903us/step - loss: 0.2561 - accuracy: 0.9800\n",
      "Epoch 6/10\n",
      "100/100 [==============================] - 0s 884us/step - loss: 0.1675 - accuracy: 0.9880\n",
      "Epoch 7/10\n",
      "100/100 [==============================] - 0s 899us/step - loss: 0.1183 - accuracy: 0.9920\n",
      "Epoch 8/10\n",
      "100/100 [==============================] - 0s 893us/step - loss: 0.0906 - accuracy: 0.9930\n",
      "Epoch 9/10\n",
      "100/100 [==============================] - 0s 895us/step - loss: 0.0708 - accuracy: 0.9920\n",
      "Epoch 10/10\n",
      "100/100 [==============================] - 0s 886us/step - loss: 0.0585 - accuracy: 0.9930\n",
      "32/32 [==============================] - 0s 990us/step - loss: 0.0570 - accuracy: 0.9950\n"
     ]
    },
    {
     "data": {
      "text/plain": [
       "[0.056979067623615265, 0.9950000047683716]"
      ]
     },
     "execution_count": 62,
     "metadata": {},
     "output_type": "execute_result"
    }
   ],
   "source": [
    "##sol:2b (2*32 + 32 + 32*8 + 8 + 8*2 + 2 = 378 parametri)\n",
    "model = Sequential([\n",
    "    Dense(32, activation=\"relu\", input_dim=2),\n",
    "    Dense(8, activation=\"relu\"),\n",
    "    Dense(2, activation=\"softmax\")\n",
    "])\n",
    "model.compile(\n",
    "    optimizer=\"adam\",\n",
    "    loss=\"categorical_crossentropy\",\n",
    "    metrics=[\"accuracy\"]\n",
    ")\n",
    "fit_history = model.fit(X_train, yt_train, batch_size=10, epochs=10)\n",
    "model.evaluate(X_val, yt_val)"
   ]
  },
  {
   "cell_type": "markdown",
   "metadata": {
    "slideshow": {
     "slide_type": "slide"
    }
   },
   "source": [
    "## Caso di studio: Predizione vendite\n",
    "\n",
    "- Riprendiamo il caso di studio sui 1.000 negozi della catena europea Rossmann\n",
    "- La predizione su questi dati è stata oggetto di una competizione su Kaggle: https://www.kaggle.com/c/rossmann-store-sales\n",
    "  - i dati che forniamo sono versioni già parzialmente preprocessate di quelli originali su Kaggle\n",
    "- Vogliamo prevedere le vendite del giorno per dimensionare adeguatamente magazzino, personale, ..."
   ]
  },
  {
   "cell_type": "markdown",
   "metadata": {
    "slideshow": {
     "slide_type": "slide"
    }
   },
   "source": [
    "### Dataset\n",
    "\n",
    "- I dati sono forniti divisi in due file, per addestramento e validazione"
   ]
  },
  {
   "cell_type": "code",
   "execution_count": 63,
   "metadata": {},
   "outputs": [],
   "source": [
    "download(\"rossmann_train.csv.gz\", \"https://github.com/datascienceunibo/dialab2019/raw/master/Deep_Learning/rossmann_train.csv.gz\")\n",
    "download(\"rossmann_valid.csv.gz\", \"https://github.com/datascienceunibo/dialab2019/raw/master/Deep_Learning/rossmann_valid.csv.gz\")"
   ]
  },
  {
   "cell_type": "markdown",
   "metadata": {},
   "source": [
    "- Carichiamo i due file e vediamone la quantità di osservazioni"
   ]
  },
  {
   "cell_type": "code",
   "execution_count": 64,
   "metadata": {},
   "outputs": [],
   "source": [
    "data_train = pd.read_csv(\n",
    "    \"rossmann_train.csv.gz\",\n",
    "    parse_dates=[\"Date\"],\n",
    "    compression=\"gzip\",\n",
    ")"
   ]
  },
  {
   "cell_type": "code",
   "execution_count": 65,
   "metadata": {},
   "outputs": [],
   "source": [
    "data_val = pd.read_csv(\n",
    "    \"rossmann_valid.csv.gz\",\n",
    "    parse_dates=[\"Date\"],\n",
    "    compression=\"gzip\",\n",
    ")"
   ]
  },
  {
   "cell_type": "code",
   "execution_count": 66,
   "metadata": {},
   "outputs": [
    {
     "data": {
      "text/plain": [
       "(804056, 40282)"
      ]
     },
     "execution_count": 66,
     "metadata": {},
     "output_type": "execute_result"
    }
   ],
   "source": [
    "len(data_train), len(data_val)"
   ]
  },
  {
   "cell_type": "markdown",
   "metadata": {
    "slideshow": {
     "slide_type": "slide"
    }
   },
   "source": [
    "- Vediamo un estratto dei due frame"
   ]
  },
  {
   "cell_type": "code",
   "execution_count": 67,
   "metadata": {
    "slideshow": {
     "slide_type": "-"
    }
   },
   "outputs": [
    {
     "data": {
      "text/html": [
       "<div>\n",
       "<style scoped>\n",
       "    .dataframe tbody tr th:only-of-type {\n",
       "        vertical-align: middle;\n",
       "    }\n",
       "\n",
       "    .dataframe tbody tr th {\n",
       "        vertical-align: top;\n",
       "    }\n",
       "\n",
       "    .dataframe thead th {\n",
       "        text-align: right;\n",
       "    }\n",
       "</style>\n",
       "<table border=\"1\" class=\"dataframe\">\n",
       "  <thead>\n",
       "    <tr style=\"text-align: right;\">\n",
       "      <th></th>\n",
       "      <th>Store</th>\n",
       "      <th>Date</th>\n",
       "      <th>Promo</th>\n",
       "      <th>StateHoliday</th>\n",
       "      <th>SchoolHoliday</th>\n",
       "      <th>StoreType</th>\n",
       "      <th>Assortment</th>\n",
       "      <th>CompetitionDistance</th>\n",
       "      <th>CompetitionOpenSinceMonth</th>\n",
       "      <th>CompetitionOpenSinceYear</th>\n",
       "      <th>Promo2</th>\n",
       "      <th>Promo2SinceWeek</th>\n",
       "      <th>Promo2SinceYear</th>\n",
       "      <th>CompetitionOpen</th>\n",
       "      <th>PromoOpen</th>\n",
       "      <th>IsPromoMonth</th>\n",
       "      <th>Customers</th>\n",
       "      <th>Sales</th>\n",
       "    </tr>\n",
       "  </thead>\n",
       "  <tbody>\n",
       "    <tr>\n",
       "      <th>0</th>\n",
       "      <td>314</td>\n",
       "      <td>2015-06-19</td>\n",
       "      <td>1</td>\n",
       "      <td>0</td>\n",
       "      <td>0</td>\n",
       "      <td>1</td>\n",
       "      <td>1</td>\n",
       "      <td>3560.0</td>\n",
       "      <td>10.0</td>\n",
       "      <td>2001.0</td>\n",
       "      <td>1</td>\n",
       "      <td>31.0</td>\n",
       "      <td>2013.0</td>\n",
       "      <td>164.0</td>\n",
       "      <td>22.50</td>\n",
       "      <td>0</td>\n",
       "      <td>562</td>\n",
       "      <td>5032</td>\n",
       "    </tr>\n",
       "    <tr>\n",
       "      <th>1</th>\n",
       "      <td>458</td>\n",
       "      <td>2015-06-19</td>\n",
       "      <td>1</td>\n",
       "      <td>0</td>\n",
       "      <td>0</td>\n",
       "      <td>3</td>\n",
       "      <td>1</td>\n",
       "      <td>3390.0</td>\n",
       "      <td>0.0</td>\n",
       "      <td>0.0</td>\n",
       "      <td>0</td>\n",
       "      <td>0.0</td>\n",
       "      <td>0.0</td>\n",
       "      <td>24186.0</td>\n",
       "      <td>24186.25</td>\n",
       "      <td>0</td>\n",
       "      <td>688</td>\n",
       "      <td>7362</td>\n",
       "    </tr>\n",
       "    <tr>\n",
       "      <th>2</th>\n",
       "      <td>961</td>\n",
       "      <td>2015-06-19</td>\n",
       "      <td>1</td>\n",
       "      <td>0</td>\n",
       "      <td>0</td>\n",
       "      <td>4</td>\n",
       "      <td>3</td>\n",
       "      <td>9430.0</td>\n",
       "      <td>0.0</td>\n",
       "      <td>0.0</td>\n",
       "      <td>0</td>\n",
       "      <td>0.0</td>\n",
       "      <td>0.0</td>\n",
       "      <td>24186.0</td>\n",
       "      <td>24186.25</td>\n",
       "      <td>0</td>\n",
       "      <td>768</td>\n",
       "      <td>7764</td>\n",
       "    </tr>\n",
       "    <tr>\n",
       "      <th>3</th>\n",
       "      <td>132</td>\n",
       "      <td>2015-06-19</td>\n",
       "      <td>1</td>\n",
       "      <td>0</td>\n",
       "      <td>0</td>\n",
       "      <td>4</td>\n",
       "      <td>3</td>\n",
       "      <td>1040.0</td>\n",
       "      <td>0.0</td>\n",
       "      <td>0.0</td>\n",
       "      <td>1</td>\n",
       "      <td>27.0</td>\n",
       "      <td>2012.0</td>\n",
       "      <td>24186.0</td>\n",
       "      <td>35.50</td>\n",
       "      <td>0</td>\n",
       "      <td>692</td>\n",
       "      <td>7964</td>\n",
       "    </tr>\n",
       "  </tbody>\n",
       "</table>\n",
       "</div>"
      ],
      "text/plain": [
       "   Store       Date  Promo  StateHoliday  SchoolHoliday  StoreType  \\\n",
       "0    314 2015-06-19      1             0              0          1   \n",
       "1    458 2015-06-19      1             0              0          3   \n",
       "2    961 2015-06-19      1             0              0          4   \n",
       "3    132 2015-06-19      1             0              0          4   \n",
       "\n",
       "   Assortment  CompetitionDistance  CompetitionOpenSinceMonth  \\\n",
       "0           1               3560.0                       10.0   \n",
       "1           1               3390.0                        0.0   \n",
       "2           3               9430.0                        0.0   \n",
       "3           3               1040.0                        0.0   \n",
       "\n",
       "   CompetitionOpenSinceYear  Promo2  Promo2SinceWeek  Promo2SinceYear  \\\n",
       "0                    2001.0       1             31.0           2013.0   \n",
       "1                       0.0       0              0.0              0.0   \n",
       "2                       0.0       0              0.0              0.0   \n",
       "3                       0.0       1             27.0           2012.0   \n",
       "\n",
       "   CompetitionOpen  PromoOpen  IsPromoMonth  Customers  Sales  \n",
       "0            164.0      22.50             0        562   5032  \n",
       "1          24186.0   24186.25             0        688   7362  \n",
       "2          24186.0   24186.25             0        768   7764  \n",
       "3          24186.0      35.50             0        692   7964  "
      ]
     },
     "execution_count": 67,
     "metadata": {},
     "output_type": "execute_result"
    }
   ],
   "source": [
    "data_train.head(4)"
   ]
  },
  {
   "cell_type": "code",
   "execution_count": 68,
   "metadata": {},
   "outputs": [
    {
     "data": {
      "text/html": [
       "<div>\n",
       "<style scoped>\n",
       "    .dataframe tbody tr th:only-of-type {\n",
       "        vertical-align: middle;\n",
       "    }\n",
       "\n",
       "    .dataframe tbody tr th {\n",
       "        vertical-align: top;\n",
       "    }\n",
       "\n",
       "    .dataframe thead th {\n",
       "        text-align: right;\n",
       "    }\n",
       "</style>\n",
       "<table border=\"1\" class=\"dataframe\">\n",
       "  <thead>\n",
       "    <tr style=\"text-align: right;\">\n",
       "      <th></th>\n",
       "      <th>Store</th>\n",
       "      <th>Date</th>\n",
       "      <th>Promo</th>\n",
       "      <th>StateHoliday</th>\n",
       "      <th>SchoolHoliday</th>\n",
       "      <th>StoreType</th>\n",
       "      <th>Assortment</th>\n",
       "      <th>CompetitionDistance</th>\n",
       "      <th>CompetitionOpenSinceMonth</th>\n",
       "      <th>CompetitionOpenSinceYear</th>\n",
       "      <th>Promo2</th>\n",
       "      <th>Promo2SinceWeek</th>\n",
       "      <th>Promo2SinceYear</th>\n",
       "      <th>CompetitionOpen</th>\n",
       "      <th>PromoOpen</th>\n",
       "      <th>IsPromoMonth</th>\n",
       "      <th>Customers</th>\n",
       "      <th>Sales</th>\n",
       "    </tr>\n",
       "  </thead>\n",
       "  <tbody>\n",
       "    <tr>\n",
       "      <th>0</th>\n",
       "      <td>1</td>\n",
       "      <td>2015-07-31</td>\n",
       "      <td>1</td>\n",
       "      <td>0</td>\n",
       "      <td>1</td>\n",
       "      <td>3</td>\n",
       "      <td>1</td>\n",
       "      <td>1270.0</td>\n",
       "      <td>9.0</td>\n",
       "      <td>2008.0</td>\n",
       "      <td>0</td>\n",
       "      <td>0.0</td>\n",
       "      <td>0.0</td>\n",
       "      <td>82.0</td>\n",
       "      <td>24187.75</td>\n",
       "      <td>0</td>\n",
       "      <td>555</td>\n",
       "      <td>5263</td>\n",
       "    </tr>\n",
       "    <tr>\n",
       "      <th>1</th>\n",
       "      <td>747</td>\n",
       "      <td>2015-07-31</td>\n",
       "      <td>1</td>\n",
       "      <td>0</td>\n",
       "      <td>1</td>\n",
       "      <td>3</td>\n",
       "      <td>3</td>\n",
       "      <td>45740.0</td>\n",
       "      <td>8.0</td>\n",
       "      <td>2008.0</td>\n",
       "      <td>0</td>\n",
       "      <td>0.0</td>\n",
       "      <td>0.0</td>\n",
       "      <td>83.0</td>\n",
       "      <td>24187.75</td>\n",
       "      <td>0</td>\n",
       "      <td>826</td>\n",
       "      <td>10708</td>\n",
       "    </tr>\n",
       "    <tr>\n",
       "      <th>2</th>\n",
       "      <td>772</td>\n",
       "      <td>2015-07-31</td>\n",
       "      <td>1</td>\n",
       "      <td>0</td>\n",
       "      <td>1</td>\n",
       "      <td>4</td>\n",
       "      <td>3</td>\n",
       "      <td>1850.0</td>\n",
       "      <td>0.0</td>\n",
       "      <td>0.0</td>\n",
       "      <td>0</td>\n",
       "      <td>0.0</td>\n",
       "      <td>0.0</td>\n",
       "      <td>24187.0</td>\n",
       "      <td>24187.75</td>\n",
       "      <td>0</td>\n",
       "      <td>635</td>\n",
       "      <td>5224</td>\n",
       "    </tr>\n",
       "    <tr>\n",
       "      <th>3</th>\n",
       "      <td>752</td>\n",
       "      <td>2015-07-31</td>\n",
       "      <td>1</td>\n",
       "      <td>0</td>\n",
       "      <td>1</td>\n",
       "      <td>1</td>\n",
       "      <td>1</td>\n",
       "      <td>970.0</td>\n",
       "      <td>3.0</td>\n",
       "      <td>2013.0</td>\n",
       "      <td>1</td>\n",
       "      <td>31.0</td>\n",
       "      <td>2013.0</td>\n",
       "      <td>28.0</td>\n",
       "      <td>24.00</td>\n",
       "      <td>0</td>\n",
       "      <td>565</td>\n",
       "      <td>7763</td>\n",
       "    </tr>\n",
       "  </tbody>\n",
       "</table>\n",
       "</div>"
      ],
      "text/plain": [
       "   Store       Date  Promo  StateHoliday  SchoolHoliday  StoreType  \\\n",
       "0      1 2015-07-31      1             0              1          3   \n",
       "1    747 2015-07-31      1             0              1          3   \n",
       "2    772 2015-07-31      1             0              1          4   \n",
       "3    752 2015-07-31      1             0              1          1   \n",
       "\n",
       "   Assortment  CompetitionDistance  CompetitionOpenSinceMonth  \\\n",
       "0           1               1270.0                        9.0   \n",
       "1           3              45740.0                        8.0   \n",
       "2           3               1850.0                        0.0   \n",
       "3           1                970.0                        3.0   \n",
       "\n",
       "   CompetitionOpenSinceYear  Promo2  Promo2SinceWeek  Promo2SinceYear  \\\n",
       "0                    2008.0       0              0.0              0.0   \n",
       "1                    2008.0       0              0.0              0.0   \n",
       "2                       0.0       0              0.0              0.0   \n",
       "3                    2013.0       1             31.0           2013.0   \n",
       "\n",
       "   CompetitionOpen  PromoOpen  IsPromoMonth  Customers  Sales  \n",
       "0             82.0   24187.75             0        555   5263  \n",
       "1             83.0   24187.75             0        826  10708  \n",
       "2          24187.0   24187.75             0        635   5224  \n",
       "3             28.0      24.00             0        565   7763  "
      ]
     },
     "execution_count": 68,
     "metadata": {},
     "output_type": "execute_result"
    }
   ],
   "source": [
    "data_val.head(4)"
   ]
  },
  {
   "cell_type": "markdown",
   "metadata": {
    "slideshow": {
     "slide_type": "slide"
    }
   },
   "source": [
    "### Descrizione variabili\n",
    "\n",
    "- Ogni riga è un'osservazione relativa ad un singolo negozio in una certa data, indicati dalle colonne `Store` e `Date`\n",
    "- Le ultime due colonne `Customers` and `Sales` indicano rispettivamente il numero di clienti e il ricavo totale delle vendite per quel giorno in quel negozio\n",
    "- Le altre colonne riportano informazioni note a priori relative a negozio e giorno\n",
    "  - applicazione di promozioni (`Promo*`, `IsPromoMonth`)\n",
    "  - festività (`StateHoliday`, `SchoolHoliday`)\n",
    "  - tipologia di negozio (`StoreType`, `Assortment`)\n",
    "  - distanza da negozi concorrenti e loro data di apertura (`Competition*`)\n",
    "- L'obiettivo è prevedere da queste informazioni il ricavo totale (`Sales`)\n",
    "- Definiamo le serie `y_*` con i valori di `Sales` per training e validation set"
   ]
  },
  {
   "cell_type": "code",
   "execution_count": 69,
   "metadata": {},
   "outputs": [],
   "source": [
    "y_train = data_train[\"Sales\"]\n",
    "y_val = data_val[\"Sales\"]"
   ]
  },
  {
   "cell_type": "markdown",
   "metadata": {
    "slideshow": {
     "slide_type": "slide"
    }
   },
   "source": [
    "- Il ricavo totale `Sales` è ovviamente strettamente proporzionale al numero di clienti `Customers`\n",
    "  - selezioniamo con `sample(N)` un numero limitato di campioni casuali per creare il grafico con più efficienza\n",
    "- Non possiamo però usare la variabile `Customers` nella predizione, in quanto proprio come `Sales` non è un'informazione nota a priori"
   ]
  },
  {
   "cell_type": "code",
   "execution_count": 70,
   "metadata": {},
   "outputs": [
    {
     "data": {
      "image/png": "[encoded data removed]",
      "text/plain": [
       "<Figure size 432x288 with 1 Axes>"
      ]
     },
     "metadata": {
      "needs_background": "light"
     },
     "output_type": "display_data"
    }
   ],
   "source": [
    "data_train.sample(10000).plot.scatter(\"Customers\", \"Sales\");"
   ]
  },
  {
   "cell_type": "markdown",
   "metadata": {
    "slideshow": {
     "slide_type": "slide"
    }
   },
   "source": [
    "### Selezione e preprocessamento delle variabili\n",
    "\n",
    "Consideriamo tre gruppi di variabili da utilizzare per la predizione\n",
    "\n",
    "- quelle con un valore propriamente numerico oppure binarie (0/1), che non richiedono preprocessing\n",
    "  - distanza dalla concorrenza, da quanto tempo è in corso una promozione, ...\n",
    "  - se sono in corso delle promozioni, se è giorno di chiusura delle scuole, ...\n",
    "- quelle categoriche con più di 2 valori, a cui applichiamo il one-hot encoding\n",
    "- la colonna della data `Date`, da cui vogliamo estrarre singoli campi (es. giorno della settimana)"
   ]
  },
  {
   "cell_type": "code",
   "execution_count": 71,
   "metadata": {},
   "outputs": [],
   "source": [
    "numeric_cols = [\n",
    "    \"Promo\", \"SchoolHoliday\", \"CompetitionDistance\",\n",
    "    \"CompetitionOpenSinceMonth\", \"CompetitionOpenSinceYear\",\n",
    "    \"Promo2\", \"Promo2SinceWeek\", \"Promo2SinceYear\",\n",
    "    \"CompetitionOpen\", \"PromoOpen\", \"IsPromoMonth\"\n",
    "]"
   ]
  },
  {
   "cell_type": "code",
   "execution_count": 72,
   "metadata": {},
   "outputs": [],
   "source": [
    "categorical_cols = [\"StateHoliday\", \"StoreType\", \"Assortment\"]"
   ]
  },
  {
   "cell_type": "code",
   "execution_count": 73,
   "metadata": {},
   "outputs": [],
   "source": [
    "# funzione per l'estrazione dei campi data\n",
    "def extract_date_fields(X):\n",
    "    result = {}\n",
    "    for col in X.columns:\n",
    "        result[f\"{col}_day\"] = X[col].dt.day\n",
    "        result[f\"{col}_month\"] = X[col].dt.month\n",
    "        result[f\"{col}_dayofweek\"] = X[col].dt.dayofweek\n",
    "    return pd.DataFrame(result)"
   ]
  },
  {
   "cell_type": "markdown",
   "metadata": {},
   "source": [
    "- Utilizziamo quindi un `ColumnTransformer` per combinare insieme tutte le colonne preprocessate opportunamente\n",
    "  - le colonne numeriche sono prese così come sono (_passthrough_)\n",
    "  - alle colonne categoriche è applicato il one-hot encoding\n",
    "  - dalla colonna `Date` sono estratti i componenti della data\n",
    "- Mettiamo questo filtro in pipeline con uno `StandardScaler` per standardizzare tutte le variabili"
   ]
  },
  {
   "cell_type": "code",
   "execution_count": 74,
   "metadata": {},
   "outputs": [],
   "source": [
    "from sklearn.compose import ColumnTransformer\n",
    "from sklearn.preprocessing import FunctionTransformer, OneHotEncoder\n",
    "date_transformer = FunctionTransformer(extract_date_fields)\n",
    "transformer = Pipeline([\n",
    "    (\"cols\", ColumnTransformer([\n",
    "        (\"num\" , \"passthrough\",    numeric_cols),\n",
    "        (\"cat\" , OneHotEncoder(),  categorical_cols),\n",
    "        (\"date\", date_transformer, [\"Date\"]),\n",
    "    ])),\n",
    "    (\"scaler\", StandardScaler()),\n",
    "])"
   ]
  },
  {
   "cell_type": "markdown",
   "metadata": {},
   "source": [
    "- Applichiamo il filtro composito al training e al validation set\n",
    "  - le colonne non specificate (`Sales` e `Customers`) sono scartate (_drop_) di default dal `ColumnTransformer`"
   ]
  },
  {
   "cell_type": "code",
   "execution_count": 75,
   "metadata": {},
   "outputs": [],
   "source": [
    "X_train = transformer.fit_transform(data_train)\n",
    "X_val = transformer.transform(data_val)"
   ]
  },
  {
   "cell_type": "markdown",
   "metadata": {
    "slideshow": {
     "slide_type": "slide"
    }
   },
   "source": [
    "- Eseguiamo infine la standardizzazione della variabile da predire (`Sales`) con un altro `StandardScaler`"
   ]
  },
  {
   "cell_type": "code",
   "execution_count": 76,
   "metadata": {},
   "outputs": [],
   "source": [
    "scaler_y = StandardScaler()\n",
    "y_train = scaler_y.fit_transform(data_train[\"Sales\"].values[:, None]).ravel()\n",
    "y_val = scaler_y.transform(data_val[\"Sales\"].values[:, None]).ravel()"
   ]
  },
  {
   "cell_type": "markdown",
   "metadata": {
    "slideshow": {
     "slide_type": "slide"
    }
   },
   "source": [
    "## Modelli di regressione sui dati Rossmann\n",
    "\n",
    "- Testiamo come baseline un modello di regressione lineare"
   ]
  },
  {
   "cell_type": "code",
   "execution_count": 77,
   "metadata": {},
   "outputs": [],
   "source": [
    "from sklearn.linear_model import LinearRegression\n",
    "model = LinearRegression()\n",
    "model.fit(X_train, y_train);"
   ]
  },
  {
   "cell_type": "markdown",
   "metadata": {},
   "source": [
    "- Con `score` calcoliamo l'accuratezza calcolata col coefficiente R²"
   ]
  },
  {
   "cell_type": "code",
   "execution_count": 78,
   "metadata": {},
   "outputs": [
    {
     "data": {
      "text/plain": [
       "0.24711019131678047"
      ]
     },
     "execution_count": 78,
     "metadata": {},
     "output_type": "execute_result"
    }
   ],
   "source": [
    "model.score(X_val, y_val)"
   ]
  },
  {
   "cell_type": "markdown",
   "metadata": {
    "slideshow": {
     "slide_type": "slide"
    }
   },
   "source": [
    "- Nella competizione Kaggle viene usata come misura di riferimento il _Root Mean Squared Percentage Error_ (RMSPE)\n",
    "$$ \\textrm{RMSPE} = \\sqrt{\\frac{1}{n} \\sum_{i=1}^{n} \\left(\\frac{y_i - \\hat{y}_i}{y_i}\\right)^2} $$\n",
    "- Definiamo una funzione `rmspe` per calcolare tale metrica dati i valori attesi e le predizioni, avendo cura di riportare i valori standardizzati nella scala originale"
   ]
  },
  {
   "cell_type": "code",
   "execution_count": 79,
   "metadata": {},
   "outputs": [],
   "source": [
    "def rmspe(y_real, y_pred):\n",
    "    y_real = scaler_y.inverse_transform(y_real[:, None])\n",
    "    y_pred = scaler_y.inverse_transform(y_pred[:, None])\n",
    "    return np.sqrt(np.mean((y_pred/y_real-1) ** 2))"
   ]
  },
  {
   "cell_type": "markdown",
   "metadata": {},
   "source": [
    "- Il modello di regressione lineare ottiene un RMSPE pari a..."
   ]
  },
  {
   "cell_type": "code",
   "execution_count": 80,
   "metadata": {},
   "outputs": [
    {
     "data": {
      "text/plain": [
       "0.4985096780147238"
      ]
     },
     "execution_count": 80,
     "metadata": {},
     "output_type": "execute_result"
    }
   ],
   "source": [
    "rmspe(y_val, model.predict(X_val))"
   ]
  },
  {
   "cell_type": "markdown",
   "metadata": {
    "slideshow": {
     "slide_type": "slide"
    }
   },
   "source": [
    "- Vediamo i risultati ottenibili con reti neurali\n",
    "- Iniziamo da una rete con un singolo strato nascosto con attivazione ReLU\n",
    "- Per la dimensione dell'input leggiamo direttamente il numero di colonne di X"
   ]
  },
  {
   "cell_type": "code",
   "execution_count": 81,
   "metadata": {},
   "outputs": [],
   "source": [
    "model = Sequential([\n",
    "    Dense(128, activation=\"relu\", input_dim=X_train.shape[1]),\n",
    "    Dense(1)\n",
    "])\n",
    "model.compile(optimizer=\"adam\", loss=\"mean_squared_error\")"
   ]
  },
  {
   "cell_type": "markdown",
   "metadata": {
    "slideshow": {
     "slide_type": "slide"
    }
   },
   "source": [
    "- Vediamo come in un problema reale come questo il numero di parametri da addestrare sia sull'ordine delle migliaia"
   ]
  },
  {
   "cell_type": "code",
   "execution_count": 82,
   "metadata": {},
   "outputs": [
    {
     "name": "stdout",
     "output_type": "stream",
     "text": [
      "Model: \"sequential_7\"\n",
      "_________________________________________________________________\n",
      " Layer (type)                Output Shape              Param #   \n",
      "=================================================================\n",
      " dense_15 (Dense)            (None, 128)               3328      \n",
      "                                                                 \n",
      " dense_16 (Dense)            (None, 1)                 129       \n",
      "                                                                 \n",
      "=================================================================\n",
      "Total params: 3,457\n",
      "Trainable params: 3,457\n",
      "Non-trainable params: 0\n",
      "_________________________________________________________________\n"
     ]
    }
   ],
   "source": [
    "model.summary()"
   ]
  },
  {
   "cell_type": "code",
   "execution_count": 83,
   "metadata": {
    "slideshow": {
     "slide_type": "slide"
    }
   },
   "outputs": [
    {
     "name": "stdout",
     "output_type": "stream",
     "text": [
      "Epoch 1/5\n",
      "8041/8041 [==============================] - 8s 944us/step - loss: 0.6993\n",
      "Epoch 2/5\n",
      "8041/8041 [==============================] - 8s 948us/step - loss: 0.6367\n",
      "Epoch 3/5\n",
      "8041/8041 [==============================] - 7s 908us/step - loss: 0.6063\n",
      "Epoch 4/5\n",
      "8041/8041 [==============================] - 7s 906us/step - loss: 0.5852\n",
      "Epoch 5/5\n",
      "8041/8041 [==============================] - 7s 904us/step - loss: 0.5701\n"
     ]
    },
    {
     "data": {
      "text/plain": [
       "<keras.callbacks.History at 0x7f563b843340>"
      ]
     },
     "execution_count": 83,
     "metadata": {},
     "output_type": "execute_result"
    }
   ],
   "source": [
    "model.fit(X_train, y_train, batch_size=100, epochs=5)"
   ]
  },
  {
   "cell_type": "markdown",
   "metadata": {
    "slideshow": {
     "slide_type": "slide"
    }
   },
   "source": [
    "- Dati dei valori in input, con `predict` otteniamo i valori predetti (normalizzati)"
   ]
  },
  {
   "cell_type": "code",
   "execution_count": 84,
   "metadata": {},
   "outputs": [
    {
     "name": "stdout",
     "output_type": "stream",
     "text": [
      "1/1 [==============================] - 0s 32ms/step\n"
     ]
    },
    {
     "data": {
      "text/plain": [
       "array([[0.6864053 ],\n",
       "       [1.1333137 ],\n",
       "       [0.33067322],\n",
       "       [0.5371418 ],\n",
       "       [0.87771475]], dtype=float32)"
      ]
     },
     "execution_count": 84,
     "metadata": {},
     "output_type": "execute_result"
    }
   ],
   "source": [
    "model.predict(X_val[:5])"
   ]
  },
  {
   "cell_type": "markdown",
   "metadata": {},
   "source": [
    "- Calcoliamo l'RMSPE dalle predizioni come visto sopra"
   ]
  },
  {
   "cell_type": "code",
   "execution_count": 85,
   "metadata": {},
   "outputs": [
    {
     "name": "stdout",
     "output_type": "stream",
     "text": [
      "1259/1259 [==============================] - 1s 648us/step\n"
     ]
    },
    {
     "data": {
      "text/plain": [
       "0.38612357869338565"
      ]
     },
     "execution_count": 85,
     "metadata": {},
     "output_type": "execute_result"
    }
   ],
   "source": [
    "rmspe(y_val, model.predict(X_val).ravel())"
   ]
  },
  {
   "cell_type": "markdown",
   "metadata": {
    "slideshow": {
     "slide_type": "slide"
    }
   },
   "source": [
    "- Testiamo ora una rete con 3 strati nascosti con diversi numeri di nodi\n",
    "  - ogni strato idealmente corrisponde ad una rappresentazione diversa dell'input"
   ]
  },
  {
   "cell_type": "code",
   "execution_count": 86,
   "metadata": {},
   "outputs": [],
   "source": [
    "model = Sequential([\n",
    "    Dense(512, activation=\"relu\", input_dim=X_train.shape[1]),\n",
    "    Dense(128, activation=\"relu\"),\n",
    "    Dense(32, activation=\"relu\"),\n",
    "    Dense(1)\n",
    "])\n",
    "model.compile(optimizer=\"adam\", loss=\"mean_squared_error\")"
   ]
  },
  {
   "cell_type": "markdown",
   "metadata": {
    "slideshow": {
     "slide_type": "slide"
    }
   },
   "source": [
    "- Per via dei molteplici strati, il numero di parametri da addestrare aumenta sensibilmente"
   ]
  },
  {
   "cell_type": "code",
   "execution_count": 87,
   "metadata": {},
   "outputs": [
    {
     "name": "stdout",
     "output_type": "stream",
     "text": [
      "Model: \"sequential_8\"\n",
      "_________________________________________________________________\n",
      " Layer (type)                Output Shape              Param #   \n",
      "=================================================================\n",
      " dense_17 (Dense)            (None, 512)               13312     \n",
      "                                                                 \n",
      " dense_18 (Dense)            (None, 128)               65664     \n",
      "                                                                 \n",
      " dense_19 (Dense)            (None, 32)                4128      \n",
      "                                                                 \n",
      " dense_20 (Dense)            (None, 1)                 33        \n",
      "                                                                 \n",
      "=================================================================\n",
      "Total params: 83,137\n",
      "Trainable params: 83,137\n",
      "Non-trainable params: 0\n",
      "_________________________________________________________________\n"
     ]
    }
   ],
   "source": [
    "model.summary()"
   ]
  },
  {
   "cell_type": "code",
   "execution_count": 88,
   "metadata": {
    "slideshow": {
     "slide_type": "slide"
    }
   },
   "outputs": [
    {
     "name": "stdout",
     "output_type": "stream",
     "text": [
      "Epoch 1/5\n",
      "8041/8041 [==============================] - 14s 2ms/step - loss: 0.6071\n",
      "Epoch 2/5\n",
      "8041/8041 [==============================] - 14s 2ms/step - loss: 0.4225\n",
      "Epoch 3/5\n",
      "8041/8041 [==============================] - 14s 2ms/step - loss: 0.3533\n",
      "Epoch 4/5\n",
      "8041/8041 [==============================] - 14s 2ms/step - loss: 0.3217\n",
      "Epoch 5/5\n",
      "8041/8041 [==============================] - 14s 2ms/step - loss: 0.3003\n"
     ]
    },
    {
     "data": {
      "text/plain": [
       "<keras.callbacks.History at 0x7f56587a4af0>"
      ]
     },
     "execution_count": 88,
     "metadata": {},
     "output_type": "execute_result"
    }
   ],
   "source": [
    "model.fit(X_train, y_train, batch_size=100, epochs=5)"
   ]
  },
  {
   "cell_type": "code",
   "execution_count": 89,
   "metadata": {},
   "outputs": [
    {
     "name": "stdout",
     "output_type": "stream",
     "text": [
      "1259/1259 [==============================] - 1s 761us/step\n"
     ]
    },
    {
     "data": {
      "text/plain": [
       "0.24730296826621215"
      ]
     },
     "execution_count": 89,
     "metadata": {},
     "output_type": "execute_result"
    }
   ],
   "source": [
    "rmspe(y_val, model.predict(X_val).ravel())"
   ]
  },
  {
   "cell_type": "markdown",
   "metadata": {},
   "source": [
    "- Siamo così riusciti a migliorare il RMSPE rispetto ai modelli di regressione semplici\n",
    "  - I risultati sono ulteriormente migliorabili aumentando le epoche di addestramento"
   ]
  },
  {
   "cell_type": "markdown",
   "metadata": {
    "slideshow": {
     "slide_type": "slide"
    }
   },
   "source": [
    "## Regolarizzazione\n",
    "\n",
    "- Nelle reti neurali si possono introdurre diversi accorgimenti per evitare l'overfitting\n",
    "- Come in altri modelli, possiamo utilizzare la regolarizzazione per evitare che i parametri del modello assumano valori elevati\n",
    "- I tipi di regolarizzazione applicabili sono `l2` (ridge), `l1` (lasso) o entrambe (elastic net)\n",
    "- La regolarizzazione può essere applicata sui pesi (_kernel_), sui bias e/o sull'output della funzione di attivazione (_activity_)\n",
    "- Nell'esempio seguente riprendiamo la rete con un singolo strato nascosto applicando la regolarizzazione L2 ai pesi"
   ]
  },
  {
   "cell_type": "code",
   "execution_count": 90,
   "metadata": {},
   "outputs": [],
   "source": [
    "from tensorflow.keras.regularizers import l2\n",
    "model = Sequential([\n",
    "    Dense(128, activation=\"relu\", kernel_regularizer=l2(0.001), input_dim=X_train.shape[1]),\n",
    "    Dense(1)\n",
    "])\n",
    "model.compile(optimizer=\"adam\", loss=\"mean_squared_error\")"
   ]
  },
  {
   "cell_type": "code",
   "execution_count": 91,
   "metadata": {
    "slideshow": {
     "slide_type": "slide"
    }
   },
   "outputs": [
    {
     "name": "stdout",
     "output_type": "stream",
     "text": [
      "Epoch 1/5\n",
      "8041/8041 [==============================] - 7s 893us/step - loss: 0.7280\n",
      "Epoch 2/5\n",
      "8041/8041 [==============================] - 7s 890us/step - loss: 0.6688\n",
      "Epoch 3/5\n",
      "8041/8041 [==============================] - 7s 888us/step - loss: 0.6466\n",
      "Epoch 4/5\n",
      "8041/8041 [==============================] - 7s 884us/step - loss: 0.6367\n",
      "Epoch 5/5\n",
      "8041/8041 [==============================] - 7s 883us/step - loss: 0.6292\n"
     ]
    },
    {
     "data": {
      "text/plain": [
       "<keras.callbacks.History at 0x7f5694488fd0>"
      ]
     },
     "execution_count": 91,
     "metadata": {},
     "output_type": "execute_result"
    }
   ],
   "source": [
    "model.fit(X_train, y_train, batch_size=100, epochs=5)"
   ]
  },
  {
   "cell_type": "code",
   "execution_count": 92,
   "metadata": {},
   "outputs": [
    {
     "name": "stdout",
     "output_type": "stream",
     "text": [
      "1259/1259 [==============================] - 1s 623us/step\n"
     ]
    },
    {
     "data": {
      "text/plain": [
       "0.37207005661217785"
      ]
     },
     "execution_count": 92,
     "metadata": {},
     "output_type": "execute_result"
    }
   ],
   "source": [
    "rmspe(y_val, model.predict(X_val).ravel())"
   ]
  },
  {
   "cell_type": "markdown",
   "metadata": {
    "slideshow": {
     "slide_type": "slide"
    }
   },
   "source": [
    "## Dropout\n",
    "\n",
    "- Il _dropout_, applicato nell'addestramento della rete, azzera ad ogni batch alcuni input casuali in uno strato\n",
    "  - in fase di predizione (inferenza) non cambia nulla\n",
    "- In questo modo la rete si addestra su informazioni incomplete, con possibile riduzione dell'overfitting\n",
    "- Riprendiamo come esempio la rete con tre strati nascosti usata sopra\n",
    "- Introduciamo dopo il primo strato nascosto uno strato `Dropout`, in cui specifichiamo la frazione di input da azzerare (ad es 10\\%)\n",
    "  - lo strato dropout è \"astratto\", non introduce nuovi nodi o nuovi parametri da addestrare"
   ]
  },
  {
   "cell_type": "code",
   "execution_count": 93,
   "metadata": {},
   "outputs": [],
   "source": [
    "from tensorflow.keras.layers import Dropout\n",
    "model = Sequential([\n",
    "    Dense(512, activation=\"relu\", input_dim=X_train.shape[1]),\n",
    "    Dropout(0.1),\n",
    "    Dense(128, activation=\"relu\"),\n",
    "    Dense(32, activation=\"relu\"),\n",
    "    Dense(1)\n",
    "])\n",
    "model.compile(optimizer=\"adam\", loss=\"mean_squared_error\")"
   ]
  },
  {
   "cell_type": "code",
   "execution_count": 94,
   "metadata": {
    "slideshow": {
     "slide_type": "slide"
    }
   },
   "outputs": [
    {
     "name": "stdout",
     "output_type": "stream",
     "text": [
      "Model: \"sequential_10\"\n",
      "_________________________________________________________________\n",
      " Layer (type)                Output Shape              Param #   \n",
      "=================================================================\n",
      " dense_23 (Dense)            (None, 512)               13312     \n",
      "                                                                 \n",
      " dropout (Dropout)           (None, 512)               0         \n",
      "                                                                 \n",
      " dense_24 (Dense)            (None, 128)               65664     \n",
      "                                                                 \n",
      " dense_25 (Dense)            (None, 32)                4128      \n",
      "                                                                 \n",
      " dense_26 (Dense)            (None, 1)                 33        \n",
      "                                                                 \n",
      "=================================================================\n",
      "Total params: 83,137\n",
      "Trainable params: 83,137\n",
      "Non-trainable params: 0\n",
      "_________________________________________________________________\n"
     ]
    }
   ],
   "source": [
    "model.summary()"
   ]
  },
  {
   "cell_type": "code",
   "execution_count": 95,
   "metadata": {
    "slideshow": {
     "slide_type": "slide"
    }
   },
   "outputs": [
    {
     "name": "stdout",
     "output_type": "stream",
     "text": [
      "Epoch 1/5\n",
      "8041/8041 [==============================] - 16s 2ms/step - loss: 0.6317\n",
      "Epoch 2/5\n",
      "8041/8041 [==============================] - 16s 2ms/step - loss: 0.4844\n",
      "Epoch 3/5\n",
      "8041/8041 [==============================] - 16s 2ms/step - loss: 0.4069\n",
      "Epoch 4/5\n",
      "8041/8041 [==============================] - 16s 2ms/step - loss: 0.3691\n",
      "Epoch 5/5\n",
      "8041/8041 [==============================] - 16s 2ms/step - loss: 0.3426\n"
     ]
    },
    {
     "data": {
      "text/plain": [
       "<keras.callbacks.History at 0x7f563b76eb20>"
      ]
     },
     "execution_count": 95,
     "metadata": {},
     "output_type": "execute_result"
    }
   ],
   "source": [
    "model.fit(X_train, y_train, batch_size=100, epochs=5)"
   ]
  },
  {
   "cell_type": "code",
   "execution_count": 96,
   "metadata": {},
   "outputs": [
    {
     "name": "stdout",
     "output_type": "stream",
     "text": [
      "1259/1259 [==============================] - 1s 774us/step\n"
     ]
    },
    {
     "data": {
      "text/plain": [
       "0.254112306615975"
      ]
     },
     "execution_count": 96,
     "metadata": {},
     "output_type": "execute_result"
    }
   ],
   "source": [
    "rmspe(y_val, model.predict(X_val).ravel())"
   ]
  },
  {
   "cell_type": "markdown",
   "metadata": {},
   "source": [
    "- Si noti come l'errore sul training set rimanga leggermente più alto rispetto al modello senza dropout, ma il RMSPE sul validation set è simile"
   ]
  },
  {
   "cell_type": "markdown",
   "metadata": {},
   "source": [
    "## Integrazione tra scikit-learn e Keras\n",
    "\n",
    "- Lavorando in scikit-learn abbiamo visto diversi strumenti utili per testare e ottimizzare i modelli di predizione (cross validation, grid search, ...)\n",
    "- È possibile riutilizzare gli stessi struenti su modelli Keras?\n",
    "- Keras fornisce le classi `KerasClassifier` e `KerasRegressor` che **incapsulano dei modelli Keras nell'API di scikit-learn**, permettendo così il loro uso all'interno ad es. di una grid search\n",
    "  - _queste classi non saranno più mantenute in futuro da Keras, si veda come alternativa la libreria [SciKeras](https://github.com/adriangb/scikeras)_"
   ]
  },
  {
   "cell_type": "markdown",
   "metadata": {},
   "source": [
    "- Iniziamo definendo una funzione che restituisce un semplice modello Keras compilato (ma non addestrato)"
   ]
  },
  {
   "cell_type": "code",
   "execution_count": 97,
   "metadata": {},
   "outputs": [],
   "source": [
    "def sample_net():\n",
    "    model = Sequential([\n",
    "        Dense(16, activation=\"relu\", input_dim=X_train.shape[1]),\n",
    "        Dense(1)\n",
    "    ])\n",
    "    model.compile(optimizer=\"adam\", loss=\"mean_squared_error\")\n",
    "    return model"
   ]
  },
  {
   "cell_type": "markdown",
   "metadata": {},
   "source": [
    "- Creiamo quindi un oggetto `KerasRegressor`, a cui vanno passati come iperparametri\n",
    "  - una funzione come quella sopra che definisce la struttura della rete\n",
    "  - i parametri per l'addestramento, quali numero di epoche e batch size (usiamo quì parametri \"scarsi\" per ridurre i tempi)"
   ]
  },
  {
   "cell_type": "code",
   "execution_count": 98,
   "metadata": {},
   "outputs": [
    {
     "name": "stderr",
     "output_type": "stream",
     "text": [
      "/tmp/ipykernel_30594/1715313649.py:3: DeprecationWarning: KerasRegressor is deprecated, use Sci-Keras (https://github.com/adriangb/scikeras) instead. See https://www.adriangb.com/scikeras/stable/migration.html for help migrating.\n",
      "  model = KerasRegressor(build_fn=sample_net, epochs=3, batch_size=1000)\n"
     ]
    }
   ],
   "source": [
    "##noerr\n",
    "from tensorflow.keras.wrappers.scikit_learn import KerasRegressor\n",
    "model = KerasRegressor(build_fn=sample_net, epochs=3, batch_size=1000)"
   ]
  },
  {
   "cell_type": "markdown",
   "metadata": {},
   "source": [
    "- L'oggetto `KerasRegressor` fornisce l'API standard di scikit-learn, per cui possiamo addestrarlo con `fit`...\n",
    "  - passiamo solamente il training set, gli altri parametri sono già passati al costruttore"
   ]
  },
  {
   "cell_type": "code",
   "execution_count": 99,
   "metadata": {},
   "outputs": [
    {
     "name": "stdout",
     "output_type": "stream",
     "text": [
      "Epoch 1/3\n",
      "805/805 [==============================] - 1s 921us/step - loss: 0.8538\n",
      "Epoch 2/3\n",
      "805/805 [==============================] - 1s 937us/step - loss: 0.7369\n",
      "Epoch 3/3\n",
      "805/805 [==============================] - 1s 935us/step - loss: 0.7214\n"
     ]
    }
   ],
   "source": [
    "model.fit(X_train, y_train);"
   ]
  },
  {
   "cell_type": "markdown",
   "metadata": {},
   "source": [
    "- ...e ottenere le predizioni con `predict`"
   ]
  },
  {
   "cell_type": "code",
   "execution_count": 100,
   "metadata": {},
   "outputs": [
    {
     "name": "stdout",
     "output_type": "stream",
     "text": [
      "41/41 [==============================] - 0s 722us/step\n"
     ]
    },
    {
     "data": {
      "text/plain": [
       "0.32072300749971394"
      ]
     },
     "execution_count": 100,
     "metadata": {},
     "output_type": "execute_result"
    }
   ],
   "source": [
    "y_pred = model.predict(X_val)\n",
    "r2_score(y_val, y_pred)"
   ]
  },
  {
   "cell_type": "markdown",
   "metadata": {},
   "source": [
    "- La funzione che costruisce la rete può contenere dei parametri...\n",
    "  - quì ad esempio rendiamo il numero di nodi nello strato nascosto un parametro `nodes`"
   ]
  },
  {
   "cell_type": "code",
   "execution_count": 101,
   "metadata": {},
   "outputs": [],
   "source": [
    "def sample_net(nodes):\n",
    "    model = Sequential([\n",
    "        Dense(nodes, activation=\"relu\", input_dim=X_train.shape[1]),\n",
    "        Dense(1)\n",
    "    ])\n",
    "    model.compile(optimizer=\"adam\", loss=\"mean_squared_error\")\n",
    "    return model"
   ]
  },
  {
   "cell_type": "markdown",
   "metadata": {},
   "source": [
    "- ...il cui valore può essere impostato come iperparametro nel costruttore di `KerasRegressor`"
   ]
  },
  {
   "cell_type": "code",
   "execution_count": 102,
   "metadata": {},
   "outputs": [
    {
     "name": "stdout",
     "output_type": "stream",
     "text": [
      "Epoch 1/3\n"
     ]
    },
    {
     "name": "stderr",
     "output_type": "stream",
     "text": [
      "/tmp/ipykernel_30594/4131286876.py:3: DeprecationWarning: KerasRegressor is deprecated, use Sci-Keras (https://github.com/adriangb/scikeras) instead. See https://www.adriangb.com/scikeras/stable/migration.html for help migrating.\n",
      "  model = KerasRegressor(build_fn=sample_net, nodes=32, epochs=3, batch_size=1000)\n"
     ]
    },
    {
     "name": "stdout",
     "output_type": "stream",
     "text": [
      "805/805 [==============================] - 1s 1ms/step - loss: 0.8099\n",
      "Epoch 2/3\n",
      "805/805 [==============================] - 1s 1ms/step - loss: 0.7213\n",
      "Epoch 3/3\n",
      "805/805 [==============================] - 1s 1ms/step - loss: 0.7058\n",
      "41/41 [==============================] - 0s 790us/step\n"
     ]
    },
    {
     "data": {
      "text/plain": [
       "0.33514103646672844"
      ]
     },
     "execution_count": 102,
     "metadata": {},
     "output_type": "execute_result"
    }
   ],
   "source": [
    "##noerr\n",
    "from tensorflow.keras.wrappers.scikit_learn import KerasRegressor\n",
    "model = KerasRegressor(build_fn=sample_net, nodes=32, epochs=3, batch_size=1000)\n",
    "model.fit(X_train, y_train)\n",
    "y_pred = model.predict(X_val)\n",
    "r2_score(y_val, y_pred)"
   ]
  },
  {
   "cell_type": "markdown",
   "metadata": {},
   "source": [
    "- Questo permette una migliore integrazione con scikit-learn: in particolare possiamo effettuare una grid search sui parametri che influenzano la struttura della rete"
   ]
  },
  {
   "cell_type": "code",
   "execution_count": 103,
   "metadata": {},
   "outputs": [
    {
     "name": "stdout",
     "output_type": "stream",
     "text": [
      "Epoch 1/3\n"
     ]
    },
    {
     "name": "stderr",
     "output_type": "stream",
     "text": [
      "/tmp/ipykernel_30594/435823841.py:3: DeprecationWarning: KerasRegressor is deprecated, use Sci-Keras (https://github.com/adriangb/scikeras) instead. See https://www.adriangb.com/scikeras/stable/migration.html for help migrating.\n",
      "  model = KerasRegressor(build_fn=sample_net, epochs=3)\n"
     ]
    },
    {
     "name": "stdout",
     "output_type": "stream",
     "text": [
      "1073/1073 [==============================] - 1s 846us/step - loss: 0.8667\n",
      "Epoch 2/3\n",
      "1073/1073 [==============================] - 1s 859us/step - loss: 0.7405\n",
      "Epoch 3/3\n",
      "1073/1073 [==============================] - 1s 865us/step - loss: 0.7272\n",
      "537/537 [==============================] - 0s 707us/step - loss: 0.7156\n",
      "Epoch 1/3\n",
      "1073/1073 [==============================] - 1s 858us/step - loss: 0.8858\n",
      "Epoch 2/3\n",
      "1073/1073 [==============================] - 1s 868us/step - loss: 0.7334\n",
      "Epoch 3/3\n",
      "1073/1073 [==============================] - 1s 855us/step - loss: 0.7217\n",
      "537/537 [==============================] - 0s 705us/step - loss: 0.7251\n",
      "Epoch 1/3\n",
      "1073/1073 [==============================] - 1s 856us/step - loss: 0.8454\n",
      "Epoch 2/3\n",
      "1073/1073 [==============================] - 1s 875us/step - loss: 0.7361\n",
      "Epoch 3/3\n",
      "1073/1073 [==============================] - 1s 851us/step - loss: 0.7253\n",
      "537/537 [==============================] - 0s 704us/step - loss: 0.7221\n",
      "Epoch 1/3\n",
      "1073/1073 [==============================] - 1s 948us/step - loss: 0.8534\n",
      "Epoch 2/3\n",
      "1073/1073 [==============================] - 1s 936us/step - loss: 0.7276\n",
      "Epoch 3/3\n",
      "1073/1073 [==============================] - 1s 938us/step - loss: 0.7106\n",
      "537/537 [==============================] - 0s 727us/step - loss: 0.6974\n",
      "Epoch 1/3\n",
      "1073/1073 [==============================] - 1s 1ms/step - loss: 0.7898\n",
      "Epoch 2/3\n",
      "1073/1073 [==============================] - 1s 1ms/step - loss: 0.7125\n",
      "Epoch 3/3\n",
      "1073/1073 [==============================] - 1s 1ms/step - loss: 0.6967\n",
      "537/537 [==============================] - 0s 719us/step - loss: 0.6993\n",
      "Epoch 1/3\n",
      "1073/1073 [==============================] - 1s 930us/step - loss: 0.7830\n",
      "Epoch 2/3\n",
      "1073/1073 [==============================] - 1s 923us/step - loss: 0.7180\n",
      "Epoch 3/3\n",
      "1073/1073 [==============================] - 1s 928us/step - loss: 0.6959\n",
      "537/537 [==============================] - 0s 717us/step - loss: 0.6858\n",
      "Epoch 1/3\n",
      "537/537 [==============================] - 1s 949us/step - loss: 0.8397\n",
      "Epoch 2/3\n",
      "537/537 [==============================] - 0s 928us/step - loss: 0.7510\n",
      "Epoch 3/3\n",
      "537/537 [==============================] - 1s 953us/step - loss: 0.7387\n",
      "269/269 [==============================] - 0s 734us/step - loss: 0.7281\n",
      "Epoch 1/3\n",
      "537/537 [==============================] - 1s 932us/step - loss: 1.0657\n",
      "Epoch 2/3\n",
      "537/537 [==============================] - 1s 938us/step - loss: 0.7518\n",
      "Epoch 3/3\n",
      "537/537 [==============================] - 1s 939us/step - loss: 0.7387\n",
      "269/269 [==============================] - 0s 714us/step - loss: 0.7412\n",
      "Epoch 1/3\n",
      "537/537 [==============================] - 1s 931us/step - loss: 0.9120\n",
      "Epoch 2/3\n",
      "537/537 [==============================] - 1s 940us/step - loss: 0.7483\n",
      "Epoch 3/3\n",
      "537/537 [==============================] - 1s 937us/step - loss: 0.7365\n",
      "269/269 [==============================] - 0s 728us/step - loss: 0.7314\n",
      "Epoch 1/3\n",
      "537/537 [==============================] - 1s 1ms/step - loss: 0.8012\n",
      "Epoch 2/3\n",
      "537/537 [==============================] - 1s 1ms/step - loss: 0.7321\n",
      "Epoch 3/3\n",
      "537/537 [==============================] - 1s 1ms/step - loss: 0.7150\n",
      "269/269 [==============================] - 0s 747us/step - loss: 0.7020\n",
      "Epoch 1/3\n",
      "537/537 [==============================] - 1s 1ms/step - loss: 0.7763\n",
      "Epoch 2/3\n",
      "537/537 [==============================] - 1s 1ms/step - loss: 0.7205\n",
      "Epoch 3/3\n",
      "537/537 [==============================] - 1s 1ms/step - loss: 0.7040\n",
      "269/269 [==============================] - 0s 734us/step - loss: 0.7025\n",
      "Epoch 1/3\n",
      "537/537 [==============================] - 1s 1ms/step - loss: 0.8238\n",
      "Epoch 2/3\n",
      "537/537 [==============================] - 1s 1ms/step - loss: 0.7318\n",
      "Epoch 3/3\n",
      "537/537 [==============================] - 1s 1ms/step - loss: 0.7161\n",
      "269/269 [==============================] - 0s 743us/step - loss: 0.7084\n",
      "Epoch 1/3\n",
      "1609/1609 [==============================] - 2s 926us/step - loss: 0.7513\n",
      "Epoch 2/3\n",
      "1609/1609 [==============================] - 1s 927us/step - loss: 0.6988\n",
      "Epoch 3/3\n",
      "1609/1609 [==============================] - 2s 938us/step - loss: 0.6785\n"
     ]
    },
    {
     "data": {
      "text/plain": [
       "{'batch_size': 500, 'nodes': 32}"
      ]
     },
     "execution_count": 103,
     "metadata": {},
     "output_type": "execute_result"
    }
   ],
   "source": [
    "from sklearn.model_selection import GridSearchCV, KFold\n",
    "\n",
    "model = KerasRegressor(build_fn=sample_net, epochs=3)\n",
    "grid = {\n",
    "    \"nodes\": [16, 32],\n",
    "    \"batch_size\": [500, 1000]\n",
    "}\n",
    "gs = GridSearchCV(model, grid, cv=KFold(3, shuffle=True))\n",
    "gs.fit(X_train, y_train)\n",
    "gs.best_params_"
   ]
  },
  {
   "cell_type": "markdown",
   "metadata": {
    "jp-MarkdownHeadingCollapsed": true,
    "slideshow": {
     "slide_type": "slide"
    },
    "tags": []
   },
   "source": [
    "## Proposte di esercizio\n",
    "\n",
    "Testare sullo stesso problema altre configurazioni di reti neurali\n",
    "- modificando il numero di strati e di nodi in essi\n",
    "- introducendo diversi tipi di regolarizzazione con diversa intensità in diversi strati\n",
    "- introducendo il dropout con diversa intensità in diversi strati\n",
    "- cambiando il numero di epoche o la batch size\n",
    "\n",
    "Consultare la [guida di Keras](https://keras.io/api/) per dettagli su queste e altre opzioni (altre funzioni di attivazione, inizializzazione dei pesi, algoritmi di ottimizzazione e relative opzioni, ...)"
   ]
  },
  {
   "cell_type": "markdown",
   "metadata": {
    "slideshow": {
     "slide_type": "slide"
    }
   },
   "source": [
    "## Caso di studio: Riconoscimento attività umane\n",
    "\n",
    "- Gli smartphone moderni contengono diversi **sensori di movimento**, quali accelerometro e oscilloscopio\n",
    "- È possibile, raccogliendo dati da questi sensori, risconoscere **quale attività sta svolgendo una persona**?\n",
    "  - È in piedi fermo? Sta camminando? È seduto? ...\n",
    "- Vediamo come addestrare una rete neurale a riconoscere l'attività svolta da una sequenza di letture dei sensori\n",
    "- Tale rete può essere in seguito integrata in un'app per smartphone, ad es. per il tracking dell'attività fisica"
   ]
  },
  {
   "cell_type": "markdown",
   "metadata": {
    "slideshow": {
     "slide_type": "slide"
    }
   },
   "source": [
    "### Dataset\n",
    "\n",
    "- Utilizziamo un set di dati di letture da sensori diponibile online su https://archive.ics.uci.edu/ml/datasets/human+activity+recognition+using+smartphones\n",
    "- Sono distinte **6 classi relative a diverse attività** o posizioni...\n",
    "  - camminare, salire scale, scendere scale, seduti, in piedi, sdraiati\n",
    "- ...svolte da 30 persone mentre indossavano uno smartphone\n",
    "- 50 volte al secondo sono stati campionati **9 valori**\n",
    "  - 3 sensori (accelerazione con e senza gravità, rotazione) per 3 assi (XYZ)\n",
    "- Il dataset finale ha **10.299 sequenze** (tra training e test), ciascuna contenente **128 campioni** di ciascuna delle 9 variabili\n",
    "  - a ciascuna sequenza è associata una delle 6 classi"
   ]
  },
  {
   "cell_type": "markdown",
   "metadata": {
    "slideshow": {
     "slide_type": "slide"
    }
   },
   "source": [
    "- Scarichiamo il dataset in formato ZIP dal Web..."
   ]
  },
  {
   "cell_type": "code",
   "execution_count": 104,
   "metadata": {},
   "outputs": [],
   "source": [
    "download(\"HARDataset.zip\", \"https://archive.ics.uci.edu/ml/machine-learning-databases/00240/UCI%20HAR%20Dataset.zip\")"
   ]
  },
  {
   "cell_type": "markdown",
   "metadata": {},
   "source": [
    "- ...ed estraiamo i file"
   ]
  },
  {
   "cell_type": "code",
   "execution_count": 105,
   "metadata": {},
   "outputs": [],
   "source": [
    "from zipfile import ZipFile\n",
    "if not os.path.isdir(\"UCI HAR Dataset\"):\n",
    "    with ZipFile(\"HARDataset.zip\") as zipf:\n",
    "        zipf.extractall()"
   ]
  },
  {
   "cell_type": "markdown",
   "metadata": {
    "slideshow": {
     "slide_type": "slide"
    }
   },
   "source": [
    "- I dati sono già divisi in due set `train` e `test`\n",
    "- Nella directory `Inertial Signals` di ciascuno si trovano i file con i dati grezzi ottenuti dai sensori\n",
    "- Sono considerati 3 diversi sensori:\n",
    "  - `total_acc`: accelerazione (accelerometro)\n",
    "  - `body_acc`: accelerazione senza la forza di gravità\n",
    "  - `body_gyro`: rotazione (giroscopio)\n",
    "- Per ogni sensore si considerano tre assi x, y, z come da figura:\n",
    "\n",
    "![x da sinistra verso destra, y dal basso verso l'alto, z da dietro verso davanti](https://developer.android.com/images/axis_device.png)"
   ]
  },
  {
   "cell_type": "markdown",
   "metadata": {
    "slideshow": {
     "slide_type": "slide"
    }
   },
   "source": [
    "- La seguente funzione carica tutti i dati descritti sopra dai file estratti"
   ]
  },
  {
   "cell_type": "code",
   "execution_count": 106,
   "metadata": {},
   "outputs": [],
   "source": [
    "def load_dataset(prefix, sensors):\n",
    "    def load_file(filepath):\n",
    "        dataframe = pd.read_csv(filepath, header=None, delim_whitespace=True)\n",
    "        return dataframe.values\n",
    "    def load_dataset_group(group, prefix, sensors):\n",
    "        filepath = prefix + group + \"/Inertial Signals/\"\n",
    "        filenames = [\"{}_{}_{}.txt\".format(sensor, axis, group)\n",
    "                     for sensor in sensors for axis in \"xyz\"]\n",
    "        X_data = [load_file(filepath + name) for name in filenames]\n",
    "        X = np.dstack(X_data)\n",
    "        y = load_file(prefix + group + '/y_'+group+'.txt').ravel() - 1\n",
    "        return X, y\n",
    "    trainX, trainy = load_dataset_group('train', prefix, sensors)\n",
    "    testX, testy = load_dataset_group('test', prefix, sensors)\n",
    "    return trainX, trainy, testX, testy"
   ]
  },
  {
   "cell_type": "markdown",
   "metadata": {
    "slideshow": {
     "slide_type": "slide"
    }
   },
   "source": [
    "- Invochiamo la funzione, specificando i sensori per cui vogliamo caricare i dati\n",
    "  - si può eventualmente usare solo una parte dei sensori, ad es. per smartphone dotati solo di alcuni di essi"
   ]
  },
  {
   "cell_type": "code",
   "execution_count": 107,
   "metadata": {},
   "outputs": [],
   "source": [
    "X_train, y_train, X_test, y_test = load_dataset(\n",
    "    \"UCI HAR Dataset/\",\n",
    "    [\"total_acc\", \"body_acc\", \"body_gyro\"]\n",
    ")"
   ]
  },
  {
   "cell_type": "markdown",
   "metadata": {
    "slideshow": {
     "slide_type": "slide"
    }
   },
   "source": [
    "- Otteniamo due dataset \"train\" e \"test\", costituiti rispettivamente da 7.352 e da 2.947 osservazioni, ovvero sequenze raccolte in diversi momenti o da diverse persone\n",
    "- Gli array `X_*` a **3 dimensioni** (assi) contengono i valori campionati dai sensori\n",
    "  - lungo l'asse 0 abbiamo le **N sequenze**\n",
    "  - lungo l'asse 1 abbiamo i **128 istanti**\n",
    "  - lungo l'asse 2 abbiamo i **9 valori campionati** per ogni istante (3 sensori per 3 assi)\n",
    "- In pratica, il valore `X_train[i,j,k]` è il valore di indice k campionato all'istante j nella i-esima sequenza del training set\n",
    "- **Ciascuna istanza** di training e di test set è quindi **rappresentata con una matrice a 2 dimensioni** piuttosto che con un vettore come visto finora"
   ]
  },
  {
   "cell_type": "code",
   "execution_count": 108,
   "metadata": {},
   "outputs": [
    {
     "data": {
      "text/plain": [
       "(7352, 128, 9)"
      ]
     },
     "execution_count": 108,
     "metadata": {},
     "output_type": "execute_result"
    }
   ],
   "source": [
    "X_train.shape"
   ]
  },
  {
   "cell_type": "code",
   "execution_count": 109,
   "metadata": {},
   "outputs": [
    {
     "data": {
      "text/plain": [
       "(2947, 128, 9)"
      ]
     },
     "execution_count": 109,
     "metadata": {},
     "output_type": "execute_result"
    }
   ],
   "source": [
    "X_test.shape"
   ]
  },
  {
   "cell_type": "markdown",
   "metadata": {},
   "source": [
    "- Gli array `y_*` a 1 dimensione contiene le etichette delle finestre temporali\n",
    "  - le etichette sono comprese tra 0 e 5"
   ]
  },
  {
   "cell_type": "code",
   "execution_count": 110,
   "metadata": {},
   "outputs": [
    {
     "data": {
      "text/plain": [
       "(7352,)"
      ]
     },
     "execution_count": 110,
     "metadata": {},
     "output_type": "execute_result"
    }
   ],
   "source": [
    "y_train.shape"
   ]
  },
  {
   "cell_type": "code",
   "execution_count": 111,
   "metadata": {},
   "outputs": [
    {
     "data": {
      "text/plain": [
       "(2947,)"
      ]
     },
     "execution_count": 111,
     "metadata": {},
     "output_type": "execute_result"
    }
   ],
   "source": [
    "y_test.shape"
   ]
  },
  {
   "cell_type": "markdown",
   "metadata": {
    "slideshow": {
     "slide_type": "slide"
    }
   },
   "source": [
    "- Carichiamo dal file `activity_labels.txt` i nomi delle attività riconosciute"
   ]
  },
  {
   "cell_type": "code",
   "execution_count": 112,
   "metadata": {},
   "outputs": [],
   "source": [
    "with open(\"UCI HAR Dataset/activity_labels.txt\", \"rt\") as f:\n",
    "    labels = [line.split(\" \")[1].strip() for line in f]"
   ]
  },
  {
   "cell_type": "code",
   "execution_count": 113,
   "metadata": {},
   "outputs": [
    {
     "data": {
      "text/plain": [
       "['WALKING',\n",
       " 'WALKING_UPSTAIRS',\n",
       " 'WALKING_DOWNSTAIRS',\n",
       " 'SITTING',\n",
       " 'STANDING',\n",
       " 'LAYING']"
      ]
     },
     "execution_count": 113,
     "metadata": {},
     "output_type": "execute_result"
    }
   ],
   "source": [
    "labels"
   ]
  },
  {
   "cell_type": "markdown",
   "metadata": {
    "slideshow": {
     "slide_type": "-"
    }
   },
   "source": [
    "- Possiamo usarle per vedere la distribuzione di osservazioni delle diverse attività in training e test set"
   ]
  },
  {
   "cell_type": "code",
   "execution_count": 114,
   "metadata": {
    "slideshow": {
     "slide_type": "slide"
    }
   },
   "outputs": [
    {
     "data": {
      "text/plain": [
       "LAYING                1407\n",
       "STANDING              1374\n",
       "SITTING               1286\n",
       "WALKING               1226\n",
       "WALKING_UPSTAIRS      1073\n",
       "WALKING_DOWNSTAIRS     986\n",
       "dtype: int64"
      ]
     },
     "execution_count": 114,
     "metadata": {},
     "output_type": "execute_result"
    }
   ],
   "source": [
    "pd.Series(labels)[y_train].value_counts()"
   ]
  },
  {
   "cell_type": "code",
   "execution_count": 115,
   "metadata": {},
   "outputs": [
    {
     "data": {
      "text/plain": [
       "LAYING                537\n",
       "STANDING              532\n",
       "WALKING               496\n",
       "SITTING               491\n",
       "WALKING_UPSTAIRS      471\n",
       "WALKING_DOWNSTAIRS    420\n",
       "dtype: int64"
      ]
     },
     "execution_count": 115,
     "metadata": {},
     "output_type": "execute_result"
    }
   ],
   "source": [
    "pd.Series(labels)[y_test].value_counts()"
   ]
  },
  {
   "cell_type": "markdown",
   "metadata": {
    "slideshow": {
     "slide_type": "slide"
    }
   },
   "source": [
    "- Codifichiamo le etichette (y) in vettori one-hot da usare come output atteso della rete"
   ]
  },
  {
   "cell_type": "code",
   "execution_count": 116,
   "metadata": {},
   "outputs": [],
   "source": [
    "from tensorflow.keras.utils import to_categorical\n",
    "yt_train = to_categorical(y_train)\n",
    "yt_test = to_categorical(y_test)"
   ]
  },
  {
   "cell_type": "markdown",
   "metadata": {
    "slideshow": {
     "slide_type": "slide"
    }
   },
   "source": [
    "- I valori in ingresso hanno già media vicina a 0 e dev. standard contenuta, non è necessario standardizzarli"
   ]
  },
  {
   "cell_type": "code",
   "execution_count": 117,
   "metadata": {},
   "outputs": [
    {
     "data": {
      "text/plain": [
       "array([ 8.04749279e-01,  2.87554865e-02,  8.64980163e-02, -6.36303058e-04,\n",
       "       -2.92296856e-04, -2.75299412e-04,  5.06464674e-04, -8.23780831e-04,\n",
       "        1.12948439e-04])"
      ]
     },
     "execution_count": 117,
     "metadata": {},
     "output_type": "execute_result"
    }
   ],
   "source": [
    "X_train.mean((0, 1))"
   ]
  },
  {
   "cell_type": "code",
   "execution_count": 118,
   "metadata": {},
   "outputs": [
    {
     "data": {
      "text/plain": [
       "array([0.41411195, 0.39099543, 0.35776881, 0.19484634, 0.12242748,\n",
       "       0.10687881, 0.40681506, 0.38185432, 0.25574314])"
      ]
     },
     "execution_count": 118,
     "metadata": {},
     "output_type": "execute_result"
    }
   ],
   "source": [
    "X_train.std((0, 1))"
   ]
  },
  {
   "cell_type": "markdown",
   "metadata": {
    "slideshow": {
     "slide_type": "slide"
    }
   },
   "source": [
    "- Dalle dimensioni degli array ricaviamo\n",
    "  - il numero di campioni per ogni sequenza (128)\n",
    "  - il numero di valori per ogni campione (9)\n",
    "  - il numero di possibili classi (6)"
   ]
  },
  {
   "cell_type": "code",
   "execution_count": 119,
   "metadata": {},
   "outputs": [],
   "source": [
    "n_timesteps = X_train.shape[1]  # = 128\n",
    "n_features = X_train.shape[2]   # = 9\n",
    "n_outputs = yt_train.shape[1]   # = 6"
   ]
  },
  {
   "cell_type": "markdown",
   "metadata": {
    "slideshow": {
     "slide_type": "slide"
    }
   },
   "source": [
    "- Costruiamo una prima rete per la classificazione con un singolo strato nascosto\n",
    "- In input usiamo uno strato `Flatten` per convertire ciascuna **matrice 128x9** con cui è rappresentata una sequenza di campioni in un **vettore di 128*9 = 1.152 elementi**\n",
    "  - questo strato **cambia la rappresentazione dei dati** per renderla compatibile con gli strati `Dense`, che si aspettano un vettore per ogni istanza\n",
    "  - **non** vengono aggiunti nodi o parametri da addestrare\n",
    "  - con `input_shape` indichiamo la dimensione attesa della matrice\n",
    "- Essendo un problema di classificazione, in output usiamo uno strato con **attivazione softmax con 6 nodi, uno per classe**"
   ]
  },
  {
   "cell_type": "code",
   "execution_count": 120,
   "metadata": {},
   "outputs": [],
   "source": [
    "from tensorflow.keras.layers import Flatten\n",
    "model = Sequential([\n",
    "    Flatten(input_shape=(n_timesteps, n_features)),\n",
    "    Dense(32, activation=\"relu\"),\n",
    "    Dense(n_outputs, activation=\"softmax\")\n",
    "])"
   ]
  },
  {
   "cell_type": "markdown",
   "metadata": {
    "slideshow": {
     "slide_type": "slide"
    }
   },
   "source": [
    "- Vediamo la struttura della rete con la forma dell'output e il numero di parametri per ogni strato"
   ]
  },
  {
   "cell_type": "code",
   "execution_count": 121,
   "metadata": {},
   "outputs": [
    {
     "name": "stdout",
     "output_type": "stream",
     "text": [
      "Model: \"sequential_26\"\n",
      "_________________________________________________________________\n",
      " Layer (type)                Output Shape              Param #   \n",
      "=================================================================\n",
      " flatten (Flatten)           (None, 1152)              0         \n",
      "                                                                 \n",
      " dense_57 (Dense)            (None, 32)                36896     \n",
      "                                                                 \n",
      " dense_58 (Dense)            (None, 6)                 198       \n",
      "                                                                 \n",
      "=================================================================\n",
      "Total params: 37,094\n",
      "Trainable params: 37,094\n",
      "Non-trainable params: 0\n",
      "_________________________________________________________________\n"
     ]
    }
   ],
   "source": [
    "model.summary()"
   ]
  },
  {
   "cell_type": "markdown",
   "metadata": {
    "slideshow": {
     "slide_type": "slide"
    }
   },
   "source": [
    "- Come visto le altre volte, compiliamo il modello specificando\n",
    "  - di utilizzare l'algoritmo di ottimizzazione _Adam_ (variante della discesa gradiente stocastica)\n",
    "  - di ottimizzare (minimizzandola) la _categorical cross entropy_, tanto più alta quanto più le probabilità date alle classi corrette si allontanano dal 100\\%\n",
    "  - di calcolare in parallelo anche l'accuratezza (percentuale di classificazioni corrrette)"
   ]
  },
  {
   "cell_type": "code",
   "execution_count": 122,
   "metadata": {},
   "outputs": [],
   "source": [
    "model.compile(\n",
    "    optimizer=\"adam\",\n",
    "    loss=\"categorical_crossentropy\",\n",
    "    metrics=[\"accuracy\"]\n",
    ")"
   ]
  },
  {
   "cell_type": "markdown",
   "metadata": {
    "slideshow": {
     "slide_type": "slide"
    }
   },
   "source": [
    "- Addestriamo quindi il modello con `fit`, specificando\n",
    "  - il training set (input e relativi output attesi)\n",
    "  - il numero di epoche di addestramento\n",
    "  - la _batch size_, il numero di osservazioni (finestre temporali) in ciascun minibatch di addestramento"
   ]
  },
  {
   "cell_type": "code",
   "execution_count": 123,
   "metadata": {
    "slideshow": {
     "slide_type": "-"
    }
   },
   "outputs": [
    {
     "name": "stdout",
     "output_type": "stream",
     "text": [
      "Epoch 1/10\n",
      "368/368 [==============================] - 1s 987us/step - loss: 0.7879 - accuracy: 0.7289\n",
      "Epoch 2/10\n",
      "368/368 [==============================] - 0s 1ms/step - loss: 0.3608 - accuracy: 0.8811\n",
      "Epoch 3/10\n",
      "368/368 [==============================] - 0s 1ms/step - loss: 0.2343 - accuracy: 0.9197\n",
      "Epoch 4/10\n",
      "368/368 [==============================] - 0s 1ms/step - loss: 0.1776 - accuracy: 0.9373\n",
      "Epoch 5/10\n",
      "368/368 [==============================] - 0s 1ms/step - loss: 0.1486 - accuracy: 0.9464\n",
      "Epoch 6/10\n",
      "368/368 [==============================] - 0s 1ms/step - loss: 0.1348 - accuracy: 0.9499\n",
      "Epoch 7/10\n",
      "368/368 [==============================] - 0s 1ms/step - loss: 0.1198 - accuracy: 0.9547\n",
      "Epoch 8/10\n",
      "368/368 [==============================] - 0s 1ms/step - loss: 0.1125 - accuracy: 0.9557\n",
      "Epoch 9/10\n",
      "368/368 [==============================] - 0s 1ms/step - loss: 0.1103 - accuracy: 0.9551\n",
      "Epoch 10/10\n",
      "368/368 [==============================] - 0s 1ms/step - loss: 0.1079 - accuracy: 0.9539\n",
      "CPU times: user 5.56 s, sys: 349 ms, total: 5.91 s\n",
      "Wall time: 4.04 s\n"
     ]
    },
    {
     "data": {
      "text/plain": [
       "<keras.callbacks.History at 0x7f569412bf10>"
      ]
     },
     "execution_count": 123,
     "metadata": {},
     "output_type": "execute_result"
    }
   ],
   "source": [
    "%time model.fit(X_train, yt_train, epochs=10, batch_size=20)"
   ]
  },
  {
   "cell_type": "markdown",
   "metadata": {
    "slideshow": {
     "slide_type": "slide"
    }
   },
   "source": [
    "- Usiamo _evaluate_ per calcolare sul validation set le stesse metriche di valutazione mostrate sul training set durante l'addestramento"
   ]
  },
  {
   "cell_type": "code",
   "execution_count": 124,
   "metadata": {},
   "outputs": [
    {
     "name": "stdout",
     "output_type": "stream",
     "text": [
      "93/93 [==============================] - 0s 855us/step - loss: 0.7216 - accuracy: 0.8541\n"
     ]
    },
    {
     "data": {
      "text/plain": [
       "[0.7215678691864014, 0.8540889024734497]"
      ]
     },
     "execution_count": 124,
     "metadata": {},
     "output_type": "execute_result"
    }
   ],
   "source": [
    "model.evaluate(X_test, yt_test)"
   ]
  },
  {
   "cell_type": "markdown",
   "metadata": {},
   "source": [
    "- L'accuratezza (il secondo numero) assume valori indicativamente tra 85\\% e 90\\% (suscettibili di casualità)\n",
    "- Salviamo questo modello in una variabile a parte per vedere successivamente come esportarlo..."
   ]
  },
  {
   "cell_type": "code",
   "execution_count": 125,
   "metadata": {},
   "outputs": [],
   "source": [
    "model_to_export = model"
   ]
  },
  {
   "cell_type": "markdown",
   "metadata": {
    "slideshow": {
     "slide_type": "slide"
    }
   },
   "source": [
    "- Possiamo aggiungere uno strato nascosto per rendere più accurata la rete"
   ]
  },
  {
   "cell_type": "code",
   "execution_count": 126,
   "metadata": {},
   "outputs": [],
   "source": [
    "model = Sequential([\n",
    "    Flatten(input_shape=(n_timesteps, n_features)),\n",
    "    Dense(128, activation=\"relu\"),\n",
    "    Dense(64, activation=\"relu\"),\n",
    "    Dense(n_outputs, activation=\"softmax\")\n",
    "])"
   ]
  },
  {
   "cell_type": "markdown",
   "metadata": {
    "slideshow": {
     "slide_type": "slide"
    }
   },
   "source": [
    "- Si noti che il numero di parametri da addestrare si alza sensibilmente..."
   ]
  },
  {
   "cell_type": "code",
   "execution_count": 127,
   "metadata": {},
   "outputs": [
    {
     "name": "stdout",
     "output_type": "stream",
     "text": [
      "Model: \"sequential_27\"\n",
      "_________________________________________________________________\n",
      " Layer (type)                Output Shape              Param #   \n",
      "=================================================================\n",
      " flatten_1 (Flatten)         (None, 1152)              0         \n",
      "                                                                 \n",
      " dense_59 (Dense)            (None, 128)               147584    \n",
      "                                                                 \n",
      " dense_60 (Dense)            (None, 64)                8256      \n",
      "                                                                 \n",
      " dense_61 (Dense)            (None, 6)                 390       \n",
      "                                                                 \n",
      "=================================================================\n",
      "Total params: 156,230\n",
      "Trainable params: 156,230\n",
      "Non-trainable params: 0\n",
      "_________________________________________________________________\n"
     ]
    }
   ],
   "source": [
    "model.summary()"
   ]
  },
  {
   "cell_type": "code",
   "execution_count": 128,
   "metadata": {},
   "outputs": [],
   "source": [
    "model.compile(loss=\"categorical_crossentropy\", optimizer=\"adam\", metrics=[\"accuracy\"])"
   ]
  },
  {
   "cell_type": "code",
   "execution_count": 129,
   "metadata": {
    "slideshow": {
     "slide_type": "slide"
    }
   },
   "outputs": [
    {
     "name": "stdout",
     "output_type": "stream",
     "text": [
      "Epoch 1/10\n",
      "368/368 [==============================] - 1s 1ms/step - loss: 0.4486 - accuracy: 0.8373\n",
      "Epoch 2/10\n",
      "368/368 [==============================] - 1s 1ms/step - loss: 0.1693 - accuracy: 0.9336\n",
      "Epoch 3/10\n",
      "368/368 [==============================] - 1s 1ms/step - loss: 0.1274 - accuracy: 0.9482\n",
      "Epoch 4/10\n",
      "368/368 [==============================] - 1s 1ms/step - loss: 0.1092 - accuracy: 0.9540\n",
      "Epoch 5/10\n",
      "368/368 [==============================] - 1s 1ms/step - loss: 0.1011 - accuracy: 0.9557\n",
      "Epoch 6/10\n",
      "368/368 [==============================] - 1s 1ms/step - loss: 0.0950 - accuracy: 0.9572\n",
      "Epoch 7/10\n",
      "368/368 [==============================] - 1s 1ms/step - loss: 0.0891 - accuracy: 0.9591\n",
      "Epoch 8/10\n",
      "368/368 [==============================] - 1s 1ms/step - loss: 0.1623 - accuracy: 0.9421\n",
      "Epoch 9/10\n",
      "368/368 [==============================] - 1s 1ms/step - loss: 0.0993 - accuracy: 0.9561\n",
      "Epoch 10/10\n",
      "368/368 [==============================] - 1s 1ms/step - loss: 0.0821 - accuracy: 0.9622\n",
      "CPU times: user 8.46 s, sys: 589 ms, total: 9.05 s\n",
      "Wall time: 5.49 s\n"
     ]
    },
    {
     "data": {
      "text/plain": [
       "<keras.callbacks.History at 0x7f56941690a0>"
      ]
     },
     "execution_count": 129,
     "metadata": {},
     "output_type": "execute_result"
    }
   ],
   "source": [
    "%time model.fit(X_train, yt_train, epochs=10, batch_size=20)"
   ]
  },
  {
   "cell_type": "code",
   "execution_count": 130,
   "metadata": {},
   "outputs": [
    {
     "name": "stdout",
     "output_type": "stream",
     "text": [
      "93/93 [==============================] - 0s 964us/step - loss: 0.4085 - accuracy: 0.9006\n"
     ]
    },
    {
     "data": {
      "text/plain": [
       "[0.4084576666355133, 0.9005768299102783]"
      ]
     },
     "execution_count": 130,
     "metadata": {},
     "output_type": "execute_result"
    }
   ],
   "source": [
    "model.evaluate(X_test, yt_test)"
   ]
  },
  {
   "cell_type": "markdown",
   "metadata": {
    "slideshow": {
     "slide_type": "slide"
    }
   },
   "source": [
    "## Reti convoluzionali\n",
    "\n",
    "- Negli input delle reti neurali è spesso necessario **riconoscere dei pattern** che possono essere presenti **in diverse porzioni** dell'input\n",
    "  - nel caso comune delle immagini, si vogliono riconoscere dei particolari **indipendentemente dal punto in cui si trovano**\n",
    "  - nel caso di studio corrente, potremmo riconoscere delle brevi sequenze temporali di valori che sono peculiari di attività specifiche\n",
    "- Le reti _convoluzionali_ utilizzano strati con connessioni \"locali\" e pesi condivisi\n",
    "  - ogni nodo riceve input solamente **da nodi vicini tra loro** nello strato inferiore, assumendo che corrispondano a **porzioni di spazio o di tempo**\n",
    "  - **gli stessi pesi sono applicati a tutti i nodi**, in modo lo stesso pattern sia cercato sull'intero intervallo di spazio o di tempo analizzato"
   ]
  },
  {
   "cell_type": "markdown",
   "metadata": {
    "slideshow": {
     "slide_type": "slide"
    }
   },
   "source": [
    "- Inseriamo all'inizio della rete uno strato `Conv1D` impostando il numero e la lunghezza dei pattern da cercare\n",
    "  - ad esempio poniamo di cercare parallelamente **16 pattern** con lunghezza di **15 passi temporali** ciascuno\n",
    "- L'input atteso dallo strato `Conv1D` per ogni osservazione è una matrice MxN con una sequenza di M campioni di N valori indipendenti (\"canali\")\n",
    "  - i set di dati che utilizziamo hanno già questo formato, possono essere dati in input direttamente\n",
    "- L'output per ogni osservazione sarà una matrice MxN che indica in che misura ciascuno degli N pattern è stato individuato in ciascuno degli M punti dell'input\n",
    "  - come sopra, applichiamo `Flatten` ad esso per convertire ciascuna matrice in un vettore lineare di nodi"
   ]
  },
  {
   "cell_type": "code",
   "execution_count": 131,
   "metadata": {},
   "outputs": [],
   "source": [
    "from tensorflow.keras.layers import Conv1D\n",
    "model = Sequential([\n",
    "    Conv1D(16, 15, input_shape=(n_timesteps, n_features)),\n",
    "    Flatten(),\n",
    "    Dense(64, activation=\"relu\"),\n",
    "    Dense(n_outputs, activation=\"softmax\")\n",
    "])"
   ]
  },
  {
   "cell_type": "markdown",
   "metadata": {
    "slideshow": {
     "slide_type": "slide"
    }
   },
   "source": [
    "- Dal sommario, vediamo che lo strato convoluzionale ha un numero di parametri nettamente inferiore rispetto ad un tipico strato denso\n",
    "  - per ognuno dei 16 pattern abbiamo 15x9 pesi e un bias condivisi su 114 nodi, per un totale di 2.176 parametri\n",
    "- Lo strato restituisce 114x16 valori, ovvero 16 pattern cercati nelle 114 (128-15+1) sequenze possibili di 15 valori su 128"
   ]
  },
  {
   "cell_type": "code",
   "execution_count": 132,
   "metadata": {},
   "outputs": [
    {
     "name": "stdout",
     "output_type": "stream",
     "text": [
      "Model: \"sequential_28\"\n",
      "_________________________________________________________________\n",
      " Layer (type)                Output Shape              Param #   \n",
      "=================================================================\n",
      " conv1d (Conv1D)             (None, 114, 16)           2176      \n",
      "                                                                 \n",
      " flatten_2 (Flatten)         (None, 1824)              0         \n",
      "                                                                 \n",
      " dense_62 (Dense)            (None, 64)                116800    \n",
      "                                                                 \n",
      " dense_63 (Dense)            (None, 6)                 390       \n",
      "                                                                 \n",
      "=================================================================\n",
      "Total params: 119,366\n",
      "Trainable params: 119,366\n",
      "Non-trainable params: 0\n",
      "_________________________________________________________________\n"
     ]
    }
   ],
   "source": [
    "model.summary()"
   ]
  },
  {
   "cell_type": "code",
   "execution_count": 133,
   "metadata": {},
   "outputs": [],
   "source": [
    "model.compile(loss=\"categorical_crossentropy\", optimizer=\"adam\", metrics=[\"accuracy\"])"
   ]
  },
  {
   "cell_type": "code",
   "execution_count": 134,
   "metadata": {
    "slideshow": {
     "slide_type": "slide"
    }
   },
   "outputs": [
    {
     "name": "stdout",
     "output_type": "stream",
     "text": [
      "Epoch 1/10\n",
      "368/368 [==============================] - 1s 2ms/step - loss: 0.5052 - accuracy: 0.8137\n",
      "Epoch 2/10\n",
      "368/368 [==============================] - 1s 2ms/step - loss: 0.2254 - accuracy: 0.9166\n",
      "Epoch 3/10\n",
      "368/368 [==============================] - 1s 2ms/step - loss: 0.1453 - accuracy: 0.9427\n",
      "Epoch 4/10\n",
      "368/368 [==============================] - 1s 2ms/step - loss: 0.1370 - accuracy: 0.9444\n",
      "Epoch 5/10\n",
      "368/368 [==============================] - 1s 2ms/step - loss: 0.1250 - accuracy: 0.9475\n",
      "Epoch 6/10\n",
      "368/368 [==============================] - 1s 2ms/step - loss: 0.1246 - accuracy: 0.9510\n",
      "Epoch 7/10\n",
      "368/368 [==============================] - 1s 2ms/step - loss: 0.1226 - accuracy: 0.9476\n",
      "Epoch 8/10\n",
      "368/368 [==============================] - 1s 2ms/step - loss: 0.1145 - accuracy: 0.9510\n",
      "Epoch 9/10\n",
      "368/368 [==============================] - 1s 2ms/step - loss: 0.1213 - accuracy: 0.9493\n",
      "Epoch 10/10\n",
      "368/368 [==============================] - 1s 2ms/step - loss: 0.1393 - accuracy: 0.9475\n",
      "CPU times: user 14.7 s, sys: 741 ms, total: 15.4 s\n",
      "Wall time: 8.05 s\n"
     ]
    },
    {
     "data": {
      "text/plain": [
       "<keras.callbacks.History at 0x7f568428d490>"
      ]
     },
     "execution_count": 134,
     "metadata": {},
     "output_type": "execute_result"
    }
   ],
   "source": [
    "%time model.fit(X_train, yt_train, epochs=10, batch_size=20)"
   ]
  },
  {
   "cell_type": "code",
   "execution_count": 135,
   "metadata": {},
   "outputs": [
    {
     "name": "stdout",
     "output_type": "stream",
     "text": [
      "93/93 [==============================] - 0s 1ms/step - loss: 0.6270 - accuracy: 0.8941\n"
     ]
    },
    {
     "data": {
      "text/plain": [
       "[0.626990556716919, 0.8941296339035034]"
      ]
     },
     "execution_count": 135,
     "metadata": {},
     "output_type": "execute_result"
    }
   ],
   "source": [
    "model.evaluate(X_test, yt_test)"
   ]
  },
  {
   "cell_type": "markdown",
   "metadata": {
    "slideshow": {
     "slide_type": "slide"
    }
   },
   "source": [
    "## Reti ricorrenti\n",
    "\n",
    "- Al contrario delle reti viste finora, una rete _ricorrente_ contiene connessioni cicliche tra nodi\n",
    "- A queste reti ciascun input è una sequenza fornita **in più passi temporali**\n",
    "  - nel nostro caso, si immagini di fornire le 128 letture dei sensori **una dopo l'altra** invece che in blocco\n",
    "- Tramite le connessioni cicliche, **la rete mantiene uno stato** da un passo all'altro\n",
    "- L'output della rete ad un passo $t$ dipende sia dall'input allo stesso passo $t$ che dallo stato che si è creato in seguito agli input precedenti\n",
    "- Per usare una rete ricorrente, nei dati di addestramento e test deve essere presente **una dimensione temporale**\n",
    "  - come nel caso di studio corrente, dove ogni osservazione è una sequenza di 128 campioni\n",
    "- Le reti ricorrenti possono potenzialmente riconoscere correlazioni tra dati forniti in passi temporali diversi, anche distanti"
   ]
  },
  {
   "cell_type": "markdown",
   "metadata": {
    "slideshow": {
     "slide_type": "slide"
    }
   },
   "source": [
    "- Keras fornisce diversi tipi di strati ricorrenti, tra cui le _Gated Recurrent Unit_ (GRU)\n",
    "  - ad ogni passo temporale $t$ lo strato GRU calcola un output di N valori $h(t)$ in funzione sia dell'input attuale $x(t)$ che dell'output precedente $h(t-1)$\n",
    "- In addestramento e test, dobbiamo fornire le osservazioni complete di tutti gli istanti temporali\n",
    "  - ciascuna osservazione è una matrice MxN, rappresentante una sequenza di durata M di vettori di misura N\n",
    "  - nel nostro caso, sequenze di 128 campioni di 9 valori\n",
    "- Di default, solo l'output di GRU all'ultimo passo temporale è considerato per determinare l'output dato dalla rete ad ogni osservazione\n",
    "  - questo output è un vettore, può essere passato direttamente ad uno strato `Dense`"
   ]
  },
  {
   "cell_type": "code",
   "execution_count": 136,
   "metadata": {},
   "outputs": [],
   "source": [
    "from tensorflow.keras.layers import GRU\n",
    "model = Sequential([\n",
    "    GRU(64, activation=\"relu\", input_shape=(n_timesteps, n_features)),\n",
    "    Dense(n_outputs, activation=\"softmax\")\n",
    "])"
   ]
  },
  {
   "cell_type": "markdown",
   "metadata": {
    "slideshow": {
     "slide_type": "slide"
    }
   },
   "source": [
    "- Anche in questo caso il numero di parametri è molto inferiore rispetto ad un MLP ordinario, in quanto gli stessi pesi vengono riutilizzati attraverso i 128 passaggi temporali"
   ]
  },
  {
   "cell_type": "code",
   "execution_count": 137,
   "metadata": {
    "slideshow": {
     "slide_type": "-"
    }
   },
   "outputs": [
    {
     "name": "stdout",
     "output_type": "stream",
     "text": [
      "Model: \"sequential_29\"\n",
      "_________________________________________________________________\n",
      " Layer (type)                Output Shape              Param #   \n",
      "=================================================================\n",
      " gru (GRU)                   (None, 64)                14400     \n",
      "                                                                 \n",
      " dense_64 (Dense)            (None, 6)                 390       \n",
      "                                                                 \n",
      "=================================================================\n",
      "Total params: 14,790\n",
      "Trainable params: 14,790\n",
      "Non-trainable params: 0\n",
      "_________________________________________________________________\n"
     ]
    }
   ],
   "source": [
    "model.summary()"
   ]
  },
  {
   "cell_type": "code",
   "execution_count": 138,
   "metadata": {},
   "outputs": [],
   "source": [
    "model.compile(loss=\"categorical_crossentropy\", optimizer=\"adam\", metrics=[\"accuracy\"])"
   ]
  },
  {
   "cell_type": "markdown",
   "metadata": {
    "slideshow": {
     "slide_type": "slide"
    }
   },
   "source": [
    "- Il tempo per l'addestramento aumenta, in quanto l'errore su ciascuna osservazione va derivato attraverso i 128 passi temporali (_backpropagation through time_)"
   ]
  },
  {
   "cell_type": "code",
   "execution_count": 139,
   "metadata": {
    "slideshow": {
     "slide_type": "-"
    }
   },
   "outputs": [
    {
     "name": "stdout",
     "output_type": "stream",
     "text": [
      "Epoch 1/5\n",
      "74/74 [==============================] - 3s 34ms/step - loss: 1.4933 - accuracy: 0.4638\n",
      "Epoch 2/5\n",
      "74/74 [==============================] - 2s 34ms/step - loss: 0.9500 - accuracy: 0.6370\n",
      "Epoch 3/5\n",
      "74/74 [==============================] - 2s 34ms/step - loss: 0.6239 - accuracy: 0.7391\n",
      "Epoch 4/5\n",
      "74/74 [==============================] - 3s 34ms/step - loss: 0.4767 - accuracy: 0.8037\n",
      "Epoch 5/5\n",
      "74/74 [==============================] - 3s 34ms/step - loss: 0.3676 - accuracy: 0.8598\n",
      "CPU times: user 31.6 s, sys: 2.25 s, total: 33.8 s\n",
      "Wall time: 13.5 s\n"
     ]
    },
    {
     "data": {
      "text/plain": [
       "<keras.callbacks.History at 0x7f5696d2c7c0>"
      ]
     },
     "execution_count": 139,
     "metadata": {},
     "output_type": "execute_result"
    }
   ],
   "source": [
    "%time model.fit(X_train, yt_train, epochs=5, batch_size=100)"
   ]
  },
  {
   "cell_type": "code",
   "execution_count": 140,
   "metadata": {},
   "outputs": [
    {
     "name": "stdout",
     "output_type": "stream",
     "text": [
      "93/93 [==============================] - 1s 6ms/step - loss: 0.6319 - accuracy: 0.8073\n"
     ]
    },
    {
     "data": {
      "text/plain": [
       "[0.6318542957305908, 0.8072616457939148]"
      ]
     },
     "execution_count": 140,
     "metadata": {},
     "output_type": "execute_result"
    }
   ],
   "source": [
    "model.evaluate(X_test, yt_test)"
   ]
  },
  {
   "cell_type": "markdown",
   "metadata": {
    "slideshow": {
     "slide_type": "slide"
    }
   },
   "source": [
    "## Deployment del modello con TensorFlow Lite\n",
    "\n",
    "- TensorFlow Lite è un framework per il deep learning destinato a dispositivi mobili ed embedded\n",
    "- Si usa per eseguire inferenze (stime e predizioni) su modelli che vengono caricati già addestrati sul dispositivo\n",
    "  - l'inferenza richiede generalmente molte meno risorse rispetto all'addestramento\n",
    "- Sul Web esistono diversi modelli preaddestrati per diversi task\n",
    "  - riconoscimento immagini, natural language processing, ...\n",
    "- Possiamo in aggiunta esportare i modelli addestrati con TensorFlow (anche tramite Keras)\n",
    "- Nel nostro caso di studio, possiamo esportare il modello che riconosce le attività, per poi utilizzarlo ad es. all'interno di un'app mobile"
   ]
  },
  {
   "cell_type": "markdown",
   "metadata": {
    "slideshow": {
     "slide_type": "slide"
    }
   },
   "source": [
    "## Esportazione del modello\n",
    "\n",
    "- Creiamo un oggetto `TFLiteConverter` passando il modello Keras addestrato\n",
    "  - NB: funziona solo su modelli che usano il package `tensorflow.keras`"
   ]
  },
  {
   "cell_type": "code",
   "execution_count": 141,
   "metadata": {},
   "outputs": [],
   "source": [
    "converter = tf.lite.TFLiteConverter.from_keras_model(model_to_export)"
   ]
  },
  {
   "cell_type": "markdown",
   "metadata": {},
   "source": [
    "- Utilizziamone il metodo `convert` per ottenere la rappresentazione binaria\n",
    "  - NB: eseguendo da Jupyter, si ha errore se TensorFlow è installato in un ambiente virtuale diverso da quello di Jupyter"
   ]
  },
  {
   "cell_type": "code",
   "execution_count": 142,
   "metadata": {},
   "outputs": [
    {
     "name": "stdout",
     "output_type": "stream",
     "text": [
      "INFO:tensorflow:Assets written to: /tmp/tmpo3pzqnnv/assets\n"
     ]
    },
    {
     "name": "stderr",
     "output_type": "stream",
     "text": [
      "2022-06-01 12:07:44.270772: W tensorflow/compiler/mlir/lite/python/tf_tfl_flatbuffer_helpers.cc:362] Ignored output_format.\n",
      "2022-06-01 12:07:44.270798: W tensorflow/compiler/mlir/lite/python/tf_tfl_flatbuffer_helpers.cc:365] Ignored drop_control_dependency.\n",
      "2022-06-01 12:07:44.271347: I tensorflow/cc/saved_model/reader.cc:43] Reading SavedModel from: /tmp/tmpo3pzqnnv\n",
      "2022-06-01 12:07:44.272161: I tensorflow/cc/saved_model/reader.cc:81] Reading meta graph with tags { serve }\n",
      "2022-06-01 12:07:44.272176: I tensorflow/cc/saved_model/reader.cc:122] Reading SavedModel debug info (if present) from: /tmp/tmpo3pzqnnv\n",
      "2022-06-01 12:07:44.274322: I tensorflow/compiler/mlir/mlir_graph_optimization_pass.cc:354] MLIR V1 optimization pass is not enabled\n",
      "2022-06-01 12:07:44.274966: I tensorflow/cc/saved_model/loader.cc:228] Restoring SavedModel bundle.\n",
      "2022-06-01 12:07:44.303872: I tensorflow/cc/saved_model/loader.cc:212] Running initialization op on SavedModel bundle at path: /tmp/tmpo3pzqnnv\n",
      "2022-06-01 12:07:44.313582: I tensorflow/cc/saved_model/loader.cc:301] SavedModel load for tags { serve }; Status: success: OK. Took 42237 microseconds.\n",
      "2022-06-01 12:07:44.325006: I tensorflow/compiler/mlir/tensorflow/utils/dump_mlir_util.cc:263] disabling MLIR crash reproducer, set env var `MLIR_CRASH_REPRODUCER_DIRECTORY` to enable.\n"
     ]
    }
   ],
   "source": [
    "##noerr\n",
    "tflite_model = converter.convert()"
   ]
  },
  {
   "cell_type": "markdown",
   "metadata": {},
   "source": [
    "- Esportiamo quindi tale rappresentazione in un file"
   ]
  },
  {
   "cell_type": "code",
   "execution_count": 143,
   "metadata": {},
   "outputs": [],
   "source": [
    "with tf.io.gfile.GFile(\"model.tflite\", \"wb\") as f:\n",
    "    f.write(tflite_model)"
   ]
  },
  {
   "cell_type": "markdown",
   "metadata": {
    "slideshow": {
     "slide_type": "slide"
    }
   },
   "source": [
    "## Uso all'interno di un'app Android\n",
    "\n",
    "- Vediamo in breve come si integra il modello esportato in un'app Android\n",
    "- Per iniziare, dichiariamo TensorFlow Lite come dipendenza nel file `build.gradle` del progetto\n",
    "\n",
    "```groovy\n",
    "repositories {\n",
    "  // ... altre repository ...\n",
    "  maven {\n",
    "    url 'https://google.bintray.com/tensorflow'\n",
    "  }\n",
    "}\n",
    "dependencies {\n",
    "  // ... altre dipendenze ...\n",
    "  implementation 'org.tensorflow:tensorflow-lite:+'\n",
    "}\n",
    "```"
   ]
  },
  {
   "cell_type": "markdown",
   "metadata": {
    "slideshow": {
     "slide_type": "slide"
    }
   },
   "source": [
    "- Un modello TF Lite è rappresentato a run-time da un oggetto `Interpreter`\n",
    "- Creiamo tale oggetto passando un riferimento al file o direttamente un buffer con i dati\n",
    "  - si può trattare di un file salvato nel file system, es. scaricato da Web\n",
    "  - si può anche integrare il modello nell'app (nel file APK), configurandolo in modo che non venga compresso\n",
    "- L'oggetto va generalmente creato all'apertura dell'app (`Activity.onCreate`) e chiuso col metodo `close` alla terminazione (`Activity.onDestroy`)\n",
    "\n",
    "```java\n",
    "import org.tensorflow.lite.Interpreter;\n",
    "...\n",
    "File modelFile = new File(\"/path/to/model.tflite\");\n",
    "Interpreter model = new Interpreter(modelFile);\n",
    "```"
   ]
  },
  {
   "cell_type": "markdown",
   "metadata": {
    "slideshow": {
     "slide_type": "slide"
    }
   },
   "source": [
    "- Per usare il modello vanno allocati per i suoi input e output dei buffer delle giuste dimensioni, che possono essere\n",
    "  - degli array Java (come da esempio sotto)\n",
    "  - oggetti `ByteBuffer` (meno immediati da usare ma più efficienti)\n",
    "\n",
    "```java\n",
    "// array 2D dove inserire l'input da passare alla rete\n",
    "float[][] inputBuffer = new float[seqLength][inputSize];\n",
    "// array in cui verrà scritto l'output della rete\n",
    "float[] outputBuffer = new int[numClasses];\n",
    "```\n",
    "\n",
    "- Ogni volta che si vuole eseguire l'inferenza si usa il metodo `run` dell'`Interpreter`\n",
    "\n",
    "```java\n",
    "model.run(inputBuffer, outputBuffer);\n",
    "```"
   ]
  },
  {
   "cell_type": "markdown",
   "metadata": {
    "slideshow": {
     "slide_type": "slide"
    }
   },
   "source": [
    "- Nel nostro caso di studio, possiamo usare l'API `SensorManager` di Android per eseguire una callback ogni volta che arrivano dati dai sensori\n",
    "- La callback andrà a riportare i dati ricevuti nel buffer di input e ad invocare il modello quando questo viene riempito\n",
    "\n",
    "```java\n",
    "void feedSensorData(int sensor, SensorEvent event) {\n",
    "  // determina a quale passo temporale\n",
    "  // si riferiscono i dati ricevuti\n",
    "  int timestep = ...;\n",
    "  // copia i dati del sensore nel buffer\n",
    "  System.arraycopy(event.values, 0, inputBuffer[inputFillStep],\n",
    "      NUM_AXES * sensor, NUM_AXES);\n",
    "  // se sono arrivato al termine del buffer...\n",
    "  boolean bufferIsFull = ...;\n",
    "  if (bufferIsFull) {\n",
    "    // esegui l'inferenza\n",
    "    inferActivity();\n",
    "    // azzera il buffer di input\n",
    "    resetInputBuffer();\n",
    "  }\n",
    "}\n",
    "```"
   ]
  },
  {
   "cell_type": "markdown",
   "metadata": {
    "slideshow": {
     "slide_type": "slide"
    }
   },
   "source": [
    "- Quando il buffer è pieno, si passa il contenuto al modello, si ottengono le probabilità delle classi e si verifica qual è la più probabile\n",
    "\n",
    "```java\n",
    "int argmax(float[] values) {\n",
    "  /** Restituisci indice del valore maggiore. */ ...\n",
    "}\n",
    "\n",
    "void inferActivity() {\n",
    "  // eseguo l’inferenza con i dati raccolti\n",
    "  model.run(inputBuffer, outputBuffer);\n",
    "  // verifico la classe con probabilità maggiore\n",
    "  int activityClass = argmax(outputBuffer);\n",
    "  // invoco una callback (ad es. per aggiornare la GUI)\n",
    "  callback.activityInferred(activityClass);\n",
    "}\n",
    "```"
   ]
  }
 ],
 "metadata": {
  "kernelspec": {
   "display_name": "Python 3 (ipykernel)",
   "language": "python",
   "name": "python3"
  },
  "language_info": {
   "codemirror_mode": {
    "name": "ipython",
    "version": 3
   },
   "file_extension": ".py",
   "mimetype": "text/x-python",
   "name": "python",
   "nbconvert_exporter": "python",
   "pygments_lexer": "ipython3",
   "version": "3.9.2"
  }
 },
 "nbformat": 4,
 "nbformat_minor": 4
}
