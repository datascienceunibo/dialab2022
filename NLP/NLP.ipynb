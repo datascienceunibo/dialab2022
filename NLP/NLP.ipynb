{
 "cells": [
  {
   "cell_type": "markdown",
   "metadata": {
    "slideshow": {
     "slide_type": "slide"
    }
   },
   "source": [
    "# Laboratorio: Natural Language Processing\n",
    "\n",
    "**Programmazione di Applicazioni Data Intensive**  \n",
    "Laurea in Ingegneria e Scienze Informatiche  \n",
    "DISI - Università di Bologna, Cesena\n",
    "\n",
    "Proff. Gianluca Moro, Roberto Pasolini  \n",
    "`nome.cognome@unibo.it`"
   ]
  },
  {
   "cell_type": "markdown",
   "metadata": {
    "slideshow": {
     "slide_type": "slide"
    }
   },
   "source": [
    "## Setup Librerie"
   ]
  },
  {
   "cell_type": "code",
   "execution_count": 1,
   "metadata": {},
   "outputs": [],
   "source": [
    "import numpy as np\n",
    "import pandas as pd\n",
    "import matplotlib.pyplot as plt\n",
    "%matplotlib inline"
   ]
  },
  {
   "cell_type": "markdown",
   "metadata": {
    "slideshow": {
     "slide_type": "slide"
    }
   },
   "source": [
    "## Natural Language Processing\n",
    "\n",
    "- Con _Natural Language Processing_ (NLP) ci si riferisce all'insieme di tecniche per il processamento di **testo in linguaggio naturale** (inglese, italiano, ...)\n",
    "- Obiettivo del NLP è estrarre **informazioni di alto livello** dal testo o convertirlo in una **forma strutturata** (es. vettori e matrici) trattabile da altri algoritmi"
   ]
  },
  {
   "cell_type": "markdown",
   "metadata": {
    "slideshow": {
     "slide_type": "slide"
    }
   },
   "source": [
    "## NLTK\n",
    "\n",
    "- _NLTK_ (_Natural Language Toolkit_) è una delle principali librerie Python per il trattamento di testi in linguaggio naturale\n",
    "- Fornisce diversi algoritmi, spesso usati come componenti per pre-processare documenti di testo nell'ambito di analisi di dati\n",
    "- NLTK è già inclusa in Colab e Anaconda, in altri casi può essere installata con pip"
   ]
  },
  {
   "cell_type": "code",
   "execution_count": 2,
   "metadata": {},
   "outputs": [],
   "source": [
    "# pip install nltk"
   ]
  },
  {
   "cell_type": "markdown",
   "metadata": {},
   "source": [
    "- Importiamo la libreria per verificarne l'installazione e utilizzarla in seguito"
   ]
  },
  {
   "cell_type": "code",
   "execution_count": 3,
   "metadata": {},
   "outputs": [],
   "source": [
    "import nltk"
   ]
  },
  {
   "cell_type": "markdown",
   "metadata": {},
   "source": [
    "- Alcuni algoritmi richiedono dati o modelli di conoscenza non distribuiti di default con la libreria (per limitarne le dimensioni)\n",
    "- Dove necessari, viene usata la funzione `download` per scaricare i dati se non già presenti su disco\n",
    "  - i dati scaricati sono salvati in una directory `nltk_data` nella propria home"
   ]
  },
  {
   "cell_type": "markdown",
   "metadata": {
    "slideshow": {
     "slide_type": "slide"
    }
   },
   "source": [
    "## Segmentazione\n",
    "\n",
    "- La _segmentazione_ (_tokenization_) consiste nella scomposizione di un testo in una **sequenza di elementi** (_token_)\n",
    "- Comunemente la segmentazione è usata per estrarre le **singole parole** da un testo, includendo opzionalmente numeri, segni di punteggiatura, ...\n",
    "- NLTK offre la funzione `word_tokenize` per scomporre una stringa in una lista di parole e segni di punteggiatura\n",
    "- La funzione utilizza un modello della lingua inglese per scomporre correttamente alcune parole\n",
    "- Usiamo la funzione `download` per scaricare tale modello (se non già scaricato)"
   ]
  },
  {
   "cell_type": "code",
   "execution_count": 4,
   "metadata": {},
   "outputs": [
    {
     "name": "stderr",
     "output_type": "stream",
     "text": [
      "[nltk_data] Downloading package punkt to /home/pasolini/nltk_data...\n",
      "[nltk_data]   Package punkt is already up-to-date!\n"
     ]
    },
    {
     "data": {
      "text/plain": [
       "True"
      ]
     },
     "execution_count": 4,
     "metadata": {},
     "output_type": "execute_result"
    }
   ],
   "source": [
    "nltk.download(\"punkt\")"
   ]
  },
  {
   "cell_type": "markdown",
   "metadata": {
    "slideshow": {
     "slide_type": "slide"
    }
   },
   "source": [
    "- Sia data una frase d'esempio..."
   ]
  },
  {
   "cell_type": "code",
   "execution_count": 5,
   "metadata": {},
   "outputs": [],
   "source": [
    "sentence = \"This isn't an example, or is it?\""
   ]
  },
  {
   "cell_type": "markdown",
   "metadata": {},
   "source": [
    "- ...possiamo utilizzare il metodo `split` di Python per suddividere la frase in parole separate dagli spazi"
   ]
  },
  {
   "cell_type": "code",
   "execution_count": 6,
   "metadata": {},
   "outputs": [
    {
     "name": "stdout",
     "output_type": "stream",
     "text": [
      "This    isn't    an    example,    or    is    it?\n"
     ]
    }
   ],
   "source": [
    "words = sentence.split()\n",
    "# ottengo una lista di stringhe\n",
    "# uso join per stamparla isolando le singole parole\n",
    "print(\"    \".join(words))"
   ]
  },
  {
   "cell_type": "markdown",
   "metadata": {},
   "source": [
    "- Usando però `word_tokenize`, grazie alla conoscenza della lingua, sono correttamente separati segni di punteggiatura e anche parole composte come \"isn't\""
   ]
  },
  {
   "cell_type": "code",
   "execution_count": 7,
   "metadata": {},
   "outputs": [
    {
     "name": "stdout",
     "output_type": "stream",
     "text": [
      "This    is    n't    an    example    ,    or    is    it    ?\n"
     ]
    }
   ],
   "source": [
    "words = nltk.tokenize.word_tokenize(sentence)\n",
    "print(\"    \".join(words))"
   ]
  },
  {
   "cell_type": "markdown",
   "metadata": {
    "slideshow": {
     "slide_type": "slide"
    }
   },
   "source": [
    "## Bag of Words e Vector Space Model\n",
    "\n",
    "- Nel modello _Bag of Words_ (BoW), un testo è rappresentato dall'**insieme delle parole in esso**\n",
    "  - non si considera il loro ordine nella frase\n",
    "- Definito un dizionario $D$ di parole distinte, possiamo rappresentare un testo (_documento_) con un vettore che associ ad ogni parola in $D$ il numero di occorrenze in esso\n",
    "- Il _Vector Space Model_ prevede di rappresentare un insieme di documenti in uno **spazio vettoriale** comune, dove **le dimensioni corrispondono ai termini** di un dizionario comune\n",
    "- Un insieme di documenti in uno spazio vettoriale è rappresentabile con una **_matrice documenti-termini_**, di cui ogni riga costituisce il vettore ricavato dal documento"
   ]
  },
  {
   "cell_type": "markdown",
   "metadata": {
    "slideshow": {
     "slide_type": "slide"
    }
   },
   "source": [
    "### Definire uno spazio vettoriale\n",
    "\n",
    "- Dato un insieme di documenti di testo (in questo caso semplici frasi)..."
   ]
  },
  {
   "cell_type": "code",
   "execution_count": 8,
   "metadata": {},
   "outputs": [],
   "source": [
    "docs = [\n",
    "    \"the sky is blue\",\n",
    "    \"sky is blue and sky is beautiful\",\n",
    "    \"the beautiful sky is so blue\",\n",
    "    \"i love blue cheese\"\n",
    "]"
   ]
  },
  {
   "cell_type": "markdown",
   "metadata": {},
   "source": [
    "- Possiamo usare il filtro `CountVectorizer` fornito da scikit-learn per rappresentarli in uno spazio vettoriale"
   ]
  },
  {
   "cell_type": "code",
   "execution_count": 9,
   "metadata": {},
   "outputs": [],
   "source": [
    "from sklearn.feature_extraction.text import CountVectorizer\n",
    "vect = CountVectorizer()"
   ]
  },
  {
   "cell_type": "markdown",
   "metadata": {
    "slideshow": {
     "slide_type": "slide"
    }
   },
   "source": [
    "- Con `fit_transform` costruiamo lo spazio vettoriale sulla base dei termini presenti nei documenti e otteniamo la matrice documenti-termini che li rappresenta\n",
    "  - scikit-learn include un algoritmo basilare per segmentare le parole, usato di default da `CountVectorizer`"
   ]
  },
  {
   "cell_type": "code",
   "execution_count": 10,
   "metadata": {},
   "outputs": [],
   "source": [
    "dtm = vect.fit_transform(docs)"
   ]
  },
  {
   "cell_type": "markdown",
   "metadata": {},
   "source": [
    "- L'oggetto `dtm` ottenuto è una _matrice sparsa_, una struttura dati che rappresenta una matrice memorizzando in modo esplicito solamente i valori diversi da 0\n",
    "  - in applicazioni reali tipiche, una matrice documenti-termini contiene meno del 10% di valori diversi da 0, si ottiene così un grande risparmio di memoria\n",
    "- **Attenzione:** la matrice sparsa è simile ad un `ndarray` ma con alcune differenze, ad es. l'operatore `*`  esegue il prodotto canonico tra matrici piuttosto che quello elemento per elemento"
   ]
  },
  {
   "cell_type": "code",
   "execution_count": 11,
   "metadata": {},
   "outputs": [
    {
     "data": {
      "text/plain": [
       "<4x9 sparse matrix of type '<class 'numpy.int64'>'\n",
       "\twith 18 stored elements in Compressed Sparse Row format>"
      ]
     },
     "execution_count": 11,
     "metadata": {},
     "output_type": "execute_result"
    }
   ],
   "source": [
    "dtm"
   ]
  },
  {
   "cell_type": "markdown",
   "metadata": {
    "slideshow": {
     "slide_type": "slide"
    }
   },
   "source": [
    "- Per visualizzare i valori della matrice, possiamo convertirla in un array NumPy col metodo `toarray`\n",
    "  - Su questa matrice piccola non ci sono problemi di memoria. **Usare con cautela su matrici più grandi!**"
   ]
  },
  {
   "cell_type": "code",
   "execution_count": 12,
   "metadata": {},
   "outputs": [
    {
     "data": {
      "text/plain": [
       "array([[0, 0, 1, 0, 1, 0, 1, 0, 1],\n",
       "       [1, 1, 1, 0, 2, 0, 2, 0, 0],\n",
       "       [0, 1, 1, 0, 1, 0, 1, 1, 1],\n",
       "       [0, 0, 1, 1, 0, 1, 0, 0, 0]])"
      ]
     },
     "execution_count": 12,
     "metadata": {},
     "output_type": "execute_result"
    }
   ],
   "source": [
    "dtm.toarray()"
   ]
  },
  {
   "cell_type": "markdown",
   "metadata": {
    "slideshow": {
     "slide_type": "-"
    }
   },
   "source": [
    "- Per ottenere l'elenco dei termini nel dizionario costruito, usare il metodo `get_feature_names` (o `get_feature_names_out` in versioni recenti)\n",
    "  - di default, ci sono tutte le parole distinte presenti nei documenti\n",
    "  - le parole sono ordinate in modo concorde con le colonne della matrice documenti-termini"
   ]
  },
  {
   "cell_type": "code",
   "execution_count": 13,
   "metadata": {},
   "outputs": [
    {
     "name": "stderr",
     "output_type": "stream",
     "text": [
      "/home/pasolini/.venvs/dia/lib/python3.10/site-packages/sklearn/utils/deprecation.py:87: FutureWarning: Function get_feature_names is deprecated; get_feature_names is deprecated in 1.0 and will be removed in 1.2. Please use get_feature_names_out instead.\n",
      "  warnings.warn(msg, category=FutureWarning)\n"
     ]
    },
    {
     "data": {
      "text/plain": [
       "['and', 'beautiful', 'blue', 'cheese', 'is', 'love', 'sky', 'so', 'the']"
      ]
     },
     "execution_count": 13,
     "metadata": {},
     "output_type": "execute_result"
    }
   ],
   "source": [
    "##noerr\n",
    "vect.get_feature_names()"
   ]
  },
  {
   "cell_type": "markdown",
   "metadata": {
    "slideshow": {
     "slide_type": "slide"
    }
   },
   "source": [
    "- Possiamo visualizzare la matrice in un frame, esplicitando documenti e termini a cui si riferiscono righe e colonne"
   ]
  },
  {
   "cell_type": "code",
   "execution_count": 14,
   "metadata": {},
   "outputs": [
    {
     "data": {
      "text/html": [
       "<div>\n",
       "<style scoped>\n",
       "    .dataframe tbody tr th:only-of-type {\n",
       "        vertical-align: middle;\n",
       "    }\n",
       "\n",
       "    .dataframe tbody tr th {\n",
       "        vertical-align: top;\n",
       "    }\n",
       "\n",
       "    .dataframe thead th {\n",
       "        text-align: right;\n",
       "    }\n",
       "</style>\n",
       "<table border=\"1\" class=\"dataframe\">\n",
       "  <thead>\n",
       "    <tr style=\"text-align: right;\">\n",
       "      <th></th>\n",
       "      <th>and</th>\n",
       "      <th>beautiful</th>\n",
       "      <th>blue</th>\n",
       "      <th>cheese</th>\n",
       "      <th>is</th>\n",
       "      <th>love</th>\n",
       "      <th>sky</th>\n",
       "      <th>so</th>\n",
       "      <th>the</th>\n",
       "    </tr>\n",
       "  </thead>\n",
       "  <tbody>\n",
       "    <tr>\n",
       "      <th>the sky is blue</th>\n",
       "      <td>0</td>\n",
       "      <td>0</td>\n",
       "      <td>1</td>\n",
       "      <td>0</td>\n",
       "      <td>1</td>\n",
       "      <td>0</td>\n",
       "      <td>1</td>\n",
       "      <td>0</td>\n",
       "      <td>1</td>\n",
       "    </tr>\n",
       "    <tr>\n",
       "      <th>sky is blue and sky is beautiful</th>\n",
       "      <td>1</td>\n",
       "      <td>1</td>\n",
       "      <td>1</td>\n",
       "      <td>0</td>\n",
       "      <td>2</td>\n",
       "      <td>0</td>\n",
       "      <td>2</td>\n",
       "      <td>0</td>\n",
       "      <td>0</td>\n",
       "    </tr>\n",
       "    <tr>\n",
       "      <th>the beautiful sky is so blue</th>\n",
       "      <td>0</td>\n",
       "      <td>1</td>\n",
       "      <td>1</td>\n",
       "      <td>0</td>\n",
       "      <td>1</td>\n",
       "      <td>0</td>\n",
       "      <td>1</td>\n",
       "      <td>1</td>\n",
       "      <td>1</td>\n",
       "    </tr>\n",
       "    <tr>\n",
       "      <th>i love blue cheese</th>\n",
       "      <td>0</td>\n",
       "      <td>0</td>\n",
       "      <td>1</td>\n",
       "      <td>1</td>\n",
       "      <td>0</td>\n",
       "      <td>1</td>\n",
       "      <td>0</td>\n",
       "      <td>0</td>\n",
       "      <td>0</td>\n",
       "    </tr>\n",
       "  </tbody>\n",
       "</table>\n",
       "</div>"
      ],
      "text/plain": [
       "                                  and  beautiful  blue  cheese  is  love  sky  \\\n",
       "the sky is blue                     0          0     1       0   1     0    1   \n",
       "sky is blue and sky is beautiful    1          1     1       0   2     0    2   \n",
       "the beautiful sky is so blue        0          1     1       0   1     0    1   \n",
       "i love blue cheese                  0          0     1       1   0     1    0   \n",
       "\n",
       "                                  so  the  \n",
       "the sky is blue                    0    1  \n",
       "sky is blue and sky is beautiful   0    0  \n",
       "the beautiful sky is so blue       1    1  \n",
       "i love blue cheese                 0    0  "
      ]
     },
     "execution_count": 14,
     "metadata": {},
     "output_type": "execute_result"
    }
   ],
   "source": [
    "##noerr\n",
    "pd.DataFrame(\n",
    "    dtm.toarray(),\n",
    "    index=docs,\n",
    "    columns=vect.get_feature_names()\n",
    ")"
   ]
  },
  {
   "cell_type": "markdown",
   "metadata": {
    "slideshow": {
     "slide_type": "slide"
    }
   },
   "source": [
    "- Col metodo `transform`, possiamo rappresentare ulteriori documenti nel medesimo spazio vettoriale"
   ]
  },
  {
   "cell_type": "code",
   "execution_count": 15,
   "metadata": {},
   "outputs": [
    {
     "data": {
      "text/plain": [
       "array([[0, 0, 1, 0, 0, 0, 1, 0, 0]])"
      ]
     },
     "execution_count": 15,
     "metadata": {},
     "output_type": "execute_result"
    }
   ],
   "source": [
    "new_doc = \"loving this blue sky today\"\n",
    "vect.transform([new_doc]).toarray()"
   ]
  },
  {
   "cell_type": "code",
   "execution_count": 16,
   "metadata": {},
   "outputs": [
    {
     "name": "stderr",
     "output_type": "stream",
     "text": [
      "/home/pasolini/.venvs/dia/lib/python3.10/site-packages/sklearn/utils/deprecation.py:87: FutureWarning: Function get_feature_names is deprecated; get_feature_names is deprecated in 1.0 and will be removed in 1.2. Please use get_feature_names_out instead.\n",
      "  warnings.warn(msg, category=FutureWarning)\n"
     ]
    },
    {
     "data": {
      "text/html": [
       "<div>\n",
       "<style scoped>\n",
       "    .dataframe tbody tr th:only-of-type {\n",
       "        vertical-align: middle;\n",
       "    }\n",
       "\n",
       "    .dataframe tbody tr th {\n",
       "        vertical-align: top;\n",
       "    }\n",
       "\n",
       "    .dataframe thead th {\n",
       "        text-align: right;\n",
       "    }\n",
       "</style>\n",
       "<table border=\"1\" class=\"dataframe\">\n",
       "  <thead>\n",
       "    <tr style=\"text-align: right;\">\n",
       "      <th></th>\n",
       "      <th>and</th>\n",
       "      <th>beautiful</th>\n",
       "      <th>blue</th>\n",
       "      <th>cheese</th>\n",
       "      <th>is</th>\n",
       "      <th>love</th>\n",
       "      <th>sky</th>\n",
       "      <th>so</th>\n",
       "      <th>the</th>\n",
       "    </tr>\n",
       "  </thead>\n",
       "  <tbody>\n",
       "    <tr>\n",
       "      <th>loving this blue sky today</th>\n",
       "      <td>0</td>\n",
       "      <td>0</td>\n",
       "      <td>1</td>\n",
       "      <td>0</td>\n",
       "      <td>0</td>\n",
       "      <td>0</td>\n",
       "      <td>1</td>\n",
       "      <td>0</td>\n",
       "      <td>0</td>\n",
       "    </tr>\n",
       "  </tbody>\n",
       "</table>\n",
       "</div>"
      ],
      "text/plain": [
       "                            and  beautiful  blue  cheese  is  love  sky  so  \\\n",
       "loving this blue sky today    0          0     1       0   0     0    1   0   \n",
       "\n",
       "                            the  \n",
       "loving this blue sky today    0  "
      ]
     },
     "execution_count": 16,
     "metadata": {},
     "output_type": "execute_result"
    }
   ],
   "source": [
    "##noerr\n",
    "pd.DataFrame(\n",
    "    vect.transform([new_doc]).toarray(),\n",
    "    index=[new_doc],\n",
    "    columns=vect.get_feature_names()\n",
    ")"
   ]
  },
  {
   "cell_type": "markdown",
   "metadata": {},
   "source": [
    "- Si noti che alcune parole del nuovo documento (es. \"loving\") si perdono nella trasformazione, in quanto non presenti nei documenti su cui è stato costruito lo spazio vettoriale"
   ]
  },
  {
   "cell_type": "markdown",
   "metadata": {
    "slideshow": {
     "slide_type": "slide"
    }
   },
   "source": [
    "## Caso di studio: Classificazione di recensioni\n",
    "\n",
    "- Sul Web sono continuamente pubblicate opinioni degli utenti, ad es. di film\n",
    "  - alcune di queste (es. su Amazon) sono etichettate con un numero di stelle, che indicano se sia positiva o negativa\n",
    "  - su altre (es. messaggi sui forum) non abbiamo tale informazione strutturata, ma solo il testo\n",
    "- Vogliamo addestrare un classificatore su recensioni etichettate come positive o negative, in modo che sia in grado di stimare l'orientamento di opinioni non etichettate\n",
    "- Utilizziamo un file di 10000 recensioni di film tratte da Amazon, a ciascuna delle quali è associato un punteggio da 1 a 5 stelle\n",
    "- Utilizzando il vector space model, possiamo addestrare un modello sui conteggi di tutte le parole presenti nei documenti"
   ]
  },
  {
   "cell_type": "code",
   "execution_count": 17,
   "metadata": {},
   "outputs": [],
   "source": [
    "import os\n",
    "if not os.path.exists(\"reviews.csv.gz\"):\n",
    "    from urllib.request import urlretrieve\n",
    "    urlretrieve(\"https://git.io/fj4cS\", \"reviews.csv.gz\")"
   ]
  },
  {
   "cell_type": "markdown",
   "metadata": {
    "slideshow": {
     "slide_type": "slide"
    }
   },
   "source": [
    "- Carichiamo il file come DataFrame con `read_csv`\n",
    "  - il file è compresso col formato GZIP, riconosciuto automaticamente tramite l'estensione \".gz\" (se non riconosciuto, ad es. perché si usa l'URL, specificare `compression=\"gzip\"`)"
   ]
  },
  {
   "cell_type": "code",
   "execution_count": 18,
   "metadata": {},
   "outputs": [],
   "source": [
    "reviews = pd.read_csv(\"reviews.csv.gz\", sep=\"\\t\")"
   ]
  },
  {
   "cell_type": "code",
   "execution_count": 19,
   "metadata": {},
   "outputs": [
    {
     "data": {
      "text/plain": [
       "(10000, 2)"
      ]
     },
     "execution_count": 19,
     "metadata": {},
     "output_type": "execute_result"
    }
   ],
   "source": [
    "reviews.shape"
   ]
  },
  {
   "cell_type": "markdown",
   "metadata": {},
   "source": [
    "- Il file contiene due colonne\n",
    "  - in `text` troviamo il testo della recensione\n",
    "  - in `stars` troviamo il numero di stelle date dall'utente, da 1 a 5\n",
    "- Visioniamo alcune righe del dataset, aumentando prima il numero di caratteri visualizzati per parola"
   ]
  },
  {
   "cell_type": "code",
   "execution_count": 20,
   "metadata": {},
   "outputs": [],
   "source": [
    "pd.options.display.max_colwidth = 100"
   ]
  },
  {
   "cell_type": "code",
   "execution_count": 21,
   "metadata": {
    "slideshow": {
     "slide_type": "slide"
    }
   },
   "outputs": [
    {
     "data": {
      "text/html": [
       "<div>\n",
       "<style scoped>\n",
       "    .dataframe tbody tr th:only-of-type {\n",
       "        vertical-align: middle;\n",
       "    }\n",
       "\n",
       "    .dataframe tbody tr th {\n",
       "        vertical-align: top;\n",
       "    }\n",
       "\n",
       "    .dataframe thead th {\n",
       "        text-align: right;\n",
       "    }\n",
       "</style>\n",
       "<table border=\"1\" class=\"dataframe\">\n",
       "  <thead>\n",
       "    <tr style=\"text-align: right;\">\n",
       "      <th></th>\n",
       "      <th>text</th>\n",
       "      <th>stars</th>\n",
       "    </tr>\n",
       "  </thead>\n",
       "  <tbody>\n",
       "    <tr>\n",
       "      <th>9993</th>\n",
       "      <td>Survivor series 2003 had alot on the line including jobs,titles and lives in the burried alive m...</td>\n",
       "      <td>4</td>\n",
       "    </tr>\n",
       "    <tr>\n",
       "      <th>9994</th>\n",
       "      <td>Dudley Boyz VS Ric Flair and Batista: This match was rather short. Dudley's looked good but Coac...</td>\n",
       "      <td>4</td>\n",
       "    </tr>\n",
       "    <tr>\n",
       "      <th>9995</th>\n",
       "      <td>You seen one heist film, you seen them all. But every once in a while, somebody who really gives...</td>\n",
       "      <td>5</td>\n",
       "    </tr>\n",
       "    <tr>\n",
       "      <th>9996</th>\n",
       "      <td>Often compared with \"The Big Chill\", and getting numerous stars in many reviews, this film simpl...</td>\n",
       "      <td>1</td>\n",
       "    </tr>\n",
       "    <tr>\n",
       "      <th>9997</th>\n",
       "      <td>This collection of Laurel and Hardy films contains five total selections.  Four of these are sho...</td>\n",
       "      <td>3</td>\n",
       "    </tr>\n",
       "    <tr>\n",
       "      <th>9998</th>\n",
       "      <td>I love Vin Diesel but I wish I'd skipped this movie. The first bad sign was the fact that this t...</td>\n",
       "      <td>3</td>\n",
       "    </tr>\n",
       "    <tr>\n",
       "      <th>9999</th>\n",
       "      <td>When The Office was first shown to a UK audience back in 2001, it was shown on BBC2. That is the...</td>\n",
       "      <td>5</td>\n",
       "    </tr>\n",
       "  </tbody>\n",
       "</table>\n",
       "</div>"
      ],
      "text/plain": [
       "                                                                                                     text  \\\n",
       "9993  Survivor series 2003 had alot on the line including jobs,titles and lives in the burried alive m...   \n",
       "9994  Dudley Boyz VS Ric Flair and Batista: This match was rather short. Dudley's looked good but Coac...   \n",
       "9995  You seen one heist film, you seen them all. But every once in a while, somebody who really gives...   \n",
       "9996  Often compared with \"The Big Chill\", and getting numerous stars in many reviews, this film simpl...   \n",
       "9997  This collection of Laurel and Hardy films contains five total selections.  Four of these are sho...   \n",
       "9998  I love Vin Diesel but I wish I'd skipped this movie. The first bad sign was the fact that this t...   \n",
       "9999  When The Office was first shown to a UK audience back in 2001, it was shown on BBC2. That is the...   \n",
       "\n",
       "      stars  \n",
       "9993      4  \n",
       "9994      4  \n",
       "9995      5  \n",
       "9996      1  \n",
       "9997      3  \n",
       "9998      3  \n",
       "9999      5  "
      ]
     },
     "execution_count": 21,
     "metadata": {},
     "output_type": "execute_result"
    }
   ],
   "source": [
    "reviews.tail(7)"
   ]
  },
  {
   "cell_type": "markdown",
   "metadata": {
    "slideshow": {
     "slide_type": "slide"
    }
   },
   "source": [
    "## Esercizio 1: Analisi esplorativa\n",
    "\n",
    "- **(1a)** Ottenere il numero di recensioni per ciascun numero di stelle\n",
    "- **(1b)** Disegnare un grafico a torta con la distribuzione del numero di stelle\n",
    "- **(1c)** Disegnare un'istogramma con la distribuzione del numero di caratteri nelle recensioni\n",
    "  - sia `X` una serie pandas di stringhe, `X.str.len()` restituisce una serie col numero di caratteri di ciascuna"
   ]
  },
  {
   "cell_type": "code",
   "execution_count": 22,
   "metadata": {},
   "outputs": [],
   "source": [
    "##solhead:ESERCIZIO 1"
   ]
  },
  {
   "cell_type": "code",
   "execution_count": 23,
   "metadata": {},
   "outputs": [
    {
     "data": {
      "text/plain": [
       "5    4708\n",
       "4    2620\n",
       "3    1434\n",
       "2     704\n",
       "1     534\n",
       "Name: stars, dtype: int64"
      ]
     },
     "execution_count": 23,
     "metadata": {},
     "output_type": "execute_result"
    }
   ],
   "source": [
    "##sol:1a\n",
    "reviews[\"stars\"].value_counts()"
   ]
  },
  {
   "cell_type": "code",
   "execution_count": 24,
   "metadata": {},
   "outputs": [
    {
     "data": {
      "image/png": "[encoded data removed]",
      "text/plain": [
       "<Figure size 432x288 with 1 Axes>"
      ]
     },
     "metadata": {},
     "output_type": "display_data"
    }
   ],
   "source": [
    "##sol:1b\n",
    "reviews[\"stars\"].value_counts().plot.pie();"
   ]
  },
  {
   "cell_type": "code",
   "execution_count": 25,
   "metadata": {},
   "outputs": [
    {
     "data": {
      "image/png": "[encoded data removed]",
      "text/plain": [
       "<Figure size 432x288 with 1 Axes>"
      ]
     },
     "metadata": {
      "needs_background": "light"
     },
     "output_type": "display_data"
    }
   ],
   "source": [
    "##sol:1c\n",
    "reviews[\"text\"].str.len().plot.hist(bins=20);"
   ]
  },
  {
   "cell_type": "markdown",
   "metadata": {
    "slideshow": {
     "slide_type": "slide"
    }
   },
   "source": [
    "## Esercizio 2: Suddivisione in recensioni positive e negative\n",
    "\n",
    "- Per semplificare l'analisi, riconduciamo i 5 possibili numeri di stelle a due classi\n",
    "- **(2a)** Aggiungere al frame `reviews` una colonna `label` che associ ad ogni recensione la stringa `\"pos\"` se ha 4 o 5 stelle, `\"neg\"` altrimenti\n",
    "  - consiglio: usare `np.where`\n",
    "- **(2b)** Visualizzare il numero di valori `\"pos\"` e `\"neg\"` nella colonna `label`"
   ]
  },
  {
   "cell_type": "code",
   "execution_count": 26,
   "metadata": {},
   "outputs": [],
   "source": [
    "##solhead:ESERCIZIO 2"
   ]
  },
  {
   "cell_type": "code",
   "execution_count": 27,
   "metadata": {},
   "outputs": [],
   "source": [
    "##sol:2a\n",
    "reviews[\"label\"] = np.where(reviews[\"stars\"] >= 4, \"pos\", \"neg\")"
   ]
  },
  {
   "cell_type": "code",
   "execution_count": 28,
   "metadata": {},
   "outputs": [
    {
     "data": {
      "text/plain": [
       "pos    7328\n",
       "neg    2672\n",
       "Name: label, dtype: int64"
      ]
     },
     "execution_count": 28,
     "metadata": {},
     "output_type": "execute_result"
    }
   ],
   "source": [
    "##sol:2b\n",
    "reviews[\"label\"].value_counts()"
   ]
  },
  {
   "cell_type": "markdown",
   "metadata": {
    "slideshow": {
     "slide_type": "slide"
    }
   },
   "source": [
    "## Classificazione di testi\n",
    "\n",
    "- La matrice documenti-termini ha la forma di un dataset\n",
    "  - ogni riga rappresenta un esempio (un testo) da classificare\n",
    "  - ogni colonna rappresenta una variabile che caratterizza gli esempi\n",
    "- Possiamo quindi addestrare un modello di classificazione su tale matrice per stimare l'orientamento delle recensioni\n",
    "- Iniziamo suddividendo come al solito i dati in training set (70\\%) e validation set (30\\%)"
   ]
  },
  {
   "cell_type": "code",
   "execution_count": 29,
   "metadata": {},
   "outputs": [],
   "source": [
    "from sklearn.model_selection import train_test_split\n",
    "reviews_train, reviews_val = \\\n",
    "    train_test_split(reviews, test_size=0.3, random_state=42)"
   ]
  },
  {
   "cell_type": "markdown",
   "metadata": {
    "slideshow": {
     "slide_type": "slide"
    }
   },
   "source": [
    "- Definiamo quindi lo spazio vettoriale in cui rappresentare le recensioni"
   ]
  },
  {
   "cell_type": "code",
   "execution_count": 30,
   "metadata": {},
   "outputs": [],
   "source": [
    "vect = CountVectorizer()"
   ]
  },
  {
   "cell_type": "markdown",
   "metadata": {},
   "source": [
    "- Costruiamo lo spazio vettoriale sul training set (quindi con le parole contenute in esso) e otteniamone la matrice documenti-termini"
   ]
  },
  {
   "cell_type": "code",
   "execution_count": 31,
   "metadata": {},
   "outputs": [],
   "source": [
    "dtm_train = vect.fit_transform(reviews_train[\"text\"])"
   ]
  },
  {
   "cell_type": "markdown",
   "metadata": {},
   "source": [
    "- Otteniamo uno spazio con tante dimensioni quante le parole distinte nelle recensioni di training, ovvero..."
   ]
  },
  {
   "cell_type": "code",
   "execution_count": 32,
   "metadata": {},
   "outputs": [
    {
     "name": "stderr",
     "output_type": "stream",
     "text": [
      "/home/pasolini/.venvs/dia/lib/python3.10/site-packages/sklearn/utils/deprecation.py:87: FutureWarning: Function get_feature_names is deprecated; get_feature_names is deprecated in 1.0 and will be removed in 1.2. Please use get_feature_names_out instead.\n",
      "  warnings.warn(msg, category=FutureWarning)\n"
     ]
    },
    {
     "data": {
      "text/plain": [
       "51772"
      ]
     },
     "execution_count": 32,
     "metadata": {},
     "output_type": "execute_result"
    }
   ],
   "source": [
    "##noerr\n",
    "len(vect.get_feature_names())"
   ]
  },
  {
   "cell_type": "markdown",
   "metadata": {
    "slideshow": {
     "slide_type": "slide"
    }
   },
   "source": [
    "- Esempi di parole estratte sono..."
   ]
  },
  {
   "cell_type": "code",
   "execution_count": 33,
   "metadata": {},
   "outputs": [
    {
     "data": {
      "text/plain": [
       "['abides',\n",
       " 'abiding',\n",
       " 'abigail',\n",
       " 'abilene',\n",
       " 'abilites',\n",
       " 'abilities',\n",
       " 'ability',\n",
       " 'abit',\n",
       " 'abition',\n",
       " 'abject']"
      ]
     },
     "execution_count": 33,
     "metadata": {},
     "output_type": "execute_result"
    }
   ],
   "source": [
    "##noerr\n",
    "vect.get_feature_names()[1000:1010]"
   ]
  },
  {
   "cell_type": "markdown",
   "metadata": {
    "slideshow": {
     "slide_type": "slide"
    }
   },
   "source": [
    "- La matrice è estremamente sparsa: la percentuale di termini non 0 è molto bassa\n",
    "  - posso vedere il numero e la percentuale dalle informazioni sulla matrice o stampando somma e media della matrice convertita a booleana"
   ]
  },
  {
   "cell_type": "code",
   "execution_count": 34,
   "metadata": {},
   "outputs": [
    {
     "data": {
      "text/plain": [
       "<7000x51772 sparse matrix of type '<class 'numpy.int64'>'\n",
       "\twith 993179 stored elements in Compressed Sparse Row format>"
      ]
     },
     "execution_count": 34,
     "metadata": {},
     "output_type": "execute_result"
    }
   ],
   "source": [
    "dtm_train"
   ]
  },
  {
   "cell_type": "code",
   "execution_count": 35,
   "metadata": {},
   "outputs": [
    {
     "data": {
      "text/plain": [
       "993179"
      ]
     },
     "execution_count": 35,
     "metadata": {},
     "output_type": "execute_result"
    }
   ],
   "source": [
    "dtm_train.astype(bool).sum()"
   ]
  },
  {
   "cell_type": "code",
   "execution_count": 36,
   "metadata": {},
   "outputs": [
    {
     "data": {
      "text/plain": [
       "0.002740529905850931"
      ]
     },
     "execution_count": 36,
     "metadata": {},
     "output_type": "execute_result"
    }
   ],
   "source": [
    "dtm_train.astype(bool).mean()"
   ]
  },
  {
   "cell_type": "markdown",
   "metadata": {},
   "source": [
    "- Rappresentiamo i documenti del validation set nello stesso spazio vettoriale, ottenendone la corrispondente matrice documenti-termini"
   ]
  },
  {
   "cell_type": "code",
   "execution_count": 37,
   "metadata": {},
   "outputs": [],
   "source": [
    "dtm_val = vect.transform(reviews_val[\"text\"])"
   ]
  },
  {
   "cell_type": "markdown",
   "metadata": {
    "slideshow": {
     "slide_type": "slide"
    }
   },
   "source": [
    "- A questo punto creiamo un modello di classificazione e addestriamolo passando la matrice documenti-termini e le etichette delle recensioni relative al training set\n",
    "  - usiamo ad es. la regressione logistica"
   ]
  },
  {
   "cell_type": "code",
   "execution_count": 38,
   "metadata": {},
   "outputs": [
    {
     "name": "stderr",
     "output_type": "stream",
     "text": [
      "/home/pasolini/.venvs/dia/lib/python3.10/site-packages/sklearn/linear_model/_sag.py:352: ConvergenceWarning: The max_iter was reached which means the coef_ did not converge\n",
      "  warnings.warn(\n"
     ]
    }
   ],
   "source": [
    "from sklearn.linear_model import LogisticRegression\n",
    "lrm = LogisticRegression(solver=\"saga\", C=10)\n",
    "lrm.fit(dtm_train, reviews_train[\"label\"]);"
   ]
  },
  {
   "cell_type": "markdown",
   "metadata": {},
   "source": [
    "- Usando matrice ed etichette del validation set possiamo valutare l'accuratezza del modello"
   ]
  },
  {
   "cell_type": "code",
   "execution_count": 39,
   "metadata": {},
   "outputs": [
    {
     "data": {
      "text/plain": [
       "0.8"
      ]
     },
     "execution_count": 39,
     "metadata": {},
     "output_type": "execute_result"
    }
   ],
   "source": [
    "lrm.score(dtm_val, reviews_val[\"label\"])"
   ]
  },
  {
   "cell_type": "markdown",
   "metadata": {},
   "source": [
    "- Il modello assume `neg` come classe _negativa_ (-1) e `pos` come _positiva_ (1), come si deduce dall'ordine delle due nell'attributo `classes_`"
   ]
  },
  {
   "cell_type": "code",
   "execution_count": 40,
   "metadata": {},
   "outputs": [
    {
     "data": {
      "text/plain": [
       "array(['neg', 'pos'], dtype=object)"
      ]
     },
     "execution_count": 40,
     "metadata": {},
     "output_type": "execute_result"
    }
   ],
   "source": [
    "lrm.classes_"
   ]
  },
  {
   "cell_type": "markdown",
   "metadata": {
    "slideshow": {
     "slide_type": "slide"
    }
   },
   "source": [
    "## Esercizio 3: Uso del modello\n",
    "\n",
    "- Consideriamo il seguente campione di due ipotetiche recensioni da classificare"
   ]
  },
  {
   "cell_type": "code",
   "execution_count": 41,
   "metadata": {},
   "outputs": [],
   "source": [
    "new_reviews = [\n",
    "    \"What an awesome movie!\",\n",
    "    \"It was really boring\"\n",
    "]"
   ]
  },
  {
   "cell_type": "markdown",
   "metadata": {},
   "source": [
    "- **(3a)** Estrarre la loro rappresentazione nello spazio vettoriale costruito sui documenti di training\n",
    "- **(3b)** Ottenere le etichette previste dal modello per ciascuna\n",
    "- **(3c)** Ottenere le distribuzioni di probabilità tra le etichette date dal modello"
   ]
  },
  {
   "cell_type": "code",
   "execution_count": 42,
   "metadata": {},
   "outputs": [],
   "source": [
    "##solhead:ESERCIZIO 3"
   ]
  },
  {
   "cell_type": "code",
   "execution_count": 43,
   "metadata": {},
   "outputs": [],
   "source": [
    "##sol:3a\n",
    "dtm_new = vect.transform(new_reviews)"
   ]
  },
  {
   "cell_type": "code",
   "execution_count": 44,
   "metadata": {},
   "outputs": [
    {
     "data": {
      "text/plain": [
       "array(['pos', 'neg'], dtype=object)"
      ]
     },
     "execution_count": 44,
     "metadata": {},
     "output_type": "execute_result"
    }
   ],
   "source": [
    "##sol:3b\n",
    "lrm.predict(dtm_new)"
   ]
  },
  {
   "cell_type": "code",
   "execution_count": 45,
   "metadata": {},
   "outputs": [
    {
     "data": {
      "text/plain": [
       "array([[0.45248008, 0.54751992],\n",
       "       [0.54852681, 0.45147319]])"
      ]
     },
     "execution_count": 45,
     "metadata": {},
     "output_type": "execute_result"
    }
   ],
   "source": [
    "##sol:3c\n",
    "lrm.predict_proba(dtm_new)"
   ]
  },
  {
   "cell_type": "markdown",
   "metadata": {
    "slideshow": {
     "slide_type": "slide"
    }
   },
   "source": [
    "## Parametri del modello\n",
    "\n",
    "- Possiamo accedere ai coefficienti lineari assegnati al modello per ciascuna variabile, ovvero per ciascun termine"
   ]
  },
  {
   "cell_type": "code",
   "execution_count": 46,
   "metadata": {},
   "outputs": [
    {
     "data": {
      "text/plain": [
       "array([ 0.00125865,  0.00503083,  0.00094022, -0.00023361])"
      ]
     },
     "execution_count": 46,
     "metadata": {},
     "output_type": "execute_result"
    }
   ],
   "source": [
    "lrm.coef_[0, :4]"
   ]
  },
  {
   "cell_type": "markdown",
   "metadata": {},
   "source": [
    "- Possiamo creare una serie che associ a ciascuno di questi coefficienti il termine corrispondente"
   ]
  },
  {
   "cell_type": "code",
   "execution_count": 47,
   "metadata": {},
   "outputs": [
    {
     "name": "stderr",
     "output_type": "stream",
     "text": [
      "/home/pasolini/.venvs/dia/lib/python3.10/site-packages/sklearn/utils/deprecation.py:87: FutureWarning: Function get_feature_names is deprecated; get_feature_names is deprecated in 1.0 and will be removed in 1.2. Please use get_feature_names_out instead.\n",
      "  warnings.warn(msg, category=FutureWarning)\n"
     ]
    }
   ],
   "source": [
    "##noerr\n",
    "coefs = pd.Series(lrm.coef_[0], index=vect.get_feature_names())"
   ]
  },
  {
   "cell_type": "markdown",
   "metadata": {
    "slideshow": {
     "slide_type": "slide"
    }
   },
   "source": [
    "- Ordinando questa serie in base ai valori, vediamo quali sono i coefficienti più alti e più bassi e da questi **quali parole contribuiscano di più** a rendere una recensione positiva o negativa\n",
    "  - possiamo usare i metodi `nsmallest` o `nlargest` per selezionare gli N valori più bassi o più alti\n",
    "- I coefficienti più bassi fanno tendere la decisione alla classe \"-1\", in questo caso le recensioni negative..."
   ]
  },
  {
   "cell_type": "code",
   "execution_count": 48,
   "metadata": {},
   "outputs": [
    {
     "data": {
      "text/plain": [
       "bad       -0.280147\n",
       "nothing   -0.203711\n",
       "worst     -0.183489\n",
       "plot      -0.181812\n",
       "just      -0.155291\n",
       "if        -0.151872\n",
       "boring    -0.138334\n",
       "decent    -0.135045\n",
       "but       -0.134195\n",
       "minutes   -0.133381\n",
       "dtype: float64"
      ]
     },
     "execution_count": 48,
     "metadata": {},
     "output_type": "execute_result"
    }
   ],
   "source": [
    "coefs.nsmallest(10)"
   ]
  },
  {
   "cell_type": "markdown",
   "metadata": {
    "slideshow": {
     "slide_type": "slide"
    }
   },
   "source": [
    "- ...mentre quelli più alti fanno tendere alla classe \"1\", le positive"
   ]
  },
  {
   "cell_type": "code",
   "execution_count": 49,
   "metadata": {},
   "outputs": [
    {
     "data": {
      "text/plain": [
       "great        0.420352\n",
       "best         0.212724\n",
       "dvd          0.205603\n",
       "excellent    0.203926\n",
       "love         0.180469\n",
       "highly       0.180452\n",
       "well         0.179799\n",
       "you          0.177093\n",
       "very         0.166931\n",
       "season       0.156388\n",
       "dtype: float64"
      ]
     },
     "execution_count": 49,
     "metadata": {},
     "output_type": "execute_result"
    }
   ],
   "source": [
    "coefs.nlargest(10)"
   ]
  },
  {
   "cell_type": "markdown",
   "metadata": {
    "slideshow": {
     "slide_type": "slide"
    }
   },
   "source": [
    "## Esercizio 4: Pipeline per pre-processing testo e classificazione\n",
    "\n",
    "- Avendo `CountVectorizer` l'interfaccia standard dei filtri di scikit-learn, possiamo utilizzarlo in una pipeline\n",
    "- **(4a)** Definire una pipeline con un modello di regressione logistica applicato allo spazio vettoriale creato da un `CountVectorizer`, replicando la configurazione usata sopra\n",
    "- **(4b)** Addestrare il modello con le recensioni di training\n",
    "- **(4c)** Ricavare l'accuratezza del modello sulle recensioni di validation\n",
    "- **(4d)** Stampare le 5 parole con peso maggiore"
   ]
  },
  {
   "cell_type": "code",
   "execution_count": 50,
   "metadata": {},
   "outputs": [],
   "source": [
    "from sklearn.pipeline import Pipeline"
   ]
  },
  {
   "cell_type": "code",
   "execution_count": 51,
   "metadata": {},
   "outputs": [],
   "source": [
    "##solhead:ESERCIZIO 4"
   ]
  },
  {
   "cell_type": "code",
   "execution_count": 52,
   "metadata": {},
   "outputs": [],
   "source": [
    "##sol:4a\n",
    "model = Pipeline([\n",
    "    (\"vectorizer\", CountVectorizer()),\n",
    "    (\"classifier\", LogisticRegression(solver=\"saga\", C=10))\n",
    "])"
   ]
  },
  {
   "cell_type": "code",
   "execution_count": 53,
   "metadata": {},
   "outputs": [
    {
     "name": "stderr",
     "output_type": "stream",
     "text": [
      "/home/pasolini/.venvs/dia/lib/python3.10/site-packages/sklearn/linear_model/_sag.py:352: ConvergenceWarning: The max_iter was reached which means the coef_ did not converge\n",
      "  warnings.warn(\n"
     ]
    }
   ],
   "source": [
    "##sol:4b\n",
    "model.fit(reviews_train[\"text\"], reviews_train[\"label\"]);"
   ]
  },
  {
   "cell_type": "code",
   "execution_count": 54,
   "metadata": {},
   "outputs": [
    {
     "data": {
      "text/plain": [
       "0.8003333333333333"
      ]
     },
     "execution_count": 54,
     "metadata": {},
     "output_type": "execute_result"
    }
   ],
   "source": [
    "##sol:4c\n",
    "model.score(reviews_val[\"text\"], reviews_val[\"label\"])"
   ]
  },
  {
   "cell_type": "code",
   "execution_count": 55,
   "metadata": {},
   "outputs": [
    {
     "name": "stderr",
     "output_type": "stream",
     "text": [
      "/home/pasolini/.venvs/dia/lib/python3.10/site-packages/sklearn/utils/deprecation.py:87: FutureWarning: Function get_feature_names is deprecated; get_feature_names is deprecated in 1.0 and will be removed in 1.2. Please use get_feature_names_out instead.\n",
      "  warnings.warn(msg, category=FutureWarning)\n"
     ]
    },
    {
     "data": {
      "text/plain": [
       "great        0.420502\n",
       "best         0.213927\n",
       "dvd          0.205526\n",
       "excellent    0.204907\n",
       "highly       0.180479\n",
       "dtype: float64"
      ]
     },
     "execution_count": 55,
     "metadata": {},
     "output_type": "execute_result"
    }
   ],
   "source": [
    "##sol:4d\n",
    "pd.Series(\n",
    "    model.named_steps[\"classifier\"].coef_[0],\n",
    "    index=model.named_steps[\"vectorizer\"].get_feature_names()\n",
    ").nlargest(5)"
   ]
  },
  {
   "cell_type": "markdown",
   "metadata": {
    "slideshow": {
     "slide_type": "slide"
    }
   },
   "source": [
    "## tf.idf\n",
    "\n",
    "- Nella matrice estratta da `CountVectorizer` abbiamo il numero di occorrenze dei termini nei documenti\n",
    "- Esistono però metodi più avanzati per pesare la rilevanza di ciascun termine in un documento\n",
    "- È di uso comune il _tf.idf_ (_term frequency-inverse document frequency_), pari al prodotto di due fattori (di cui esistono diverse formulazioni)\n",
    "  - il _tf_ indica l'**importanza locale** di un termine in un documento ed è pari al numero di occorrenze (o al suo logaritmo)\n",
    "  - l'_idf_ indica l'**importanza globale** di un termine, tanto più alta quanto più il termine è poco comune nell'insieme complessivo dei documenti\n",
    "  - comunemente, una volta calcolati tutti i pesi, **ciascun vettore è normalizzato** in modo da avere norma euclidea pari a 1, per appianare differenze di pesi tra documenti più o meno lunghi\n",
    "- `TfidfVectorizer` è un filtro utilizzabile come alternativa a `CountVectorizer` per estrarre matrici documenti-termini basate sul tf.idf"
   ]
  },
  {
   "cell_type": "code",
   "execution_count": 56,
   "metadata": {},
   "outputs": [],
   "source": [
    "from sklearn.feature_extraction.text import TfidfVectorizer"
   ]
  },
  {
   "cell_type": "markdown",
   "metadata": {
    "slideshow": {
     "slide_type": "slide"
    }
   },
   "source": [
    "- Calcoliamo ad esempio la matrice dei tf.idf per l'insieme di 4 frasi usate sopra..."
   ]
  },
  {
   "cell_type": "code",
   "execution_count": 57,
   "metadata": {},
   "outputs": [
    {
     "data": {
      "text/html": [
       "<div>\n",
       "<style scoped>\n",
       "    .dataframe tbody tr th:only-of-type {\n",
       "        vertical-align: middle;\n",
       "    }\n",
       "\n",
       "    .dataframe tbody tr th {\n",
       "        vertical-align: top;\n",
       "    }\n",
       "\n",
       "    .dataframe thead th {\n",
       "        text-align: right;\n",
       "    }\n",
       "</style>\n",
       "<table border=\"1\" class=\"dataframe\">\n",
       "  <thead>\n",
       "    <tr style=\"text-align: right;\">\n",
       "      <th></th>\n",
       "      <th>and</th>\n",
       "      <th>beautiful</th>\n",
       "      <th>blue</th>\n",
       "      <th>cheese</th>\n",
       "      <th>is</th>\n",
       "      <th>love</th>\n",
       "      <th>sky</th>\n",
       "      <th>so</th>\n",
       "      <th>the</th>\n",
       "    </tr>\n",
       "  </thead>\n",
       "  <tbody>\n",
       "    <tr>\n",
       "      <th>the sky is blue</th>\n",
       "      <td>0.000000</td>\n",
       "      <td>0.000000</td>\n",
       "      <td>0.399210</td>\n",
       "      <td>0.000000</td>\n",
       "      <td>0.488291</td>\n",
       "      <td>0.000000</td>\n",
       "      <td>0.488291</td>\n",
       "      <td>0.00000</td>\n",
       "      <td>0.603137</td>\n",
       "    </tr>\n",
       "    <tr>\n",
       "      <th>sky is blue and sky is beautiful</th>\n",
       "      <td>0.440516</td>\n",
       "      <td>0.347308</td>\n",
       "      <td>0.229880</td>\n",
       "      <td>0.000000</td>\n",
       "      <td>0.562351</td>\n",
       "      <td>0.000000</td>\n",
       "      <td>0.562351</td>\n",
       "      <td>0.00000</td>\n",
       "      <td>0.000000</td>\n",
       "    </tr>\n",
       "    <tr>\n",
       "      <th>the beautiful sky is so blue</th>\n",
       "      <td>0.000000</td>\n",
       "      <td>0.432026</td>\n",
       "      <td>0.285953</td>\n",
       "      <td>0.000000</td>\n",
       "      <td>0.349762</td>\n",
       "      <td>0.000000</td>\n",
       "      <td>0.349762</td>\n",
       "      <td>0.54797</td>\n",
       "      <td>0.432026</td>\n",
       "    </tr>\n",
       "    <tr>\n",
       "      <th>i love blue cheese</th>\n",
       "      <td>0.000000</td>\n",
       "      <td>0.000000</td>\n",
       "      <td>0.346182</td>\n",
       "      <td>0.663385</td>\n",
       "      <td>0.000000</td>\n",
       "      <td>0.663385</td>\n",
       "      <td>0.000000</td>\n",
       "      <td>0.00000</td>\n",
       "      <td>0.000000</td>\n",
       "    </tr>\n",
       "  </tbody>\n",
       "</table>\n",
       "</div>"
      ],
      "text/plain": [
       "                                       and  beautiful      blue    cheese  \\\n",
       "the sky is blue                   0.000000   0.000000  0.399210  0.000000   \n",
       "sky is blue and sky is beautiful  0.440516   0.347308  0.229880  0.000000   \n",
       "the beautiful sky is so blue      0.000000   0.432026  0.285953  0.000000   \n",
       "i love blue cheese                0.000000   0.000000  0.346182  0.663385   \n",
       "\n",
       "                                        is      love       sky       so  \\\n",
       "the sky is blue                   0.488291  0.000000  0.488291  0.00000   \n",
       "sky is blue and sky is beautiful  0.562351  0.000000  0.562351  0.00000   \n",
       "the beautiful sky is so blue      0.349762  0.000000  0.349762  0.54797   \n",
       "i love blue cheese                0.000000  0.663385  0.000000  0.00000   \n",
       "\n",
       "                                       the  \n",
       "the sky is blue                   0.603137  \n",
       "sky is blue and sky is beautiful  0.000000  \n",
       "the beautiful sky is so blue      0.432026  \n",
       "i love blue cheese                0.000000  "
      ]
     },
     "execution_count": 57,
     "metadata": {},
     "output_type": "execute_result"
    }
   ],
   "source": [
    "##noerr\n",
    "vect = TfidfVectorizer()\n",
    "dtm = vect.fit_transform(docs)\n",
    "pd.DataFrame(dtm.toarray(), index=docs, columns=vect.get_feature_names())"
   ]
  },
  {
   "cell_type": "markdown",
   "metadata": {},
   "source": [
    "- Ad es. nell'ultimo documento \"cheese\" ha un peso maggiore di \"blue\"\n",
    "  - entrambe compaiono una volta nel documento (tf=1)\n",
    "  - ma \"cheese\" è una parola meno comune in altri documenti e quindi più discriminante (idf maggiore)"
   ]
  },
  {
   "cell_type": "markdown",
   "metadata": {
    "slideshow": {
     "slide_type": "slide"
    }
   },
   "source": [
    "- Per testare l'uso del tf.idf nel classificatore di recensioni, sostituiamo il `CountVectorizer` con il `TfidfVectorizer`"
   ]
  },
  {
   "cell_type": "code",
   "execution_count": 58,
   "metadata": {},
   "outputs": [],
   "source": [
    "model = Pipeline([\n",
    "    (\"vectorizer\", TfidfVectorizer()),\n",
    "    (\"classifier\", LogisticRegression(solver=\"saga\", C=10))\n",
    "])"
   ]
  },
  {
   "cell_type": "markdown",
   "metadata": {},
   "source": [
    "- Addestriamo il modello sul training set e valutiamo l'accuratezza sul validation set come sopra"
   ]
  },
  {
   "cell_type": "code",
   "execution_count": 59,
   "metadata": {},
   "outputs": [
    {
     "data": {
      "text/plain": [
       "0.825"
      ]
     },
     "execution_count": 59,
     "metadata": {},
     "output_type": "execute_result"
    }
   ],
   "source": [
    "model.fit(reviews_train[\"text\"], reviews_train[\"label\"])\n",
    "model.score(reviews_val[\"text\"], reviews_val[\"label\"])"
   ]
  },
  {
   "cell_type": "markdown",
   "metadata": {
    "slideshow": {
     "slide_type": "slide"
    }
   },
   "source": [
    "## Scomposizione in termini\n",
    "\n",
    "- I vectorizer (`Count` e `Tfidf`) usano un algoritmo semplice per scomporre le parole nei documenti\n",
    "- Possiamo anche passare come parametro `tokenizer` una funzione alternativa che prenda in input una stringa e restituisca la lista di \"token\" (parole) in essa\n",
    "- Specifichiamo ad esempio di usare il metodo `split` delle stringhe, che suddivide in base agli spazi ignorando i segni di punteggiatura"
   ]
  },
  {
   "cell_type": "code",
   "execution_count": 60,
   "metadata": {},
   "outputs": [
    {
     "name": "stdout",
     "output_type": "stream",
     "text": [
      "CPU times: user 2.32 s, sys: 23.2 ms, total: 2.35 s\n",
      "Wall time: 2.35 s\n"
     ]
    },
    {
     "data": {
      "text/plain": [
       "Pipeline(steps=[('vectorizer',\n",
       "                 TfidfVectorizer(tokenizer=<method 'split' of 'str' objects>)),\n",
       "                ('classifier', LogisticRegression(C=10, solver='saga'))])"
      ]
     },
     "execution_count": 60,
     "metadata": {},
     "output_type": "execute_result"
    }
   ],
   "source": [
    "%%time\n",
    "model = Pipeline([\n",
    "    (\"vectorizer\", TfidfVectorizer(tokenizer=str.split)),\n",
    "    (\"classifier\", LogisticRegression(solver=\"saga\", C=10))\n",
    "])\n",
    "model.fit(reviews_train[\"text\"], reviews_train[\"label\"]);"
   ]
  },
  {
   "cell_type": "markdown",
   "metadata": {},
   "source": [
    "- Il modello ottenuto può essere leggermente meno preciso per questo"
   ]
  },
  {
   "cell_type": "code",
   "execution_count": 61,
   "metadata": {},
   "outputs": [
    {
     "name": "stdout",
     "output_type": "stream",
     "text": [
      "CPU times: user 370 ms, sys: 3.08 ms, total: 373 ms\n",
      "Wall time: 372 ms\n"
     ]
    },
    {
     "data": {
      "text/plain": [
       "0.8103333333333333"
      ]
     },
     "execution_count": 61,
     "metadata": {},
     "output_type": "execute_result"
    }
   ],
   "source": [
    "%%time\n",
    "model.score(reviews_val[\"text\"], reviews_val[\"label\"])"
   ]
  },
  {
   "cell_type": "markdown",
   "metadata": {
    "slideshow": {
     "slide_type": "slide"
    }
   },
   "source": [
    "- Usando la funzione `word_tokenize` di NLTK il tempo di preprocessamento aumenta ma il modello può essere più accurato"
   ]
  },
  {
   "cell_type": "code",
   "execution_count": 62,
   "metadata": {},
   "outputs": [
    {
     "name": "stdout",
     "output_type": "stream",
     "text": [
      "CPU times: user 14.1 s, sys: 9.28 ms, total: 14.1 s\n",
      "Wall time: 14.1 s\n"
     ]
    },
    {
     "data": {
      "text/plain": [
       "Pipeline(steps=[('vectorizer',\n",
       "                 TfidfVectorizer(tokenizer=<function word_tokenize at 0x7f6d79e89870>)),\n",
       "                ('classifier', LogisticRegression(C=10, solver='saga'))])"
      ]
     },
     "execution_count": 62,
     "metadata": {},
     "output_type": "execute_result"
    }
   ],
   "source": [
    "%%time\n",
    "model = Pipeline([\n",
    "    (\"vectorizer\", TfidfVectorizer(tokenizer=nltk.word_tokenize)),\n",
    "    (\"classifier\", LogisticRegression(solver=\"saga\", C=10))\n",
    "])\n",
    "model.fit(reviews_train[\"text\"], reviews_train[\"label\"])"
   ]
  },
  {
   "cell_type": "code",
   "execution_count": 63,
   "metadata": {},
   "outputs": [
    {
     "name": "stdout",
     "output_type": "stream",
     "text": [
      "CPU times: user 6.11 s, sys: 3.31 ms, total: 6.11 s\n",
      "Wall time: 6.12 s\n"
     ]
    },
    {
     "data": {
      "text/plain": [
       "0.8223333333333334"
      ]
     },
     "execution_count": 63,
     "metadata": {},
     "output_type": "execute_result"
    }
   ],
   "source": [
    "%%time\n",
    "model.score(reviews_val[\"text\"], reviews_val[\"label\"])"
   ]
  },
  {
   "cell_type": "markdown",
   "metadata": {
    "slideshow": {
     "slide_type": "slide"
    }
   },
   "source": [
    "## Riduzione della dimensionalità\n",
    "\n",
    "- Il numero di dimensioni generate considerando tutti i termini distinti presenti in tutti i documenti, come anche visto sopra, è molto alto"
   ]
  },
  {
   "cell_type": "code",
   "execution_count": 64,
   "metadata": {},
   "outputs": [
    {
     "name": "stderr",
     "output_type": "stream",
     "text": [
      "/home/pasolini/.venvs/dia/lib/python3.10/site-packages/sklearn/utils/deprecation.py:87: FutureWarning: Function get_feature_names is deprecated; get_feature_names is deprecated in 1.0 and will be removed in 1.2. Please use get_feature_names_out instead.\n",
      "  warnings.warn(msg, category=FutureWarning)\n"
     ]
    },
    {
     "data": {
      "text/plain": [
       "72512"
      ]
     },
     "execution_count": 64,
     "metadata": {},
     "output_type": "execute_result"
    }
   ],
   "source": [
    "##noerr\n",
    "len(model.named_steps[\"vectorizer\"].get_feature_names())"
   ]
  },
  {
   "cell_type": "markdown",
   "metadata": {},
   "source": [
    "- All'aumentare del numero di documenti, una tale quantità di dimensioni può comportare tempi di calcolo e uso di memoria eccessivi\n",
    "- Esistono però modi per ridurre il numero di dimensioni con effetti minimi sull'accuratezza del modello\n",
    "- Impostando il parametro `min_df` di `TfidfVectorizer` (o `CountVectorizer`), limitiamo le parole nel dizionario dello spazio vettoriale a quelle presenti in almeno _N_ documenti di training"
   ]
  },
  {
   "cell_type": "markdown",
   "metadata": {
    "slideshow": {
     "slide_type": "slide"
    }
   },
   "source": [
    "- Creiamo ad esempio un modello limitato alle parole che appaiono in almeno 3 documenti di training distinti"
   ]
  },
  {
   "cell_type": "code",
   "execution_count": 65,
   "metadata": {},
   "outputs": [],
   "source": [
    "model = Pipeline([\n",
    "    (\"vectorizer\", TfidfVectorizer(min_df=3)),\n",
    "    (\"classifier\", LogisticRegression(solver=\"saga\", C=10))\n",
    "])\n",
    "model.fit(reviews_train[\"text\"], reviews_train[\"label\"]);"
   ]
  },
  {
   "cell_type": "markdown",
   "metadata": {},
   "source": [
    "- Il numero di feature è molto inferiore..."
   ]
  },
  {
   "cell_type": "code",
   "execution_count": 66,
   "metadata": {},
   "outputs": [
    {
     "name": "stderr",
     "output_type": "stream",
     "text": [
      "/home/pasolini/.venvs/dia/lib/python3.10/site-packages/sklearn/utils/deprecation.py:87: FutureWarning: Function get_feature_names is deprecated; get_feature_names is deprecated in 1.0 and will be removed in 1.2. Please use get_feature_names_out instead.\n",
      "  warnings.warn(msg, category=FutureWarning)\n"
     ]
    },
    {
     "data": {
      "text/plain": [
       "21063"
      ]
     },
     "execution_count": 66,
     "metadata": {},
     "output_type": "execute_result"
    }
   ],
   "source": [
    "##noerr\n",
    "len(model.named_steps[\"vectorizer\"].get_feature_names())"
   ]
  },
  {
   "cell_type": "markdown",
   "metadata": {},
   "source": [
    "- ...ma l'accuratezza è quasi identica"
   ]
  },
  {
   "cell_type": "code",
   "execution_count": 67,
   "metadata": {},
   "outputs": [
    {
     "data": {
      "text/plain": [
       "0.8226666666666667"
      ]
     },
     "execution_count": 67,
     "metadata": {},
     "output_type": "execute_result"
    }
   ],
   "source": [
    "model.score(reviews_val[\"text\"], reviews_val[\"label\"])"
   ]
  },
  {
   "cell_type": "markdown",
   "metadata": {
    "slideshow": {
     "slide_type": "slide"
    }
   },
   "source": [
    "## Rimozione stopword\n",
    "\n",
    "- Sono dette _stopword_ quelle parole che prese da sole non danno alcuna informazione sulla semantica del testo\n",
    "  - sono stopword ad es. articoli (\"le\"), preposizioni (\"per\"), congiunzioni (\"ma\"), ...\n",
    "- Nella rappresentazione BOW di documenti è comune rimuovere a priori le stopword, in quanto non informative del contenuto\n",
    "- Esistono diverse liste di stopword, NLTK ne integra alcune per diverse lingue\n",
    "- Reperiamo la lista delle stopword inglesi..."
   ]
  },
  {
   "cell_type": "code",
   "execution_count": 68,
   "metadata": {},
   "outputs": [
    {
     "name": "stderr",
     "output_type": "stream",
     "text": [
      "[nltk_data] Downloading package stopwords to\n",
      "[nltk_data]     /home/pasolini/nltk_data...\n",
      "[nltk_data]   Package stopwords is already up-to-date!\n"
     ]
    },
    {
     "data": {
      "text/plain": [
       "True"
      ]
     },
     "execution_count": 68,
     "metadata": {},
     "output_type": "execute_result"
    }
   ],
   "source": [
    "nltk.download(\"stopwords\")"
   ]
  },
  {
   "cell_type": "code",
   "execution_count": 69,
   "metadata": {},
   "outputs": [],
   "source": [
    "stoplist = nltk.corpus.stopwords.words(\"english\")"
   ]
  },
  {
   "cell_type": "markdown",
   "metadata": {},
   "source": [
    "- La lista include ad esempio le parole..."
   ]
  },
  {
   "cell_type": "code",
   "execution_count": 70,
   "metadata": {},
   "outputs": [
    {
     "name": "stdout",
     "output_type": "stream",
     "text": [
      "i    me    my    myself    we    our    ours    ourselves    you    you're\n"
     ]
    }
   ],
   "source": [
    "print(\"    \".join( stoplist[:10] ))"
   ]
  },
  {
   "cell_type": "markdown",
   "metadata": {
    "slideshow": {
     "slide_type": "slide"
    }
   },
   "source": [
    "- Nei vectorizer, possiamo configurare una lista di parole da escludere con un parametro `stop_words`\n",
    "  - di default il valore è `None`: non si usa alcuna stopword"
   ]
  },
  {
   "cell_type": "code",
   "execution_count": 71,
   "metadata": {},
   "outputs": [],
   "source": [
    "model = Pipeline([\n",
    "    (\"vectorizer\", TfidfVectorizer(min_df=3, stop_words=stoplist)),\n",
    "    (\"classifier\", LogisticRegression(solver=\"saga\", C=10))\n",
    "])\n",
    "model.fit(reviews_train[\"text\"], reviews_train[\"label\"]);"
   ]
  },
  {
   "cell_type": "markdown",
   "metadata": {},
   "source": [
    "- Rimuovendo le stopword, così come accade impostando `min_df`, otteniamo generalmente una riduzione delle feature con variazioni contenute di accuratezza"
   ]
  },
  {
   "cell_type": "code",
   "execution_count": 72,
   "metadata": {},
   "outputs": [
    {
     "name": "stderr",
     "output_type": "stream",
     "text": [
      "/home/pasolini/.venvs/dia/lib/python3.10/site-packages/sklearn/utils/deprecation.py:87: FutureWarning: Function get_feature_names is deprecated; get_feature_names is deprecated in 1.0 and will be removed in 1.2. Please use get_feature_names_out instead.\n",
      "  warnings.warn(msg, category=FutureWarning)\n"
     ]
    },
    {
     "data": {
      "text/plain": [
       "20922"
      ]
     },
     "execution_count": 72,
     "metadata": {},
     "output_type": "execute_result"
    }
   ],
   "source": [
    "##noerr\n",
    "len(model.named_steps[\"vectorizer\"].get_feature_names())"
   ]
  },
  {
   "cell_type": "code",
   "execution_count": 73,
   "metadata": {},
   "outputs": [
    {
     "data": {
      "text/plain": [
       "0.8093333333333333"
      ]
     },
     "execution_count": 73,
     "metadata": {},
     "output_type": "execute_result"
    }
   ],
   "source": [
    "model.score(reviews_val[\"text\"], reviews_val[\"label\"])"
   ]
  },
  {
   "cell_type": "markdown",
   "metadata": {
    "slideshow": {
     "slide_type": "slide"
    }
   },
   "source": [
    "## Esercizio 5: Grid search per riduzione dimensionalità\n",
    "\n",
    "- **(5a)** Eseguire una grid search sul training set con cross validation a 3 fold stratificati per ottimizzare i parametri di un modello basato su tf.idf e regressione logistica simile a quelli sopra con\n",
    "  - numero minimo di documenti in cui deve apparire una parola pari a 3, 5 o 10\n",
    "  - nessuna rimozione delle stopword o rimozione delle stopword nella lista `stoplist`\n",
    "- **(5b)** Valutare l'accuratezza sul validation set del modello con la configurazione migliore individuata dalla grid search"
   ]
  },
  {
   "cell_type": "code",
   "execution_count": 74,
   "metadata": {},
   "outputs": [],
   "source": [
    "from sklearn.model_selection import StratifiedKFold, GridSearchCV"
   ]
  },
  {
   "cell_type": "code",
   "execution_count": 75,
   "metadata": {},
   "outputs": [],
   "source": [
    "##solhead:ESERCIZIO 5"
   ]
  },
  {
   "cell_type": "code",
   "execution_count": 76,
   "metadata": {},
   "outputs": [],
   "source": [
    "##sol:5a\n",
    "model = Pipeline([\n",
    "    (\"vectorizer\", TfidfVectorizer()),\n",
    "    (\"classifier\", LogisticRegression(solver=\"saga\", C=10))\n",
    "])\n",
    "grid = {\n",
    "    \"vectorizer__min_df\": [3, 5, 10],\n",
    "    \"vectorizer__stop_words\": [None, stoplist]\n",
    "}\n",
    "skf = StratifiedKFold(3, shuffle=True)\n",
    "gs = GridSearchCV(model, grid, cv=skf)\n",
    "gs.fit(reviews_train[\"text\"], reviews_train[\"label\"]);"
   ]
  },
  {
   "cell_type": "code",
   "execution_count": 77,
   "metadata": {},
   "outputs": [
    {
     "data": {
      "text/plain": [
       "0.8226666666666667"
      ]
     },
     "execution_count": 77,
     "metadata": {},
     "output_type": "execute_result"
    }
   ],
   "source": [
    "##sol:5b\n",
    "gs.score(reviews_val[\"text\"], reviews_val[\"label\"])"
   ]
  },
  {
   "cell_type": "markdown",
   "metadata": {
    "slideshow": {
     "slide_type": "slide"
    }
   },
   "source": [
    "## n-gram\n",
    "\n",
    "- Un _n-gram_ è una **sequenza di _n_ parole consecutive** presenti in un testo\n",
    "  - nei casi più comuni con n pari a 2 o 3 si parla rispettivamente di _bigram_ o _trigram_\n",
    "  - ad es., nella frase \"vado a New York\", i bigram sono \"vado a\", \"a New\" e \"New York\"\n",
    "- Così come le parole singole, anche gli n-gram possono essere usati come **feature per rappresentare i documenti**\n",
    "  - alcuni n-gram possono essere significativi, rappresentando un termine composto da più parole (es. \"New York\")\n",
    "  - ne rimangono però molti senza un significato specifico (es. \"a New\")"
   ]
  },
  {
   "cell_type": "markdown",
   "metadata": {
    "slideshow": {
     "slide_type": "slide"
    }
   },
   "source": [
    "- Impostando in un vectorizer l'attributo `ngram_range` ad una **tupla `(a, b)`**, sono usate come feature le possibili **sequenze contenenti dalle a alle b parole**\n",
    "  - l'impostazione di default è `(1, 1)`, per cui sono selezionate solo parole singole\n",
    "  - impostando invece ad es. `(1, 2)` si selezionano sia le parole singole che i bigram\n",
    "  - introducendo gli n-gram **il numero di termini distinti aumenta di molto**: è importante ridurli specificando un `min_df`"
   ]
  },
  {
   "cell_type": "code",
   "execution_count": 78,
   "metadata": {},
   "outputs": [],
   "source": [
    "model = Pipeline([\n",
    "    (\"vectorizer\", TfidfVectorizer(min_df=3, ngram_range=(1, 2))),\n",
    "    (\"classifier\", LogisticRegression(solver=\"saga\", C=10))\n",
    "])\n",
    "model.fit(reviews_train[\"text\"], reviews_train[\"label\"]);"
   ]
  },
  {
   "cell_type": "code",
   "execution_count": 79,
   "metadata": {},
   "outputs": [
    {
     "name": "stderr",
     "output_type": "stream",
     "text": [
      "/home/pasolini/.venvs/dia/lib/python3.10/site-packages/sklearn/utils/deprecation.py:87: FutureWarning: Function get_feature_names is deprecated; get_feature_names is deprecated in 1.0 and will be removed in 1.2. Please use get_feature_names_out instead.\n",
      "  warnings.warn(msg, category=FutureWarning)\n"
     ]
    },
    {
     "data": {
      "text/plain": [
       "100711"
      ]
     },
     "execution_count": 79,
     "metadata": {},
     "output_type": "execute_result"
    }
   ],
   "source": [
    "##noerr\n",
    "len(model.named_steps[\"vectorizer\"].get_feature_names())"
   ]
  },
  {
   "cell_type": "code",
   "execution_count": 80,
   "metadata": {},
   "outputs": [
    {
     "data": {
      "text/plain": [
       "0.8233333333333334"
      ]
     },
     "execution_count": 80,
     "metadata": {},
     "output_type": "execute_result"
    }
   ],
   "source": [
    "model.score(reviews_val[\"text\"], reviews_val[\"label\"])"
   ]
  },
  {
   "cell_type": "markdown",
   "metadata": {
    "slideshow": {
     "slide_type": "slide"
    }
   },
   "source": [
    "- I termini estratti includono parole singole e bigram significativi e non"
   ]
  },
  {
   "cell_type": "code",
   "execution_count": 81,
   "metadata": {},
   "outputs": [
    {
     "name": "stderr",
     "output_type": "stream",
     "text": [
      "/home/pasolini/.venvs/dia/lib/python3.10/site-packages/sklearn/utils/deprecation.py:87: FutureWarning: Function get_feature_names is deprecated; get_feature_names is deprecated in 1.0 and will be removed in 1.2. Please use get_feature_names_out instead.\n",
      "  warnings.warn(msg, category=FutureWarning)\n"
     ]
    },
    {
     "data": {
      "text/plain": [
       "['zone and',\n",
       " 'zone feel',\n",
       " 'zone the',\n",
       " 'zones',\n",
       " 'zoo',\n",
       " 'zooey',\n",
       " 'zooey deschanel',\n",
       " 'zoolander',\n",
       " 'zoom',\n",
       " 'zooming']"
      ]
     },
     "execution_count": 81,
     "metadata": {},
     "output_type": "execute_result"
    }
   ],
   "source": [
    "##noerr\n",
    "model.named_steps[\"vectorizer\"].get_feature_names()[-15:-5]"
   ]
  },
  {
   "cell_type": "markdown",
   "metadata": {
    "slideshow": {
     "slide_type": "slide"
    }
   },
   "source": [
    "## POS Tagging\n",
    "\n",
    "- Ad ogni parola in una frase è associata una **classe grammaticale**, detta _Part of Speech_ (POS)\n",
    "  - ad alto livello le POS sono **_nome_, _verbo_, _aggettivo_, ecc.**\n",
    "  - spesso si effettuano ulteriori distinzioni, ad es. nomi singolari e plurali\n",
    "  - le POS possono includere anche i segni di punteggiatura\n",
    "- Il _POS tagging_ etichetta ogni token di una sequenza (ottenuta dalla segmentazione) con il suo POS\n",
    "  - è un processo non banale, in quanto una stessa parola può avere diverse POS a seconda del contesto (es. \"letto\" può essere nome o verbo)\n",
    "- La funzione `pos_tag` prende una sequenza di token e restituisce una lista di tuple `(token, tag)`\n",
    "  - i possibili tag sono elencati quì: https://www.ling.upenn.edu/courses/Fall_2003/ling001/penn_treebank_pos.html"
   ]
  },
  {
   "cell_type": "code",
   "execution_count": 82,
   "metadata": {},
   "outputs": [
    {
     "name": "stderr",
     "output_type": "stream",
     "text": [
      "[nltk_data] Downloading package averaged_perceptron_tagger to\n",
      "[nltk_data]     /home/pasolini/nltk_data...\n",
      "[nltk_data]   Package averaged_perceptron_tagger is already up-to-\n",
      "[nltk_data]       date!\n"
     ]
    },
    {
     "data": {
      "text/plain": [
       "True"
      ]
     },
     "execution_count": 82,
     "metadata": {},
     "output_type": "execute_result"
    }
   ],
   "source": [
    "# scarico dei dati necessari per il POS tagging\n",
    "nltk.download(\"averaged_perceptron_tagger\")"
   ]
  },
  {
   "cell_type": "code",
   "execution_count": 83,
   "metadata": {
    "slideshow": {
     "slide_type": "slide"
    }
   },
   "outputs": [
    {
     "name": "stdout",
     "output_type": "stream",
     "text": [
      "This    is    n't    an    example    ,    or    is    it    ?\n"
     ]
    }
   ],
   "source": [
    "tokens = nltk.word_tokenize(\"This isn't an example, or is it?\")\n",
    "print(\"    \".join(tokens))"
   ]
  },
  {
   "cell_type": "code",
   "execution_count": 84,
   "metadata": {
    "slideshow": {
     "slide_type": "-"
    }
   },
   "outputs": [
    {
     "data": {
      "text/plain": [
       "[('This', 'DT'),\n",
       " ('is', 'VBZ'),\n",
       " (\"n't\", 'RB'),\n",
       " ('an', 'DT'),\n",
       " ('example', 'NN'),\n",
       " (',', ','),\n",
       " ('or', 'CC'),\n",
       " ('is', 'VBZ'),\n",
       " ('it', 'PRP'),\n",
       " ('?', '.')]"
      ]
     },
     "execution_count": 84,
     "metadata": {},
     "output_type": "execute_result"
    }
   ],
   "source": [
    "tokens_with_pos = nltk.pos_tag(tokens)\n",
    "tokens_with_pos"
   ]
  },
  {
   "cell_type": "code",
   "execution_count": 85,
   "metadata": {},
   "outputs": [
    {
     "name": "stdout",
     "output_type": "stream",
     "text": [
      " (DT)    (VBZ)   (RB)    (DT)    (NN)     (,)    (CC)    (VBZ)   (PRP)    (.)  \n",
      " This     is      n't     an    example    ,      or      is      it       ?   \n"
     ]
    }
   ],
   "source": [
    "print(\" \".join(\"{:^7}\".format(f\"({pos})\") for _, pos  in tokens_with_pos))\n",
    "print(\" \".join(\"{:^7}\".format(word)       for word, _ in tokens_with_pos))"
   ]
  },
  {
   "cell_type": "markdown",
   "metadata": {
    "slideshow": {
     "slide_type": "slide"
    }
   },
   "source": [
    "## Esercizio 6: Bag of words con POS tagging\n",
    "\n",
    "- **(6a)** Implementare la funzione `tokenize_with_pos` in modo che, dato un testo, restituisca la lista di tuple `(parola, POS)` come quella sopra\n",
    "- **(6b)** Addestrare sul training set un modello di classificazione con `TfidfVectorizer` simile a quelli sopra (senza usare gli n-gram), utilizzando la funzione `tokenize_with_pos` per la scomposizione dei documenti in parole\n",
    "  - le tuple `(parola, POS)` sono accettate come nomi delle feature\n",
    "- **(6c)** Estrarre il numero di feature generate dal vectorizer\n",
    "- **(6d)** Valutare sul validation set l'accuratezza del modello"
   ]
  },
  {
   "cell_type": "code",
   "execution_count": 86,
   "metadata": {},
   "outputs": [],
   "source": [
    "##solhead:ESERCIZIO 6"
   ]
  },
  {
   "cell_type": "code",
   "execution_count": 87,
   "metadata": {},
   "outputs": [],
   "source": [
    "##nosol\n",
    "def tokenize_with_pos(text):\n",
    "    return ..."
   ]
  },
  {
   "cell_type": "code",
   "execution_count": 88,
   "metadata": {},
   "outputs": [],
   "source": [
    "##sol:6a\n",
    "def tokenize_with_pos(text):\n",
    "    return nltk.pos_tag(nltk.tokenize.word_tokenize(text))"
   ]
  },
  {
   "cell_type": "code",
   "execution_count": 89,
   "metadata": {},
   "outputs": [],
   "source": [
    "##sol:6b\n",
    "model = Pipeline([\n",
    "    (\"vectorizer\", TfidfVectorizer(min_df=3, tokenizer=tokenize_with_pos)),\n",
    "    (\"classifier\", LogisticRegression(solver=\"saga\", C=10))\n",
    "])\n",
    "model.fit(reviews_train[\"text\"], reviews_train[\"label\"]);"
   ]
  },
  {
   "cell_type": "code",
   "execution_count": 90,
   "metadata": {},
   "outputs": [
    {
     "name": "stderr",
     "output_type": "stream",
     "text": [
      "/home/pasolini/.venvs/dia/lib/python3.10/site-packages/sklearn/utils/deprecation.py:87: FutureWarning: Function get_feature_names is deprecated; get_feature_names is deprecated in 1.0 and will be removed in 1.2. Please use get_feature_names_out instead.\n",
      "  warnings.warn(msg, category=FutureWarning)\n"
     ]
    },
    {
     "data": {
      "text/plain": [
       "26838"
      ]
     },
     "execution_count": 90,
     "metadata": {},
     "output_type": "execute_result"
    }
   ],
   "source": [
    "##sol:6c\n",
    "len(model.named_steps[\"vectorizer\"].get_feature_names())"
   ]
  },
  {
   "cell_type": "code",
   "execution_count": 91,
   "metadata": {},
   "outputs": [
    {
     "data": {
      "text/plain": [
       "0.8153333333333334"
      ]
     },
     "execution_count": 91,
     "metadata": {},
     "output_type": "execute_result"
    }
   ],
   "source": [
    "##sol:6d\n",
    "model.score(reviews_val[\"text\"], reviews_val[\"label\"])"
   ]
  },
  {
   "cell_type": "markdown",
   "metadata": {
    "slideshow": {
     "slide_type": "slide"
    }
   },
   "source": [
    "## Lemmatizzazione\n",
    "\n",
    "- Estraendo dai documenti tutte le parole nella forma in cui sono scritte, otteniamo spesso molteplici forme di uno stesso _lemma_ (parola di un vocabolario)\n",
    "  - es. le parole \"estraggo\", \"estraendo\", \"estratto\", ... sono tutte coniugazioni diverse del verbo \"estrarre\"\n",
    "- La _lemmatizzazione_ è il processo che converte ciascuna parola di un testo nel suo lemma\n",
    "  - nomi al singolare, verbi all'infinito, ...\n",
    "- In questo modo **raggruppiamo gruppi di termini simili**, riducendo la dimensionalità dello spazio senza perdita di informazione rilevante\n",
    "- Per eseguire la lemmatizzazione in NLTK creiamo un oggetto `WordNetLemmatizer`\n",
    "  - dobbiamo scaricare la base di conoscenza WordNet, che include le informazioni necessarie"
   ]
  },
  {
   "cell_type": "code",
   "execution_count": 92,
   "metadata": {},
   "outputs": [
    {
     "name": "stderr",
     "output_type": "stream",
     "text": [
      "[nltk_data] Downloading package wordnet to /home/pasolini/nltk_data...\n",
      "[nltk_data]   Package wordnet is already up-to-date!\n"
     ]
    }
   ],
   "source": [
    "nltk.download(\"wordnet\")\n",
    "# in versioni più recenti:\n",
    "# nltk.download(\"omw-1.4\")\n",
    "wnl = nltk.stem.WordNetLemmatizer()"
   ]
  },
  {
   "cell_type": "markdown",
   "metadata": {
    "slideshow": {
     "slide_type": "slide"
    }
   },
   "source": [
    "- Per lemmatizzare una parola si usa il metodo `lemmatize`, passandone anche il POS\n",
    "  - i POS possibili sono: n=nome, v=verbo, a=aggettivo, r=avverbio"
   ]
  },
  {
   "cell_type": "code",
   "execution_count": 93,
   "metadata": {},
   "outputs": [
    {
     "data": {
      "text/plain": [
       "'word'"
      ]
     },
     "execution_count": 93,
     "metadata": {},
     "output_type": "execute_result"
    }
   ],
   "source": [
    "# esempio: nome con plurale regolare\n",
    "wnl.lemmatize(\"words\", \"n\")"
   ]
  },
  {
   "cell_type": "code",
   "execution_count": 94,
   "metadata": {},
   "outputs": [
    {
     "data": {
      "text/plain": [
       "'mouse'"
      ]
     },
     "execution_count": 94,
     "metadata": {},
     "output_type": "execute_result"
    }
   ],
   "source": [
    "# esempio: nome con plurale irregolare\n",
    "wnl.lemmatize(\"mice\", \"n\")"
   ]
  },
  {
   "cell_type": "code",
   "execution_count": 95,
   "metadata": {},
   "outputs": [
    {
     "data": {
      "text/plain": [
       "'go'"
      ]
     },
     "execution_count": 95,
     "metadata": {},
     "output_type": "execute_result"
    }
   ],
   "source": [
    "# esempio: verbo con forma passata irregolare\n",
    "wnl.lemmatize(\"went\", \"v\")"
   ]
  },
  {
   "cell_type": "markdown",
   "metadata": {
    "slideshow": {
     "slide_type": "slide"
    }
   },
   "source": [
    "- Creiamo una funzione che segmenti le parole di un testo eseguendo la lemmatizzazione dove possibile\n",
    "  - creiamo un dizionario con le corrispondenze tra le prime lettere dei POS in Penn Treebank visti sopra e questi"
   ]
  },
  {
   "cell_type": "code",
   "execution_count": 96,
   "metadata": {},
   "outputs": [],
   "source": [
    "penn_to_wn = {\"N\": \"n\", \"V\": \"v\", \"J\": \"a\", \"R\": \"r\"}\n",
    "def tokenize_with_lemmatization(text):\n",
    "    return [(wnl.lemmatize(token, penn_to_wn[tag[0]]) if tag[0] in penn_to_wn else token)\n",
    "            for token, tag in nltk.pos_tag(nltk.tokenize.word_tokenize(text))]"
   ]
  },
  {
   "cell_type": "code",
   "execution_count": 97,
   "metadata": {},
   "outputs": [
    {
     "data": {
      "text/plain": [
       "['We', 'have', 'show', 'many', 'example', '!']"
      ]
     },
     "execution_count": 97,
     "metadata": {},
     "output_type": "execute_result"
    }
   ],
   "source": [
    "tokenize_with_lemmatization(\"We have shown many examples!\")"
   ]
  },
  {
   "cell_type": "markdown",
   "metadata": {},
   "source": [
    "- La funzione ha estratto le parole, ma portando il verbo \"show\" e il nome \"example\" alle forme base"
   ]
  },
  {
   "cell_type": "markdown",
   "metadata": {
    "slideshow": {
     "slide_type": "slide"
    }
   },
   "source": [
    "- Usiamo la funzione come `tokenizer` per la creazione dello spazio vettoriale"
   ]
  },
  {
   "cell_type": "code",
   "execution_count": 98,
   "metadata": {},
   "outputs": [],
   "source": [
    "model = Pipeline([\n",
    "    (\"vectorizer\", TfidfVectorizer(min_df=3, tokenizer=tokenize_with_lemmatization)),\n",
    "    (\"classifier\", LogisticRegression(solver=\"saga\", C=10))\n",
    "])\n",
    "model.fit(reviews_train[\"text\"], reviews_train[\"label\"]);"
   ]
  },
  {
   "cell_type": "markdown",
   "metadata": {},
   "source": [
    "- Anche in questo modo otteniamo un numero di feature inferiore, tuttavia il tempo impiegato per il processamento del testo è elevato"
   ]
  },
  {
   "cell_type": "code",
   "execution_count": 99,
   "metadata": {},
   "outputs": [
    {
     "name": "stderr",
     "output_type": "stream",
     "text": [
      "/home/pasolini/.venvs/dia/lib/python3.10/site-packages/sklearn/utils/deprecation.py:87: FutureWarning: Function get_feature_names is deprecated; get_feature_names is deprecated in 1.0 and will be removed in 1.2. Please use get_feature_names_out instead.\n",
      "  warnings.warn(msg, category=FutureWarning)\n"
     ]
    },
    {
     "data": {
      "text/plain": [
       "18153"
      ]
     },
     "execution_count": 99,
     "metadata": {},
     "output_type": "execute_result"
    }
   ],
   "source": [
    "len(model.named_steps[\"vectorizer\"].get_feature_names())"
   ]
  },
  {
   "cell_type": "code",
   "execution_count": 100,
   "metadata": {},
   "outputs": [
    {
     "data": {
      "text/plain": [
       "0.8193333333333334"
      ]
     },
     "execution_count": 100,
     "metadata": {},
     "output_type": "execute_result"
    }
   ],
   "source": [
    "model.score(reviews_val[\"text\"], reviews_val[\"label\"])"
   ]
  },
  {
   "cell_type": "markdown",
   "metadata": {
    "slideshow": {
     "slide_type": "slide"
    }
   },
   "source": [
    "## Stemming\n",
    "\n",
    "- Un algoritmo di _stemming_ estrae da una parola la sua **radice morfologica**\n",
    "- Al contrario di un lemma, la radice di una parola può non essere di senso compiuto\n",
    "- Termini diversi (anche come lemma) possono avere la stessa radice\n",
    "- Ciònonostante, lo stemming è spesso usato come **alternativa alla lemmatizzazione**, in quanto\n",
    "  - lemmi con la stessa radice sono spesso correlati (es. nome \"pesce\" e verbo \"pescare\")\n",
    "  - lo stemming non richiede il POS tagging ed è più efficiente\n",
    "- NLTK integra diversi algoritmi di stemming, tra cui ad es. `PorterStemmer`"
   ]
  },
  {
   "cell_type": "code",
   "execution_count": 101,
   "metadata": {},
   "outputs": [
    {
     "data": {
      "text/plain": [
       "('lemmat', 'lemmat', 'lemmat')"
      ]
     },
     "execution_count": 101,
     "metadata": {},
     "output_type": "execute_result"
    }
   ],
   "source": [
    "ps = nltk.stem.PorterStemmer()\n",
    "ps.stem(\"lemmatization\"), ps.stem(\"lemmatizer\"), ps.stem(\"lemmatize\")"
   ]
  },
  {
   "cell_type": "markdown",
   "metadata": {
    "slideshow": {
     "slide_type": "slide"
    }
   },
   "source": [
    "## Esercizio 7: Bag of words con stemming\n",
    "\n",
    "- **(7a)** Implementare la funzione `tokenize_with_stemming` in modo che, dato un testo, restituisca la lista di parole in esso con stemming applicato\n",
    "- **(7b)** Addestrare sul training set un modello di classificazione con `TfidfVectorizer` simile a quelli sopra (senza usare gli n-gram), utilizzando la funzione `tokenize_with_stemming` per la scomposizione dei documenti in parole\n",
    "- **(7c)** Estrarre il numero di feature generate dal vectorizer\n",
    "- **(7d)** Valutare sul validation set l'accuratezza del modello"
   ]
  },
  {
   "cell_type": "code",
   "execution_count": 102,
   "metadata": {},
   "outputs": [],
   "source": [
    "##solhead:ESERCIZIO 7"
   ]
  },
  {
   "cell_type": "code",
   "execution_count": 103,
   "metadata": {},
   "outputs": [],
   "source": [
    "##nosol\n",
    "def tokenize_with_stemming(text):\n",
    "    return ..."
   ]
  },
  {
   "cell_type": "code",
   "execution_count": 104,
   "metadata": {},
   "outputs": [],
   "source": [
    "##sol:7a\n",
    "def tokenize_with_stemming(text):\n",
    "    return [ps.stem(token) for token in nltk.word_tokenize(text)]\n",
    "    # oppure: return list(map(ps.stem, nltk.word_tokenize(text)))"
   ]
  },
  {
   "cell_type": "code",
   "execution_count": 105,
   "metadata": {},
   "outputs": [],
   "source": [
    "##sol:7b\n",
    "model = Pipeline([\n",
    "    (\"vectorizer\", TfidfVectorizer(min_df=3, tokenizer=tokenize_with_stemming)),\n",
    "    (\"classifier\", LogisticRegression(solver=\"saga\", C=10))\n",
    "])\n",
    "model.fit(reviews_train[\"text\"], reviews_train[\"label\"]);"
   ]
  },
  {
   "cell_type": "code",
   "execution_count": 106,
   "metadata": {},
   "outputs": [
    {
     "name": "stderr",
     "output_type": "stream",
     "text": [
      "/home/pasolini/.venvs/dia/lib/python3.10/site-packages/sklearn/utils/deprecation.py:87: FutureWarning: Function get_feature_names is deprecated; get_feature_names is deprecated in 1.0 and will be removed in 1.2. Please use get_feature_names_out instead.\n",
      "  warnings.warn(msg, category=FutureWarning)\n"
     ]
    },
    {
     "data": {
      "text/plain": [
       "15927"
      ]
     },
     "execution_count": 106,
     "metadata": {},
     "output_type": "execute_result"
    }
   ],
   "source": [
    "##sol:7c\n",
    "len(model.named_steps[\"vectorizer\"].get_feature_names())"
   ]
  },
  {
   "cell_type": "code",
   "execution_count": 107,
   "metadata": {},
   "outputs": [
    {
     "data": {
      "text/plain": [
       "0.8226666666666667"
      ]
     },
     "execution_count": 107,
     "metadata": {},
     "output_type": "execute_result"
    }
   ],
   "source": [
    "##sol:7d\n",
    "model.score(reviews_val[\"text\"], reviews_val[\"label\"])"
   ]
  },
  {
   "cell_type": "markdown",
   "metadata": {
    "slideshow": {
     "slide_type": "slide"
    }
   },
   "source": [
    "## Sentiment Analysis in NLTK\n",
    "\n",
    "- La stima dell'orientamento positivo o negativo di opinioni scritte è un problema molto comune\n",
    "- Per questo esistono modelli preaddestrati, tra cui [_VADER_](https://www.aaai.org/ocs/index.php/ICWSM/ICWSM14/paper/viewPaper/8109) (_Valence Aware Dictionary and sEntiment Reasoner_)\n",
    "- NLTK permette di utilizzare VADER per valutare l'orientamento di opinioni, senza bisogno di addestrare modelli\n",
    "- Per usare VADER, scarichiamo i dati necessari e creiamo un oggetto `SentimentIntensityAnalyzer`"
   ]
  },
  {
   "cell_type": "code",
   "execution_count": 108,
   "metadata": {},
   "outputs": [
    {
     "name": "stderr",
     "output_type": "stream",
     "text": [
      "[nltk_data] Downloading package vader_lexicon to\n",
      "[nltk_data]     /home/pasolini/nltk_data...\n",
      "[nltk_data]   Package vader_lexicon is already up-to-date!\n"
     ]
    }
   ],
   "source": [
    "nltk.download(\"vader_lexicon\")\n",
    "from nltk.sentiment.vader import SentimentIntensityAnalyzer\n",
    "vader = SentimentIntensityAnalyzer()"
   ]
  },
  {
   "cell_type": "markdown",
   "metadata": {
    "slideshow": {
     "slide_type": "slide"
    }
   },
   "source": [
    "- VADER si basa su un insieme di regole e su un dizionario (_lexicon_), che associa ad ogni parola un punteggio che ne denota la valenza positiva o negativa\n",
    "- Oltre a parole della lingua inglese, il dizionario prevede anche termini abbreviati, slang e emoticon"
   ]
  },
  {
   "cell_type": "code",
   "execution_count": 109,
   "metadata": {},
   "outputs": [
    {
     "data": {
      "text/plain": [
       "2.7"
      ]
     },
     "execution_count": 109,
     "metadata": {},
     "output_type": "execute_result"
    }
   ],
   "source": [
    "vader.lexicon[\"excellent\"]"
   ]
  },
  {
   "cell_type": "code",
   "execution_count": 110,
   "metadata": {},
   "outputs": [
    {
     "data": {
      "text/plain": [
       "-1.5"
      ]
     },
     "execution_count": 110,
     "metadata": {},
     "output_type": "execute_result"
    }
   ],
   "source": [
    "vader.lexicon[\"sux\"]"
   ]
  },
  {
   "cell_type": "code",
   "execution_count": 111,
   "metadata": {},
   "outputs": [
    {
     "data": {
      "text/plain": [
       "-1.6"
      ]
     },
     "execution_count": 111,
     "metadata": {},
     "output_type": "execute_result"
    }
   ],
   "source": [
    "vader.lexicon[\"n00b\"]"
   ]
  },
  {
   "cell_type": "code",
   "execution_count": 112,
   "metadata": {},
   "outputs": [
    {
     "data": {
      "text/plain": [
       "2.0"
      ]
     },
     "execution_count": 112,
     "metadata": {},
     "output_type": "execute_result"
    }
   ],
   "source": [
    "vader.lexicon[\":)\"]"
   ]
  },
  {
   "cell_type": "markdown",
   "metadata": {
    "slideshow": {
     "slide_type": "slide"
    }
   },
   "source": [
    "- Per stimare la polarità di una frase, usiamo il metodo `polarity_scores`"
   ]
  },
  {
   "cell_type": "code",
   "execution_count": 113,
   "metadata": {},
   "outputs": [
    {
     "data": {
      "text/plain": [
       "{'neg': 0.0, 'neu': 0.406, 'pos': 0.594, 'compound': 0.6588}"
      ]
     },
     "execution_count": 113,
     "metadata": {},
     "output_type": "execute_result"
    }
   ],
   "source": [
    "vader.polarity_scores(\"What an awesome movie!\")"
   ]
  },
  {
   "cell_type": "code",
   "execution_count": 114,
   "metadata": {},
   "outputs": [
    {
     "data": {
      "text/plain": [
       "{'neg': 0.464, 'neu': 0.536, 'pos': 0.0, 'compound': -0.3804}"
      ]
     },
     "execution_count": 114,
     "metadata": {},
     "output_type": "execute_result"
    }
   ],
   "source": [
    "vader.polarity_scores(\"It was really boring\")"
   ]
  },
  {
   "cell_type": "code",
   "execution_count": 115,
   "metadata": {},
   "outputs": [
    {
     "data": {
      "text/plain": [
       "{'neg': 0.0, 'neu': 1.0, 'pos': 0.0, 'compound': 0.0}"
      ]
     },
     "execution_count": 115,
     "metadata": {},
     "output_type": "execute_result"
    }
   ],
   "source": [
    "vader.polarity_scores(\"This movie was shot in Italy\")"
   ]
  },
  {
   "cell_type": "markdown",
   "metadata": {},
   "source": [
    "- I valori `pos`, `neg` e `neu` valutano quanto la frase sia positiva, negativa o neutra\n",
    "- `compound` è un'aggregazione dei tre punteggi e riassume la polarità della frase\n",
    "- Se abbiamo una recensione completa, possiamo usare la funzione `sent_tokenize` di NLTK per scomporla in singole frasi valutabili con VADER."
   ]
  },
  {
   "cell_type": "code",
   "execution_count": 116,
   "metadata": {},
   "outputs": [
    {
     "data": {
      "text/plain": [
       "['Nice movie!', 'Actors were really good.', 'Excellent!']"
      ]
     },
     "execution_count": 116,
     "metadata": {},
     "output_type": "execute_result"
    }
   ],
   "source": [
    "nltk.sent_tokenize(\"Nice movie! Actors were really good. Excellent!\")"
   ]
  },
  {
   "cell_type": "markdown",
   "metadata": {
    "slideshow": {
     "slide_type": "slide"
    }
   },
   "source": [
    "## Esercizio 8: Utilizzo di VADER come modello di classificazione\n",
    "\n",
    "- **(8a)** Implementare la funzione `label_review` in modo che\n",
    "  - scomponga il testo di una recensione data in frasi\n",
    "  - estragga per ogni frase il punteggio _compound_ dato da VADER\n",
    "  - restituisca `\"pos\"` se la somma dei punteggi è positiva, `\"neg\"` altrimenti\n",
    "- **(8b)** Usare la funzione per estrarre una sequenza (lista, array o serie) delle classi previste da VADER per le recensioni del validation set\n",
    "- **(8c)** Usare la funzione `accuracy_score(classi_reali, classi_predette)` di scikit-learn per calcolare l'accuratezza delle predizioni\n",
    "  - l'accuratezza può risultare inferiore rispetto ai modelli sopra, in quanto questi ultimi sono addestrati specificamente sulle nostre recensioni mentre VADER è più orientato ai tweet"
   ]
  },
  {
   "cell_type": "code",
   "execution_count": 117,
   "metadata": {},
   "outputs": [],
   "source": [
    "from sklearn.metrics import accuracy_score"
   ]
  },
  {
   "cell_type": "code",
   "execution_count": 118,
   "metadata": {},
   "outputs": [],
   "source": [
    "##solhead:ESERCIZIO 8"
   ]
  },
  {
   "cell_type": "code",
   "execution_count": 119,
   "metadata": {},
   "outputs": [],
   "source": [
    "##sol:8a\n",
    "def label_review(review):\n",
    "    sentences = nltk.sent_tokenize(review)\n",
    "    scores = list(map(vader.polarity_scores, sentences))\n",
    "    return \"pos\" if sum(s[\"compound\"] for s in scores) >= 0 else \"neg\""
   ]
  },
  {
   "cell_type": "code",
   "execution_count": 120,
   "metadata": {},
   "outputs": [],
   "source": [
    "##sol:8b\n",
    "vader_preds = [label_review(review) for review in reviews_val[\"text\"]]"
   ]
  },
  {
   "cell_type": "code",
   "execution_count": 121,
   "metadata": {},
   "outputs": [
    {
     "data": {
      "text/plain": [
       "0.7296666666666667"
      ]
     },
     "execution_count": 121,
     "metadata": {},
     "output_type": "execute_result"
    }
   ],
   "source": [
    "##sol:8c\n",
    "accuracy_score(reviews_val[\"label\"], vader_preds)"
   ]
  }
 ],
 "metadata": {
  "kernelspec": {
   "display_name": "DIA",
   "language": "python",
   "name": "dia"
  },
  "language_info": {
   "codemirror_mode": {
    "name": "ipython",
    "version": 3
   },
   "file_extension": ".py",
   "mimetype": "text/x-python",
   "name": "python",
   "nbconvert_exporter": "python",
   "pygments_lexer": "ipython3",
   "version": "3.10.4"
  }
 },
 "nbformat": 4,
 "nbformat_minor": 4
}
