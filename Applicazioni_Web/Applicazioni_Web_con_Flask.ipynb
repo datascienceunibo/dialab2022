{
 "cells": [
  {
   "cell_type": "markdown",
   "metadata": {
    "slideshow": {
     "slide_type": "slide"
    }
   },
   "source": [
    "# Laboratorio: Applicazioni Web con Flask\n",
    "\n",
    "**Programmazione di Applicazioni Data Intensive**  \n",
    "Laurea in Ingegneria e Scienze Informatiche  \n",
    "DISI - Università di Bologna, Cesena\n",
    "\n",
    "Proff. Gianluca Moro, Roberto Pasolini  \n",
    "`nome.cognome@unibo.it`"
   ]
  },
  {
   "cell_type": "markdown",
   "metadata": {
    "slideshow": {
     "slide_type": "slide"
    }
   },
   "source": [
    "## Setup\n",
    "\n",
    "- Eseguire l'esercitazione **localmente** sul PC di laboratorio o sul proprio PC, non utilizzare Colab o simili\n",
    "- Creare una nuova directory per l'esercitazione e salvare ed eseguire in essa questo file\n",
    "- Aprire un terminale ed impostare come directory di lavoro (`cd`) quella creata sopra\n",
    "- Se si vuole utilizzare un ambiente virtuale, attivarlo\n",
    "- Accertarsi che, oltre a scikit-learn e le altre librerie di uso comune, siano installati Flask e xlrd (per la lettura dei file Excel)"
   ]
  },
  {
   "cell_type": "code",
   "execution_count": 1,
   "metadata": {},
   "outputs": [
    {
     "name": "stdout",
     "output_type": "stream",
     "text": [
      "Collecting xlrd\n",
      "  Downloading xlrd-2.0.1-py2.py3-none-any.whl (96 kB)\n",
      "\u001b[2K     \u001b[38;2;114;156;31m━━━━━━━━━━━━━━━━━━━━━━━━━━━━━━━━━━━━━━━\u001b[0m \u001b[32m96.5/96.5 KB\u001b[0m \u001b[31m672.6 kB/s\u001b[0m eta \u001b[36m0:00:00\u001b[0m kB/s\u001b[0m eta \u001b[36m0:00:01\u001b[0m:01\u001b[0m\n",
      "\u001b[?25hInstalling collected packages: xlrd\n",
      "Successfully installed xlrd-2.0.1\n",
      "\u001b[33mWARNING: You are using pip version 22.0.3; however, version 22.1.1 is available.\n",
      "You should consider upgrading via the '/home/rrobby/software/jupyter/bin/python3 -m pip install --upgrade pip' command.\u001b[0m\u001b[33m\n",
      "\u001b[0mNote: you may need to restart the kernel to use updated packages.\n"
     ]
    }
   ],
   "source": [
    "pip install flask xlrd"
   ]
  },
  {
   "cell_type": "markdown",
   "metadata": {
    "slideshow": {
     "slide_type": "slide"
    }
   },
   "source": [
    "## Uso di modelli predittivi in applicazioni Flask\n",
    "\n",
    "- **Flask** è un microframework per la realizzazione di applicazioni Web\n",
    "- Per realizzare un'applicazione con funzionalità minime sono sufficienti poche righe di codice\n",
    "- Nelle applicazioni Flask si possono integrare tutte le funzionalità di Python e librerie esterne, incluso l'utilizzo di modelli di classificazione e regressione\n",
    "- In questa esercitazione vediamo come usare Flask per creare una semplice interfaccia per consultare un modello di classificazione"
   ]
  },
  {
   "cell_type": "markdown",
   "metadata": {
    "slideshow": {
     "slide_type": "slide"
    }
   },
   "source": [
    "## Caso di studio: Predizione default carte di credito\n",
    "\n",
    "- La predizione del rischio di credito è importante per le banche per stimare in anticipo il capitale che avranno a disposizione\n",
    "- Dati dei titolari di carte di credito, vogliamo predire per ogni mese se rimborseranno puntualmente le spese effettuate\n",
    "- Vogliamo addestrare un modello a predire i mancati rimborsi (_default_) basandosi sulle informazioni disponibili\n",
    "- Una volta addestrato un modello, vogliamo creare una semplice interfaccia Web dove un operatore possa\n",
    "  - inserire i valori noti delle variabili predittive\n",
    "  - visualizzare la predizione del modello"
   ]
  },
  {
   "cell_type": "markdown",
   "metadata": {
    "slideshow": {
     "slide_type": "slide"
    }
   },
   "source": [
    "### Reperimento dati\n",
    "\n",
    "- Su https://archive.ics.uci.edu/ml/datasets/default+of+credit+card+clients è fornito un dataset che riassume lo stato di 30.000 titolari di carte di credito di una banca in Taiwan nel 2005\n",
    "- Carichiamo i dati direttamente dal file Excel dove sono forniti\n",
    "  - pandas fornisce la funzione `read_excel`, per utilizzarla deve essere installata la libreria `xlrd`"
   ]
  },
  {
   "cell_type": "code",
   "execution_count": 2,
   "metadata": {},
   "outputs": [],
   "source": [
    "import os.path\n",
    "if not os.path.exists(\"ccdefault.xls\"):\n",
    "    from urllib.request import urlretrieve\n",
    "    urlretrieve(\"http://archive.ics.uci.edu/ml/machine-learning-databases/00350/default%20of%20credit%20card%20clients.xls\", \"ccdefault.xls\")"
   ]
  },
  {
   "cell_type": "code",
   "execution_count": 3,
   "metadata": {},
   "outputs": [],
   "source": [
    "import pandas as pd\n",
    "ccd = pd.read_excel(\"ccdefault.xls\", index_col=0, skiprows=1)"
   ]
  },
  {
   "cell_type": "code",
   "execution_count": 4,
   "metadata": {},
   "outputs": [
    {
     "data": {
      "text/html": [
       "<div>\n",
       "<style scoped>\n",
       "    .dataframe tbody tr th:only-of-type {\n",
       "        vertical-align: middle;\n",
       "    }\n",
       "\n",
       "    .dataframe tbody tr th {\n",
       "        vertical-align: top;\n",
       "    }\n",
       "\n",
       "    .dataframe thead th {\n",
       "        text-align: right;\n",
       "    }\n",
       "</style>\n",
       "<table border=\"1\" class=\"dataframe\">\n",
       "  <thead>\n",
       "    <tr style=\"text-align: right;\">\n",
       "      <th></th>\n",
       "      <th>LIMIT_BAL</th>\n",
       "      <th>SEX</th>\n",
       "      <th>EDUCATION</th>\n",
       "      <th>MARRIAGE</th>\n",
       "      <th>AGE</th>\n",
       "      <th>PAY_0</th>\n",
       "      <th>PAY_2</th>\n",
       "      <th>PAY_3</th>\n",
       "      <th>PAY_4</th>\n",
       "      <th>PAY_5</th>\n",
       "      <th>...</th>\n",
       "      <th>BILL_AMT4</th>\n",
       "      <th>BILL_AMT5</th>\n",
       "      <th>BILL_AMT6</th>\n",
       "      <th>PAY_AMT1</th>\n",
       "      <th>PAY_AMT2</th>\n",
       "      <th>PAY_AMT3</th>\n",
       "      <th>PAY_AMT4</th>\n",
       "      <th>PAY_AMT5</th>\n",
       "      <th>PAY_AMT6</th>\n",
       "      <th>default payment next month</th>\n",
       "    </tr>\n",
       "    <tr>\n",
       "      <th>ID</th>\n",
       "      <th></th>\n",
       "      <th></th>\n",
       "      <th></th>\n",
       "      <th></th>\n",
       "      <th></th>\n",
       "      <th></th>\n",
       "      <th></th>\n",
       "      <th></th>\n",
       "      <th></th>\n",
       "      <th></th>\n",
       "      <th></th>\n",
       "      <th></th>\n",
       "      <th></th>\n",
       "      <th></th>\n",
       "      <th></th>\n",
       "      <th></th>\n",
       "      <th></th>\n",
       "      <th></th>\n",
       "      <th></th>\n",
       "      <th></th>\n",
       "      <th></th>\n",
       "    </tr>\n",
       "  </thead>\n",
       "  <tbody>\n",
       "    <tr>\n",
       "      <th>1</th>\n",
       "      <td>20000</td>\n",
       "      <td>2</td>\n",
       "      <td>2</td>\n",
       "      <td>1</td>\n",
       "      <td>24</td>\n",
       "      <td>2</td>\n",
       "      <td>2</td>\n",
       "      <td>-1</td>\n",
       "      <td>-1</td>\n",
       "      <td>-2</td>\n",
       "      <td>...</td>\n",
       "      <td>0</td>\n",
       "      <td>0</td>\n",
       "      <td>0</td>\n",
       "      <td>0</td>\n",
       "      <td>689</td>\n",
       "      <td>0</td>\n",
       "      <td>0</td>\n",
       "      <td>0</td>\n",
       "      <td>0</td>\n",
       "      <td>1</td>\n",
       "    </tr>\n",
       "    <tr>\n",
       "      <th>2</th>\n",
       "      <td>120000</td>\n",
       "      <td>2</td>\n",
       "      <td>2</td>\n",
       "      <td>2</td>\n",
       "      <td>26</td>\n",
       "      <td>-1</td>\n",
       "      <td>2</td>\n",
       "      <td>0</td>\n",
       "      <td>0</td>\n",
       "      <td>0</td>\n",
       "      <td>...</td>\n",
       "      <td>3272</td>\n",
       "      <td>3455</td>\n",
       "      <td>3261</td>\n",
       "      <td>0</td>\n",
       "      <td>1000</td>\n",
       "      <td>1000</td>\n",
       "      <td>1000</td>\n",
       "      <td>0</td>\n",
       "      <td>2000</td>\n",
       "      <td>1</td>\n",
       "    </tr>\n",
       "    <tr>\n",
       "      <th>3</th>\n",
       "      <td>90000</td>\n",
       "      <td>2</td>\n",
       "      <td>2</td>\n",
       "      <td>2</td>\n",
       "      <td>34</td>\n",
       "      <td>0</td>\n",
       "      <td>0</td>\n",
       "      <td>0</td>\n",
       "      <td>0</td>\n",
       "      <td>0</td>\n",
       "      <td>...</td>\n",
       "      <td>14331</td>\n",
       "      <td>14948</td>\n",
       "      <td>15549</td>\n",
       "      <td>1518</td>\n",
       "      <td>1500</td>\n",
       "      <td>1000</td>\n",
       "      <td>1000</td>\n",
       "      <td>1000</td>\n",
       "      <td>5000</td>\n",
       "      <td>0</td>\n",
       "    </tr>\n",
       "  </tbody>\n",
       "</table>\n",
       "<p>3 rows × 24 columns</p>\n",
       "</div>"
      ],
      "text/plain": [
       "    LIMIT_BAL  SEX  EDUCATION  MARRIAGE  AGE  PAY_0  PAY_2  PAY_3  PAY_4  \\\n",
       "ID                                                                         \n",
       "1       20000    2          2         1   24      2      2     -1     -1   \n",
       "2      120000    2          2         2   26     -1      2      0      0   \n",
       "3       90000    2          2         2   34      0      0      0      0   \n",
       "\n",
       "    PAY_5  ...  BILL_AMT4  BILL_AMT5  BILL_AMT6  PAY_AMT1  PAY_AMT2  PAY_AMT3  \\\n",
       "ID         ...                                                                  \n",
       "1      -2  ...          0          0          0         0       689         0   \n",
       "2       0  ...       3272       3455       3261         0      1000      1000   \n",
       "3       0  ...      14331      14948      15549      1518      1500      1000   \n",
       "\n",
       "    PAY_AMT4  PAY_AMT5  PAY_AMT6  default payment next month  \n",
       "ID                                                            \n",
       "1          0         0         0                           1  \n",
       "2       1000         0      2000                           1  \n",
       "3       1000      1000      5000                           0  \n",
       "\n",
       "[3 rows x 24 columns]"
      ]
     },
     "execution_count": 4,
     "metadata": {},
     "output_type": "execute_result"
    }
   ],
   "source": [
    "ccd.head(3)"
   ]
  },
  {
   "cell_type": "markdown",
   "metadata": {
    "slideshow": {
     "slide_type": "slide"
    }
   },
   "source": [
    "### Significato delle colonne\n",
    "\n",
    "Riportiamo le informazioni sul dataset tratte dalla [fonte](https://archive.ics.uci.edu/ml/datasets/default+of+credit+card+clients)\n",
    "\n",
    "- **`ID`** è un identificativo unico di ciascun cliente\n",
    "\n",
    "I seguenti attributi sono di tipo categorico (nominale o ordinale), ma codificati come numeri:\n",
    "- **`SEX`**: sesso\n",
    "  - 1 = maschio, 2 = femmina\n",
    "- **`EDUCATION`**: titolo di studio\n",
    "  - 1 = laurea specialistica, 2 = laurea breve, 3 = scuola superiore, 4 = altro\n",
    "- **`MARRIAGE`**: stato civile\n",
    "  - 1 = sposato, 2 = nubile/celibe, 3 = altro\n",
    "- **`default payment next month`**: stato pagamento dell'ultimo mese **(variabile da prevedere!)**\n",
    "  - 0 = pagato, 1 = insoluto"
   ]
  },
  {
   "cell_type": "markdown",
   "metadata": {
    "slideshow": {
     "slide_type": "slide"
    }
   },
   "source": [
    "- Per semplificare la procedura e l'interfaccia della webapp, in questo esempio ci limitiamo ad usare tre variabili predittive senza preprocessing:\n",
    "  - `LIMIT_BAL`: cifra da pagare\n",
    "  - `PAY_6`: ritardo nell'ultimo pagamento\n",
    "  - `EDUCATION`: livello di educazione\n",
    "- Estraiamo due strutture dati X e y con le tre variabili predittive e la variabile da predire"
   ]
  },
  {
   "cell_type": "code",
   "execution_count": 5,
   "metadata": {},
   "outputs": [],
   "source": [
    "X = ccd[[\"LIMIT_BAL\", \"PAY_6\", \"EDUCATION\"]]\n",
    "y = ccd[\"default payment next month\"]"
   ]
  },
  {
   "cell_type": "markdown",
   "metadata": {
    "slideshow": {
     "slide_type": "slide"
    }
   },
   "source": [
    "## Creare un'applicazione Flask da zero\n",
    "\n",
    "- Vediamo passo per passo come creare una webapp Flask\n",
    "- Per iniziare, creiamo il modulo o package che conterrà l'app\n",
    "- Essendo un'applicazione semplice, utilizziamo un modulo, ovvero un singolo file `.py`\n",
    "- All'interno del file creiamo un oggetto di tipo `Flask` che rappresenta l'app\n",
    "- Eseguire la cella di codice seguente per creare un file `predict.py` col contenuto indicato sotto"
   ]
  },
  {
   "cell_type": "code",
   "execution_count": 6,
   "metadata": {},
   "outputs": [
    {
     "name": "stdout",
     "output_type": "stream",
     "text": [
      "Writing predict.py\n"
     ]
    }
   ],
   "source": [
    "%%writefile predict.py\n",
    "from flask import Flask, request, render_template\n",
    "\n",
    "app = Flask(__name__)"
   ]
  },
  {
   "cell_type": "markdown",
   "metadata": {
    "slideshow": {
     "slide_type": "slide"
    }
   },
   "source": [
    "## Esempio di richiesta e risposta\n",
    "\n",
    "- In una webapp dobbiamo definire delle funzioni che rispondano alle richieste in arrivo dai client\n",
    "- Per far sì che una funzione sia eseguita a seguito di determinate richieste, la decoriamo con `@app.route(percorso_pagina)`\n",
    "- Ad esempio creiamo una funzione che restituisca un semplice messaggio \"Hello!\"\n",
    "- Associamo tale funzione al percorso `/` della webapp, ovvero la home page\n",
    "- Eseguire la cella seguente per aggiungerne il contenuto in fondo (_append_, `-a`) al file `predict.py` creato sopra"
   ]
  },
  {
   "cell_type": "code",
   "execution_count": 7,
   "metadata": {},
   "outputs": [
    {
     "name": "stdout",
     "output_type": "stream",
     "text": [
      "Appending to predict.py\n"
     ]
    }
   ],
   "source": [
    "%%writefile -a predict.py\n",
    "\n",
    "@app.route(\"/\")\n",
    "def home():\n",
    "    return \"Hello!\""
   ]
  },
  {
   "cell_type": "markdown",
   "metadata": {
    "slideshow": {
     "slide_type": "slide"
    }
   },
   "source": [
    "## Eseguire l'applicazione\n",
    "\n",
    "Per eseguire l'applicazione nel terminale dobbiamo:\n",
    "- impostare una variabile d'ambiente `FLASK_APP` col nome del modulo dell'applicazione\n",
    "  - Windows: `set FLASK_APP=predict`\n",
    "  - Mac OS / Linux: `export FLASK_APP=predict`\n",
    "- abilitare la modalità debug impostando `FLASK_ENV`\n",
    "  - Windows: `set FLASK_ENV=development`\n",
    "  - Mac OS / Linux: `export FLASK_ENV=development`\n",
    "- avviare il webserver di Flask\n",
    "  - `flask run` (se non funziona, provare `python -m flask run`)"
   ]
  },
  {
   "cell_type": "markdown",
   "metadata": {
    "slideshow": {
     "slide_type": "slide"
    }
   },
   "source": [
    "## Testare l'applicazione\n",
    "\n",
    "- Sul browser, aprire l'URL http://127.0.0.1:5000/\n",
    "- Dovrebbe comparire la scritta \"Hello!\" restituita dalla funzione `home()`\n",
    "- Avendo abilitato la modalità debug, qualsiasi cambiamento nel codice si dovrebbe riflettere immediatamente sulla webapp\n",
    "  - provare a cambiare la stringa \"Hello!\" nel codice, salvare il file e ricaricare la pagina"
   ]
  },
  {
   "cell_type": "markdown",
   "metadata": {
    "slideshow": {
     "slide_type": "slide"
    }
   },
   "source": [
    "## Richiesta con parametri\n",
    "\n",
    "- Per consultare un modello di predizione, accetteremo una richiesta dove gli input al modello sono passati come parametri\n",
    "- In una richiesta GET è possibile passare i parametri accodandoli all'URL nella forma `?p1=val1&p2=val2&...`\n",
    "- Possiamo accedere a questi parametri da Flask tramite il dizionario `request.args`\n",
    "- Definiamo una funzione `predict` richiamata dal percorso `/predict` che prenda come parametri i valori delle tre variabili predittive considerate sopra e restituisca la predizione\n",
    "  - i valori dei parametri sono reperiti come stringhe, vanno convertiti in valori numerici\n",
    "  - per semplicità diamo a ciascun parametro lo stesso nome della variabile, ma non è necessario (è importante invece l'ordine in cui sono letti)\n",
    "  - per ora come predizione restituiamo arbitrariamente \"Non insolvente\"\n",
    "- Eseguire la seguente cella per aggiungere la funzione"
   ]
  },
  {
   "cell_type": "code",
   "execution_count": 8,
   "metadata": {},
   "outputs": [
    {
     "name": "stdout",
     "output_type": "stream",
     "text": [
      "Appending to predict.py\n"
     ]
    }
   ],
   "source": [
    "%%writefile -a predict.py\n",
    "\n",
    "@app.route(\"/predict\")\n",
    "def predict():\n",
    "    inputs = [\n",
    "        float(request.args[\"LIMIT_BAL\"]),\n",
    "        int(request.args[\"PAY_6\"]),\n",
    "        int(request.args[\"EDUCATION\"])\n",
    "    ]\n",
    "    return \"Non insolvente\""
   ]
  },
  {
   "cell_type": "markdown",
   "metadata": {
    "slideshow": {
     "slide_type": "slide"
    }
   },
   "source": [
    "- Possiamo testare la funzione facendo una richiesta a `predict` con valori arbitrari dei parametri, ad es.:\n",
    "  - http://127.0.0.1:5000/predict?LIMIT_BAL=20000&PAY_6=-1&EDUCATION=1"
   ]
  },
  {
   "cell_type": "markdown",
   "metadata": {
    "slideshow": {
     "slide_type": "slide"
    }
   },
   "source": [
    "## Utilizzare un modello nella webapp\n",
    "\n",
    "- Abbiamo visto finora come addestrare modelli di predizione e come valutarli e/o utilizzarli all'interno della stessa sessione di lavoro\n",
    "- In un'applicazione Web ogni richiesta è gestita da un processo separato, per cui non abbiamo accesso ad alcun modello addestrato in precedenza\n",
    "  - non possiamo ripetere l'addestramento di un modello ad ogni richiesta, in quanto i tempi di risposta sarebbero lunghi\n",
    "- La soluzione è **salvare il modello in un file** una volta addestrato, in modo che possa essere ricaricato ad ogni richiesta in tempi trascurabili"
   ]
  },
  {
   "cell_type": "markdown",
   "metadata": {
    "slideshow": {
     "slide_type": "slide"
    }
   },
   "source": [
    "## Serializzazione di oggetti Python\n",
    "\n",
    "- Il modulo `pickle` della libreria standard di Python fornisce funzionalità per la (de)serializzazione di oggetti Python\n",
    "- Una volta addestrato un modello possiamo **salvarne in un file una rappresentazione binaria**\n",
    "- Quando necessario possiamo ricaricare tale rappresentazione dal file e ricostruire da essa il modello addestrato"
   ]
  },
  {
   "cell_type": "markdown",
   "metadata": {
    "slideshow": {
     "slide_type": "slide"
    }
   },
   "source": [
    "### Addestramento e salvataggio di un modello\n",
    "\n",
    "- Definiamo un modello di classificazione, ad es. un perceptron con standardizzazione dei dati\n",
    "  - si assume questo sia il modello migliore scelto in seguito ad una cross validation"
   ]
  },
  {
   "cell_type": "code",
   "execution_count": 9,
   "metadata": {},
   "outputs": [],
   "source": [
    "from sklearn.pipeline import Pipeline\n",
    "from sklearn.preprocessing import StandardScaler\n",
    "from sklearn.linear_model import Perceptron\n",
    "model = Pipeline([\n",
    "    (\"scaler\", StandardScaler()),\n",
    "    (\"model\",  Perceptron())\n",
    "])"
   ]
  },
  {
   "cell_type": "markdown",
   "metadata": {
    "slideshow": {
     "slide_type": "slide"
    }
   },
   "source": [
    "- Addestriamo tale modello sul dataset\n",
    "  - possiamo usare tutti i dati assumendo di aver già eseguito la validazione del modello"
   ]
  },
  {
   "cell_type": "code",
   "execution_count": 10,
   "metadata": {},
   "outputs": [],
   "source": [
    "model.fit(X, y);"
   ]
  },
  {
   "cell_type": "markdown",
   "metadata": {},
   "source": [
    "- Vediamo i coefficienti del modello, che indicano l'importanza di ciascuna variabile"
   ]
  },
  {
   "cell_type": "code",
   "execution_count": 11,
   "metadata": {},
   "outputs": [
    {
     "data": {
      "text/plain": [
       "array([[-0.11961879,  3.47835627,  2.53057092]])"
      ]
     },
     "execution_count": 11,
     "metadata": {},
     "output_type": "execute_result"
    }
   ],
   "source": [
    "model.named_steps[\"model\"].coef_"
   ]
  },
  {
   "cell_type": "markdown",
   "metadata": {
    "slideshow": {
     "slide_type": "slide"
    }
   },
   "source": [
    "- Utilizziamo ora il modulo `pickle` per serializzare il modello\n",
    "- Apriamo un file `model.bin` per la scrittura (w) in formato binario (b)\n",
    "- Usiamo la funzione `dump` di `pickle` per scrivere la rappresentazione binaria del modello addestrato all'interno del file"
   ]
  },
  {
   "cell_type": "code",
   "execution_count": 12,
   "metadata": {},
   "outputs": [],
   "source": [
    "import pickle\n",
    "with open(\"model.bin\", \"wb\") as f:\n",
    "    pickle.dump(model, f)"
   ]
  },
  {
   "cell_type": "markdown",
   "metadata": {},
   "source": [
    "- Abbiamo così salvato il modello all'interno del file"
   ]
  },
  {
   "cell_type": "markdown",
   "metadata": {
    "slideshow": {
     "slide_type": "slide"
    }
   },
   "source": [
    "### Caricamento di un modello\n",
    "\n",
    "- Vediamo ora come caricare il modello dal file\n",
    "- Apriamo di nuovo il file binario `model.bin`, questa volta in lettura (r)\n",
    "- Per leggere il contenuto del file e riottenere il modello come oggetto Python usiamo la funzione `load` di `pickle`\n",
    "- Salviamo l'oggetto in una nuova variabile `loaded_model`"
   ]
  },
  {
   "cell_type": "code",
   "execution_count": 13,
   "metadata": {},
   "outputs": [],
   "source": [
    "with open(\"model.bin\", \"rb\") as f:\n",
    "    loaded_model = pickle.load(f)"
   ]
  },
  {
   "cell_type": "markdown",
   "metadata": {},
   "source": [
    "- Possiamo verificare che `loaded_model` sia equivalente a `model`, ad esempio verificando che i coefficienti coincidano"
   ]
  },
  {
   "cell_type": "code",
   "execution_count": 15,
   "metadata": {},
   "outputs": [
    {
     "data": {
      "text/plain": [
       "array([[-0.11961879,  3.47835627,  2.53057092]])"
      ]
     },
     "execution_count": 15,
     "metadata": {},
     "output_type": "execute_result"
    }
   ],
   "source": [
    "loaded_model.named_steps[\"model\"].coef_"
   ]
  },
  {
   "cell_type": "markdown",
   "metadata": {
    "slideshow": {
     "slide_type": "slide"
    }
   },
   "source": [
    "## Caricamento del modello nella webapp\n",
    "\n",
    "- Nella funzione `predict` della webapp possiamo quindi caricare tale modello ed utilizzarlo per ottenere una predizione vera e propria\n",
    "- Per caricare un file dalla directory della webapp Flask (indipendentemente da quella di lavoro), usiamo il metodo `app.open_resource` al posto di `open`\n",
    "- Una volta ricaricato il modello, otteniamo una singola predizione per i dati inseriti e visualizziamo come risposta una stringa \"Non insolvente\" (0) o \"Insolvente\" (1)"
   ]
  },
  {
   "cell_type": "markdown",
   "metadata": {
    "slideshow": {
     "slide_type": "slide"
    }
   },
   "source": [
    "- Modificare la funzione `predict` in questo modo:\n",
    "\n",
    "```\n",
    "@app.route(\"/predict\")\n",
    "def predict():\n",
    "    inputs = [\n",
    "        float(request.args[\"LIMIT_BAL\"]),\n",
    "        int(request.args[\"PAY_6\"]),\n",
    "        int(request.args[\"EDUCATION\"])\n",
    "    ]\n",
    "    with app.open_resource(\"model.bin\", \"rb\") as f:\n",
    "        model = pickle.load(f)\n",
    "    output = model.predict([inputs])[0]\n",
    "    return \"Insolvente\" if output else \"Non insolvente\"\n",
    "```\n",
    "\n",
    "- Verificare il funzionamento, usando ad esempio le seguenti richieste:\n",
    "  - http://127.0.0.1:5000/predict?LIMIT_BAL=20000&PAY_6=-1&EDUCATION=1\n",
    "  - http://127.0.0.1:5000/predict?LIMIT_BAL=500000&PAY_6=7&EDUCATION=1"
   ]
  },
  {
   "cell_type": "markdown",
   "metadata": {
    "slideshow": {
     "slide_type": "slide"
    }
   },
   "source": [
    "## Dare un'interfaccia alla webapp\n",
    "\n",
    "- Per ora la webapp restituisce semplici stringhe e interagiamo con essa scrivendo degli URL\n",
    "- Per ottenere una webapp usabile, dobbiamo restituire pagine HTML al posto di semplici stringhe\n",
    "- Tali pagine possono contenere link per navigare alle altre pagine senza scrivere manualmente gli URL\n",
    "- Per definire le pagine creiamo dei _template_ HTML, all'interno dei quali possiamo integrare dati calcolati via codice\n",
    "- Per iniziare, creiamo la directory `templates` dove salvare i template"
   ]
  },
  {
   "cell_type": "code",
   "execution_count": 15,
   "metadata": {},
   "outputs": [],
   "source": [
    "import os\n",
    "if not os.path.isdir(\"templates\"):\n",
    "    os.mkdir(\"templates\")"
   ]
  },
  {
   "cell_type": "markdown",
   "metadata": {
    "slideshow": {
     "slide_type": "slide"
    }
   },
   "source": [
    "- Creiamo ora un template minimale `predict.html` dove viene visualizzata la predizione\n",
    "  - il file è una pagina HTML minimale con un segnaposto `{{ resp }}` al posto del quale visualizzare \"Non insolvente\" o \"Insolvente\""
   ]
  },
  {
   "cell_type": "code",
   "execution_count": 16,
   "metadata": {},
   "outputs": [
    {
     "name": "stdout",
     "output_type": "stream",
     "text": [
      "Overwriting templates/predict.html\n"
     ]
    }
   ],
   "source": [
    "%%writefile templates/predict.html\n",
    "<!DOCTYPE html>\n",
    "<head>\n",
    " <title>Predizione default carte</title>\n",
    "</head>\n",
    "<body>\n",
    " <h2>Default carte di credito</h2>\n",
    " <p>Predizione: <b>{{ resp }}</b></p>\n",
    "</body>\n",
    "</html>"
   ]
  },
  {
   "cell_type": "markdown",
   "metadata": {
    "slideshow": {
     "slide_type": "slide"
    }
   },
   "source": [
    "- Modifichiamo ora la funzione `predict` in modo che visualizzi la risposta nel template\n",
    "- Usiamo la funzione `render_template` per ottenere la pagina HTML, passando come argomento il valore da dare `resp`\n",
    "- Cambiare le ultime righe della funzione `predict` come segue:\n",
    "\n",
    "```\n",
    "@app.route(\"/predict\")\n",
    "def predict():\n",
    "    ...\n",
    "    output = model.predict([inputs])[0]\n",
    "    response = \"Insolvente\" if output else \"Non insolvente\"\n",
    "    return render_template(\"predict.html\", resp=response)\n",
    "```\n",
    "\n",
    "- Ripetere le richieste con gli URL sopra, sarà visualizzata la pagina HTML definita al posto della semplice stringa"
   ]
  },
  {
   "cell_type": "markdown",
   "metadata": {
    "slideshow": {
     "slide_type": "slide"
    }
   },
   "source": [
    "### Form per immissione dati\n",
    "\n",
    "- Andiamo ora a creare un form per inserire i dati senza scrivere manualmente l'URL\n",
    "- Creiamo un form che invii i dati all'URL della funzione `predict`\n",
    "  - usiamo la funzione `url_for` di Flask per ottenere tale URL\n",
    "- Inseriamo nel form un campo per ciascuna variabile\n",
    "  - per `LIMIT_BAL` e `PAY_6` usiamo un campo di testo\n",
    "  - per `EDUCATION`, essendo un attributo categorico, possiamo creare un menu di opzioni possibili che sono codificate nei rispettivi valori numerici\n",
    "- Poniamo tale form in un template `index.html` da visualizzare come home page"
   ]
  },
  {
   "cell_type": "code",
   "execution_count": 17,
   "metadata": {
    "slideshow": {
     "slide_type": "slide"
    }
   },
   "outputs": [
    {
     "name": "stdout",
     "output_type": "stream",
     "text": [
      "Overwriting templates/index.html\n"
     ]
    }
   ],
   "source": [
    "%%writefile templates/index.html\n",
    "<!DOCTYPE html>\n",
    "<head>\n",
    " <title>Predizione default carte</title>\n",
    "</head>\n",
    "<body>\n",
    " <h2>Default carte di credito</h2>\n",
    " <form method=\"GET\" action=\"{{ url_for(\"predict\") }}\">\n",
    "  <p>Credito da saldare: <input name=\"LIMIT_BAL\"></p>\n",
    "  <p>Ritardo ultimo mese (-1=puntuale): <input name=\"PAY_6\"></p>\n",
    "  <p>Titolo di studio: <select name=\"EDUCATION\">\n",
    "   <option value=\"1\">Laurea magistrale</option>\n",
    "   <option value=\"2\">Laurea breve</option>\n",
    "   <option value=\"3\">Diploma</option>\n",
    "   <option value=\"4\">Altro</option>\n",
    "  </select></p>\n",
    "  <p><button type=\"submit\">Conferma</button></p>\n",
    " </form>\n",
    "</body>\n",
    "</html>"
   ]
  },
  {
   "cell_type": "markdown",
   "metadata": {
    "slideshow": {
     "slide_type": "slide"
    }
   },
   "source": [
    "- Modifichiamo quindi la funzione `home` in modo che visualizzi tale template\n",
    "\n",
    "```\n",
    "@app.route(\"/\")\n",
    "def home():\n",
    "    return render_template(\"index.html\")\n",
    "```\n",
    "\n",
    "- Andare ora alla home page dell'applicazione: http://127.0.0.1:5000/\n",
    "- Testare l'interfaccia inserendo ad es. i valori delle variabili che sono usati negli URL d'esempio sopra"
   ]
  },
  {
   "cell_type": "markdown",
   "metadata": {
    "slideshow": {
     "slide_type": "slide"
    }
   },
   "source": [
    "## Esercizi suggeriti\n",
    "\n",
    "- Considerare altre variabili per il modello e applicare preprocessing opportuno (es. one-hot encoding per `EDUCATION`)\n",
    "- Modificare la pagina dei risultati in modo che visualizzi la probabilità di insolvenza piuttosto che una risposta sì/no\n",
    "  - promemoria: usare il metodo `predict_proba` del modello di classificazione per ottenere le probabilità di ciascuna classe\n",
    "- Verificare la correttezza dei dati in ingresso (es. `LIMIT_BAL >= 0`) e visualizzare un errore nella pagina in caso non siano corretti\n",
    "- Creare una funzione che restituisca la risposta del modello in formato JSON piuttosto che come pagina Web e (per chi è pratico con JavaScript) far sì che alla conferma del form tale risposta sia visualizzata direttamente sotto il form senza ricaricare la pagina intera"
   ]
  }
 ],
 "metadata": {
  "kernelspec": {
   "display_name": "Python 3 (ipykernel)",
   "language": "python",
   "name": "python3"
  },
  "language_info": {
   "codemirror_mode": {
    "name": "ipython",
    "version": 3
   },
   "file_extension": ".py",
   "mimetype": "text/x-python",
   "name": "python",
   "nbconvert_exporter": "python",
   "pygments_lexer": "ipython3",
   "version": "3.9.2"
  }
 },
 "nbformat": 4,
 "nbformat_minor": 4
}
